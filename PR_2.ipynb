{
 "cells": [
  {
   "cell_type": "markdown",
   "id": "58f84701",
   "metadata": {},
   "source": [
    "#### Práctica 2: Tipología y ciclo de vida de los datos\n",
    "# Análisis sobre enfermedades cardiacas\n",
    "#### Autores: \n",
    "- Víctor H. Ayala Sánchez  \n",
    "- Clara M. Roca de la Concha"
   ]
  },
  {
   "cell_type": "markdown",
   "id": "1cedf1ef",
   "metadata": {},
   "source": [
    "# Tabla de contenidos\n",
    "\n",
    "- 1. [Descripción del dataset](#1.-Descripción-del-dataset)\n",
    "- 2. [Integración y selección de los datos de interés a analizar](#2.-Integración-y-selección-de-los-datos-de-interés-a-analizar)\n",
    "- 3. [Limpieza de los datos](#3.-Limpieza-de-los-datos)\n",
    "    - 3.1. [¿Los datos contienen ceros o elementos vacíos?](#3.1.-¿Los-datos-contienen-ceros-o-elementos-vacíos?)\n",
    "    - 3.2. [Identifica y gestiona los valores extremos](#3.2.-Identifica-y-gestiona-los-valores-extremos)\n",
    "- 4.[Análisis de los datos](#4.-Análisis-de-los-datos)\n",
    "    - 4.1.[Selección de los grupos de datos que se quieren analizar/comparar](#4.1.-Selección-de-los-grupos-de-datos-que-se-quieren-analizar/comparar)\n",
    "    - 4.2.[Comprobación de la normalidad y homogeneidad de la varianza](#4.2.-Comprobación-de-la-normalidad-y-homogeneidad-de-la-varianza)\n",
    "    - 4.3.[Aplicación de pruebas estadísticas para comparar los grupos de datos](#4.3.-Aplicación-de-pruebas-estadísticas-para-comparar-los-grupos-de-datos)\n",
    "    - 4.4.[Relación entre predictores](#4.4.-Relación-entre-predictores)\n",
    "    - 4.5 [Modelaje Estadístico](#4.4.-Modelaje-Estadístico)\n",
    "- 5.[Representación gráfica](#5.-Representación-gráfica)\n",
    "- 6.[Resolución del problema](#6.-Resolución-del-problema)\n",
    "- 7.[Código](#7.-Código)\n",
    "- 8.[Vídeo](#8.-Vídeo)\n",
    "- [Contribuciones](#Contribuciones)"
   ]
  },
  {
   "cell_type": "markdown",
   "id": "67174c8f",
   "metadata": {},
   "source": [
    "# Librerías"
   ]
  },
  {
   "cell_type": "code",
   "execution_count": 257,
   "id": "70fd19e9",
   "metadata": {},
   "outputs": [],
   "source": [
    "import pandas as pd\n",
    "import numpy as np\n",
    "from scipy.stats import levene\n",
    "from scipy.stats import fligner\n",
    "from scipy.stats import chi2_contingency\n",
    "from scipy import stats\n",
    "import seaborn as sns\n",
    "import matplotlib.pyplot as plt\n",
    "from sklearn.preprocessing import MinMaxScaler\n",
    "from sklearn.linear_model import LogisticRegression\n",
    "from sklearn.tree import DecisionTreeClassifier\n",
    "from sklearn.model_selection import GridSearchCV\n",
    "from sklearn.metrics import classification_report\n",
    "from sklearn.metrics import roc_auc_score\n",
    "from sklearn.metrics import roc_curve\n",
    "from statsmodels.stats.proportion import test_proportions_2indep\n",
    "from joblib import dump, load"
   ]
  },
  {
   "cell_type": "markdown",
   "id": "cd1fb5da",
   "metadata": {},
   "source": [
    "# 1. Descripción del dataset\n",
    "\n",
    "Partimos del dataset recomendado por la asignatura: [*Heart Attack Analysis & Prediction dataset*](https://www.kaggle.com/datasets/rashikrahmanpritom/heart-attack-analysis-prediction-dataset). En principio, este dataset trata de explicar la enfermedad cardiaca a partir de una serie de factores, como el colesterol o la frecuencia cardiaca. No obstante, aclararemos que este dataset es útil para practicar, pero no tanto para resolver un problema real, tal como ya se comenta [en el foro del propio dataset en Kaggle](https://www.kaggle.com/datasets/rashikrahmanpritom/heart-attack-analysis-prediction-dataset/discussion/249239). \n",
    "\n",
    "En un análisis preliminar de los datos, podemos comprobar que el archivo `heart.csv` consta de 303 registros y 14 variables. La información de Kaggle es escasa, puesto que no proporciona información espacio-temporal sobre los datos. Tampoco proporciona citas adicionales sobre las fuentes, siendo que es improbable que los que proporcionan este dataset sean los autores de la investigación. Nótese que señalan la procedencia 'online' y el método 'crawling'. \n",
    "\n",
    "Una búsqueda rápida nos llevará a encontrar [el origen de los datos](https://archive.ics.uci.edu/ml/datasets/heart+disease). Se trata de un popular dataset donado en 1988. El estudio original consta de 4 ubicaciones:\n",
    "1. Budapest (Hungría): Hungarian Institute of Cardiology, Andras Janosi, M.D.\n",
    "2. Zurich (Suiza): University Hospital, William Steinbrunn, M.D.\n",
    "3. Basilea (Suiza): University Hospital, Matthias Pfisterer, M.D.\n",
    "4. Cleveland (Estados Unidos): V.A. Medical Center, Long Beach and Cleveland Clinic Foundation, Robert Detrano, M.D., Ph.D.\n",
    "\n",
    "Originalmente, constaba de 76 atributos, si bien \"todos los experimentos publicados se refieren a 14 atributos\", tal como se nos indica [en el repositorio original](https://archive.ics.uci.edu/ml/datasets/heart+disease). Los datos compartidos en Kaggle proceden del dataset de Cleveland, el más popular en los estudios de Machine Learning. \n",
    "\n",
    "Por lo tanto, tenemos en nuestras manos un dataset cuya fuente original no está citada, con un número de registros menor al ideal en un estudio de estas características y de una antigüedad considerable. Presenta además algunas dificultades, como el hecho de que algunos valores no se corresponden con los establecidos en la descripción de los datos. Por ejemplo, la variable `cp` ('chest pain type') va del 0 al 3 mientras que en la descripción –tanto en kaggle como en el repositorio de UCI– va del 1 al 4. Instuitivamente cabe pensar que el 1 original pasó al 0 y el 4, al 3. Sin embargo, comparando los datos de Kaggle con el dataset original, podemos comprobar que esto no es así. Otros valores hacen saltar las alarmas, como la asignación en la variable `output`. Por este motivo, hemos tomado la decisión de partir directamente del dataset original, que se encuentra [aquí](https://archive.ics.uci.edu/ml/machine-learning-databases/heart-disease/) bajo el nombre `processed.cleveland.data`.\n",
    "\n",
    "Dicho esto, pasamos a describir las variables que tenemos entre manos:\n",
    "\n",
    "`age`: edad del paciente\n",
    "\n",
    "`sex`: sexo del paciente\n",
    "\n",
    "        0 = mujer\n",
    "        1 = hombre\n",
    "        \n",
    "        \n",
    "`cp`: tipo de dolor de pecho. \n",
    "\n",
    "        1 = angina típica\n",
    "        2 = angina atípica\n",
    "        3 = dolor no anginoso\n",
    "        4 = asintomático\n",
    "        \n",
    "`trestbps` : presión sanguínea en reposo (en mm Hg)\n",
    "\n",
    "`chol` : colesterol en mg/dl\n",
    "\n",
    "`fbs` : azúcar en sangre en ayunas > 120 mg/dl.\n",
    "\n",
    "        0 = falso\n",
    "        1 = verdadero\n",
    "        \n",
    "`restecg` : resultados electrocardiográficos en reposo\n",
    "\n",
    "        0 = normal\n",
    "        1 = anomalías en la onda ST-T\n",
    "        2 = hipertrofia ventricular izquierda\n",
    "        \n",
    "`thalach` : frecuencia cardiaca máxima alcanzada.\n",
    "\n",
    "`exang`: angina inducida por el ejercicio\n",
    "\n",
    "        0 = no\n",
    "        1 = sí\n",
    "        \n",
    "`oldpeak`: depresión del ST inducida por el ejercicio en relación con el reposo\n",
    "\n",
    "`slope`: la pendiente del segmento ST de ejercicio máximo.\n",
    "\n",
    "        1 = pendiente ascendiente \n",
    "        2 = sin pendiente\n",
    "        3 = pendiente descendente\n",
    "        \n",
    "`ca`: número de vasos principales (de 0 a 3)\n",
    "\n",
    "`thal`: Thallium Stress Test, por lo que podemos leer [aquí](https://www.kaggle.com/datasets/rashikrahmanpritom/heart-attack-analysis-prediction-dataset/discussion/234843?sort=votes)\n",
    "\n",
    "        3 = normal\n",
    "        6 = defecto arreglado\n",
    "        7 = defecto reversible \n",
    "\n",
    "`num`: atributo predicho; diagnóstico de enfermedad cardíaca (estado de enfermedad angiográfico)\n",
    "\n",
    "        0 = ausencia de enfermedad cardíaca\n",
    "        1, 2, 3 o 4 = presencia de enfermedad cardíaca"
   ]
  },
  {
   "cell_type": "markdown",
   "id": "651f09e7",
   "metadata": {},
   "source": [
    "# 2. Integración y selección de los datos de interés a analizar\n",
    "\n",
    "Usaremos el dataset al completo, teniendo en cuenta que ya es parte de una reducción del original, que contenía 76 variables. Dicho esto, sí realizaremos ciertas modificaciones que pasamos a describir aquí:\n",
    "\n",
    "**1. Añadimos el nombre de las columnas, no presentes en el archivo.**"
   ]
  },
  {
   "cell_type": "code",
   "execution_count": 85,
   "id": "dfdafd7d",
   "metadata": {},
   "outputs": [
    {
     "data": {
      "text/html": [
       "<div>\n",
       "<style scoped>\n",
       "    .dataframe tbody tr th:only-of-type {\n",
       "        vertical-align: middle;\n",
       "    }\n",
       "\n",
       "    .dataframe tbody tr th {\n",
       "        vertical-align: top;\n",
       "    }\n",
       "\n",
       "    .dataframe thead th {\n",
       "        text-align: right;\n",
       "    }\n",
       "</style>\n",
       "<table border=\"1\" class=\"dataframe\">\n",
       "  <thead>\n",
       "    <tr style=\"text-align: right;\">\n",
       "      <th></th>\n",
       "      <th>age</th>\n",
       "      <th>sex</th>\n",
       "      <th>cp</th>\n",
       "      <th>trestbps</th>\n",
       "      <th>chol</th>\n",
       "      <th>fbs</th>\n",
       "      <th>restecg</th>\n",
       "      <th>thalach</th>\n",
       "      <th>exang</th>\n",
       "      <th>oldpeak</th>\n",
       "      <th>slope</th>\n",
       "      <th>ca</th>\n",
       "      <th>thal</th>\n",
       "      <th>num</th>\n",
       "    </tr>\n",
       "  </thead>\n",
       "  <tbody>\n",
       "    <tr>\n",
       "      <th>0</th>\n",
       "      <td>63.0</td>\n",
       "      <td>1.0</td>\n",
       "      <td>1.0</td>\n",
       "      <td>145.0</td>\n",
       "      <td>233.0</td>\n",
       "      <td>1.0</td>\n",
       "      <td>2.0</td>\n",
       "      <td>150.0</td>\n",
       "      <td>0.0</td>\n",
       "      <td>2.3</td>\n",
       "      <td>3.0</td>\n",
       "      <td>0.0</td>\n",
       "      <td>6.0</td>\n",
       "      <td>0</td>\n",
       "    </tr>\n",
       "    <tr>\n",
       "      <th>1</th>\n",
       "      <td>67.0</td>\n",
       "      <td>1.0</td>\n",
       "      <td>4.0</td>\n",
       "      <td>160.0</td>\n",
       "      <td>286.0</td>\n",
       "      <td>0.0</td>\n",
       "      <td>2.0</td>\n",
       "      <td>108.0</td>\n",
       "      <td>1.0</td>\n",
       "      <td>1.5</td>\n",
       "      <td>2.0</td>\n",
       "      <td>3.0</td>\n",
       "      <td>3.0</td>\n",
       "      <td>2</td>\n",
       "    </tr>\n",
       "  </tbody>\n",
       "</table>\n",
       "</div>"
      ],
      "text/plain": [
       "    age  sex   cp  trestbps   chol  fbs  restecg  thalach  exang  oldpeak  \\\n",
       "0  63.0  1.0  1.0     145.0  233.0  1.0      2.0    150.0    0.0      2.3   \n",
       "1  67.0  1.0  4.0     160.0  286.0  0.0      2.0    108.0    1.0      1.5   \n",
       "\n",
       "   slope   ca thal  num  \n",
       "0    3.0  0.0  6.0    0  \n",
       "1    2.0  3.0  3.0    2  "
      ]
     },
     "execution_count": 85,
     "metadata": {},
     "output_type": "execute_result"
    }
   ],
   "source": [
    "columns = ['age', 'sex', 'cp', 'trestbps', 'chol', 'fbs', 'restecg', \n",
    "           'thalach', 'exang','oldpeak', 'slope', 'ca', 'thal', 'num']\n",
    "df = pd.read_csv(\"data/processed.cleveland.csv\", header=None, names=columns)\n",
    "df.head(2)"
   ]
  },
  {
   "cell_type": "markdown",
   "id": "a059dae7",
   "metadata": {},
   "source": [
    "**2. Convertimos los tipos de variable**"
   ]
  },
  {
   "cell_type": "markdown",
   "id": "c20e7822",
   "metadata": {},
   "source": [
    "Vamos a homogeneizar el dataframe y pasar todo a *numeric*. Usaremos `errors='coerce'` para convertir en nulos los valores no numéricos."
   ]
  },
  {
   "cell_type": "code",
   "execution_count": 86,
   "id": "999b60b1",
   "metadata": {},
   "outputs": [],
   "source": [
    "df = df.apply(pd.to_numeric, errors='coerce')"
   ]
  },
  {
   "cell_type": "markdown",
   "id": "f6501c35",
   "metadata": {},
   "source": [
    "**2. Recodificación de los valores**\n",
    "\n",
    "Haremos lo siguiente:\n",
    "\n",
    "a. Codificación de los valores de las variables categóricas con sus correspondientes etiquetas.\n",
    "\n",
    "b. Unificamos todos los resultados en `num` de presencia de enfermedad cardíaca en 1 para que quede:\n",
    "    \n",
    "        0 = ausencia de enfermedad cardíaca\n",
    "        1 = presencia de enfermedad cardíaca"
   ]
  },
  {
   "cell_type": "code",
   "execution_count": 107,
   "id": "8e3aa54d",
   "metadata": {
    "scrolled": true
   },
   "outputs": [
    {
     "data": {
      "text/html": [
       "<div>\n",
       "<style scoped>\n",
       "    .dataframe tbody tr th:only-of-type {\n",
       "        vertical-align: middle;\n",
       "    }\n",
       "\n",
       "    .dataframe tbody tr th {\n",
       "        vertical-align: top;\n",
       "    }\n",
       "\n",
       "    .dataframe thead th {\n",
       "        text-align: right;\n",
       "    }\n",
       "</style>\n",
       "<table border=\"1\" class=\"dataframe\">\n",
       "  <thead>\n",
       "    <tr style=\"text-align: right;\">\n",
       "      <th></th>\n",
       "      <th>age</th>\n",
       "      <th>sex</th>\n",
       "      <th>cp</th>\n",
       "      <th>trestbps</th>\n",
       "      <th>chol</th>\n",
       "      <th>fbs</th>\n",
       "      <th>restecg</th>\n",
       "      <th>thalach</th>\n",
       "      <th>exang</th>\n",
       "      <th>oldpeak</th>\n",
       "      <th>slope</th>\n",
       "      <th>ca</th>\n",
       "      <th>thal</th>\n",
       "      <th>num</th>\n",
       "    </tr>\n",
       "  </thead>\n",
       "  <tbody>\n",
       "    <tr>\n",
       "      <th>127</th>\n",
       "      <td>54.0</td>\n",
       "      <td>Male</td>\n",
       "      <td>asymptomatic</td>\n",
       "      <td>110.0</td>\n",
       "      <td>239.0</td>\n",
       "      <td>fastingBloodSugar_false</td>\n",
       "      <td>Normal</td>\n",
       "      <td>126.0</td>\n",
       "      <td>Yes Angina</td>\n",
       "      <td>2.8</td>\n",
       "      <td>flat</td>\n",
       "      <td>1.0</td>\n",
       "      <td>reversable defect</td>\n",
       "      <td>1</td>\n",
       "    </tr>\n",
       "    <tr>\n",
       "      <th>232</th>\n",
       "      <td>49.0</td>\n",
       "      <td>Male</td>\n",
       "      <td>non-anginal pain</td>\n",
       "      <td>118.0</td>\n",
       "      <td>243.0</td>\n",
       "      <td>fastingBloodSugar_false</td>\n",
       "      <td>Left ventricular hypertrophy</td>\n",
       "      <td>126.0</td>\n",
       "      <td>No Angina</td>\n",
       "      <td>0.8</td>\n",
       "      <td>upsloping</td>\n",
       "      <td>3.0</td>\n",
       "      <td>normal</td>\n",
       "      <td>1</td>\n",
       "    </tr>\n",
       "  </tbody>\n",
       "</table>\n",
       "</div>"
      ],
      "text/plain": [
       "      age   sex                cp  trestbps   chol                      fbs  \\\n",
       "127  54.0  Male      asymptomatic     110.0  239.0  fastingBloodSugar_false   \n",
       "232  49.0  Male  non-anginal pain     118.0  243.0  fastingBloodSugar_false   \n",
       "\n",
       "                          restecg  thalach       exang  oldpeak      slope  \\\n",
       "127                        Normal    126.0  Yes Angina      2.8       flat   \n",
       "232  Left ventricular hypertrophy    126.0   No Angina      0.8  upsloping   \n",
       "\n",
       "      ca               thal  num  \n",
       "127  1.0  reversable defect    1  \n",
       "232  3.0             normal    1  "
      ]
     },
     "execution_count": 107,
     "metadata": {},
     "output_type": "execute_result"
    }
   ],
   "source": [
    "df = df.replace({'sex':{1:'Male', 0:'Female'},\n",
    "                 'cp': {1:'typical angina', 2:'atypical angina', \n",
    "                        3:'non-anginal pain', 4:'asymptomatic'},\n",
    "                 'fbs':{0:'fastingBloodSugar_false',1:'fastingBloodSugar_true'},\n",
    "                 'restecg':{0:'Normal',1:'ST-T wave abnormality',2:'Left ventricular hypertrophy'},\n",
    "                 'exang':{1:'Yes Angina', 0:'No Angina'},\n",
    "                 'slope':{1:'upsloping',2:'flat',3:'downsloping'},\n",
    "                 'thal':{3:\"normal\", 6:\"fixed defect\", 7:\"reversable defect\"},\n",
    "                 'num':{2: 1, 3: 1, 4: 1}})\n",
    "\n",
    "df.sample(2)"
   ]
  },
  {
   "cell_type": "markdown",
   "id": "0f365e81",
   "metadata": {},
   "source": [
    "# 3. Limpieza de los datos"
   ]
  },
  {
   "cell_type": "markdown",
   "id": "8d2e47b0",
   "metadata": {},
   "source": [
    "## 3.1. ¿Los datos contienen ceros o elementos vacíos? "
   ]
  },
  {
   "cell_type": "markdown",
   "id": "fc9fc5d3",
   "metadata": {},
   "source": [
    "En primer lugar, examinamos si existen valores nulos:"
   ]
  },
  {
   "cell_type": "code",
   "execution_count": 88,
   "id": "126034d2",
   "metadata": {
    "scrolled": false
   },
   "outputs": [
    {
     "name": "stdout",
     "output_type": "stream",
     "text": [
      "<class 'pandas.core.frame.DataFrame'>\n",
      "RangeIndex: 303 entries, 0 to 302\n",
      "Data columns (total 14 columns):\n",
      " #   Column    Non-Null Count  Dtype  \n",
      "---  ------    --------------  -----  \n",
      " 0   age       303 non-null    float64\n",
      " 1   sex       303 non-null    object \n",
      " 2   cp        303 non-null    object \n",
      " 3   trestbps  303 non-null    float64\n",
      " 4   chol      303 non-null    float64\n",
      " 5   fbs       303 non-null    object \n",
      " 6   restecg   303 non-null    object \n",
      " 7   thalach   303 non-null    float64\n",
      " 8   exang     303 non-null    object \n",
      " 9   oldpeak   303 non-null    float64\n",
      " 10  slope     303 non-null    object \n",
      " 11  ca        299 non-null    float64\n",
      " 12  thal      301 non-null    object \n",
      " 13  num       303 non-null    int64  \n",
      "dtypes: float64(6), int64(1), object(7)\n",
      "memory usage: 33.3+ KB\n"
     ]
    }
   ],
   "source": [
    "df.info()"
   ]
  },
  {
   "cell_type": "markdown",
   "id": "6b6a01fa",
   "metadata": {},
   "source": [
    "A continuación, podemos comprobar que, efectivamente, `ca`contiene 4 valores nulos y `thal`, 2. Podríamos ejecutar procesos como la imputación de valores KNN, para reemplazar estos valores por valores calculados en base a los valores del resto de variables, pero considerando que son solo 6 registros y que representan menos del 5% de los datos decidimos directamente eliminarlos."
   ]
  },
  {
   "cell_type": "code",
   "execution_count": 108,
   "id": "09424925",
   "metadata": {},
   "outputs": [],
   "source": [
    "df.dropna(inplace=True)"
   ]
  },
  {
   "cell_type": "markdown",
   "id": "09bb8839",
   "metadata": {
    "scrolled": true
   },
   "source": [
    "Por último, guardamos el archivo limpio con el nombre de `dataset_proc.csv`. Podríamos hacerlo en el siguiente punto, pero preferimos dejar los *outliers* en la versión final del dataset, puesto que a veces nos pueden resultar útiles."
   ]
  },
  {
   "cell_type": "code",
   "execution_count": 109,
   "id": "0c71a785",
   "metadata": {},
   "outputs": [],
   "source": [
    "df.to_csv(\"data/dataset_proc.csv\", index=False)"
   ]
  },
  {
   "cell_type": "markdown",
   "id": "42844653",
   "metadata": {},
   "source": [
    "## 3.2. Identifica y gestiona los valores extremos\n",
    "\n"
   ]
  },
  {
   "cell_type": "markdown",
   "id": "d41327cb",
   "metadata": {},
   "source": [
    "Mediante el análisis gráfico de las distribuciones observamos algunos valores extremos en las variables `trestbps`, `chol`, `thalach` y `oldpeak`."
   ]
  },
  {
   "cell_type": "code",
   "execution_count": 110,
   "id": "bfcfd3e8",
   "metadata": {},
   "outputs": [
    {
     "data": {
      "image/png": "[encoded data removed]",
      "text/plain": [
       "<Figure size 1080x504 with 6 Axes>"
      ]
     },
     "metadata": {
      "needs_background": "light"
     },
     "output_type": "display_data"
    }
   ],
   "source": [
    "fig, axes = plt.subplots(2, 3, figsize=(15,7))\n",
    "sns.boxplot(ax=axes[0,0], y=\"age\", palette=\"viridis\", data=df).set(title='Distribución de la edad')\n",
    "sns.boxplot(ax=axes[0,1], y=\"trestbps\", palette=\"viridis\", data=df).set(title='Distribución de la presión sanguínea')\n",
    "sns.boxplot(ax=axes[0,2], y=\"chol\" ,palette=\"viridis\", data=df).set(title='Distribución del colesterol')\n",
    "\n",
    "sns.boxplot(ax=axes[1,0], y=\"thalach\" ,palette=\"viridis\", data=df).set(title='Distribución del ratio máximo de pulsasiones')\n",
    "sns.boxplot(ax=axes[1,1], y=\"oldpeak\" ,palette=\"viridis\", data=df).set(title='Distribución de la frecuencia cardíaca máxima')\n",
    "sns.boxplot(ax=axes[1,2], y=\"ca\" ,palette=\"viridis\", data=df).set(title='Distribución de los vasos')\n",
    "\n",
    "plt.show()"
   ]
  },
  {
   "cell_type": "code",
   "execution_count": 92,
   "id": "486330d5",
   "metadata": {},
   "outputs": [
    {
     "data": {
      "image/png": "[encoded data removed]",
      "text/plain": [
       "<Figure size 1440x648 with 6 Axes>"
      ]
     },
     "metadata": {
      "needs_background": "light"
     },
     "output_type": "display_data"
    }
   ],
   "source": [
    "fig, axes = plt.subplots(2, 3, figsize=(20,9))\n",
    "\n",
    "sns.histplot(ax=axes[0,0], x=\"age\", palette=\"viridis\", data=df).set(title='Distribución de la edad')\n",
    "sns.histplot(ax=axes[0,1], x=\"trestbps\", palette=\"viridis\", data=df).set(title='Distribución de la presión sanguínea')\n",
    "sns.histplot(ax=axes[0,2], x=\"chol\" ,palette=\"viridis\", data=df).set(title='Distribución del colesterol')\n",
    "\n",
    "sns.histplot(ax=axes[1,0], x=\"thalach\" ,palette=\"viridis\", data=df).set(title='Distribución del ratio máximo de pulsasiones')\n",
    "sns.histplot(ax=axes[1,1], x=\"oldpeak\" ,palette=\"viridis\", data=df).set(title='Distribución de la frecuencia cardíaca máxima')\n",
    "sns.histplot(ax=axes[1,2], x=\"ca\" ,palette=\"viridis\", data=df, bins=4).set(title='Distribución de los vasos')\n",
    "plt.show()"
   ]
  },
  {
   "cell_type": "code",
   "execution_count": 112,
   "id": "6897e072",
   "metadata": {},
   "outputs": [
    {
     "data": {
      "text/html": [
       "<div>\n",
       "<style scoped>\n",
       "    .dataframe tbody tr th:only-of-type {\n",
       "        vertical-align: middle;\n",
       "    }\n",
       "\n",
       "    .dataframe tbody tr th {\n",
       "        vertical-align: top;\n",
       "    }\n",
       "\n",
       "    .dataframe thead th {\n",
       "        text-align: right;\n",
       "    }\n",
       "</style>\n",
       "<table border=\"1\" class=\"dataframe\">\n",
       "  <thead>\n",
       "    <tr style=\"text-align: right;\">\n",
       "      <th></th>\n",
       "      <th>age</th>\n",
       "      <th>trestbps</th>\n",
       "      <th>chol</th>\n",
       "      <th>thalach</th>\n",
       "      <th>oldpeak</th>\n",
       "      <th>ca</th>\n",
       "      <th>num</th>\n",
       "    </tr>\n",
       "  </thead>\n",
       "  <tbody>\n",
       "    <tr>\n",
       "      <th>count</th>\n",
       "      <td>297.000000</td>\n",
       "      <td>297.000000</td>\n",
       "      <td>297.000000</td>\n",
       "      <td>297.000000</td>\n",
       "      <td>297.000000</td>\n",
       "      <td>297.000000</td>\n",
       "      <td>297.000000</td>\n",
       "    </tr>\n",
       "    <tr>\n",
       "      <th>mean</th>\n",
       "      <td>54.542088</td>\n",
       "      <td>130.713805</td>\n",
       "      <td>245.030303</td>\n",
       "      <td>150.868687</td>\n",
       "      <td>0.896970</td>\n",
       "      <td>0.676768</td>\n",
       "      <td>0.461279</td>\n",
       "    </tr>\n",
       "    <tr>\n",
       "      <th>std</th>\n",
       "      <td>9.049736</td>\n",
       "      <td>12.870545</td>\n",
       "      <td>35.974781</td>\n",
       "      <td>18.162357</td>\n",
       "      <td>0.923542</td>\n",
       "      <td>0.938965</td>\n",
       "      <td>0.499340</td>\n",
       "    </tr>\n",
       "    <tr>\n",
       "      <th>min</th>\n",
       "      <td>29.000000</td>\n",
       "      <td>108.000000</td>\n",
       "      <td>176.000000</td>\n",
       "      <td>108.000000</td>\n",
       "      <td>0.000000</td>\n",
       "      <td>0.000000</td>\n",
       "      <td>0.000000</td>\n",
       "    </tr>\n",
       "    <tr>\n",
       "      <th>25%</th>\n",
       "      <td>48.000000</td>\n",
       "      <td>120.000000</td>\n",
       "      <td>219.000000</td>\n",
       "      <td>140.000000</td>\n",
       "      <td>0.000000</td>\n",
       "      <td>0.000000</td>\n",
       "      <td>0.000000</td>\n",
       "    </tr>\n",
       "    <tr>\n",
       "      <th>50%</th>\n",
       "      <td>56.000000</td>\n",
       "      <td>130.000000</td>\n",
       "      <td>243.000000</td>\n",
       "      <td>153.000000</td>\n",
       "      <td>0.800000</td>\n",
       "      <td>0.000000</td>\n",
       "      <td>0.000000</td>\n",
       "    </tr>\n",
       "    <tr>\n",
       "      <th>75%</th>\n",
       "      <td>61.000000</td>\n",
       "      <td>140.000000</td>\n",
       "      <td>269.000000</td>\n",
       "      <td>163.000000</td>\n",
       "      <td>1.500000</td>\n",
       "      <td>1.000000</td>\n",
       "      <td>1.000000</td>\n",
       "    </tr>\n",
       "    <tr>\n",
       "      <th>max</th>\n",
       "      <td>77.000000</td>\n",
       "      <td>160.000000</td>\n",
       "      <td>327.000000</td>\n",
       "      <td>182.000000</td>\n",
       "      <td>3.400000</td>\n",
       "      <td>3.000000</td>\n",
       "      <td>1.000000</td>\n",
       "    </tr>\n",
       "  </tbody>\n",
       "</table>\n",
       "</div>"
      ],
      "text/plain": [
       "              age    trestbps        chol     thalach     oldpeak          ca  \\\n",
       "count  297.000000  297.000000  297.000000  297.000000  297.000000  297.000000   \n",
       "mean    54.542088  130.713805  245.030303  150.868687    0.896970    0.676768   \n",
       "std      9.049736   12.870545   35.974781   18.162357    0.923542    0.938965   \n",
       "min     29.000000  108.000000  176.000000  108.000000    0.000000    0.000000   \n",
       "25%     48.000000  120.000000  219.000000  140.000000    0.000000    0.000000   \n",
       "50%     56.000000  130.000000  243.000000  153.000000    0.800000    0.000000   \n",
       "75%     61.000000  140.000000  269.000000  163.000000    1.500000    1.000000   \n",
       "max     77.000000  160.000000  327.000000  182.000000    3.400000    3.000000   \n",
       "\n",
       "              num  \n",
       "count  297.000000  \n",
       "mean     0.461279  \n",
       "std      0.499340  \n",
       "min      0.000000  \n",
       "25%      0.000000  \n",
       "50%      0.000000  \n",
       "75%      1.000000  \n",
       "max      1.000000  "
      ]
     },
     "execution_count": 112,
     "metadata": {},
     "output_type": "execute_result"
    }
   ],
   "source": [
    "df.describe()"
   ]
  },
  {
   "cell_type": "markdown",
   "id": "8c4a6f63",
   "metadata": {},
   "source": [
    "Además de los gráficos de boxplot, observando la tabla de estadísticos descriptivos podemos detectar valores máximos que se encuentran varias desviaciones por encima de la media, este caso se da en las distribuciones como en `trestbps`, `chol` o `thalach`.\n",
    "\n",
    "Definimos la siguiente función para reemplazar aquellos valores que se encuentren por encima del percentil 95 o por debajo del percentil 5, considerados como valores extremos, dicho reemplazo se realizará por la mediana de la distribución."
   ]
  },
  {
   "cell_type": "code",
   "execution_count": 94,
   "id": "e99bf5ba",
   "metadata": {},
   "outputs": [],
   "source": [
    "def replaceOuliers(column):\n",
    "    \"\"\"\n",
    "    \"\"\"\n",
    "    colReplace = np.array(column)\n",
    "    median = np.median(column)\n",
    "    \n",
    "    upper =  np.percentile(np.array(column),95)\n",
    "    lower =  np.percentile(np.array(column),5)    \n",
    "    colReplace[colReplace[:] > upper] = median\n",
    "    colReplace[colReplace[:] < lower] = median\n",
    "    \n",
    "    return list(colReplace)"
   ]
  },
  {
   "cell_type": "code",
   "execution_count": 95,
   "id": "0678c09c",
   "metadata": {},
   "outputs": [],
   "source": [
    "df[\"trestbps\"] = replaceOuliers(list(df[\"trestbps\"]))\n",
    "df[\"chol\"] = replaceOuliers(list(df[\"chol\"]))\n",
    "df[\"thalach\"] = replaceOuliers(list(df[\"thalach\"]))\n",
    "df[\"oldpeak\"] = replaceOuliers(list(df[\"oldpeak\"]))"
   ]
  },
  {
   "cell_type": "markdown",
   "id": "f99dbac8",
   "metadata": {},
   "source": [
    "# 4. Análisis de los datos"
   ]
  },
  {
   "cell_type": "markdown",
   "id": "d12a71ed",
   "metadata": {},
   "source": [
    "### Análisis exploratorio de datos"
   ]
  },
  {
   "cell_type": "code",
   "execution_count": 96,
   "id": "9bb30026",
   "metadata": {},
   "outputs": [
    {
     "data": {
      "text/html": [
       "<div>\n",
       "<style scoped>\n",
       "    .dataframe tbody tr th:only-of-type {\n",
       "        vertical-align: middle;\n",
       "    }\n",
       "\n",
       "    .dataframe tbody tr th {\n",
       "        vertical-align: top;\n",
       "    }\n",
       "\n",
       "    .dataframe thead th {\n",
       "        text-align: right;\n",
       "    }\n",
       "</style>\n",
       "<table border=\"1\" class=\"dataframe\">\n",
       "  <thead>\n",
       "    <tr style=\"text-align: right;\">\n",
       "      <th></th>\n",
       "      <th>age</th>\n",
       "      <th>trestbps</th>\n",
       "      <th>chol</th>\n",
       "      <th>thalach</th>\n",
       "      <th>oldpeak</th>\n",
       "      <th>ca</th>\n",
       "    </tr>\n",
       "  </thead>\n",
       "  <tbody>\n",
       "    <tr>\n",
       "      <th>count</th>\n",
       "      <td>297.000000</td>\n",
       "      <td>297.000000</td>\n",
       "      <td>297.000000</td>\n",
       "      <td>297.000000</td>\n",
       "      <td>297.000000</td>\n",
       "      <td>297.000000</td>\n",
       "    </tr>\n",
       "    <tr>\n",
       "      <th>mean</th>\n",
       "      <td>54.542088</td>\n",
       "      <td>130.713805</td>\n",
       "      <td>245.030303</td>\n",
       "      <td>150.868687</td>\n",
       "      <td>0.896970</td>\n",
       "      <td>0.676768</td>\n",
       "    </tr>\n",
       "    <tr>\n",
       "      <th>std</th>\n",
       "      <td>9.049736</td>\n",
       "      <td>12.870545</td>\n",
       "      <td>35.974781</td>\n",
       "      <td>18.162357</td>\n",
       "      <td>0.923542</td>\n",
       "      <td>0.938965</td>\n",
       "    </tr>\n",
       "    <tr>\n",
       "      <th>min</th>\n",
       "      <td>29.000000</td>\n",
       "      <td>108.000000</td>\n",
       "      <td>176.000000</td>\n",
       "      <td>108.000000</td>\n",
       "      <td>0.000000</td>\n",
       "      <td>0.000000</td>\n",
       "    </tr>\n",
       "    <tr>\n",
       "      <th>25%</th>\n",
       "      <td>48.000000</td>\n",
       "      <td>120.000000</td>\n",
       "      <td>219.000000</td>\n",
       "      <td>140.000000</td>\n",
       "      <td>0.000000</td>\n",
       "      <td>0.000000</td>\n",
       "    </tr>\n",
       "    <tr>\n",
       "      <th>50%</th>\n",
       "      <td>56.000000</td>\n",
       "      <td>130.000000</td>\n",
       "      <td>243.000000</td>\n",
       "      <td>153.000000</td>\n",
       "      <td>0.800000</td>\n",
       "      <td>0.000000</td>\n",
       "    </tr>\n",
       "    <tr>\n",
       "      <th>75%</th>\n",
       "      <td>61.000000</td>\n",
       "      <td>140.000000</td>\n",
       "      <td>269.000000</td>\n",
       "      <td>163.000000</td>\n",
       "      <td>1.500000</td>\n",
       "      <td>1.000000</td>\n",
       "    </tr>\n",
       "    <tr>\n",
       "      <th>max</th>\n",
       "      <td>77.000000</td>\n",
       "      <td>160.000000</td>\n",
       "      <td>327.000000</td>\n",
       "      <td>182.000000</td>\n",
       "      <td>3.400000</td>\n",
       "      <td>3.000000</td>\n",
       "    </tr>\n",
       "  </tbody>\n",
       "</table>\n",
       "</div>"
      ],
      "text/plain": [
       "              age    trestbps        chol     thalach     oldpeak          ca\n",
       "count  297.000000  297.000000  297.000000  297.000000  297.000000  297.000000\n",
       "mean    54.542088  130.713805  245.030303  150.868687    0.896970    0.676768\n",
       "std      9.049736   12.870545   35.974781   18.162357    0.923542    0.938965\n",
       "min     29.000000  108.000000  176.000000  108.000000    0.000000    0.000000\n",
       "25%     48.000000  120.000000  219.000000  140.000000    0.000000    0.000000\n",
       "50%     56.000000  130.000000  243.000000  153.000000    0.800000    0.000000\n",
       "75%     61.000000  140.000000  269.000000  163.000000    1.500000    1.000000\n",
       "max     77.000000  160.000000  327.000000  182.000000    3.400000    3.000000"
      ]
     },
     "execution_count": 96,
     "metadata": {},
     "output_type": "execute_result"
    }
   ],
   "source": [
    "df[[\"age\",\"trestbps\",\"chol\",\"thalach\",\"oldpeak\",\"ca\"]].describe()"
   ]
  },
  {
   "cell_type": "markdown",
   "id": "78a3d988",
   "metadata": {},
   "source": [
    "A continuación se presentan las distribuciones de las variables en función del target o variable a predecir."
   ]
  },
  {
   "cell_type": "markdown",
   "id": "f0071f8a",
   "metadata": {},
   "source": [
    "### `age`"
   ]
  },
  {
   "cell_type": "code",
   "execution_count": 97,
   "id": "b6b4d2d2",
   "metadata": {},
   "outputs": [
    {
     "data": {
      "image/png": "[encoded data removed]",
      "text/plain": [
       "<Figure size 1440x648 with 4 Axes>"
      ]
     },
     "metadata": {
      "needs_background": "light"
     },
     "output_type": "display_data"
    }
   ],
   "source": [
    "fig, axes = plt.subplots(2, 2, figsize=(20,9))\n",
    "sns.histplot(x=df[\"age\"], ax=axes[0,0]).set(title='Distribución de la edad de los pacientes')\n",
    "sns.histplot(x=df[\"age\"], hue=df[\"num\"], ax=axes[0,1]).set(title='Distribución de la edad de los pacientes en función de la presencia de enfermedad')\n",
    "sns.boxplot(y=df[\"age\"], ax=axes[1,0]).set(title='Distribución de la edad de los pacientes')\n",
    "sns.boxplot(y=df[\"age\"], x=df[\"num\"], ax=axes[1,1]).set(title='Distribución de la edad de los pacientes en función de la presencia de enfermedad')\n",
    "plt.show()"
   ]
  },
  {
   "cell_type": "code",
   "execution_count": 98,
   "id": "91f3c115",
   "metadata": {},
   "outputs": [
    {
     "data": {
      "text/html": [
       "<div>\n",
       "<style scoped>\n",
       "    .dataframe tbody tr th:only-of-type {\n",
       "        vertical-align: middle;\n",
       "    }\n",
       "\n",
       "    .dataframe tbody tr th {\n",
       "        vertical-align: top;\n",
       "    }\n",
       "\n",
       "    .dataframe thead th {\n",
       "        text-align: right;\n",
       "    }\n",
       "</style>\n",
       "<table border=\"1\" class=\"dataframe\">\n",
       "  <thead>\n",
       "    <tr style=\"text-align: right;\">\n",
       "      <th></th>\n",
       "      <th>num</th>\n",
       "      <th>0</th>\n",
       "      <th>1</th>\n",
       "    </tr>\n",
       "  </thead>\n",
       "  <tbody>\n",
       "    <tr>\n",
       "      <th rowspan=\"8\" valign=\"top\">age</th>\n",
       "      <th>count</th>\n",
       "      <td>160.000000</td>\n",
       "      <td>137.000000</td>\n",
       "    </tr>\n",
       "    <tr>\n",
       "      <th>mean</th>\n",
       "      <td>52.643750</td>\n",
       "      <td>56.759124</td>\n",
       "    </tr>\n",
       "    <tr>\n",
       "      <th>std</th>\n",
       "      <td>9.551151</td>\n",
       "      <td>7.899670</td>\n",
       "    </tr>\n",
       "    <tr>\n",
       "      <th>min</th>\n",
       "      <td>29.000000</td>\n",
       "      <td>35.000000</td>\n",
       "    </tr>\n",
       "    <tr>\n",
       "      <th>25%</th>\n",
       "      <td>44.750000</td>\n",
       "      <td>53.000000</td>\n",
       "    </tr>\n",
       "    <tr>\n",
       "      <th>50%</th>\n",
       "      <td>52.000000</td>\n",
       "      <td>58.000000</td>\n",
       "    </tr>\n",
       "    <tr>\n",
       "      <th>75%</th>\n",
       "      <td>59.000000</td>\n",
       "      <td>62.000000</td>\n",
       "    </tr>\n",
       "    <tr>\n",
       "      <th>max</th>\n",
       "      <td>76.000000</td>\n",
       "      <td>77.000000</td>\n",
       "    </tr>\n",
       "  </tbody>\n",
       "</table>\n",
       "</div>"
      ],
      "text/plain": [
       "num                 0           1\n",
       "age count  160.000000  137.000000\n",
       "    mean    52.643750   56.759124\n",
       "    std      9.551151    7.899670\n",
       "    min     29.000000   35.000000\n",
       "    25%     44.750000   53.000000\n",
       "    50%     52.000000   58.000000\n",
       "    75%     59.000000   62.000000\n",
       "    max     76.000000   77.000000"
      ]
     },
     "execution_count": 98,
     "metadata": {},
     "output_type": "execute_result"
    }
   ],
   "source": [
    "df[[\"age\",\"num\"]].groupby(\"num\").describe().T"
   ]
  },
  {
   "cell_type": "markdown",
   "id": "ed5d0ee1",
   "metadata": {},
   "source": [
    "Se puede observar, comparando las distribuciones, que la mediana y el promedio de la edad de las personas que enferman es mayor que la de las personas sanas. "
   ]
  },
  {
   "cell_type": "markdown",
   "id": "204badf0",
   "metadata": {},
   "source": [
    "### `sex`"
   ]
  },
  {
   "cell_type": "code",
   "execution_count": 99,
   "id": "2d9bd727",
   "metadata": {},
   "outputs": [
    {
     "data": {
      "image/png": "[encoded data removed]",
      "text/plain": [
       "<Figure size 1440x288 with 2 Axes>"
      ]
     },
     "metadata": {
      "needs_background": "light"
     },
     "output_type": "display_data"
    }
   ],
   "source": [
    "fig, axes = plt.subplots(1, 2, figsize=(20,4))\n",
    "sns.countplot(x=df[\"sex\"], ax=axes[0]).set(title='Frecuencias del género')\n",
    "sns.countplot(x=df[\"sex\"], hue=df[\"num\"], ax=axes[1]).set(title='Frecuencias del género en función de la presencia de enfermedad')\n",
    "plt.show()"
   ]
  },
  {
   "cell_type": "code",
   "execution_count": 100,
   "id": "b402b474",
   "metadata": {},
   "outputs": [
    {
     "data": {
      "text/html": [
       "<div>\n",
       "<style scoped>\n",
       "    .dataframe tbody tr th:only-of-type {\n",
       "        vertical-align: middle;\n",
       "    }\n",
       "\n",
       "    .dataframe tbody tr th {\n",
       "        vertical-align: top;\n",
       "    }\n",
       "\n",
       "    .dataframe thead th {\n",
       "        text-align: right;\n",
       "    }\n",
       "</style>\n",
       "<table border=\"1\" class=\"dataframe\">\n",
       "  <thead>\n",
       "    <tr style=\"text-align: right;\">\n",
       "      <th>num</th>\n",
       "      <th>0</th>\n",
       "      <th>1</th>\n",
       "    </tr>\n",
       "    <tr>\n",
       "      <th>sex</th>\n",
       "      <th></th>\n",
       "      <th></th>\n",
       "    </tr>\n",
       "  </thead>\n",
       "  <tbody>\n",
       "    <tr>\n",
       "      <th>Female</th>\n",
       "      <td>0.239057</td>\n",
       "      <td>0.084175</td>\n",
       "    </tr>\n",
       "    <tr>\n",
       "      <th>Male</th>\n",
       "      <td>0.299663</td>\n",
       "      <td>0.377104</td>\n",
       "    </tr>\n",
       "  </tbody>\n",
       "</table>\n",
       "</div>"
      ],
      "text/plain": [
       "num            0         1\n",
       "sex                       \n",
       "Female  0.239057  0.084175\n",
       "Male    0.299663  0.377104"
      ]
     },
     "execution_count": 100,
     "metadata": {},
     "output_type": "execute_result"
    }
   ],
   "source": [
    "pd.crosstab(index= df[\"sex\"], columns=df[\"num\"], normalize=True)"
   ]
  },
  {
   "cell_type": "markdown",
   "id": "df810107",
   "metadata": {},
   "source": [
    "Se observa que la proporción de mujeres que enferman es baja dentro de la muestra estudiada."
   ]
  },
  {
   "cell_type": "markdown",
   "id": "8e252bfa",
   "metadata": {},
   "source": [
    "### `cp`"
   ]
  },
  {
   "cell_type": "code",
   "execution_count": 111,
   "id": "c55f8210",
   "metadata": {},
   "outputs": [
    {
     "data": {
      "image/png": "[encoded data removed]",
      "text/plain": [
       "<Figure size 1440x288 with 2 Axes>"
      ]
     },
     "metadata": {
      "needs_background": "light"
     },
     "output_type": "display_data"
    }
   ],
   "source": [
    "fig, axes = plt.subplots(1, 2, figsize=(20,4))\n",
    "sns.countplot(x=df[\"cp\"], ax=axes[0]).set(title='Frecuencias de los tipos de dolor en el pecho')\n",
    "sns.countplot(x=df[\"cp\"], hue=df[\"num\"], ax=axes[1]).set(title='Frecuencias de los tipos de dolor en el pecho en función de la presencia de enfermedad')\n",
    "plt.show()"
   ]
  },
  {
   "cell_type": "code",
   "execution_count": 106,
   "id": "79dd6f3f",
   "metadata": {},
   "outputs": [
    {
     "data": {
      "text/html": [
       "<div>\n",
       "<style scoped>\n",
       "    .dataframe tbody tr th:only-of-type {\n",
       "        vertical-align: middle;\n",
       "    }\n",
       "\n",
       "    .dataframe tbody tr th {\n",
       "        vertical-align: top;\n",
       "    }\n",
       "\n",
       "    .dataframe thead th {\n",
       "        text-align: right;\n",
       "    }\n",
       "</style>\n",
       "<table border=\"1\" class=\"dataframe\">\n",
       "  <thead>\n",
       "    <tr style=\"text-align: right;\">\n",
       "      <th>num</th>\n",
       "      <th>0</th>\n",
       "      <th>1</th>\n",
       "    </tr>\n",
       "    <tr>\n",
       "      <th>cp</th>\n",
       "      <th></th>\n",
       "      <th></th>\n",
       "    </tr>\n",
       "  </thead>\n",
       "  <tbody>\n",
       "    <tr>\n",
       "      <th>asymptomatic</th>\n",
       "      <td>0.131313</td>\n",
       "      <td>0.346801</td>\n",
       "    </tr>\n",
       "    <tr>\n",
       "      <th>atypical angina</th>\n",
       "      <td>0.134680</td>\n",
       "      <td>0.030303</td>\n",
       "    </tr>\n",
       "    <tr>\n",
       "      <th>non-anginal pain</th>\n",
       "      <td>0.218855</td>\n",
       "      <td>0.060606</td>\n",
       "    </tr>\n",
       "    <tr>\n",
       "      <th>typical angina</th>\n",
       "      <td>0.053872</td>\n",
       "      <td>0.023569</td>\n",
       "    </tr>\n",
       "  </tbody>\n",
       "</table>\n",
       "</div>"
      ],
      "text/plain": [
       "num                      0         1\n",
       "cp                                  \n",
       "asymptomatic      0.131313  0.346801\n",
       "atypical angina   0.134680  0.030303\n",
       "non-anginal pain  0.218855  0.060606\n",
       "typical angina    0.053872  0.023569"
      ]
     },
     "execution_count": 106,
     "metadata": {},
     "output_type": "execute_result"
    }
   ],
   "source": [
    "pd.crosstab(index= df[\"cp\"], columns=df[\"num\"], normalize=True)"
   ]
  },
  {
   "cell_type": "markdown",
   "id": "8e41eca4",
   "metadata": {},
   "source": [
    "Encontramos anomalías en esta variable. Nos parece muy extraño la frecuencia de los valores, dado que los casos asintomáticos son mayoritarios en los enfermos, mientras que en los sanos se reparte entre dolor no anginal, angina atípica y asintomáticos. Hemos vuelto al dataset original y estas conclusiones son coherentes con los datos. El dataset ofrecido en Kaggle tampoco nos daría solución ya que precisamente en esta variable había una mala codificación. Sería interesante contactar a los creadores del dataset para tratar de entender si estos los datos son o no un buen reflejo de la investigación."
   ]
  },
  {
   "cell_type": "markdown",
   "id": "01106773",
   "metadata": {},
   "source": [
    "### `trestbps`"
   ]
  },
  {
   "cell_type": "code",
   "execution_count": 20,
   "id": "3133e8b1",
   "metadata": {},
   "outputs": [
    {
     "data": {
      "image/png": "[encoded data removed]",
      "text/plain": [
       "<Figure size 1440x648 with 4 Axes>"
      ]
     },
     "metadata": {
      "needs_background": "light"
     },
     "output_type": "display_data"
    }
   ],
   "source": [
    "fig, axes = plt.subplots(2, 2, figsize=(20,9))\n",
    "\n",
    "sns.histplot(x=df[\"trestbps\"], ax=axes[0,0]).set(title='Distribución de la presión sanguínea')\n",
    "sns.histplot(x=df[\"trestbps\"], hue=df[\"num\"], ax=axes[0,1]).set(title='Distribución de la la presión sanguínea en función de la presencia de enfermedad')\n",
    "\n",
    "sns.boxplot(y=df[\"trestbps\"], ax=axes[1,0]).set(title='Distribución de la presión sanguínea')\n",
    "sns.boxplot(y=df[\"trestbps\"], x=df[\"num\"], ax=axes[1,1]).set(title='Distribución de la presión sanguínea en función de la presencia de enfermedad')\n",
    "\n",
    "plt.show()"
   ]
  },
  {
   "cell_type": "code",
   "execution_count": 21,
   "id": "980d0e1f",
   "metadata": {},
   "outputs": [
    {
     "data": {
      "text/html": [
       "<div>\n",
       "<style scoped>\n",
       "    .dataframe tbody tr th:only-of-type {\n",
       "        vertical-align: middle;\n",
       "    }\n",
       "\n",
       "    .dataframe tbody tr th {\n",
       "        vertical-align: top;\n",
       "    }\n",
       "\n",
       "    .dataframe thead th {\n",
       "        text-align: right;\n",
       "    }\n",
       "</style>\n",
       "<table border=\"1\" class=\"dataframe\">\n",
       "  <thead>\n",
       "    <tr style=\"text-align: right;\">\n",
       "      <th></th>\n",
       "      <th>num</th>\n",
       "      <th>0</th>\n",
       "      <th>1</th>\n",
       "    </tr>\n",
       "  </thead>\n",
       "  <tbody>\n",
       "    <tr>\n",
       "      <th rowspan=\"8\" valign=\"top\">trestbps</th>\n",
       "      <th>count</th>\n",
       "      <td>160.000000</td>\n",
       "      <td>137.000000</td>\n",
       "    </tr>\n",
       "    <tr>\n",
       "      <th>mean</th>\n",
       "      <td>130.187500</td>\n",
       "      <td>131.328467</td>\n",
       "    </tr>\n",
       "    <tr>\n",
       "      <th>std</th>\n",
       "      <td>12.447721</td>\n",
       "      <td>13.367052</td>\n",
       "    </tr>\n",
       "    <tr>\n",
       "      <th>min</th>\n",
       "      <td>108.000000</td>\n",
       "      <td>108.000000</td>\n",
       "    </tr>\n",
       "    <tr>\n",
       "      <th>25%</th>\n",
       "      <td>120.000000</td>\n",
       "      <td>120.000000</td>\n",
       "    </tr>\n",
       "    <tr>\n",
       "      <th>50%</th>\n",
       "      <td>130.000000</td>\n",
       "      <td>130.000000</td>\n",
       "    </tr>\n",
       "    <tr>\n",
       "      <th>75%</th>\n",
       "      <td>138.500000</td>\n",
       "      <td>140.000000</td>\n",
       "    </tr>\n",
       "    <tr>\n",
       "      <th>max</th>\n",
       "      <td>160.000000</td>\n",
       "      <td>160.000000</td>\n",
       "    </tr>\n",
       "  </tbody>\n",
       "</table>\n",
       "</div>"
      ],
      "text/plain": [
       "num                      0           1\n",
       "trestbps count  160.000000  137.000000\n",
       "         mean   130.187500  131.328467\n",
       "         std     12.447721   13.367052\n",
       "         min    108.000000  108.000000\n",
       "         25%    120.000000  120.000000\n",
       "         50%    130.000000  130.000000\n",
       "         75%    138.500000  140.000000\n",
       "         max    160.000000  160.000000"
      ]
     },
     "execution_count": 21,
     "metadata": {},
     "output_type": "execute_result"
    }
   ],
   "source": [
    "df[[\"trestbps\",\"num\"]].groupby(\"num\").describe().T"
   ]
  },
  {
   "cell_type": "markdown",
   "id": "8cc08b65",
   "metadata": {},
   "source": [
    "Parece no haber grandes diferencias en los estadísticos de tendencia central en las distribuciones de las presión sanguínea entre personas enfermas y sanas."
   ]
  },
  {
   "cell_type": "markdown",
   "id": "b2d643da",
   "metadata": {},
   "source": [
    "### `chol`"
   ]
  },
  {
   "cell_type": "code",
   "execution_count": 22,
   "id": "6d109132",
   "metadata": {},
   "outputs": [
    {
     "data": {
      "image/png": "[encoded data removed]",
      "text/plain": [
       "<Figure size 1440x648 with 4 Axes>"
      ]
     },
     "metadata": {
      "needs_background": "light"
     },
     "output_type": "display_data"
    }
   ],
   "source": [
    "fig, axes = plt.subplots(2, 2, figsize=(20,9))\n",
    "\n",
    "sns.histplot(x=df[\"chol\"], ax=axes[0,0]).set(title='Distribución del colesterol')\n",
    "sns.histplot(x=df[\"chol\"], hue=df[\"num\"], ax=axes[0,1]).set(title='Distribución del colesterol en función de la presencia de enfermedad')\n",
    "\n",
    "sns.boxplot(y=df[\"chol\"], ax=axes[1,0]).set(title='Distribución del colesterol')\n",
    "sns.boxplot(y=df[\"chol\"], x=df[\"num\"], ax=axes[1,1]).set(title='Distribución del colesterol en función de la presencia de enfermedad')\n",
    "\n",
    "plt.show()"
   ]
  },
  {
   "cell_type": "code",
   "execution_count": 23,
   "id": "37869edc",
   "metadata": {},
   "outputs": [
    {
     "data": {
      "text/html": [
       "<div>\n",
       "<style scoped>\n",
       "    .dataframe tbody tr th:only-of-type {\n",
       "        vertical-align: middle;\n",
       "    }\n",
       "\n",
       "    .dataframe tbody tr th {\n",
       "        vertical-align: top;\n",
       "    }\n",
       "\n",
       "    .dataframe thead th {\n",
       "        text-align: right;\n",
       "    }\n",
       "</style>\n",
       "<table border=\"1\" class=\"dataframe\">\n",
       "  <thead>\n",
       "    <tr style=\"text-align: right;\">\n",
       "      <th></th>\n",
       "      <th>num</th>\n",
       "      <th>0</th>\n",
       "      <th>1</th>\n",
       "    </tr>\n",
       "  </thead>\n",
       "  <tbody>\n",
       "    <tr>\n",
       "      <th rowspan=\"8\" valign=\"top\">chol</th>\n",
       "      <th>count</th>\n",
       "      <td>160.000000</td>\n",
       "      <td>137.000000</td>\n",
       "    </tr>\n",
       "    <tr>\n",
       "      <th>mean</th>\n",
       "      <td>240.712500</td>\n",
       "      <td>250.072993</td>\n",
       "    </tr>\n",
       "    <tr>\n",
       "      <th>std</th>\n",
       "      <td>35.456659</td>\n",
       "      <td>36.047484</td>\n",
       "    </tr>\n",
       "    <tr>\n",
       "      <th>min</th>\n",
       "      <td>177.000000</td>\n",
       "      <td>176.000000</td>\n",
       "    </tr>\n",
       "    <tr>\n",
       "      <th>25%</th>\n",
       "      <td>211.750000</td>\n",
       "      <td>229.000000</td>\n",
       "    </tr>\n",
       "    <tr>\n",
       "      <th>50%</th>\n",
       "      <td>240.000000</td>\n",
       "      <td>243.000000</td>\n",
       "    </tr>\n",
       "    <tr>\n",
       "      <th>75%</th>\n",
       "      <td>263.000000</td>\n",
       "      <td>276.000000</td>\n",
       "    </tr>\n",
       "    <tr>\n",
       "      <th>max</th>\n",
       "      <td>325.000000</td>\n",
       "      <td>327.000000</td>\n",
       "    </tr>\n",
       "  </tbody>\n",
       "</table>\n",
       "</div>"
      ],
      "text/plain": [
       "num                  0           1\n",
       "chol count  160.000000  137.000000\n",
       "     mean   240.712500  250.072993\n",
       "     std     35.456659   36.047484\n",
       "     min    177.000000  176.000000\n",
       "     25%    211.750000  229.000000\n",
       "     50%    240.000000  243.000000\n",
       "     75%    263.000000  276.000000\n",
       "     max    325.000000  327.000000"
      ]
     },
     "execution_count": 23,
     "metadata": {},
     "output_type": "execute_result"
    }
   ],
   "source": [
    "df[[\"chol\",\"num\"]].groupby(\"num\").describe().T"
   ]
  },
  {
   "cell_type": "markdown",
   "id": "26f3387b",
   "metadata": {},
   "source": [
    "El nivel de colesterol, en promedio, parece ser más elevado en las personas que presentan la enfermedad, sin embargo, existe una desviación importante."
   ]
  },
  {
   "cell_type": "markdown",
   "id": "ec20126f",
   "metadata": {},
   "source": [
    "### `fbs`"
   ]
  },
  {
   "cell_type": "code",
   "execution_count": 24,
   "id": "173ae755",
   "metadata": {},
   "outputs": [
    {
     "data": {
      "image/png": "[encoded data removed]",
      "text/plain": [
       "<Figure size 1440x288 with 2 Axes>"
      ]
     },
     "metadata": {
      "needs_background": "light"
     },
     "output_type": "display_data"
    }
   ],
   "source": [
    "fig, axes = plt.subplots(1, 2, figsize=(20,4))\n",
    "\n",
    "sns.countplot(x=df[\"fbs\"], ax=axes[0]).set(title='Frecuencias de Fbs')\n",
    "\n",
    "sns.countplot(x=df[\"fbs\"], hue=df[\"num\"], ax=axes[1]).set(title='Frecuencias de Fbs en función de la presencia de enfermedad')\n",
    "\n",
    "plt.show()"
   ]
  },
  {
   "cell_type": "code",
   "execution_count": 25,
   "id": "0a8e25ad",
   "metadata": {},
   "outputs": [
    {
     "data": {
      "text/html": [
       "<div>\n",
       "<style scoped>\n",
       "    .dataframe tbody tr th:only-of-type {\n",
       "        vertical-align: middle;\n",
       "    }\n",
       "\n",
       "    .dataframe tbody tr th {\n",
       "        vertical-align: top;\n",
       "    }\n",
       "\n",
       "    .dataframe thead th {\n",
       "        text-align: right;\n",
       "    }\n",
       "</style>\n",
       "<table border=\"1\" class=\"dataframe\">\n",
       "  <thead>\n",
       "    <tr style=\"text-align: right;\">\n",
       "      <th>num</th>\n",
       "      <th>0</th>\n",
       "      <th>1</th>\n",
       "    </tr>\n",
       "    <tr>\n",
       "      <th>fbs</th>\n",
       "      <th></th>\n",
       "      <th></th>\n",
       "    </tr>\n",
       "  </thead>\n",
       "  <tbody>\n",
       "    <tr>\n",
       "      <th>fastingBloodSugar_false</th>\n",
       "      <td>0.461279</td>\n",
       "      <td>0.393939</td>\n",
       "    </tr>\n",
       "    <tr>\n",
       "      <th>fastingBloodSugar_true</th>\n",
       "      <td>0.077441</td>\n",
       "      <td>0.067340</td>\n",
       "    </tr>\n",
       "  </tbody>\n",
       "</table>\n",
       "</div>"
      ],
      "text/plain": [
       "num                             0         1\n",
       "fbs                                        \n",
       "fastingBloodSugar_false  0.461279  0.393939\n",
       "fastingBloodSugar_true   0.077441  0.067340"
      ]
     },
     "execution_count": 25,
     "metadata": {},
     "output_type": "execute_result"
    }
   ],
   "source": [
    "pd.crosstab(index= df[\"fbs\"], columns=df[\"num\"], normalize=True)"
   ]
  },
  {
   "cell_type": "markdown",
   "id": "29812dec",
   "metadata": {},
   "source": [
    "El azúcar alto no parece un factor a la hora de determinar si existe enfermedad cardiaca."
   ]
  },
  {
   "cell_type": "markdown",
   "id": "e3879e9e",
   "metadata": {},
   "source": [
    "### `restecg`"
   ]
  },
  {
   "cell_type": "code",
   "execution_count": 26,
   "id": "671314a0",
   "metadata": {},
   "outputs": [
    {
     "data": {
      "image/png": "[encoded data removed]",
      "text/plain": [
       "<Figure size 1440x288 with 2 Axes>"
      ]
     },
     "metadata": {
      "needs_background": "light"
     },
     "output_type": "display_data"
    }
   ],
   "source": [
    "fig, axes = plt.subplots(1, 2, figsize=(20,4))\n",
    "\n",
    "sns.countplot(x=df[\"restecg\"], ax=axes[0]).set(title='Frecuencias de restecg')\n",
    "\n",
    "sns.countplot(x=df[\"restecg\"], hue=df[\"num\"], ax=axes[1]).set(title='Frecuencias de restecg en función de la presencia de enfermedad')\n",
    "\n",
    "plt.show()"
   ]
  },
  {
   "cell_type": "code",
   "execution_count": 27,
   "id": "3f92eba0",
   "metadata": {},
   "outputs": [
    {
     "data": {
      "text/html": [
       "<div>\n",
       "<style scoped>\n",
       "    .dataframe tbody tr th:only-of-type {\n",
       "        vertical-align: middle;\n",
       "    }\n",
       "\n",
       "    .dataframe tbody tr th {\n",
       "        vertical-align: top;\n",
       "    }\n",
       "\n",
       "    .dataframe thead th {\n",
       "        text-align: right;\n",
       "    }\n",
       "</style>\n",
       "<table border=\"1\" class=\"dataframe\">\n",
       "  <thead>\n",
       "    <tr style=\"text-align: right;\">\n",
       "      <th>num</th>\n",
       "      <th>0</th>\n",
       "      <th>1</th>\n",
       "    </tr>\n",
       "    <tr>\n",
       "      <th>restecg</th>\n",
       "      <th></th>\n",
       "      <th></th>\n",
       "    </tr>\n",
       "  </thead>\n",
       "  <tbody>\n",
       "    <tr>\n",
       "      <th>Left ventricular hypertrophy</th>\n",
       "      <td>0.225589</td>\n",
       "      <td>0.265993</td>\n",
       "    </tr>\n",
       "    <tr>\n",
       "      <th>Normal</th>\n",
       "      <td>0.309764</td>\n",
       "      <td>0.185185</td>\n",
       "    </tr>\n",
       "    <tr>\n",
       "      <th>ST-T wave abnormality</th>\n",
       "      <td>0.003367</td>\n",
       "      <td>0.010101</td>\n",
       "    </tr>\n",
       "  </tbody>\n",
       "</table>\n",
       "</div>"
      ],
      "text/plain": [
       "num                                  0         1\n",
       "restecg                                         \n",
       "Left ventricular hypertrophy  0.225589  0.265993\n",
       "Normal                        0.309764  0.185185\n",
       "ST-T wave abnormality         0.003367  0.010101"
      ]
     },
     "execution_count": 27,
     "metadata": {},
     "output_type": "execute_result"
    }
   ],
   "source": [
    "pd.crosstab(index= df[\"restecg\"], columns=df[\"num\"], normalize=True)"
   ]
  },
  {
   "cell_type": "markdown",
   "id": "87483ec0",
   "metadata": {},
   "source": [
    "La presencia de enfermedad se asocia en mayor proporción en los casos con hipertrofia ventricular izquierda en la muestra obtenida."
   ]
  },
  {
   "cell_type": "markdown",
   "id": "5df3c3fb",
   "metadata": {},
   "source": [
    "### `thalach`"
   ]
  },
  {
   "cell_type": "code",
   "execution_count": 28,
   "id": "e04c20b5",
   "metadata": {},
   "outputs": [
    {
     "data": {
      "image/png": "[encoded data removed]",
      "text/plain": [
       "<Figure size 1440x648 with 4 Axes>"
      ]
     },
     "metadata": {
      "needs_background": "light"
     },
     "output_type": "display_data"
    }
   ],
   "source": [
    "fig, axes = plt.subplots(2, 2, figsize=(20,9))\n",
    "\n",
    "sns.histplot(x=df[\"thalach\"], ax=axes[0,0]).set(title='Distribución de la presión sanguínea')\n",
    "sns.histplot(x=df[\"thalach\"], hue=df[\"num\"], ax=axes[0,1]).set(title='Distribución de la la presión sanguínea en función de la presencia de enfermedad')\n",
    "\n",
    "sns.boxplot(y=df[\"thalach\"], ax=axes[1,0]).set(title='Distribución de la presión sanguínea')\n",
    "sns.boxplot(y=df[\"thalach\"], x=df[\"num\"], ax=axes[1,1]).set(title='Distribución de la presión sanguínea en función de la presencia de enfermedad')\n",
    "\n",
    "plt.show()"
   ]
  },
  {
   "cell_type": "markdown",
   "id": "a1fb6bf6",
   "metadata": {},
   "source": [
    "### `exang`"
   ]
  },
  {
   "cell_type": "code",
   "execution_count": 29,
   "id": "7a6e09ea",
   "metadata": {},
   "outputs": [
    {
     "data": {
      "image/png": "[encoded data removed]",
      "text/plain": [
       "<Figure size 1440x288 with 2 Axes>"
      ]
     },
     "metadata": {
      "needs_background": "light"
     },
     "output_type": "display_data"
    }
   ],
   "source": [
    "fig, axes = plt.subplots(1, 2, figsize=(20,4))\n",
    "sns.countplot(x=df[\"exang\"], ax=axes[0]).set(title='Frecuencias de exang')\n",
    "sns.countplot(x=df[\"exang\"], hue=df[\"num\"], ax=axes[1]).set(title='Frecuencias de exang en función de la presencia de enfermedad')\n",
    "plt.show()"
   ]
  },
  {
   "cell_type": "code",
   "execution_count": 30,
   "id": "26f965d6",
   "metadata": {},
   "outputs": [
    {
     "data": {
      "text/html": [
       "<div>\n",
       "<style scoped>\n",
       "    .dataframe tbody tr th:only-of-type {\n",
       "        vertical-align: middle;\n",
       "    }\n",
       "\n",
       "    .dataframe tbody tr th {\n",
       "        vertical-align: top;\n",
       "    }\n",
       "\n",
       "    .dataframe thead th {\n",
       "        text-align: right;\n",
       "    }\n",
       "</style>\n",
       "<table border=\"1\" class=\"dataframe\">\n",
       "  <thead>\n",
       "    <tr style=\"text-align: right;\">\n",
       "      <th>num</th>\n",
       "      <th>0</th>\n",
       "      <th>1</th>\n",
       "    </tr>\n",
       "    <tr>\n",
       "      <th>exang</th>\n",
       "      <th></th>\n",
       "      <th></th>\n",
       "    </tr>\n",
       "  </thead>\n",
       "  <tbody>\n",
       "    <tr>\n",
       "      <th>No Angina</th>\n",
       "      <td>0.461279</td>\n",
       "      <td>0.212121</td>\n",
       "    </tr>\n",
       "    <tr>\n",
       "      <th>Yes Angina</th>\n",
       "      <td>0.077441</td>\n",
       "      <td>0.249158</td>\n",
       "    </tr>\n",
       "  </tbody>\n",
       "</table>\n",
       "</div>"
      ],
      "text/plain": [
       "num                0         1\n",
       "exang                         \n",
       "No Angina   0.461279  0.212121\n",
       "Yes Angina  0.077441  0.249158"
      ]
     },
     "execution_count": 30,
     "metadata": {},
     "output_type": "execute_result"
    }
   ],
   "source": [
    "pd.crosstab(index= df[\"exang\"], columns=df[\"num\"], normalize=True)"
   ]
  },
  {
   "cell_type": "markdown",
   "id": "2c515949",
   "metadata": {},
   "source": [
    "La presencia de angina tiene una mayor proporción de casos en los que está presente la enfermedad."
   ]
  },
  {
   "cell_type": "markdown",
   "id": "8be630ee",
   "metadata": {},
   "source": [
    "### `oldpeak`"
   ]
  },
  {
   "cell_type": "code",
   "execution_count": 31,
   "id": "c56db036",
   "metadata": {},
   "outputs": [
    {
     "data": {
      "image/png": "[encoded data removed]",
      "text/plain": [
       "<Figure size 1440x648 with 4 Axes>"
      ]
     },
     "metadata": {
      "needs_background": "light"
     },
     "output_type": "display_data"
    }
   ],
   "source": [
    "fig, axes = plt.subplots(2, 2, figsize=(20,9))\n",
    "\n",
    "sns.histplot(x=df[\"oldpeak\"], ax=axes[0,0]).set(title='Distribución de oldpeak')\n",
    "sns.histplot(x=df[\"oldpeak\"], hue=df[\"num\"], ax=axes[0,1]).set(title='Distribución de oldpeak en función de la presencia de enfermedad')\n",
    "\n",
    "sns.boxplot(y=df[\"oldpeak\"], ax=axes[1,0]).set(title='Distribución del oldpeak')\n",
    "sns.boxplot(y=df[\"oldpeak\"], x=df[\"num\"], ax=axes[1,1]).set(title='Distribución de oldpeak en función de la presencia de enfermedad')\n",
    "\n",
    "plt.show()"
   ]
  },
  {
   "cell_type": "code",
   "execution_count": 32,
   "id": "55949b16",
   "metadata": {},
   "outputs": [
    {
     "data": {
      "text/html": [
       "<div>\n",
       "<style scoped>\n",
       "    .dataframe tbody tr th:only-of-type {\n",
       "        vertical-align: middle;\n",
       "    }\n",
       "\n",
       "    .dataframe tbody tr th {\n",
       "        vertical-align: top;\n",
       "    }\n",
       "\n",
       "    .dataframe thead th {\n",
       "        text-align: right;\n",
       "    }\n",
       "</style>\n",
       "<table border=\"1\" class=\"dataframe\">\n",
       "  <thead>\n",
       "    <tr style=\"text-align: right;\">\n",
       "      <th></th>\n",
       "      <th>num</th>\n",
       "      <th>0</th>\n",
       "      <th>1</th>\n",
       "    </tr>\n",
       "  </thead>\n",
       "  <tbody>\n",
       "    <tr>\n",
       "      <th rowspan=\"8\" valign=\"top\">oldpeak</th>\n",
       "      <th>count</th>\n",
       "      <td>160.000000</td>\n",
       "      <td>137.000000</td>\n",
       "    </tr>\n",
       "    <tr>\n",
       "      <th>mean</th>\n",
       "      <td>0.560625</td>\n",
       "      <td>1.289781</td>\n",
       "    </tr>\n",
       "    <tr>\n",
       "      <th>std</th>\n",
       "      <td>0.695818</td>\n",
       "      <td>1.000903</td>\n",
       "    </tr>\n",
       "    <tr>\n",
       "      <th>min</th>\n",
       "      <td>0.000000</td>\n",
       "      <td>0.000000</td>\n",
       "    </tr>\n",
       "    <tr>\n",
       "      <th>25%</th>\n",
       "      <td>0.000000</td>\n",
       "      <td>0.600000</td>\n",
       "    </tr>\n",
       "    <tr>\n",
       "      <th>50%</th>\n",
       "      <td>0.200000</td>\n",
       "      <td>1.200000</td>\n",
       "    </tr>\n",
       "    <tr>\n",
       "      <th>75%</th>\n",
       "      <td>1.000000</td>\n",
       "      <td>2.000000</td>\n",
       "    </tr>\n",
       "    <tr>\n",
       "      <th>max</th>\n",
       "      <td>3.000000</td>\n",
       "      <td>3.400000</td>\n",
       "    </tr>\n",
       "  </tbody>\n",
       "</table>\n",
       "</div>"
      ],
      "text/plain": [
       "num                     0           1\n",
       "oldpeak count  160.000000  137.000000\n",
       "        mean     0.560625    1.289781\n",
       "        std      0.695818    1.000903\n",
       "        min      0.000000    0.000000\n",
       "        25%      0.000000    0.600000\n",
       "        50%      0.200000    1.200000\n",
       "        75%      1.000000    2.000000\n",
       "        max      3.000000    3.400000"
      ]
     },
     "execution_count": 32,
     "metadata": {},
     "output_type": "execute_result"
    }
   ],
   "source": [
    "df[[\"oldpeak\",\"num\"]].groupby(\"num\").describe().T"
   ]
  },
  {
   "cell_type": "markdown",
   "id": "1d9d1fb7",
   "metadata": {},
   "source": [
    "La presencia de enfermedad se asocia a mayores valores en depresión del ST inducida por el ejercicio en relación con el reposo."
   ]
  },
  {
   "cell_type": "markdown",
   "id": "ef80ecb0",
   "metadata": {},
   "source": [
    "### `slope`"
   ]
  },
  {
   "cell_type": "code",
   "execution_count": 33,
   "id": "bd2a9656",
   "metadata": {},
   "outputs": [
    {
     "data": {
      "image/png": "[encoded data removed]",
      "text/plain": [
       "<Figure size 1440x216 with 2 Axes>"
      ]
     },
     "metadata": {
      "needs_background": "light"
     },
     "output_type": "display_data"
    }
   ],
   "source": [
    "fig, axes = plt.subplots(1, 2, figsize=(20,3))\n",
    "\n",
    "sns.countplot(x=df[\"slope\"], ax=axes[0]).set(title='Frecuencias de slope')\n",
    "\n",
    "sns.countplot(x=df[\"slope\"], hue=df[\"num\"], ax=axes[1]).set(title='Frecuencias de slope en función de la presencia de enfermedad')\n",
    "\n",
    "plt.show()"
   ]
  },
  {
   "cell_type": "code",
   "execution_count": 34,
   "id": "b55b2fd9",
   "metadata": {},
   "outputs": [
    {
     "data": {
      "text/html": [
       "<div>\n",
       "<style scoped>\n",
       "    .dataframe tbody tr th:only-of-type {\n",
       "        vertical-align: middle;\n",
       "    }\n",
       "\n",
       "    .dataframe tbody tr th {\n",
       "        vertical-align: top;\n",
       "    }\n",
       "\n",
       "    .dataframe thead th {\n",
       "        text-align: right;\n",
       "    }\n",
       "</style>\n",
       "<table border=\"1\" class=\"dataframe\">\n",
       "  <thead>\n",
       "    <tr style=\"text-align: right;\">\n",
       "      <th>num</th>\n",
       "      <th>0</th>\n",
       "      <th>1</th>\n",
       "    </tr>\n",
       "    <tr>\n",
       "      <th>slope</th>\n",
       "      <th></th>\n",
       "      <th></th>\n",
       "    </tr>\n",
       "  </thead>\n",
       "  <tbody>\n",
       "    <tr>\n",
       "      <th>downsloping</th>\n",
       "      <td>0.030303</td>\n",
       "      <td>0.040404</td>\n",
       "    </tr>\n",
       "    <tr>\n",
       "      <th>flat</th>\n",
       "      <td>0.161616</td>\n",
       "      <td>0.299663</td>\n",
       "    </tr>\n",
       "    <tr>\n",
       "      <th>upsloping</th>\n",
       "      <td>0.346801</td>\n",
       "      <td>0.121212</td>\n",
       "    </tr>\n",
       "  </tbody>\n",
       "</table>\n",
       "</div>"
      ],
      "text/plain": [
       "num                 0         1\n",
       "slope                          \n",
       "downsloping  0.030303  0.040404\n",
       "flat         0.161616  0.299663\n",
       "upsloping    0.346801  0.121212"
      ]
     },
     "execution_count": 34,
     "metadata": {},
     "output_type": "execute_result"
    }
   ],
   "source": [
    "pd.crosstab(index= df[\"slope\"], columns=df[\"num\"], normalize=True)"
   ]
  },
  {
   "cell_type": "markdown",
   "id": "113be622",
   "metadata": {},
   "source": [
    "La proporción mayor se da en enfermos cardiacos con la pendiente del segmento ST de ejercicio máximo sin pendiente."
   ]
  },
  {
   "cell_type": "markdown",
   "id": "96a75246",
   "metadata": {},
   "source": [
    "### `ca`"
   ]
  },
  {
   "cell_type": "code",
   "execution_count": 35,
   "id": "e90c3741",
   "metadata": {},
   "outputs": [
    {
     "data": {
      "image/png": "[encoded data removed]",
      "text/plain": [
       "<Figure size 1440x648 with 4 Axes>"
      ]
     },
     "metadata": {
      "needs_background": "light"
     },
     "output_type": "display_data"
    }
   ],
   "source": [
    "fig, axes = plt.subplots(2, 2, figsize=(20,9))\n",
    "\n",
    "sns.histplot(x=df[\"ca\"], ax=axes[0,0], bins=4).set(title='Distribución de ca')\n",
    "sns.histplot(x=df[\"ca\"], hue=df[\"num\"], ax=axes[0,1], bins=4).set(title='Distribución de ca en función de la presencia de enfermedad')\n",
    "\n",
    "sns.boxplot(y=df[\"ca\"], ax=axes[1,0]).set(title='Distribución del oldpeak')\n",
    "sns.boxplot(y=df[\"ca\"], x=df[\"num\"], ax=axes[1,1]).set(title='Distribución de ca en función de la presencia de enfermedad')\n",
    "\n",
    "plt.show()"
   ]
  },
  {
   "cell_type": "code",
   "execution_count": 116,
   "id": "2e58f60d",
   "metadata": {},
   "outputs": [
    {
     "data": {
      "text/html": [
       "<div>\n",
       "<style scoped>\n",
       "    .dataframe tbody tr th:only-of-type {\n",
       "        vertical-align: middle;\n",
       "    }\n",
       "\n",
       "    .dataframe tbody tr th {\n",
       "        vertical-align: top;\n",
       "    }\n",
       "\n",
       "    .dataframe thead th {\n",
       "        text-align: right;\n",
       "    }\n",
       "</style>\n",
       "<table border=\"1\" class=\"dataframe\">\n",
       "  <thead>\n",
       "    <tr style=\"text-align: right;\">\n",
       "      <th></th>\n",
       "      <th>num</th>\n",
       "      <th>0</th>\n",
       "      <th>1</th>\n",
       "    </tr>\n",
       "  </thead>\n",
       "  <tbody>\n",
       "    <tr>\n",
       "      <th rowspan=\"8\" valign=\"top\">ca</th>\n",
       "      <th>count</th>\n",
       "      <td>160.000000</td>\n",
       "      <td>137.000000</td>\n",
       "    </tr>\n",
       "    <tr>\n",
       "      <th>mean</th>\n",
       "      <td>0.275000</td>\n",
       "      <td>1.145985</td>\n",
       "    </tr>\n",
       "    <tr>\n",
       "      <th>std</th>\n",
       "      <td>0.633945</td>\n",
       "      <td>1.018506</td>\n",
       "    </tr>\n",
       "    <tr>\n",
       "      <th>min</th>\n",
       "      <td>0.000000</td>\n",
       "      <td>0.000000</td>\n",
       "    </tr>\n",
       "    <tr>\n",
       "      <th>25%</th>\n",
       "      <td>0.000000</td>\n",
       "      <td>0.000000</td>\n",
       "    </tr>\n",
       "    <tr>\n",
       "      <th>50%</th>\n",
       "      <td>0.000000</td>\n",
       "      <td>1.000000</td>\n",
       "    </tr>\n",
       "    <tr>\n",
       "      <th>75%</th>\n",
       "      <td>0.000000</td>\n",
       "      <td>2.000000</td>\n",
       "    </tr>\n",
       "    <tr>\n",
       "      <th>max</th>\n",
       "      <td>3.000000</td>\n",
       "      <td>3.000000</td>\n",
       "    </tr>\n",
       "  </tbody>\n",
       "</table>\n",
       "</div>"
      ],
      "text/plain": [
       "num                0           1\n",
       "ca count  160.000000  137.000000\n",
       "   mean     0.275000    1.145985\n",
       "   std      0.633945    1.018506\n",
       "   min      0.000000    0.000000\n",
       "   25%      0.000000    0.000000\n",
       "   50%      0.000000    1.000000\n",
       "   75%      0.000000    2.000000\n",
       "   max      3.000000    3.000000"
      ]
     },
     "execution_count": 116,
     "metadata": {},
     "output_type": "execute_result"
    }
   ],
   "source": [
    "df[[\"ca\",\"num\"]].groupby(\"num\").describe().T"
   ]
  },
  {
   "cell_type": "markdown",
   "id": "7a113d3d",
   "metadata": {},
   "source": [
    "La presencia de vasos es mayor en los casos de enfermos de la muestra."
   ]
  },
  {
   "cell_type": "markdown",
   "id": "9e720137",
   "metadata": {},
   "source": [
    "### Thal"
   ]
  },
  {
   "cell_type": "code",
   "execution_count": 37,
   "id": "376474f7",
   "metadata": {},
   "outputs": [
    {
     "data": {
      "image/png": "[encoded data removed]",
      "text/plain": [
       "<Figure size 720x360 with 2 Axes>"
      ]
     },
     "metadata": {
      "needs_background": "light"
     },
     "output_type": "display_data"
    }
   ],
   "source": [
    "fig, axes = plt.subplots(1, 2, figsize=(10,5))\n",
    "sns.countplot(x=df[\"thal\"], ax=axes[0]).set(title='Frecuencias de thal')\n",
    "sns.countplot(x=df[\"thal\"], hue=df[\"num\"], ax=axes[1]).set(title='Frecuencias de thal en función de la presencia de enfermedad')\n",
    "plt.show()"
   ]
  },
  {
   "cell_type": "code",
   "execution_count": 38,
   "id": "18ed3fe0",
   "metadata": {},
   "outputs": [
    {
     "data": {
      "text/html": [
       "<div>\n",
       "<style scoped>\n",
       "    .dataframe tbody tr th:only-of-type {\n",
       "        vertical-align: middle;\n",
       "    }\n",
       "\n",
       "    .dataframe tbody tr th {\n",
       "        vertical-align: top;\n",
       "    }\n",
       "\n",
       "    .dataframe thead th {\n",
       "        text-align: right;\n",
       "    }\n",
       "</style>\n",
       "<table border=\"1\" class=\"dataframe\">\n",
       "  <thead>\n",
       "    <tr style=\"text-align: right;\">\n",
       "      <th>num</th>\n",
       "      <th>0</th>\n",
       "      <th>1</th>\n",
       "    </tr>\n",
       "    <tr>\n",
       "      <th>thal</th>\n",
       "      <th></th>\n",
       "      <th></th>\n",
       "    </tr>\n",
       "  </thead>\n",
       "  <tbody>\n",
       "    <tr>\n",
       "      <th>fixed defect</th>\n",
       "      <td>0.020202</td>\n",
       "      <td>0.040404</td>\n",
       "    </tr>\n",
       "    <tr>\n",
       "      <th>normal</th>\n",
       "      <td>0.427609</td>\n",
       "      <td>0.124579</td>\n",
       "    </tr>\n",
       "    <tr>\n",
       "      <th>reversable defect</th>\n",
       "      <td>0.090909</td>\n",
       "      <td>0.296296</td>\n",
       "    </tr>\n",
       "  </tbody>\n",
       "</table>\n",
       "</div>"
      ],
      "text/plain": [
       "num                       0         1\n",
       "thal                                 \n",
       "fixed defect       0.020202  0.040404\n",
       "normal             0.427609  0.124579\n",
       "reversable defect  0.090909  0.296296"
      ]
     },
     "execution_count": 38,
     "metadata": {},
     "output_type": "execute_result"
    }
   ],
   "source": [
    "pd.crosstab(index= df[\"thal\"], columns=df[\"num\"], normalize=True)"
   ]
  },
  {
   "cell_type": "markdown",
   "id": "b7320238",
   "metadata": {},
   "source": [
    "Por lo general, los pacientes con resultados normales en el Thallium Stress Test, tienden a estar sanos, según los datos observados."
   ]
  },
  {
   "cell_type": "markdown",
   "id": "2e5658d4",
   "metadata": {},
   "source": [
    "## 4.1. Selección de los grupos de datos que se quieren analizar/comparar "
   ]
  },
  {
   "cell_type": "markdown",
   "id": "20e443ac",
   "metadata": {},
   "source": [
    "A lo largo de la presente investigación se van a comparar los grupos de pacientes enfermos( valor num=1) y pacientes sanos (valor num=0). Por ello, procedemos a separar los datos en dos muestras."
   ]
  },
  {
   "cell_type": "code",
   "execution_count": 42,
   "id": "f04c8c03",
   "metadata": {},
   "outputs": [],
   "source": [
    "df_sick = df[df[\"num\"] == 1] \n",
    "df_healthy = df[df[\"num\"] == 0] "
   ]
  },
  {
   "cell_type": "markdown",
   "id": "52c1ae23",
   "metadata": {},
   "source": [
    "## 4.2. Comprobación de la normalidad y homogeneidad de la varianza"
   ]
  },
  {
   "cell_type": "markdown",
   "id": "bfe6553e",
   "metadata": {},
   "source": [
    "Para comprobar la normalidad de las variables cuantitiativas utilizaremos el famoso test de Shapiro-Wilk. Recordemos que si el *p*-valor resulta ser menor de 0.05 (nivel de significación $\\alpha$), rechazaremos la hipótesis nula, es decir, rechazaremos que los datos tienen una distribución normal. \n",
    "\n",
    "Para comprobar la homocedasticidad de los datos (variables cuantitativas), es decir, si existe una igualdad de varianzas entre dos grupos, aplicaremos el test no paramétrico de Levene para aquellas variables que siguen una normal y el test de Fligner-Killeen para las que no lo son. Recordemos que la premisa es la misma que con el test de Shapiro-Wilk: un *p*-valor inferior al nivel de significación $ \\alpha $ supondrá el rechazo de la hipótesis nula y concluiremos que no existe homogeneidad de varianzas.\n",
    "\n",
    "Para todos ellos, definimos una función para realizar los contrastes de forma más efectiva:"
   ]
  },
  {
   "cell_type": "code",
   "execution_count": 39,
   "id": "a0db7598",
   "metadata": {},
   "outputs": [],
   "source": [
    "# Test de normalidad Shapiro-Wilk\n",
    "def testNormality(x):\n",
    "    \"\"\"\n",
    "    x: list type to check normality\n",
    "    \n",
    "    \"\"\"\n",
    "    a = np.array(x)\n",
    "    stat, p = stats.shapiro(x)\n",
    "    if p < 0.05:\n",
    "        print(\"Distribution is not normal, p value: {}\".format(p))\n",
    "    else:\n",
    "        print(\"Distribution is normal, p value: {}\".format(p))"
   ]
  },
  {
   "cell_type": "code",
   "execution_count": 40,
   "id": "62c28c06",
   "metadata": {},
   "outputs": [],
   "source": [
    "# Test de varianzas Levene en variables con distribución normal\n",
    "def testLevene(listA, listB):\n",
    "    \"\"\"\n",
    "    listA: list type to compare variance \n",
    "    listB: list type to compare variance\n",
    "    \n",
    "    \"\"\"\n",
    "    a = np.array(listA)\n",
    "    b = np.array(listB)\n",
    "    stat, p = levene(a, b)  \n",
    "    if p < 0.05:\n",
    "        print(\"Variances not equal, p value: {}\".format(p))\n",
    "    else:\n",
    "        print(\"Variances equal, p value: {}\".format(p))"
   ]
  },
  {
   "cell_type": "code",
   "execution_count": 41,
   "id": "ef743c36",
   "metadata": {},
   "outputs": [],
   "source": [
    "# Test de varianzas Fligner-Killeen en variables con distribución no normal\n",
    "def testFligner(listA, listB):\n",
    "    \"\"\"\n",
    "    listA: list type to compare variance \n",
    "    listB: list type to compare variance\n",
    "    \n",
    "    \"\"\"\n",
    "    a = np.array(listA)\n",
    "    b = np.array(listB)\n",
    "    stat, p = fligner(a, b)\n",
    "    if p < 0.05:\n",
    "        print(\"Variances not equal, p value: {}\".format(p))\n",
    "    else:\n",
    "        print(\"Variances equal, p value: {}\".format(p))"
   ]
  },
  {
   "cell_type": "markdown",
   "id": "f849caf6",
   "metadata": {},
   "source": [
    "### `age`"
   ]
  },
  {
   "cell_type": "code",
   "execution_count": 43,
   "id": "e18fee9b",
   "metadata": {
    "scrolled": true
   },
   "outputs": [
    {
     "name": "stdout",
     "output_type": "stream",
     "text": [
      "\n",
      "Test de normalidad para la edad en población con patologías cardiacas:\n",
      "Distribution is not normal, p value: 0.0016702482243999839\n",
      "\n",
      "Test de normalidad para la edad en población sin patologías cardiacas:\n",
      "Distribution is normal, p value: 0.11104635894298553\n"
     ]
    }
   ],
   "source": [
    "print(\"\\nTest de normalidad para la edad en población con patologías cardiacas:\")\n",
    "testNormality(df_sick[\"age\"])\n",
    "print(\"\\nTest de normalidad para la edad en población sin patologías cardiacas:\")\n",
    "testNormality(df_healthy[\"age\"])"
   ]
  },
  {
   "cell_type": "markdown",
   "id": "12240560",
   "metadata": {},
   "source": [
    "Siendo rigurosos, visto que una de las distribuciones no sigue una distribución normal, aplicaremos el Test Fligner-Killen para comparar las varianzas. Sin embargo, recordemos que el tamaño de las muestras es superior a 30, por lo tanto, según el Teorema Central del Límite, podríamos asumir que la distribución de la media de la muestra se asemeja a la de una normal."
   ]
  },
  {
   "cell_type": "code",
   "execution_count": 44,
   "id": "47cac71a",
   "metadata": {},
   "outputs": [
    {
     "name": "stdout",
     "output_type": "stream",
     "text": [
      "137\n",
      "160\n"
     ]
    }
   ],
   "source": [
    "print(len(df_sick))\n",
    "print(len(df_healthy))"
   ]
  },
  {
   "cell_type": "code",
   "execution_count": 45,
   "id": "45a81e4b",
   "metadata": {},
   "outputs": [
    {
     "name": "stdout",
     "output_type": "stream",
     "text": [
      "Test de varianza entre la edad en pacientes con patologías caridacas y sin ellas:\n",
      "Variances not equal, p value: 0.003954117411351063\n"
     ]
    }
   ],
   "source": [
    "print(\"Test de varianza entre la edad en pacientes con patologías caridacas y sin ellas:\")\n",
    "testFligner(df_sick[\"age\"], df_healthy[\"age\"])"
   ]
  },
  {
   "cell_type": "markdown",
   "id": "54883cdb",
   "metadata": {},
   "source": [
    "### `trestbps`"
   ]
  },
  {
   "cell_type": "code",
   "execution_count": 47,
   "id": "ed26c90b",
   "metadata": {},
   "outputs": [
    {
     "name": "stdout",
     "output_type": "stream",
     "text": [
      "\n",
      "Test de normalidad para la presión sanguínea en reposo en población con patologías cardiacas:\n",
      "Distribution is not normal, p value: 0.0011744850780814886\n",
      "\n",
      "Test de normalidad para la presión sanguínea en reposo en población sin patologías cardiacas:\n",
      "Distribution is not normal, p value: 0.00020238129945937544\n"
     ]
    }
   ],
   "source": [
    "print(\"\\nTest de normalidad para la presión sanguínea en reposo en población con patologías cardiacas:\")\n",
    "testNormality(df_sick[\"trestbps\"])\n",
    "print(\"\\nTest de normalidad para la presión sanguínea en reposo en población sin patologías cardiacas:\")\n",
    "testNormality(df_healthy[\"trestbps\"])"
   ]
  },
  {
   "cell_type": "markdown",
   "id": "5f888005",
   "metadata": {},
   "source": [
    "Como ambas distribuciones no son normales, optamos por hacer el test de Fligner-Killeen para la homocedasticidad."
   ]
  },
  {
   "cell_type": "code",
   "execution_count": 48,
   "id": "7d43141a",
   "metadata": {},
   "outputs": [
    {
     "name": "stdout",
     "output_type": "stream",
     "text": [
      "Test de varianza entre la presión sanguínea en reposo en pacientes con patologías caridacas y sin ellas:\n",
      "Variances equal, p value: 0.32114310607369934\n"
     ]
    }
   ],
   "source": [
    "print(\"Test de varianza entre la presión sanguínea en reposo en pacientes con patologías caridacas y sin ellas:\")\n",
    "testFligner(df_sick[\"trestbps\"], df_healthy[\"trestbps\"])"
   ]
  },
  {
   "cell_type": "markdown",
   "id": "99c2cd07",
   "metadata": {},
   "source": [
    "### `chol`"
   ]
  },
  {
   "cell_type": "code",
   "execution_count": 49,
   "id": "937ec79d",
   "metadata": {},
   "outputs": [
    {
     "name": "stdout",
     "output_type": "stream",
     "text": [
      "\n",
      "Test de normalidad para el colesterol en población con patologías cardiacas:\n",
      "Distribution is normal, p value: 0.10689220577478409\n",
      "\n",
      "Test de normalidad para el colesterol en población sin patologías cardiacas:\n",
      "Distribution is not normal, p value: 0.0006504325428977609\n"
     ]
    }
   ],
   "source": [
    "print(\"\\nTest de normalidad para el colesterol en población con patologías cardiacas:\")\n",
    "testNormality(df_sick[\"chol\"])\n",
    "print(\"\\nTest de normalidad para el colesterol en población sin patologías cardiacas:\")\n",
    "testNormality(df_healthy[\"chol\"])"
   ]
  },
  {
   "cell_type": "markdown",
   "id": "ddca3235",
   "metadata": {},
   "source": [
    "Como una de las distribuciones no es normal, optamos por hacer el test de Fligner-Killeen para la homocedasticidad."
   ]
  },
  {
   "cell_type": "code",
   "execution_count": 50,
   "id": "bdc84dcd",
   "metadata": {},
   "outputs": [
    {
     "name": "stdout",
     "output_type": "stream",
     "text": [
      "Test de varianza entre el colesterol en pacientes con patologías caridacas y sin ellas:\n",
      "Variances equal, p value: 0.7886596720202534\n"
     ]
    }
   ],
   "source": [
    "print(\"Test de varianza entre el colesterol en pacientes con patologías caridacas y sin ellas:\")\n",
    "testFligner(df_sick[\"chol\"], df_healthy[\"chol\"])"
   ]
  },
  {
   "cell_type": "markdown",
   "id": "b2e1baf9",
   "metadata": {},
   "source": [
    "### `thalach`"
   ]
  },
  {
   "cell_type": "code",
   "execution_count": 51,
   "id": "ec943834",
   "metadata": {},
   "outputs": [
    {
     "name": "stdout",
     "output_type": "stream",
     "text": [
      "\n",
      "Test de normalidad para la frecuencia cardiaca máxima en población con patologías cardiacas:\n",
      "Distribution is not normal, p value: 0.024152381345629692\n",
      "\n",
      "Test de normalidad para la frecuencia cardiaca máxima en población sin patologías cardiacas:\n",
      "Distribution is not normal, p value: 2.2021031327312812e-05\n"
     ]
    }
   ],
   "source": [
    "print(\"\\nTest de normalidad para la frecuencia cardiaca máxima en población con patologías cardiacas:\")\n",
    "testNormality(df_sick[\"thalach\"])\n",
    "print(\"\\nTest de normalidad para la frecuencia cardiaca máxima en población sin patologías cardiacas:\")\n",
    "testNormality(df_healthy[\"thalach\"])"
   ]
  },
  {
   "cell_type": "markdown",
   "id": "299b6c57",
   "metadata": {},
   "source": [
    "Como ambas distribuciones no son normales, optamos por hacer el test de Fligner-Killeen para la homocedasticidad."
   ]
  },
  {
   "cell_type": "code",
   "execution_count": 52,
   "id": "6c66b43a",
   "metadata": {},
   "outputs": [
    {
     "name": "stdout",
     "output_type": "stream",
     "text": [
      "Test de varianza entre la frecuencia cardiaca máxima en pacientes con patologías caridacas y sin ellas:\n",
      "Variances equal, p value: 0.07540335575256349\n"
     ]
    }
   ],
   "source": [
    "print(\"Test de varianza entre la frecuencia cardiaca máxima en pacientes con patologías caridacas y sin ellas:\")\n",
    "testFligner(df_sick[\"thalach\"], df_healthy[\"thalach\"])"
   ]
  },
  {
   "cell_type": "markdown",
   "id": "ddcba1b7",
   "metadata": {},
   "source": [
    "### `oldpeak`"
   ]
  },
  {
   "cell_type": "code",
   "execution_count": 53,
   "id": "f76b72ed",
   "metadata": {},
   "outputs": [
    {
     "name": "stdout",
     "output_type": "stream",
     "text": [
      "\n",
      "Test de normalidad para la depresión del ST inducida por el ejercicio en población con patologías cardiacas:\n",
      "Distribution is not normal, p value: 3.473451670288341e-06\n",
      "\n",
      "Test de normalidad para la depresión del ST inducida por el ejercicio en población sin patologías cardiacas:\n",
      "Distribution is not normal, p value: 2.1279836616774905e-13\n"
     ]
    }
   ],
   "source": [
    "print(\"\\nTest de normalidad para la depresión del ST inducida por el ejercicio en población con patologías cardiacas:\")\n",
    "testNormality(df_sick[\"oldpeak\"])\n",
    "print(\"\\nTest de normalidad para la depresión del ST inducida por el ejercicio en población sin patologías cardiacas:\")\n",
    "testNormality(df_healthy[\"oldpeak\"])"
   ]
  },
  {
   "cell_type": "markdown",
   "id": "61c5256e",
   "metadata": {},
   "source": [
    "Como ambas distribuciones no son normales, optamos por hacer el test de Fligner-Killeen para la homocedasticidad."
   ]
  },
  {
   "cell_type": "code",
   "execution_count": 54,
   "id": "ef382895",
   "metadata": {},
   "outputs": [
    {
     "name": "stdout",
     "output_type": "stream",
     "text": [
      "Test de varianza entre la frecuencia cardiaca máxima en pacientes con patologías caridacas y sin ellas:\n",
      "Variances not equal, p value: 0.0002196641112224477\n"
     ]
    }
   ],
   "source": [
    "print(\"Test de varianza entre la frecuencia cardiaca máxima en pacientes con patologías caridacas y sin ellas:\")\n",
    "testFligner(df_sick[\"oldpeak\"], df_healthy[\"oldpeak\"])"
   ]
  },
  {
   "cell_type": "markdown",
   "id": "0718cc68",
   "metadata": {},
   "source": [
    "### `ca`"
   ]
  },
  {
   "cell_type": "code",
   "execution_count": 55,
   "id": "912d9305",
   "metadata": {},
   "outputs": [
    {
     "name": "stdout",
     "output_type": "stream",
     "text": [
      "\n",
      "Test de normalidad para el número de vasos principales en población con patologías cardiacas:\n",
      "Distribution is not normal, p value: 2.0717264015424064e-10\n",
      "\n",
      "Test de normalidad para el número de vasos principales en población sin patologías cardiacas:\n",
      "Distribution is not normal, p value: 2.7069059434691266e-21\n"
     ]
    }
   ],
   "source": [
    "print(\"\\nTest de normalidad para el número de vasos principales en población con patologías cardiacas:\")\n",
    "testNormality(df_sick[\"ca\"])\n",
    "print(\"\\nTest de normalidad para el número de vasos principales en población sin patologías cardiacas:\")\n",
    "testNormality(df_healthy[\"ca\"])"
   ]
  },
  {
   "cell_type": "markdown",
   "id": "8a8ae6c9",
   "metadata": {},
   "source": [
    "Como ambas distribuciones son no normales, optamos por hacer el test de Fligner-Killeen para la homocedasticidad."
   ]
  },
  {
   "cell_type": "code",
   "execution_count": 56,
   "id": "decd5e7e",
   "metadata": {},
   "outputs": [
    {
     "name": "stdout",
     "output_type": "stream",
     "text": [
      "Test de varianza entre el número de vasos principales en pacientes con patologías caridacas y sin ellas:\n",
      "Variances not equal, p value: 6.981563629337983e-11\n"
     ]
    }
   ],
   "source": [
    "print(\"Test de varianza entre el número de vasos principales en pacientes con patologías caridacas y sin ellas:\")\n",
    "testFligner(df_sick[\"ca\"], df_healthy[\"ca\"])"
   ]
  },
  {
   "cell_type": "markdown",
   "id": "2384378d",
   "metadata": {},
   "source": [
    "Como ya hemos comentado, por el tamaño muestral podríamos haber asumido normalidad y optado por el Test Levene en todas ellas. Hemos hecho también dicho test, aunque no lo ponemos aquí por cuestiones de espacio, y la conclusión ha sido en todas ocasiones la misma.\n",
    "\n",
    "Exponemos a continuación la tabla resumen.\n",
    "\n",
    "| **Variable** | **Test de normalidad** (enfermos / sanos) | **Test de igualdad de varianzas** |\n",
    "|---|---|---|\n",
    "| age | Distribución no normal / Distribución normal | Varianzas no iguales |\n",
    "| trestbps | Distribución no normal / Distribución no normal | Varianzas iguales |\n",
    "| chol | Distribución normal / Distribución no normal | Varianzas iguales |\n",
    "| thalach | Distribución no normal / Distribución no normal | Varianzas iguales |\n",
    "| oldpeak | Distribución no normal / Distribución no normal | Varianzas no iguales |\n",
    "| ca | Distribución no normal / Distribución no normal | Varianzas no iguales |"
   ]
  },
  {
   "cell_type": "markdown",
   "id": "03a35b55",
   "metadata": {},
   "source": [
    "## 4.3. Aplicación de pruebas estadísticas para comparar los grupos de datos"
   ]
  },
  {
   "cell_type": "markdown",
   "id": "b605e4ab",
   "metadata": {},
   "source": [
    "Se proponen los siguientes contrastes y pruebas estadísticas como parte del análisis:\n",
    "1. Contraste de hipótesis sobre la independencia entre `cp` y la presencia/ausencia de enfermedad. Para esto se ejecutará una prueba Chi cuadrado.\n",
    "2. Contraste de hipótesis sobre el promedio de colesterol (`chol`): prueba de dos muestras independientes sobre la media con varianza poblacional desconocida e igual.\n",
    "3. Contraste de proporciones de enfermos en hombres y en mujeres."
   ]
  },
  {
   "cell_type": "markdown",
   "id": "40d34480",
   "metadata": {},
   "source": [
    "### Contraste 1"
   ]
  },
  {
   "cell_type": "markdown",
   "id": "bcebeb3f",
   "metadata": {},
   "source": [
    "Ejecutamos el primer contraste:\n",
    "\n",
    "- $H_0$: `cp` y `num` son independientes.\n",
    "- $H_1$: `cp` y `num` mantienen dependencia."
   ]
  },
  {
   "cell_type": "code",
   "execution_count": 57,
   "id": "9559517f",
   "metadata": {},
   "outputs": [
    {
     "name": "stdout",
     "output_type": "stream",
     "text": [
      "chisq-statistic=77.2758, p-value=0.0000, df=3 expected_frep=[[76.4983165  65.5016835 ]\n",
      " [26.3973064  22.6026936 ]\n",
      " [44.71380471 38.28619529]\n",
      " [12.39057239 10.60942761]]\n"
     ]
    }
   ],
   "source": [
    "chiTest = chi2_contingency(np.array(pd.crosstab(index= df[\"cp\"], columns=df[\"num\"])))\n",
    "\n",
    "print('chisq-statistic=%.4f, p-value=%.4f, df=%i expected_frep=%s'%chiTest)"
   ]
  },
  {
   "cell_type": "markdown",
   "id": "f7fb3d66",
   "metadata": {},
   "source": [
    "Al ejecutar la prueba rechamos la $H_0$, se puede concluir desde el punto de vista estadístico que ambas variables mantienen dependencia. "
   ]
  },
  {
   "cell_type": "markdown",
   "id": "d0951e84",
   "metadata": {},
   "source": [
    "### Contraste 2"
   ]
  },
  {
   "cell_type": "markdown",
   "id": "00f9790b",
   "metadata": {},
   "source": [
    "Nuestra meta con este test es contrastar la hipótesis de que el colesterol en enfermos cardiacos es mayor que en personas sin cardiopatías. Para ello, realizaremos un contraste de hipótesis de dos muestra independientes sobre la media con varianzas desconocidas e iguales, como pudimos comprobar en el apartado anterior.\n",
    "\n",
    "En primer lugar, formulamos las hipótesis:\n",
    "\n",
    "$H_0$: La media de `chol` es igual en pacientes enfermos que en sanos.\n",
    "\n",
    "$H_1$: La media de `chol` es mayor en pacientes enfermos que en sanos.\n",
    "\n",
    "Dicho de otro modo:\n",
    "\n",
    "$H_0: \\mu_1 = \\mu_2$ \n",
    "\n",
    "$H_1: \\mu_1 > \\mu_2$ \n",
    "\n",
    "Siendo $\\mu_1$ la media de `chol` en pacientes enfermos y $\\mu_2$, la de pacientes sanos."
   ]
  },
  {
   "cell_type": "code",
   "execution_count": 117,
   "id": "d1c1fe00",
   "metadata": {},
   "outputs": [
    {
     "data": {
      "text/plain": [
       "Ttest_indResult(statistic=2.250632905868273, pvalue=0.01257259703198613)"
      ]
     },
     "execution_count": 117,
     "metadata": {},
     "output_type": "execute_result"
    }
   ],
   "source": [
    "# No hace falta aclarar 'equal_var', ya que 'True' es la opción por default\n",
    "stats.ttest_ind(df_sick[\"chol\"], df_healthy[\"chol\"], \n",
    "                alternative = 'greater')"
   ]
  },
  {
   "cell_type": "markdown",
   "id": "ec0c6248",
   "metadata": {},
   "source": [
    "Suponiendo que queremos hacer el contraste con un 95% de confianza, siendo (*p*-value) 0.0126 < 0.05 (nivel de confianza), rechazaremos la hipótesis nula; es decir, la media de `chol`es mayor en pacientes enfermos que en sanos con un 95% de confianza. Nótese, que para un test del 99% de confianza se aceptaría al hipótesis nula, aunque por poco."
   ]
  },
  {
   "cell_type": "markdown",
   "id": "67a3ed29",
   "metadata": {},
   "source": [
    "### Contraste 3"
   ]
  },
  {
   "cell_type": "markdown",
   "id": "bf81dc80",
   "metadata": {},
   "source": [
    "Calculamos una tabla de doble entrada para saber las frecuencias y totales de ambas distribuciones."
   ]
  },
  {
   "cell_type": "code",
   "execution_count": 59,
   "id": "01a2d9c4",
   "metadata": {},
   "outputs": [
    {
     "data": {
      "text/html": [
       "<div>\n",
       "<style scoped>\n",
       "    .dataframe tbody tr th:only-of-type {\n",
       "        vertical-align: middle;\n",
       "    }\n",
       "\n",
       "    .dataframe tbody tr th {\n",
       "        vertical-align: top;\n",
       "    }\n",
       "\n",
       "    .dataframe thead th {\n",
       "        text-align: right;\n",
       "    }\n",
       "</style>\n",
       "<table border=\"1\" class=\"dataframe\">\n",
       "  <thead>\n",
       "    <tr style=\"text-align: right;\">\n",
       "      <th>num</th>\n",
       "      <th>0</th>\n",
       "      <th>1</th>\n",
       "      <th>All</th>\n",
       "    </tr>\n",
       "    <tr>\n",
       "      <th>sex</th>\n",
       "      <th></th>\n",
       "      <th></th>\n",
       "      <th></th>\n",
       "    </tr>\n",
       "  </thead>\n",
       "  <tbody>\n",
       "    <tr>\n",
       "      <th>Female</th>\n",
       "      <td>71</td>\n",
       "      <td>25</td>\n",
       "      <td>96</td>\n",
       "    </tr>\n",
       "    <tr>\n",
       "      <th>Male</th>\n",
       "      <td>89</td>\n",
       "      <td>112</td>\n",
       "      <td>201</td>\n",
       "    </tr>\n",
       "    <tr>\n",
       "      <th>All</th>\n",
       "      <td>160</td>\n",
       "      <td>137</td>\n",
       "      <td>297</td>\n",
       "    </tr>\n",
       "  </tbody>\n",
       "</table>\n",
       "</div>"
      ],
      "text/plain": [
       "num       0    1  All\n",
       "sex                  \n",
       "Female   71   25   96\n",
       "Male     89  112  201\n",
       "All     160  137  297"
      ]
     },
     "execution_count": 59,
     "metadata": {},
     "output_type": "execute_result"
    }
   ],
   "source": [
    "pd.crosstab(index= df[\"sex\"], columns=df[\"num\"],margins=True)"
   ]
  },
  {
   "cell_type": "markdown",
   "id": "f29fa59a",
   "metadata": {},
   "source": [
    "Definimos las hipótesis del contraste de proporciones:\n",
    "\n",
    "- $H_0: P_1=P_2$\n",
    "- $H_1: P_1\\neq P_2$"
   ]
  },
  {
   "cell_type": "markdown",
   "id": "69481af8",
   "metadata": {},
   "source": [
    "Ejecutamos el contraste de proporciones"
   ]
  },
  {
   "cell_type": "code",
   "execution_count": 60,
   "id": "186b66f0",
   "metadata": {},
   "outputs": [
    {
     "data": {
      "text/plain": [
       "2.653646299396361e-07"
      ]
     },
     "execution_count": 60,
     "metadata": {},
     "output_type": "execute_result"
    }
   ],
   "source": [
    "testProp = test_proportions_2indep(count1=25, nobs1=96, count2=112, \n",
    "                                   nobs2=201, alternative=\"two-sided\")\n",
    "testProp.pvalue"
   ]
  },
  {
   "cell_type": "markdown",
   "id": "6c26f451",
   "metadata": {},
   "source": [
    "El p valor está por debajo de 0.05, por lo tanto rechazamos la hipótesis nula y podemos concluir que las proporciones de enfermos en hombres y mujeres difieren."
   ]
  },
  {
   "cell_type": "markdown",
   "id": "34a66a56",
   "metadata": {},
   "source": [
    "### 4.4.2. Relación entre predictores\n"
   ]
  },
  {
   "cell_type": "markdown",
   "id": "b62905ed",
   "metadata": {},
   "source": [
    "A continuación estudiamos si hay relación entre los predictores, haciendo una matriz de correlaciones."
   ]
  },
  {
   "cell_type": "code",
   "execution_count": 61,
   "id": "e076b663",
   "metadata": {},
   "outputs": [
    {
     "data": {
      "text/html": [
       "<div>\n",
       "<style scoped>\n",
       "    .dataframe tbody tr th:only-of-type {\n",
       "        vertical-align: middle;\n",
       "    }\n",
       "\n",
       "    .dataframe tbody tr th {\n",
       "        vertical-align: top;\n",
       "    }\n",
       "\n",
       "    .dataframe thead th {\n",
       "        text-align: right;\n",
       "    }\n",
       "</style>\n",
       "<table border=\"1\" class=\"dataframe\">\n",
       "  <thead>\n",
       "    <tr style=\"text-align: right;\">\n",
       "      <th></th>\n",
       "      <th>age</th>\n",
       "      <th>trestbps</th>\n",
       "      <th>chol</th>\n",
       "      <th>thalach</th>\n",
       "      <th>ca</th>\n",
       "    </tr>\n",
       "  </thead>\n",
       "  <tbody>\n",
       "    <tr>\n",
       "      <th>age</th>\n",
       "      <td>1.000000</td>\n",
       "      <td>0.276915</td>\n",
       "      <td>0.148061</td>\n",
       "      <td>-0.315545</td>\n",
       "      <td>0.362210</td>\n",
       "    </tr>\n",
       "    <tr>\n",
       "      <th>trestbps</th>\n",
       "      <td>0.276915</td>\n",
       "      <td>1.000000</td>\n",
       "      <td>0.063053</td>\n",
       "      <td>-0.045166</td>\n",
       "      <td>0.099667</td>\n",
       "    </tr>\n",
       "    <tr>\n",
       "      <th>chol</th>\n",
       "      <td>0.148061</td>\n",
       "      <td>0.063053</td>\n",
       "      <td>1.000000</td>\n",
       "      <td>-0.055738</td>\n",
       "      <td>0.150612</td>\n",
       "    </tr>\n",
       "    <tr>\n",
       "      <th>thalach</th>\n",
       "      <td>-0.315545</td>\n",
       "      <td>-0.045166</td>\n",
       "      <td>-0.055738</td>\n",
       "      <td>1.000000</td>\n",
       "      <td>-0.227342</td>\n",
       "    </tr>\n",
       "    <tr>\n",
       "      <th>ca</th>\n",
       "      <td>0.362210</td>\n",
       "      <td>0.099667</td>\n",
       "      <td>0.150612</td>\n",
       "      <td>-0.227342</td>\n",
       "      <td>1.000000</td>\n",
       "    </tr>\n",
       "  </tbody>\n",
       "</table>\n",
       "</div>"
      ],
      "text/plain": [
       "               age  trestbps      chol   thalach        ca\n",
       "age       1.000000  0.276915  0.148061 -0.315545  0.362210\n",
       "trestbps  0.276915  1.000000  0.063053 -0.045166  0.099667\n",
       "chol      0.148061  0.063053  1.000000 -0.055738  0.150612\n",
       "thalach  -0.315545 -0.045166 -0.055738  1.000000 -0.227342\n",
       "ca        0.362210  0.099667  0.150612 -0.227342  1.000000"
      ]
     },
     "execution_count": 61,
     "metadata": {},
     "output_type": "execute_result"
    }
   ],
   "source": [
    "df[[\"age\",\"trestbps\",\"chol\",\"thalach\",\"ca\"]].corr()"
   ]
  },
  {
   "cell_type": "code",
   "execution_count": 62,
   "id": "7e780b2c",
   "metadata": {},
   "outputs": [
    {
     "data": {
      "image/png": "[encoded data removed]",
      "text/plain": [
       "<Figure size 432x288 with 2 Axes>"
      ]
     },
     "metadata": {
      "needs_background": "light"
     },
     "output_type": "display_data"
    }
   ],
   "source": [
    "sns.heatmap(df[[\"age\",\"trestbps\",\"chol\",\"thalach\",\"ca\"]].corr(),\n",
    "            vmin=-1, vmax=1, center=0,\n",
    "            square=True,\n",
    "            annot=True,\n",
    "            fmt=\".1f\")\n",
    "plt.show()"
   ]
  },
  {
   "cell_type": "code",
   "execution_count": 120,
   "id": "4c61f55f",
   "metadata": {},
   "outputs": [
    {
     "data": {
      "text/plain": [
       "<seaborn.axisgrid.PairGrid at 0x7f99b1f12310>"
      ]
     },
     "execution_count": 120,
     "metadata": {},
     "output_type": "execute_result"
    },
    {
     "data": {
      "image/png": "[encoded data removed]",
      "text/plain": [
       "<Figure size 540x360 with 30 Axes>"
      ]
     },
     "metadata": {
      "needs_background": "light"
     },
     "output_type": "display_data"
    }
   ],
   "source": [
    "sns.pairplot(df[[\"age\",\"trestbps\",\"chol\",\"thalach\",\"ca\"]],height=1,aspect=1.5)"
   ]
  },
  {
   "cell_type": "markdown",
   "id": "53dab188",
   "metadata": {},
   "source": [
    "Se concluye que no hay correlaciones elevadas entre las variables predictoras."
   ]
  },
  {
   "cell_type": "markdown",
   "id": "d4264faf",
   "metadata": {},
   "source": [
    "## 4.4. Modelaje Estadístico"
   ]
  },
  {
   "cell_type": "markdown",
   "id": "59c572c4",
   "metadata": {},
   "source": [
    "Agregamos este apartado adicional de modelaje estadístico, dado que finalmente hicimos los tres tests, pero habíamos realizado este ejercicio primero. \n",
    "\n",
    "En primer lugar, realizamos un *one hot encoding* sobre las variables categóricas."
   ]
  },
  {
   "cell_type": "code",
   "execution_count": 64,
   "id": "5a54a782",
   "metadata": {},
   "outputs": [
    {
     "data": {
      "text/html": [
       "<div>\n",
       "<style scoped>\n",
       "    .dataframe tbody tr th:only-of-type {\n",
       "        vertical-align: middle;\n",
       "    }\n",
       "\n",
       "    .dataframe tbody tr th {\n",
       "        vertical-align: top;\n",
       "    }\n",
       "\n",
       "    .dataframe thead th {\n",
       "        text-align: right;\n",
       "    }\n",
       "</style>\n",
       "<table border=\"1\" class=\"dataframe\">\n",
       "  <thead>\n",
       "    <tr style=\"text-align: right;\">\n",
       "      <th></th>\n",
       "      <th>age</th>\n",
       "      <th>trestbps</th>\n",
       "      <th>chol</th>\n",
       "      <th>thalach</th>\n",
       "      <th>oldpeak</th>\n",
       "      <th>ca</th>\n",
       "      <th>num</th>\n",
       "      <th>sex_Male</th>\n",
       "      <th>cp_atypical angina</th>\n",
       "      <th>cp_non-anginal pain</th>\n",
       "      <th>cp_typical angina</th>\n",
       "      <th>fbs_fastingBloodSugar_true</th>\n",
       "      <th>restecg_Normal</th>\n",
       "      <th>restecg_ST-T wave abnormality</th>\n",
       "      <th>exang_Yes Angina</th>\n",
       "      <th>slope_flat</th>\n",
       "      <th>slope_upsloping</th>\n",
       "      <th>thal_normal</th>\n",
       "      <th>thal_reversable defect</th>\n",
       "    </tr>\n",
       "  </thead>\n",
       "  <tbody>\n",
       "    <tr>\n",
       "      <th>112</th>\n",
       "      <td>52.0</td>\n",
       "      <td>118.0</td>\n",
       "      <td>186.0</td>\n",
       "      <td>153.0</td>\n",
       "      <td>0.0</td>\n",
       "      <td>0.0</td>\n",
       "      <td>0</td>\n",
       "      <td>1</td>\n",
       "      <td>0</td>\n",
       "      <td>0</td>\n",
       "      <td>1</td>\n",
       "      <td>0</td>\n",
       "      <td>0</td>\n",
       "      <td>0</td>\n",
       "      <td>0</td>\n",
       "      <td>1</td>\n",
       "      <td>0</td>\n",
       "      <td>0</td>\n",
       "      <td>0</td>\n",
       "    </tr>\n",
       "    <tr>\n",
       "      <th>196</th>\n",
       "      <td>69.0</td>\n",
       "      <td>160.0</td>\n",
       "      <td>234.0</td>\n",
       "      <td>131.0</td>\n",
       "      <td>0.1</td>\n",
       "      <td>1.0</td>\n",
       "      <td>0</td>\n",
       "      <td>1</td>\n",
       "      <td>0</td>\n",
       "      <td>0</td>\n",
       "      <td>1</td>\n",
       "      <td>1</td>\n",
       "      <td>0</td>\n",
       "      <td>0</td>\n",
       "      <td>0</td>\n",
       "      <td>1</td>\n",
       "      <td>0</td>\n",
       "      <td>1</td>\n",
       "      <td>0</td>\n",
       "    </tr>\n",
       "  </tbody>\n",
       "</table>\n",
       "</div>"
      ],
      "text/plain": [
       "      age  trestbps   chol  thalach  oldpeak   ca  num  sex_Male  \\\n",
       "112  52.0     118.0  186.0    153.0      0.0  0.0    0         1   \n",
       "196  69.0     160.0  234.0    131.0      0.1  1.0    0         1   \n",
       "\n",
       "     cp_atypical angina  cp_non-anginal pain  cp_typical angina  \\\n",
       "112                   0                    0                  1   \n",
       "196                   0                    0                  1   \n",
       "\n",
       "     fbs_fastingBloodSugar_true  restecg_Normal  \\\n",
       "112                           0               0   \n",
       "196                           1               0   \n",
       "\n",
       "     restecg_ST-T wave abnormality  exang_Yes Angina  slope_flat  \\\n",
       "112                              0                 0           1   \n",
       "196                              0                 0           1   \n",
       "\n",
       "     slope_upsloping  thal_normal  thal_reversable defect  \n",
       "112                0            0                       0  \n",
       "196                0            1                       0  "
      ]
     },
     "execution_count": 64,
     "metadata": {},
     "output_type": "execute_result"
    }
   ],
   "source": [
    "df = pd.get_dummies(df, prefix='sex', columns=[\"sex\"], drop_first=True)\n",
    "df = pd.get_dummies(df, prefix='cp', columns=[\"cp\"], drop_first=True)\n",
    "df = pd.get_dummies(df, prefix='fbs', columns=[\"fbs\"], drop_first=True)\n",
    "df = pd.get_dummies(df, prefix='restecg', columns=[\"restecg\"], drop_first=True)\n",
    "df = pd.get_dummies(df, prefix='exang', columns=[\"exang\"], drop_first=True)\n",
    "df = pd.get_dummies(df, prefix='slope', columns=[\"slope\"], drop_first=True)\n",
    "df = pd.get_dummies(df, prefix='thal', columns=[\"thal\"], drop_first=True)\n",
    "\n",
    "df.sample(2)"
   ]
  },
  {
   "cell_type": "code",
   "execution_count": 65,
   "id": "3e37d263",
   "metadata": {},
   "outputs": [
    {
     "data": {
      "text/plain": [
       "(297, 19)"
      ]
     },
     "execution_count": 65,
     "metadata": {},
     "output_type": "execute_result"
    }
   ],
   "source": [
    "df.shape"
   ]
  },
  {
   "cell_type": "markdown",
   "id": "237149aa",
   "metadata": {},
   "source": [
    "Elegimos probar 2 clasificadores:"
   ]
  },
  {
   "cell_type": "code",
   "execution_count": 66,
   "id": "39185442",
   "metadata": {},
   "outputs": [],
   "source": [
    "logistcRegresion = LogisticRegression()\n",
    "decisionTree = DecisionTreeClassifier()"
   ]
  },
  {
   "cell_type": "markdown",
   "id": "348f30bb",
   "metadata": {},
   "source": [
    "Definimos estos parámetros para hacer *grid search*."
   ]
  },
  {
   "cell_type": "code",
   "execution_count": 67,
   "id": "31057305",
   "metadata": {},
   "outputs": [],
   "source": [
    "############### LR\n",
    "logistcRegresion_params = {'C': [0.01,0.1,1,10,100,1000]}\n",
    "############### DT\n",
    "decisionTree_params = {\"criterion\":[\"gini\",\"entropy\"],\"max_depth\":[5,10,20]}"
   ]
  },
  {
   "cell_type": "markdown",
   "id": "add77934",
   "metadata": {},
   "source": [
    "Separamos en `X` e `Y`."
   ]
  },
  {
   "cell_type": "code",
   "execution_count": 68,
   "id": "bff27850",
   "metadata": {},
   "outputs": [],
   "source": [
    "X = df.loc[:, df.columns != 'num']\n",
    "y = list(df[\"num\"])"
   ]
  },
  {
   "cell_type": "code",
   "execution_count": 69,
   "id": "f9d51784",
   "metadata": {},
   "outputs": [
    {
     "data": {
      "text/html": [
       "<div>\n",
       "<style scoped>\n",
       "    .dataframe tbody tr th:only-of-type {\n",
       "        vertical-align: middle;\n",
       "    }\n",
       "\n",
       "    .dataframe tbody tr th {\n",
       "        vertical-align: top;\n",
       "    }\n",
       "\n",
       "    .dataframe thead th {\n",
       "        text-align: right;\n",
       "    }\n",
       "</style>\n",
       "<table border=\"1\" class=\"dataframe\">\n",
       "  <thead>\n",
       "    <tr style=\"text-align: right;\">\n",
       "      <th></th>\n",
       "      <th>age</th>\n",
       "      <th>trestbps</th>\n",
       "      <th>chol</th>\n",
       "      <th>thalach</th>\n",
       "      <th>oldpeak</th>\n",
       "      <th>ca</th>\n",
       "      <th>sex_Male</th>\n",
       "      <th>cp_atypical angina</th>\n",
       "      <th>cp_non-anginal pain</th>\n",
       "      <th>cp_typical angina</th>\n",
       "      <th>fbs_fastingBloodSugar_true</th>\n",
       "      <th>restecg_Normal</th>\n",
       "      <th>restecg_ST-T wave abnormality</th>\n",
       "      <th>exang_Yes Angina</th>\n",
       "      <th>slope_flat</th>\n",
       "      <th>slope_upsloping</th>\n",
       "      <th>thal_normal</th>\n",
       "      <th>thal_reversable defect</th>\n",
       "    </tr>\n",
       "  </thead>\n",
       "  <tbody>\n",
       "    <tr>\n",
       "      <th>0</th>\n",
       "      <td>63.0</td>\n",
       "      <td>145.0</td>\n",
       "      <td>233.0</td>\n",
       "      <td>150.0</td>\n",
       "      <td>2.3</td>\n",
       "      <td>0.0</td>\n",
       "      <td>1</td>\n",
       "      <td>0</td>\n",
       "      <td>0</td>\n",
       "      <td>1</td>\n",
       "      <td>1</td>\n",
       "      <td>0</td>\n",
       "      <td>0</td>\n",
       "      <td>0</td>\n",
       "      <td>0</td>\n",
       "      <td>0</td>\n",
       "      <td>0</td>\n",
       "      <td>0</td>\n",
       "    </tr>\n",
       "    <tr>\n",
       "      <th>1</th>\n",
       "      <td>67.0</td>\n",
       "      <td>160.0</td>\n",
       "      <td>286.0</td>\n",
       "      <td>108.0</td>\n",
       "      <td>1.5</td>\n",
       "      <td>3.0</td>\n",
       "      <td>1</td>\n",
       "      <td>0</td>\n",
       "      <td>0</td>\n",
       "      <td>0</td>\n",
       "      <td>0</td>\n",
       "      <td>0</td>\n",
       "      <td>0</td>\n",
       "      <td>1</td>\n",
       "      <td>1</td>\n",
       "      <td>0</td>\n",
       "      <td>1</td>\n",
       "      <td>0</td>\n",
       "    </tr>\n",
       "  </tbody>\n",
       "</table>\n",
       "</div>"
      ],
      "text/plain": [
       "    age  trestbps   chol  thalach  oldpeak   ca  sex_Male  cp_atypical angina  \\\n",
       "0  63.0     145.0  233.0    150.0      2.3  0.0         1                   0   \n",
       "1  67.0     160.0  286.0    108.0      1.5  3.0         1                   0   \n",
       "\n",
       "   cp_non-anginal pain  cp_typical angina  fbs_fastingBloodSugar_true  \\\n",
       "0                    0                  1                           1   \n",
       "1                    0                  0                           0   \n",
       "\n",
       "   restecg_Normal  restecg_ST-T wave abnormality  exang_Yes Angina  \\\n",
       "0               0                              0                 0   \n",
       "1               0                              0                 1   \n",
       "\n",
       "   slope_flat  slope_upsloping  thal_normal  thal_reversable defect  \n",
       "0           0                0            0                       0  \n",
       "1           1                0            1                       0  "
      ]
     },
     "execution_count": 69,
     "metadata": {},
     "output_type": "execute_result"
    }
   ],
   "source": [
    "X.head(2)"
   ]
  },
  {
   "cell_type": "code",
   "execution_count": 70,
   "id": "37446bd8",
   "metadata": {},
   "outputs": [
    {
     "data": {
      "text/plain": [
       "[0, 1, 1]"
      ]
     },
     "execution_count": 70,
     "metadata": {},
     "output_type": "execute_result"
    }
   ],
   "source": [
    "y[0:3]"
   ]
  },
  {
   "cell_type": "markdown",
   "id": "6ea91223",
   "metadata": {},
   "source": [
    "Escalamos todas las variables para que se encuentren en la misma escala de medición y evitar que unas tengan un mayor peso en las predicciones."
   ]
  },
  {
   "cell_type": "code",
   "execution_count": 71,
   "id": "3bdeded6",
   "metadata": {},
   "outputs": [],
   "source": [
    "scaler = MinMaxScaler()\n",
    "X_scaled = scaler.fit_transform(X)"
   ]
  },
  {
   "cell_type": "markdown",
   "id": "993fa600",
   "metadata": {},
   "source": [
    "Realizamos un *grid search* para el algoritmo de regresión logística y nos quedamos con el modelo mayor *performance*."
   ]
  },
  {
   "cell_type": "code",
   "execution_count": 72,
   "id": "a93ad83a",
   "metadata": {},
   "outputs": [
    {
     "data": {
      "text/plain": [
       "['models/bestModeloRegressionLogistc.joblib']"
      ]
     },
     "execution_count": 72,
     "metadata": {},
     "output_type": "execute_result"
    }
   ],
   "source": [
    "model_GS_logisticRegression = GridSearchCV(estimator=logistcRegresion,\n",
    "                                           param_grid=logistcRegresion_params, \n",
    "                                           scoring = ['accuracy', 'f1','roc_auc'],\n",
    "                                           n_jobs=-1,cv=5,verbose=False,refit='f1')\n",
    "model_GS_logisticRegression.fit(X_scaled,y)\n",
    "estimator = model_GS_logisticRegression.best_estimator_\n",
    "\n",
    "dump(estimator, str(\"models/\" + \"bestModeloRegressionLogistc\" + \".joblib\"))"
   ]
  },
  {
   "cell_type": "code",
   "execution_count": 73,
   "id": "445327d4",
   "metadata": {},
   "outputs": [],
   "source": [
    "resultsRegressionLogistic = pd.DataFrame(model_GS_logisticRegression.cv_results_)\n",
    "resultsRegressionLogistic = resultsRegressionLogistic[[\"mean_fit_time\", \n",
    "                                                       \"params\",\"mean_test_accuracy\",\"std_test_accuracy\",\n",
    "                                                       \"mean_test_f1\",\"std_test_f1\",\"mean_test_roc_auc\",\"std_test_roc_auc\"]]"
   ]
  },
  {
   "cell_type": "code",
   "execution_count": 74,
   "id": "27bd8002",
   "metadata": {},
   "outputs": [
    {
     "data": {
      "text/html": [
       "<div>\n",
       "<style scoped>\n",
       "    .dataframe tbody tr th:only-of-type {\n",
       "        vertical-align: middle;\n",
       "    }\n",
       "\n",
       "    .dataframe tbody tr th {\n",
       "        vertical-align: top;\n",
       "    }\n",
       "\n",
       "    .dataframe thead th {\n",
       "        text-align: right;\n",
       "    }\n",
       "</style>\n",
       "<table border=\"1\" class=\"dataframe\">\n",
       "  <thead>\n",
       "    <tr style=\"text-align: right;\">\n",
       "      <th></th>\n",
       "      <th>mean_fit_time</th>\n",
       "      <th>params</th>\n",
       "      <th>mean_test_accuracy</th>\n",
       "      <th>std_test_accuracy</th>\n",
       "      <th>mean_test_f1</th>\n",
       "      <th>std_test_f1</th>\n",
       "      <th>mean_test_roc_auc</th>\n",
       "      <th>std_test_roc_auc</th>\n",
       "    </tr>\n",
       "  </thead>\n",
       "  <tbody>\n",
       "    <tr>\n",
       "      <th>0</th>\n",
       "      <td>0.003752</td>\n",
       "      <td>{'C': 0.01}</td>\n",
       "      <td>0.801073</td>\n",
       "      <td>0.037240</td>\n",
       "      <td>0.761005</td>\n",
       "      <td>0.057424</td>\n",
       "      <td>0.891725</td>\n",
       "      <td>0.029193</td>\n",
       "    </tr>\n",
       "    <tr>\n",
       "      <th>1</th>\n",
       "      <td>0.003791</td>\n",
       "      <td>{'C': 0.1}</td>\n",
       "      <td>0.818079</td>\n",
       "      <td>0.027437</td>\n",
       "      <td>0.793938</td>\n",
       "      <td>0.035192</td>\n",
       "      <td>0.900976</td>\n",
       "      <td>0.021008</td>\n",
       "    </tr>\n",
       "  </tbody>\n",
       "</table>\n",
       "</div>"
      ],
      "text/plain": [
       "   mean_fit_time       params  mean_test_accuracy  std_test_accuracy  \\\n",
       "0       0.003752  {'C': 0.01}            0.801073           0.037240   \n",
       "1       0.003791   {'C': 0.1}            0.818079           0.027437   \n",
       "\n",
       "   mean_test_f1  std_test_f1  mean_test_roc_auc  std_test_roc_auc  \n",
       "0      0.761005     0.057424           0.891725          0.029193  \n",
       "1      0.793938     0.035192           0.900976          0.021008  "
      ]
     },
     "execution_count": 74,
     "metadata": {},
     "output_type": "execute_result"
    }
   ],
   "source": [
    "resultsRegressionLogistic.head(2)"
   ]
  },
  {
   "cell_type": "markdown",
   "id": "accf2730",
   "metadata": {},
   "source": [
    "Realizamos el mismo procedimiento para el árbol de decisión."
   ]
  },
  {
   "cell_type": "code",
   "execution_count": 75,
   "id": "244116d0",
   "metadata": {},
   "outputs": [
    {
     "data": {
      "text/html": [
       "<div>\n",
       "<style scoped>\n",
       "    .dataframe tbody tr th:only-of-type {\n",
       "        vertical-align: middle;\n",
       "    }\n",
       "\n",
       "    .dataframe tbody tr th {\n",
       "        vertical-align: top;\n",
       "    }\n",
       "\n",
       "    .dataframe thead th {\n",
       "        text-align: right;\n",
       "    }\n",
       "</style>\n",
       "<table border=\"1\" class=\"dataframe\">\n",
       "  <thead>\n",
       "    <tr style=\"text-align: right;\">\n",
       "      <th></th>\n",
       "      <th>mean_fit_time</th>\n",
       "      <th>params</th>\n",
       "      <th>mean_test_accuracy</th>\n",
       "      <th>std_test_accuracy</th>\n",
       "      <th>mean_test_f1</th>\n",
       "      <th>std_test_f1</th>\n",
       "      <th>mean_test_roc_auc</th>\n",
       "      <th>std_test_roc_auc</th>\n",
       "    </tr>\n",
       "  </thead>\n",
       "  <tbody>\n",
       "    <tr>\n",
       "      <th>0</th>\n",
       "      <td>0.002105</td>\n",
       "      <td>{'criterion': 'gini', 'max_depth': 5}</td>\n",
       "      <td>0.760791</td>\n",
       "      <td>0.028189</td>\n",
       "      <td>0.727658</td>\n",
       "      <td>0.030945</td>\n",
       "      <td>0.760669</td>\n",
       "      <td>0.031160</td>\n",
       "    </tr>\n",
       "    <tr>\n",
       "      <th>1</th>\n",
       "      <td>0.001349</td>\n",
       "      <td>{'criterion': 'gini', 'max_depth': 10}</td>\n",
       "      <td>0.730452</td>\n",
       "      <td>0.054398</td>\n",
       "      <td>0.699221</td>\n",
       "      <td>0.070181</td>\n",
       "      <td>0.727100</td>\n",
       "      <td>0.055892</td>\n",
       "    </tr>\n",
       "  </tbody>\n",
       "</table>\n",
       "</div>"
      ],
      "text/plain": [
       "   mean_fit_time                                  params  mean_test_accuracy  \\\n",
       "0       0.002105   {'criterion': 'gini', 'max_depth': 5}            0.760791   \n",
       "1       0.001349  {'criterion': 'gini', 'max_depth': 10}            0.730452   \n",
       "\n",
       "   std_test_accuracy  mean_test_f1  std_test_f1  mean_test_roc_auc  \\\n",
       "0           0.028189      0.727658     0.030945           0.760669   \n",
       "1           0.054398      0.699221     0.070181           0.727100   \n",
       "\n",
       "   std_test_roc_auc  \n",
       "0          0.031160  \n",
       "1          0.055892  "
      ]
     },
     "execution_count": 75,
     "metadata": {},
     "output_type": "execute_result"
    }
   ],
   "source": [
    "model_GS_decisionTree = GridSearchCV(estimator=decisionTree,\n",
    "                                           param_grid=decisionTree_params, \n",
    "                                           scoring = ['accuracy', 'f1','roc_auc'],\n",
    "                                           n_jobs=-1,cv=5,verbose=False,refit='f1')\n",
    "        \n",
    "model_GS_decisionTree.fit(X_scaled,y)\n",
    "estimator_dt = model_GS_decisionTree.best_estimator_\n",
    "\n",
    "dump(estimator_dt, str(\"models/\" + \"bestModeloDecisionTree\" + \".joblib\"))\n",
    "\n",
    "results_dt = pd.DataFrame(model_GS_decisionTree.cv_results_)\n",
    "results_dt = results_dt[[\"mean_fit_time\",\"params\",\"mean_test_accuracy\",\n",
    "                         \"std_test_accuracy\",\"mean_test_f1\",\"std_test_f1\",\"mean_test_roc_auc\",\"std_test_roc_auc\"]]\n",
    "results_dt.head(2)"
   ]
  },
  {
   "cell_type": "markdown",
   "id": "6be41c32",
   "metadata": {},
   "source": [
    "Concatenamos todos los resultados de los *grid search* para su análisis."
   ]
  },
  {
   "cell_type": "code",
   "execution_count": 76,
   "id": "3aa2a54e",
   "metadata": {},
   "outputs": [],
   "source": [
    "resultsRegressionLogistic[\"Model\"] = \"Regresion Logistica\"\n",
    "results_dt[\"Model\"] = \"Decision Tree\"\n",
    "results = pd.concat([resultsRegressionLogistic, results_dt])\n",
    "results.to_csv(\"resultsModels.csv\", index=False, sep=\"|\")"
   ]
  },
  {
   "cell_type": "code",
   "execution_count": 77,
   "id": "82cf56a0",
   "metadata": {},
   "outputs": [
    {
     "data": {
      "text/html": [
       "<div>\n",
       "<style scoped>\n",
       "    .dataframe tbody tr th:only-of-type {\n",
       "        vertical-align: middle;\n",
       "    }\n",
       "\n",
       "    .dataframe tbody tr th {\n",
       "        vertical-align: top;\n",
       "    }\n",
       "\n",
       "    .dataframe thead th {\n",
       "        text-align: right;\n",
       "    }\n",
       "</style>\n",
       "<table border=\"1\" class=\"dataframe\">\n",
       "  <thead>\n",
       "    <tr style=\"text-align: right;\">\n",
       "      <th></th>\n",
       "      <th>mean_fit_time</th>\n",
       "    </tr>\n",
       "    <tr>\n",
       "      <th>Model</th>\n",
       "      <th></th>\n",
       "    </tr>\n",
       "  </thead>\n",
       "  <tbody>\n",
       "    <tr>\n",
       "      <th>Decision Tree</th>\n",
       "      <td>0.001489</td>\n",
       "    </tr>\n",
       "    <tr>\n",
       "      <th>Regresion Logistica</th>\n",
       "      <td>0.006709</td>\n",
       "    </tr>\n",
       "  </tbody>\n",
       "</table>\n",
       "</div>"
      ],
      "text/plain": [
       "                     mean_fit_time\n",
       "Model                             \n",
       "Decision Tree             0.001489\n",
       "Regresion Logistica       0.006709"
      ]
     },
     "execution_count": 77,
     "metadata": {},
     "output_type": "execute_result"
    }
   ],
   "source": [
    "results[[\"Model\",\"mean_fit_time\"]].groupby(\"Model\").mean()"
   ]
  },
  {
   "cell_type": "markdown",
   "id": "09a5f29c",
   "metadata": {},
   "source": [
    "El algoritmo que en promedio tarda más en entrenar es la regresión logística."
   ]
  },
  {
   "cell_type": "code",
   "execution_count": 78,
   "id": "d5c91d31",
   "metadata": {},
   "outputs": [
    {
     "data": {
      "text/html": [
       "<div>\n",
       "<style scoped>\n",
       "    .dataframe tbody tr th:only-of-type {\n",
       "        vertical-align: middle;\n",
       "    }\n",
       "\n",
       "    .dataframe tbody tr th {\n",
       "        vertical-align: top;\n",
       "    }\n",
       "\n",
       "    .dataframe thead th {\n",
       "        text-align: right;\n",
       "    }\n",
       "</style>\n",
       "<table border=\"1\" class=\"dataframe\">\n",
       "  <thead>\n",
       "    <tr style=\"text-align: right;\">\n",
       "      <th></th>\n",
       "      <th>mean_test_accuracy</th>\n",
       "      <th>mean_test_f1</th>\n",
       "      <th>mean_test_roc_auc</th>\n",
       "    </tr>\n",
       "    <tr>\n",
       "      <th>Model</th>\n",
       "      <th></th>\n",
       "      <th></th>\n",
       "      <th></th>\n",
       "    </tr>\n",
       "  </thead>\n",
       "  <tbody>\n",
       "    <tr>\n",
       "      <th>Decision Tree</th>\n",
       "      <td>0.748456</td>\n",
       "      <td>0.722203</td>\n",
       "      <td>0.751305</td>\n",
       "    </tr>\n",
       "    <tr>\n",
       "      <th>Regresion Logistica</th>\n",
       "      <td>0.822448</td>\n",
       "      <td>0.796377</td>\n",
       "      <td>0.904690</td>\n",
       "    </tr>\n",
       "  </tbody>\n",
       "</table>\n",
       "</div>"
      ],
      "text/plain": [
       "                     mean_test_accuracy  mean_test_f1  mean_test_roc_auc\n",
       "Model                                                                   \n",
       "Decision Tree                  0.748456      0.722203           0.751305\n",
       "Regresion Logistica            0.822448      0.796377           0.904690"
      ]
     },
     "execution_count": 78,
     "metadata": {},
     "output_type": "execute_result"
    }
   ],
   "source": [
    "results[[\"Model\",\"mean_test_accuracy\",\"mean_test_f1\",\"mean_test_roc_auc\"]].groupby(\"Model\").mean()"
   ]
  },
  {
   "cell_type": "markdown",
   "id": "bf3d9b95",
   "metadata": {},
   "source": [
    "Cargamos los modelos de mayor performance y realizamos una validación final."
   ]
  },
  {
   "cell_type": "code",
   "execution_count": 258,
   "id": "8726060c",
   "metadata": {},
   "outputs": [],
   "source": [
    "model_RL = load(\"models/bestModeloRegressionLogistc.joblib\")\n",
    "model_DT = load(\"models/bestModeloDecisionTree.joblib\")"
   ]
  },
  {
   "cell_type": "code",
   "execution_count": 80,
   "id": "0ebd2cf9",
   "metadata": {},
   "outputs": [
    {
     "name": "stdout",
     "output_type": "stream",
     "text": [
      "              precision    recall  f1-score   support\n",
      "\n",
      "           0       0.85      0.90      0.88       160\n",
      "           1       0.88      0.82      0.85       137\n",
      "\n",
      "    accuracy                           0.86       297\n",
      "   macro avg       0.86      0.86      0.86       297\n",
      "weighted avg       0.86      0.86      0.86       297\n",
      "\n"
     ]
    }
   ],
   "source": [
    "y_pred_RL = model_RL.predict(X_scaled)\n",
    "print(classification_report(y, y_pred_RL))"
   ]
  },
  {
   "cell_type": "code",
   "execution_count": 81,
   "id": "e3b73881",
   "metadata": {},
   "outputs": [
    {
     "name": "stdout",
     "output_type": "stream",
     "text": [
      "              precision    recall  f1-score   support\n",
      "\n",
      "           0       0.89      0.94      0.92       160\n",
      "           1       0.93      0.86      0.89       137\n",
      "\n",
      "    accuracy                           0.91       297\n",
      "   macro avg       0.91      0.90      0.90       297\n",
      "weighted avg       0.91      0.91      0.91       297\n",
      "\n"
     ]
    }
   ],
   "source": [
    "y_pred_DT = model_DT.predict(X_scaled)\n",
    "print(classification_report(y, y_pred_DT))"
   ]
  },
  {
   "cell_type": "code",
   "execution_count": 82,
   "id": "3df1e074",
   "metadata": {},
   "outputs": [
    {
     "name": "stdout",
     "output_type": "stream",
     "text": [
      "Regresion Logistica: ROC AUC = 0.927\n",
      "Decision Tree: ROC AUC = 0.971\n"
     ]
    },
    {
     "data": {
      "text/plain": [
       "<matplotlib.legend.Legend at 0x7f9990292a00>"
      ]
     },
     "execution_count": 82,
     "metadata": {},
     "output_type": "execute_result"
    },
    {
     "data": {
      "image/png": "[encoded data removed]",
      "text/plain": [
       "<Figure size 432x288 with 1 Axes>"
      ]
     },
     "metadata": {
      "needs_background": "light"
     },
     "output_type": "display_data"
    }
   ],
   "source": [
    "ns_probs = [0 for _ in range(len(y))]\n",
    "RL_props = model_RL.predict_proba(X_scaled)\n",
    "RL_props = RL_props[:, 1]\n",
    "DT_props = model_DT.predict_proba(X_scaled)\n",
    "DT_props = DT_props[:, 1]\n",
    "ns_auc = roc_auc_score(y, ns_probs)\n",
    "RL_auc = roc_auc_score(y, RL_props)\n",
    "DT_auc = roc_auc_score(y, DT_props)\n",
    "\n",
    "print('Regresion Logistica: ROC AUC = %.3f' % (RL_auc))\n",
    "print('Decision Tree: ROC AUC = %.3f' % (DT_auc))\n",
    "\n",
    "ns_fpr, ns_tpr, _ = roc_curve(y, ns_probs)\n",
    "rL_fpr, rL_tpr, _ = roc_curve(y, RL_props)\n",
    "dt_fpr, dt_tpr, _ = roc_curve(y, DT_props)\n",
    "\n",
    "plt.plot(ns_fpr, ns_tpr, linestyle='--')\n",
    "plt.plot(rL_fpr, rL_tpr, marker='.', label='Regresion Logistica')\n",
    "plt.plot(dt_fpr, dt_tpr, marker='.', label='Decision Tree')\n",
    "\n",
    "plt.xlabel('Tasa de Falsos Positivos')\n",
    "plt.ylabel('Tasa de Verdaderos Positivos')\n",
    "plt.legend()"
   ]
  },
  {
   "cell_type": "code",
   "execution_count": 259,
   "id": "817099d8",
   "metadata": {},
   "outputs": [
    {
     "name": "stdout",
     "output_type": "stream",
     "text": [
      "Feature 0: age, Score: 0.35696\n",
      "Feature 1: trestbps, Score: 0.30389\n",
      "Feature 2: chol, Score: 0.80464\n",
      "Feature 3: thalach, Score: -0.31117\n",
      "Feature 4: oldpeak, Score: 0.79667\n",
      "Feature 5: ca, Score: 2.43073\n",
      "Feature 6: sex_Male, Score: 1.00730\n",
      "Feature 7: cp_atypical angina, Score: -0.09788\n",
      "Feature 8: cp_non-anginal pain, Score: 0.37162\n",
      "Feature 9: cp_typical angina, Score: 1.45197\n",
      "Feature 10: fbs_fastingBloodSugar_true, Score: -0.32109\n",
      "Feature 11: restecg_Normal, Score: -0.46580\n",
      "Feature 12: restecg_ST-T wave abnormality, Score: 0.18057\n",
      "Feature 13: exang_Yes Angina, Score: -0.71493\n",
      "Feature 14: slope_flat, Score: 0.40068\n",
      "Feature 15: slope_upsloping, Score: -0.65211\n",
      "Feature 16: thal_normal, Score: -0.54407\n",
      "Feature 17: thal_reversable defect, Score: 0.91161\n"
     ]
    },
    {
     "data": {
      "image/png": "[encoded data removed]",
      "text/plain": [
       "<Figure size 432x288 with 1 Axes>"
      ]
     },
     "metadata": {
      "needs_background": "light"
     },
     "output_type": "display_data"
    }
   ],
   "source": [
    "for i,v,o in zip(importance, list(range(0,len(X.columns))) ,list(X.columns)):\n",
    "    print('Feature {}: {}, Score: %.5f'.format(v,o) % (i))\n",
    "plt.bar([x for x in range(len(importance))], importance,)\n",
    "plt.xlim([0, 18])\n",
    "plt.show()"
   ]
  },
  {
   "cell_type": "markdown",
   "id": "1c615a43",
   "metadata": {},
   "source": [
    "# 5. Representación gráfica\n",
    "Este punto ha sido resuelto a lo largo de la práctica."
   ]
  },
  {
   "cell_type": "markdown",
   "id": "1c7ea8f6",
   "metadata": {},
   "source": [
    "# 6. Resolución del problema\n",
    "**A partir de los resultados obtenidos, ¿cuáles son las conclusiones? ¿Los resultados permiten responder al problema?**"
   ]
  },
  {
   "cell_type": "markdown",
   "id": "fcbde7c9",
   "metadata": {},
   "source": [
    "# 7. Código\n",
    "El código se ha ido viendo a lo largo de la práctica. Se encuentra recopilado en formato .py en el repositorio Git creado bajo el nombre de xxxNOMBRExxx."
   ]
  },
  {
   "cell_type": "markdown",
   "id": "ee52a2aa",
   "metadata": {},
   "source": [
    "# 8. Vídeo\n",
    "**Realizar un breve vídeo explicativo de la práctica (máximo 10 minutos), donde ambos integrantes del equipo expliquen con sus propias palabras el desarrollo de la práctica, basándose en las preguntas del enunciado para justificar y explicar el código desarrollado. Este vídeo se deberá entregar a través de un enlace al Google Drive de la UOC (https://drive.google.com/...), junto con enlace al repositorio Git entregado.**"
   ]
  },
  {
   "cell_type": "markdown",
   "id": "5f6d082f",
   "metadata": {},
   "source": [
    "# Contribuciones"
   ]
  },
  {
   "cell_type": "code",
   "execution_count": null,
   "id": "c67a88d6",
   "metadata": {},
   "outputs": [],
   "source": [
    "contribuciones = pd.DataFrame()\n",
    "contribuciones['Contribuciones'] = ['Investigación previa', 'Redacción de las respuestas', 'Desarrollo del código', 'Participación en el vídeo']\n",
    "contribuciones['Firma'] = ['Víctor H. Ayala, Clara Roca', 'Víctor H. Ayala, Clara Roca', 'Víctor H. Ayala, Clara Roca', 'Víctor H. Ayala, Clara Roca']\n",
    "contribuciones"
   ]
  },
  {
   "cell_type": "markdown",
   "id": "875efc0b",
   "metadata": {},
   "source": [
    "***"
   ]
  }
 ],
 "metadata": {
  "kernelspec": {
   "display_name": "Python 3",
   "language": "python",
   "name": "python3"
  },
  "language_info": {
   "codemirror_mode": {
    "name": "ipython",
    "version": 3
   },
   "file_extension": ".py",
   "mimetype": "text/x-python",
   "name": "python",
   "nbconvert_exporter": "python",
   "pygments_lexer": "ipython3",
   "version": "3.8.8"
  }
 },
 "nbformat": 4,
 "nbformat_minor": 5
}
