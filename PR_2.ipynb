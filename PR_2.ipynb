{
 "cells": [
  {
   "cell_type": "markdown",
   "id": "58f84701",
   "metadata": {},
   "source": [
    "#### Práctica 2: Tipología y ciclo de vida de los datos\n",
    "# Análisis sobre enfermedades cardiacas\n",
    "#### Autores: \n",
    "- Víctor H. Ayala Sánchez  \n",
    "- Clara M. Roca de la Concha"
   ]
  },
  {
   "cell_type": "markdown",
   "id": "bf8e5426",
   "metadata": {},
   "source": [
    "https://archive.ics.uci.edu/ml/datasets/heart+disease"
   ]
  },
  {
   "cell_type": "markdown",
   "id": "1cedf1ef",
   "metadata": {},
   "source": [
    "# Tabla de contenidos\n",
    "\n",
    "- 1. [Descripción del dataset](#1.-Descripción-del-dataset)\n",
    "- 2. [Integración y selección de los datos de interés a analizar](#2.-Integración-y-selección-de-los-datos-de-interés-a-analizar)\n",
    "- 3. [Limpieza de los datos](#3.-Limpieza-de-los-datos)\n",
    "    - 3.1. [¿Los datos contienen ceros o elementos vacíos?](#3.1.-¿Los-datos-contienen-ceros-o-elementos-vacíos?)\n",
    "    - 3.2. [Identifica y gestiona los valores extremos](#3.2.-Identifica-y-gestiona-los-valores-extremos)\n",
    "- 4.[Análisis de los datos](#4.-Análisis-de-los-datos)\n",
    "    - 4.1.[Selección de los grupos de datos que se quieren analizar/comparar](#4.1.-Selección-de-los-grupos-de-datos-que-se-quieren-analizar/comparar)\n",
    "    - 4.2.[Comprobación de la normalidad y homogeneidad de la varianza](#4.2.-Comprobación-de-la-normalidad-y-homogeneidad-de-la-varianza)\n",
    "    - 4.3.[Aplicación de pruebas estadísticas para comparar los grupos de datos](#4.3.-Aplicación-de-pruebas-estadísticas-para-comparar-los-grupos-de-datos)\n",
    "    - 4.4.[Relación entre predictores](#4.4.-Relación-entre-predictores)\n",
    "    - 4.5 [Modelaje Estadístico](#4.4.-Modelaje-Estadístico)\n",
    "- 5.[Representación gráfica](#5.-Representación-gráfica)\n",
    "- 6.[Resolución del problema](#6.-Resolución-del-problema)\n",
    "- 7.[Código](#7.-Código)\n",
    "- 8.[Vídeo](#8.-Vídeo)\n",
    "- [Contribuciones](#Contribuciones)"
   ]
  },
  {
   "cell_type": "markdown",
   "id": "67174c8f",
   "metadata": {},
   "source": [
    "# Librerías"
   ]
  },
  {
   "cell_type": "code",
   "execution_count": 143,
   "id": "70fd19e9",
   "metadata": {},
   "outputs": [],
   "source": [
    "import pandas as pd\n",
    "import numpy as np\n",
    "from scipy.stats import levene\n",
    "from scipy.stats import fligner\n",
    "from scipy import stats\n",
    "\n",
    "\n",
    "import seaborn as sns\n",
    "import matplotlib.pyplot as plt\n",
    "\n",
    "from sklearn.preprocessing import MinMaxScaler\n",
    "from sklearn.linear_model import LogisticRegression\n",
    "from sklearn.tree import DecisionTreeClassifier\n",
    "from sklearn.ensemble import RandomForestClassifier\n",
    "\n",
    "from sklearn.model_selection import GridSearchCV\n",
    "from sklearn.metrics import classification_report\n",
    "\n",
    "from sklearn.metrics import roc_auc_score\n",
    "from sklearn.metrics import roc_curve\n",
    "\n",
    "from joblib import dump, load"
   ]
  },
  {
   "cell_type": "markdown",
   "id": "cd1fb5da",
   "metadata": {},
   "source": [
    "# 1. Descripción del dataset\n",
    "\n",
    "**¿Por qué es importante y qué pregunta/problema pretende responder?**\t\t\t\n",
    "\n",
    "Partimos del dataset recomendado por la asignatura: [*Heart Attack Analysis & Prediction dataset*](https://www.kaggle.com/datasets/rashikrahmanpritom/heart-attack-analysis-prediction-dataset). En principio, este dataset trata de explicar la enfermedad cardiaca a partir de una serie de factores, como el colesterol o la frecuencia cardiaca. No obstante, aclararemos que este dataset es útil para practicar, pero no tanto para resolver un problema real, tal como ya se comenta [en el foro del propio dataset en Kaggle](https://www.kaggle.com/datasets/rashikrahmanpritom/heart-attack-analysis-prediction-dataset/discussion/249239). \n",
    "\n",
    "En un análisis preliminar de los datos, podemos comprobar que el archivo `heart.csv` consta de 303 registros y 14 variables. La información de Kaggle es escasa, puesto que no proporciona información espacio-temporal sobre los datos. Tampoco proporciona citas adicionales sobre las fuentes, siendo que es improbable que los que proporcionan este dataset sean los autores de la investigación. Nótese que señalan la procedencia 'online' y el método 'crawling'. \n",
    "\n",
    "Una búsqueda rápida nos llevará a encontrar [el origen de los datos](https://archive.ics.uci.edu/ml/datasets/heart+disease). Se trata de un popular dataset donado en 1988. El estudio original consta de 4 ubicaciones:\n",
    "1. Budapest (Hungría): Hungarian Institute of Cardiology, Andras Janosi, M.D.\n",
    "2. Zurich (Suiza): University Hospital, William Steinbrunn, M.D.\n",
    "3. Basilea (Suiza): University Hospital, Matthias Pfisterer, M.D.\n",
    "4. Cleveland (Estados Unidos): V.A. Medical Center, Long Beach and Cleveland Clinic Foundation, Robert Detrano, M.D., Ph.D.\n",
    "\n",
    "Originalmente, constaba de 76 atributos, si bien \"todos los experimentos publicados se refieren a 14 atributos\", tal como se nos indica [en el repositorio original](https://archive.ics.uci.edu/ml/datasets/heart+disease). Los datos compartidos en Kaggle proceden del dataset de Cleveland, el más popular en los estudios de Machine Learning. \n",
    "\n",
    "Por lo tanto, tenemos en nuestras manos un dataset cuya fuente original no está citada, con un número de registros menor al ideal en un estudio de estas características y de una antigüedad considerable. Presenta además algunas dificultades, como el hecho de que algunos valores no se corresponden con los establecidos en la descripción de los datos. Por ejemplo, la variable `cp` ('chest pain type') va del 0 al 3 mientras que en la descripción –tanto en kaggle como en el repositorio de UCI– va del 1 al 4. Instuitivamente cabe pensar que el 1 original pasó al 0 y el 4, al 3. Sin embargo, comparando los datos de Kaggle con el dataset original, podemos comprobar que esto no es así. Otros valores hacen saltar las alarmas, como la asignación en la variable `output`. Por este motivo, hemos tomado la decisión de partir directamente del dataset original, que se encuentra [aquí](https://archive.ics.uci.edu/ml/machine-learning-databases/heart-disease/) bajo el nombre `processed.cleveland.data`.\n",
    "\n",
    "Dicho esto, pasamos a describir las variables que tenemos entre manos:\n",
    "\n",
    "`age`: edad del paciente \n",
    "\n",
    "`sex`: sexo del paciente\n",
    "\n",
    "        0 = mujer\n",
    "        1 = hombre\n",
    "`cp`: tipo de dolor de pecho. \n",
    "\n",
    "        1 = angina típica\n",
    "        2 = angina atípica\n",
    "        3 = dolor no anginoso\n",
    "        4 = asintomático\n",
    "        \n",
    "`trestbps` : presión sanguínea en reposo (en mm Hg)\n",
    "\n",
    "`chol` : colesterol en mg/dl\n",
    "\n",
    "`fbs` : azúcar en sangre en ayunas > 120 mg/dl.\n",
    "\n",
    "        0 = falso\n",
    "        1 = verdadero\n",
    "        \n",
    "`restecg` : resultados electrocardiográficos en reposo\n",
    "\n",
    "        0 = normal\n",
    "        1 = anomalías en la onda ST-T\n",
    "        2 = hipertrofia ventricular izquierda\n",
    "        \n",
    "`thalach` : frecuencia cardiaca máxima alcanzada.\n",
    "\n",
    "`exang`: angina inducida por el ejercicio\n",
    "\n",
    "        0 = no\n",
    "        1 = sí\n",
    "        \n",
    "`oldpeak`: depresión del ST inducida por el ejercicio en relación con el reposo\n",
    "\n",
    "`slope`: la pendiente del segmento ST de ejercicio máximo.\n",
    "\n",
    "        1 = pendiente ascendiente \n",
    "        2 = sin pendiente\n",
    "        3 = pendiente descendente\n",
    "        \n",
    "`ca`: número de vasos principales (de 0 a 3)\n",
    "\n",
    "`thal`: Thallium Stress Test, por lo que podemos leer [aquí](https://www.kaggle.com/datasets/rashikrahmanpritom/heart-attack-analysis-prediction-dataset/discussion/234843?sort=votes)\n",
    "\n",
    "        3 = normal\n",
    "        6 = defecto arreglado\n",
    "        7 = defecto reversible \n",
    "\n",
    "`num`: atributo predicho; diagnóstico de enfermedad cardíaca (estado de enfermedad angiográfico)\n",
    "\n",
    "        0 = ausencia de enfermedad cardíaca\n",
    "        1, 2, 3 o 4 = presencia de enfermedad cardíaca"
   ]
  },
  {
   "cell_type": "markdown",
   "id": "651f09e7",
   "metadata": {},
   "source": [
    "# 2. Integración y selección de los datos de interés a analizar\n",
    "**Puede ser el resultado de adicionar diferentes datasets o una subselección útil de los datos originales, en base al objetivo que se quiera conseguir.**\n",
    "\n",
    "Usaremos el dataset al completo, teniendo en cuenta que ya se parte de una reducción del original, que contenía 76 variables, si bien sí realizaremos ciertas modificaciones que pasamos a describir aquí:\n",
    "\n",
    "1. Añadimos el nombre de las columnas, no presente en el archivo.\n",
    "2. Convertimos los valores de ciertas variables para unificar las categorías de 'normal' o 'asintomático' en 0:\n",
    "    a. `cp`:\n",
    "        \n",
    "        0 = asintomático (antes 4)\n",
    "        1 = angina típica\n",
    "        2 = angina atípica\n",
    "        3 = dolor no anginoso\n",
    "        \n",
    "    b. `thal`:\n",
    "    \n",
    "        0 = normal (antes 3)\n",
    "        1 = defecto arreglado (antes 6)\n",
    "        2 = defecto reversible (antes 7)\n",
    "\n",
    "3. Unificamos todos los resultados en `num` de presencia de enfermedad cardíaca en 1 para que quede:\n",
    "    \n",
    "        0 = ausencia de enfermedad cardíaca\n",
    "        1 = presencia de enfermedad cardíaca\n",
    "        \n",
    "Antes de realizar todos estos cambios, deberemos asegurarnos de que no haya algún valor nulo imputado con estos números.   "
   ]
  },
  {
   "cell_type": "code",
   "execution_count": 2,
   "id": "dfdafd7d",
   "metadata": {},
   "outputs": [
    {
     "data": {
      "text/html": [
       "<div>\n",
       "<style scoped>\n",
       "    .dataframe tbody tr th:only-of-type {\n",
       "        vertical-align: middle;\n",
       "    }\n",
       "\n",
       "    .dataframe tbody tr th {\n",
       "        vertical-align: top;\n",
       "    }\n",
       "\n",
       "    .dataframe thead th {\n",
       "        text-align: right;\n",
       "    }\n",
       "</style>\n",
       "<table border=\"1\" class=\"dataframe\">\n",
       "  <thead>\n",
       "    <tr style=\"text-align: right;\">\n",
       "      <th></th>\n",
       "      <th>age</th>\n",
       "      <th>sex</th>\n",
       "      <th>cp</th>\n",
       "      <th>trestbps</th>\n",
       "      <th>chol</th>\n",
       "      <th>fbs</th>\n",
       "      <th>restecg</th>\n",
       "      <th>thalach</th>\n",
       "      <th>exang</th>\n",
       "      <th>oldpeak</th>\n",
       "      <th>slope</th>\n",
       "      <th>ca</th>\n",
       "      <th>thal</th>\n",
       "      <th>num</th>\n",
       "    </tr>\n",
       "  </thead>\n",
       "  <tbody>\n",
       "    <tr>\n",
       "      <th>0</th>\n",
       "      <td>63.0</td>\n",
       "      <td>1.0</td>\n",
       "      <td>1.0</td>\n",
       "      <td>145.0</td>\n",
       "      <td>233.0</td>\n",
       "      <td>1.0</td>\n",
       "      <td>2.0</td>\n",
       "      <td>150.0</td>\n",
       "      <td>0.0</td>\n",
       "      <td>2.3</td>\n",
       "      <td>3.0</td>\n",
       "      <td>0.0</td>\n",
       "      <td>6.0</td>\n",
       "      <td>0</td>\n",
       "    </tr>\n",
       "    <tr>\n",
       "      <th>1</th>\n",
       "      <td>67.0</td>\n",
       "      <td>1.0</td>\n",
       "      <td>4.0</td>\n",
       "      <td>160.0</td>\n",
       "      <td>286.0</td>\n",
       "      <td>0.0</td>\n",
       "      <td>2.0</td>\n",
       "      <td>108.0</td>\n",
       "      <td>1.0</td>\n",
       "      <td>1.5</td>\n",
       "      <td>2.0</td>\n",
       "      <td>3.0</td>\n",
       "      <td>3.0</td>\n",
       "      <td>2</td>\n",
       "    </tr>\n",
       "    <tr>\n",
       "      <th>2</th>\n",
       "      <td>67.0</td>\n",
       "      <td>1.0</td>\n",
       "      <td>4.0</td>\n",
       "      <td>120.0</td>\n",
       "      <td>229.0</td>\n",
       "      <td>0.0</td>\n",
       "      <td>2.0</td>\n",
       "      <td>129.0</td>\n",
       "      <td>1.0</td>\n",
       "      <td>2.6</td>\n",
       "      <td>2.0</td>\n",
       "      <td>2.0</td>\n",
       "      <td>7.0</td>\n",
       "      <td>1</td>\n",
       "    </tr>\n",
       "    <tr>\n",
       "      <th>3</th>\n",
       "      <td>37.0</td>\n",
       "      <td>1.0</td>\n",
       "      <td>3.0</td>\n",
       "      <td>130.0</td>\n",
       "      <td>250.0</td>\n",
       "      <td>0.0</td>\n",
       "      <td>0.0</td>\n",
       "      <td>187.0</td>\n",
       "      <td>0.0</td>\n",
       "      <td>3.5</td>\n",
       "      <td>3.0</td>\n",
       "      <td>0.0</td>\n",
       "      <td>3.0</td>\n",
       "      <td>0</td>\n",
       "    </tr>\n",
       "    <tr>\n",
       "      <th>4</th>\n",
       "      <td>41.0</td>\n",
       "      <td>0.0</td>\n",
       "      <td>2.0</td>\n",
       "      <td>130.0</td>\n",
       "      <td>204.0</td>\n",
       "      <td>0.0</td>\n",
       "      <td>2.0</td>\n",
       "      <td>172.0</td>\n",
       "      <td>0.0</td>\n",
       "      <td>1.4</td>\n",
       "      <td>1.0</td>\n",
       "      <td>0.0</td>\n",
       "      <td>3.0</td>\n",
       "      <td>0</td>\n",
       "    </tr>\n",
       "  </tbody>\n",
       "</table>\n",
       "</div>"
      ],
      "text/plain": [
       "    age  sex   cp  trestbps   chol  fbs  restecg  thalach  exang  oldpeak  \\\n",
       "0  63.0  1.0  1.0     145.0  233.0  1.0      2.0    150.0    0.0      2.3   \n",
       "1  67.0  1.0  4.0     160.0  286.0  0.0      2.0    108.0    1.0      1.5   \n",
       "2  67.0  1.0  4.0     120.0  229.0  0.0      2.0    129.0    1.0      2.6   \n",
       "3  37.0  1.0  3.0     130.0  250.0  0.0      0.0    187.0    0.0      3.5   \n",
       "4  41.0  0.0  2.0     130.0  204.0  0.0      2.0    172.0    0.0      1.4   \n",
       "\n",
       "   slope   ca thal  num  \n",
       "0    3.0  0.0  6.0    0  \n",
       "1    2.0  3.0  3.0    2  \n",
       "2    2.0  2.0  7.0    1  \n",
       "3    3.0  0.0  3.0    0  \n",
       "4    1.0  0.0  3.0    0  "
      ]
     },
     "execution_count": 2,
     "metadata": {},
     "output_type": "execute_result"
    }
   ],
   "source": [
    "# Añadimos al dataset el nombre correspondiente de cada columna\n",
    "columns = ['age', 'sex', 'cp', 'trestbps', 'chol', \n",
    "           'fbs', 'restecg', 'thalach', 'exang', \n",
    "           'oldpeak', 'slope', 'ca', 'thal', 'num']\n",
    "df = pd.read_csv(\"data/processed.cleveland.csv\", header=None, names=columns)\n",
    "df.head()"
   ]
  },
  {
   "cell_type": "code",
   "execution_count": 3,
   "id": "2983f1d4",
   "metadata": {},
   "outputs": [
    {
     "name": "stdout",
     "output_type": "stream",
     "text": [
      "<class 'pandas.core.frame.DataFrame'>\n",
      "RangeIndex: 303 entries, 0 to 302\n",
      "Data columns (total 14 columns):\n",
      " #   Column    Non-Null Count  Dtype  \n",
      "---  ------    --------------  -----  \n",
      " 0   age       303 non-null    float64\n",
      " 1   sex       303 non-null    float64\n",
      " 2   cp        303 non-null    float64\n",
      " 3   trestbps  303 non-null    float64\n",
      " 4   chol      303 non-null    float64\n",
      " 5   fbs       303 non-null    float64\n",
      " 6   restecg   303 non-null    float64\n",
      " 7   thalach   303 non-null    float64\n",
      " 8   exang     303 non-null    float64\n",
      " 9   oldpeak   303 non-null    float64\n",
      " 10  slope     303 non-null    float64\n",
      " 11  ca        303 non-null    object \n",
      " 12  thal      303 non-null    object \n",
      " 13  num       303 non-null    int64  \n",
      "dtypes: float64(11), int64(1), object(2)\n",
      "memory usage: 33.3+ KB\n"
     ]
    }
   ],
   "source": [
    "df.info()"
   ]
  },
  {
   "cell_type": "markdown",
   "id": "c20e7822",
   "metadata": {},
   "source": [
    "Vamos a homogeneizar el dataframe y pasar todo a numeric. Usaremos `errors='coerce'` para convertir en nulos los valores no numéricos."
   ]
  },
  {
   "cell_type": "code",
   "execution_count": 4,
   "id": "999b60b1",
   "metadata": {},
   "outputs": [],
   "source": [
    "df = df.apply(pd.to_numeric, errors='coerce')"
   ]
  },
  {
   "cell_type": "markdown",
   "id": "6b6a01fa",
   "metadata": {},
   "source": [
    "A continuación, podemos comprobar que, efectivamente, `ca`contiene 4 valores nulos y `thal`, 2."
   ]
  },
  {
   "cell_type": "code",
   "execution_count": 5,
   "id": "126034d2",
   "metadata": {
    "scrolled": false
   },
   "outputs": [
    {
     "name": "stdout",
     "output_type": "stream",
     "text": [
      "<class 'pandas.core.frame.DataFrame'>\n",
      "RangeIndex: 303 entries, 0 to 302\n",
      "Data columns (total 14 columns):\n",
      " #   Column    Non-Null Count  Dtype  \n",
      "---  ------    --------------  -----  \n",
      " 0   age       303 non-null    float64\n",
      " 1   sex       303 non-null    float64\n",
      " 2   cp        303 non-null    float64\n",
      " 3   trestbps  303 non-null    float64\n",
      " 4   chol      303 non-null    float64\n",
      " 5   fbs       303 non-null    float64\n",
      " 6   restecg   303 non-null    float64\n",
      " 7   thalach   303 non-null    float64\n",
      " 8   exang     303 non-null    float64\n",
      " 9   oldpeak   303 non-null    float64\n",
      " 10  slope     303 non-null    float64\n",
      " 11  ca        299 non-null    float64\n",
      " 12  thal      301 non-null    float64\n",
      " 13  num       303 non-null    int64  \n",
      "dtypes: float64(13), int64(1)\n",
      "memory usage: 33.3 KB\n"
     ]
    }
   ],
   "source": [
    "df.info()"
   ]
  },
  {
   "cell_type": "markdown",
   "id": "375fbefc",
   "metadata": {},
   "source": [
    "Visto que, efectivamente, todas las variables se ajustan a lo indicado en la descripción del dataset, procedemos a recodificar las variables indicadas."
   ]
  },
  {
   "cell_type": "code",
   "execution_count": 6,
   "id": "8e3aa54d",
   "metadata": {},
   "outputs": [
    {
     "data": {
      "text/html": [
       "<div>\n",
       "<style scoped>\n",
       "    .dataframe tbody tr th:only-of-type {\n",
       "        vertical-align: middle;\n",
       "    }\n",
       "\n",
       "    .dataframe tbody tr th {\n",
       "        vertical-align: top;\n",
       "    }\n",
       "\n",
       "    .dataframe thead th {\n",
       "        text-align: right;\n",
       "    }\n",
       "</style>\n",
       "<table border=\"1\" class=\"dataframe\">\n",
       "  <thead>\n",
       "    <tr style=\"text-align: right;\">\n",
       "      <th></th>\n",
       "      <th>age</th>\n",
       "      <th>sex</th>\n",
       "      <th>cp</th>\n",
       "      <th>trestbps</th>\n",
       "      <th>chol</th>\n",
       "      <th>fbs</th>\n",
       "      <th>restecg</th>\n",
       "      <th>thalach</th>\n",
       "      <th>exang</th>\n",
       "      <th>oldpeak</th>\n",
       "      <th>slope</th>\n",
       "      <th>ca</th>\n",
       "      <th>thal</th>\n",
       "      <th>num</th>\n",
       "    </tr>\n",
       "  </thead>\n",
       "  <tbody>\n",
       "    <tr>\n",
       "      <th>221</th>\n",
       "      <td>54.0</td>\n",
       "      <td>0.0</td>\n",
       "      <td>3.0</td>\n",
       "      <td>108.0</td>\n",
       "      <td>267.0</td>\n",
       "      <td>0.0</td>\n",
       "      <td>2.0</td>\n",
       "      <td>167.0</td>\n",
       "      <td>0.0</td>\n",
       "      <td>0.0</td>\n",
       "      <td>1.0</td>\n",
       "      <td>0.0</td>\n",
       "      <td>normal</td>\n",
       "      <td>0</td>\n",
       "    </tr>\n",
       "    <tr>\n",
       "      <th>275</th>\n",
       "      <td>64.0</td>\n",
       "      <td>1.0</td>\n",
       "      <td>1.0</td>\n",
       "      <td>170.0</td>\n",
       "      <td>227.0</td>\n",
       "      <td>0.0</td>\n",
       "      <td>2.0</td>\n",
       "      <td>155.0</td>\n",
       "      <td>0.0</td>\n",
       "      <td>0.6</td>\n",
       "      <td>2.0</td>\n",
       "      <td>0.0</td>\n",
       "      <td>reversable defect</td>\n",
       "      <td>0</td>\n",
       "    </tr>\n",
       "    <tr>\n",
       "      <th>89</th>\n",
       "      <td>51.0</td>\n",
       "      <td>0.0</td>\n",
       "      <td>3.0</td>\n",
       "      <td>130.0</td>\n",
       "      <td>256.0</td>\n",
       "      <td>0.0</td>\n",
       "      <td>2.0</td>\n",
       "      <td>149.0</td>\n",
       "      <td>0.0</td>\n",
       "      <td>0.5</td>\n",
       "      <td>1.0</td>\n",
       "      <td>0.0</td>\n",
       "      <td>normal</td>\n",
       "      <td>0</td>\n",
       "    </tr>\n",
       "    <tr>\n",
       "      <th>174</th>\n",
       "      <td>64.0</td>\n",
       "      <td>1.0</td>\n",
       "      <td>0.0</td>\n",
       "      <td>145.0</td>\n",
       "      <td>212.0</td>\n",
       "      <td>0.0</td>\n",
       "      <td>2.0</td>\n",
       "      <td>132.0</td>\n",
       "      <td>0.0</td>\n",
       "      <td>2.0</td>\n",
       "      <td>2.0</td>\n",
       "      <td>2.0</td>\n",
       "      <td>fixed defect</td>\n",
       "      <td>1</td>\n",
       "    </tr>\n",
       "    <tr>\n",
       "      <th>167</th>\n",
       "      <td>54.0</td>\n",
       "      <td>0.0</td>\n",
       "      <td>2.0</td>\n",
       "      <td>132.0</td>\n",
       "      <td>288.0</td>\n",
       "      <td>1.0</td>\n",
       "      <td>2.0</td>\n",
       "      <td>159.0</td>\n",
       "      <td>1.0</td>\n",
       "      <td>0.0</td>\n",
       "      <td>1.0</td>\n",
       "      <td>1.0</td>\n",
       "      <td>normal</td>\n",
       "      <td>0</td>\n",
       "    </tr>\n",
       "  </tbody>\n",
       "</table>\n",
       "</div>"
      ],
      "text/plain": [
       "      age  sex   cp  trestbps   chol  fbs  restecg  thalach  exang  oldpeak  \\\n",
       "221  54.0  0.0  3.0     108.0  267.0  0.0      2.0    167.0    0.0      0.0   \n",
       "275  64.0  1.0  1.0     170.0  227.0  0.0      2.0    155.0    0.0      0.6   \n",
       "89   51.0  0.0  3.0     130.0  256.0  0.0      2.0    149.0    0.0      0.5   \n",
       "174  64.0  1.0  0.0     145.0  212.0  0.0      2.0    132.0    0.0      2.0   \n",
       "167  54.0  0.0  2.0     132.0  288.0  1.0      2.0    159.0    1.0      0.0   \n",
       "\n",
       "     slope   ca               thal  num  \n",
       "221    1.0  0.0             normal    0  \n",
       "275    2.0  0.0  reversable defect    0  \n",
       "89     1.0  0.0             normal    0  \n",
       "174    2.0  2.0       fixed defect    1  \n",
       "167    1.0  1.0             normal    0  "
      ]
     },
     "execution_count": 6,
     "metadata": {},
     "output_type": "execute_result"
    }
   ],
   "source": [
    "df = df.replace({\n",
    "    'cp': {\n",
    "        4: 0\n",
    "        },\n",
    "   \n",
    "    'thal':{ \n",
    "        3 : \"normal\",\n",
    "        6.0 : \"fixed defect\",\n",
    "        7.0 : \"reversable defect\"\n",
    "        #'?': np.NaN\n",
    "    },\n",
    "    \n",
    "    'num':{ \n",
    "        2 : 1,\n",
    "        3 : 1,\n",
    "        4 : 1\n",
    "    }  \n",
    "    \n",
    "})\n",
    "        \n",
    "df.sample(5)"
   ]
  },
  {
   "cell_type": "markdown",
   "id": "0f365e81",
   "metadata": {},
   "source": [
    "# 3. Limpieza de los datos"
   ]
  },
  {
   "cell_type": "markdown",
   "id": "8d2e47b0",
   "metadata": {},
   "source": [
    "## 3.1. ¿Los datos contienen ceros o elementos vacíos? \n",
    "**Gestiona cada uno de estos casos.**\n",
    "\n",
    "Como ya hemos podido comprobar, existen valores nulos en la variable `ca`y en la variable `thal`."
   ]
  },
  {
   "cell_type": "code",
   "execution_count": 7,
   "id": "5030e370",
   "metadata": {},
   "outputs": [
    {
     "name": "stdout",
     "output_type": "stream",
     "text": [
      "<class 'pandas.core.frame.DataFrame'>\n",
      "RangeIndex: 303 entries, 0 to 302\n",
      "Data columns (total 14 columns):\n",
      " #   Column    Non-Null Count  Dtype  \n",
      "---  ------    --------------  -----  \n",
      " 0   age       303 non-null    float64\n",
      " 1   sex       303 non-null    float64\n",
      " 2   cp        303 non-null    float64\n",
      " 3   trestbps  303 non-null    float64\n",
      " 4   chol      303 non-null    float64\n",
      " 5   fbs       303 non-null    float64\n",
      " 6   restecg   303 non-null    float64\n",
      " 7   thalach   303 non-null    float64\n",
      " 8   exang     303 non-null    float64\n",
      " 9   oldpeak   303 non-null    float64\n",
      " 10  slope     303 non-null    float64\n",
      " 11  ca        299 non-null    float64\n",
      " 12  thal      301 non-null    object \n",
      " 13  num       303 non-null    int64  \n",
      "dtypes: float64(12), int64(1), object(1)\n",
      "memory usage: 33.3+ KB\n"
     ]
    }
   ],
   "source": [
    "df.info()"
   ]
  },
  {
   "cell_type": "markdown",
   "id": "47076d19",
   "metadata": {},
   "source": [
    "Realizamos un preprocesamiento, haciendo replace sobre las variables categóricas para poder analizar los datos"
   ]
  },
  {
   "cell_type": "code",
   "execution_count": 8,
   "id": "e9c068bd",
   "metadata": {
    "scrolled": false
   },
   "outputs": [
    {
     "data": {
      "text/html": [
       "<div>\n",
       "<style scoped>\n",
       "    .dataframe tbody tr th:only-of-type {\n",
       "        vertical-align: middle;\n",
       "    }\n",
       "\n",
       "    .dataframe tbody tr th {\n",
       "        vertical-align: top;\n",
       "    }\n",
       "\n",
       "    .dataframe thead th {\n",
       "        text-align: right;\n",
       "    }\n",
       "</style>\n",
       "<table border=\"1\" class=\"dataframe\">\n",
       "  <thead>\n",
       "    <tr style=\"text-align: right;\">\n",
       "      <th></th>\n",
       "      <th>age</th>\n",
       "      <th>sex</th>\n",
       "      <th>cp</th>\n",
       "      <th>trestbps</th>\n",
       "      <th>chol</th>\n",
       "      <th>fbs</th>\n",
       "      <th>restecg</th>\n",
       "      <th>thalach</th>\n",
       "      <th>exang</th>\n",
       "      <th>oldpeak</th>\n",
       "      <th>slope</th>\n",
       "      <th>ca</th>\n",
       "      <th>thal</th>\n",
       "      <th>num</th>\n",
       "    </tr>\n",
       "  </thead>\n",
       "  <tbody>\n",
       "    <tr>\n",
       "      <th>26</th>\n",
       "      <td>58.0</td>\n",
       "      <td>Female</td>\n",
       "      <td>asymptomatic</td>\n",
       "      <td>120.0</td>\n",
       "      <td>340.0</td>\n",
       "      <td>fastingBloodSugar_false</td>\n",
       "      <td>Normal</td>\n",
       "      <td>172.0</td>\n",
       "      <td>Yes Angina</td>\n",
       "      <td>0.0</td>\n",
       "      <td>upsloping</td>\n",
       "      <td>0.0</td>\n",
       "      <td>normal</td>\n",
       "      <td>0</td>\n",
       "    </tr>\n",
       "    <tr>\n",
       "      <th>116</th>\n",
       "      <td>58.0</td>\n",
       "      <td>Male</td>\n",
       "      <td>asymptomatic</td>\n",
       "      <td>140.0</td>\n",
       "      <td>211.0</td>\n",
       "      <td>fastingBloodSugar_true</td>\n",
       "      <td>Left ventricular hypertrophy</td>\n",
       "      <td>165.0</td>\n",
       "      <td>Yes Angina</td>\n",
       "      <td>0.0</td>\n",
       "      <td>upsloping</td>\n",
       "      <td>0.0</td>\n",
       "      <td>normal</td>\n",
       "      <td>0</td>\n",
       "    </tr>\n",
       "    <tr>\n",
       "      <th>219</th>\n",
       "      <td>59.0</td>\n",
       "      <td>Male</td>\n",
       "      <td>typical angina</td>\n",
       "      <td>138.0</td>\n",
       "      <td>271.0</td>\n",
       "      <td>fastingBloodSugar_false</td>\n",
       "      <td>Left ventricular hypertrophy</td>\n",
       "      <td>182.0</td>\n",
       "      <td>Yes Angina</td>\n",
       "      <td>0.0</td>\n",
       "      <td>upsloping</td>\n",
       "      <td>0.0</td>\n",
       "      <td>normal</td>\n",
       "      <td>0</td>\n",
       "    </tr>\n",
       "    <tr>\n",
       "      <th>256</th>\n",
       "      <td>67.0</td>\n",
       "      <td>Female</td>\n",
       "      <td>typical angina</td>\n",
       "      <td>106.0</td>\n",
       "      <td>223.0</td>\n",
       "      <td>fastingBloodSugar_false</td>\n",
       "      <td>Normal</td>\n",
       "      <td>142.0</td>\n",
       "      <td>Yes Angina</td>\n",
       "      <td>0.3</td>\n",
       "      <td>upsloping</td>\n",
       "      <td>2.0</td>\n",
       "      <td>normal</td>\n",
       "      <td>0</td>\n",
       "    </tr>\n",
       "  </tbody>\n",
       "</table>\n",
       "</div>"
      ],
      "text/plain": [
       "      age     sex              cp  trestbps   chol                      fbs  \\\n",
       "26   58.0  Female    asymptomatic     120.0  340.0  fastingBloodSugar_false   \n",
       "116  58.0    Male    asymptomatic     140.0  211.0   fastingBloodSugar_true   \n",
       "219  59.0    Male  typical angina     138.0  271.0  fastingBloodSugar_false   \n",
       "256  67.0  Female  typical angina     106.0  223.0  fastingBloodSugar_false   \n",
       "\n",
       "                          restecg  thalach       exang  oldpeak      slope  \\\n",
       "26                         Normal    172.0  Yes Angina      0.0  upsloping   \n",
       "116  Left ventricular hypertrophy    165.0  Yes Angina      0.0  upsloping   \n",
       "219  Left ventricular hypertrophy    182.0  Yes Angina      0.0  upsloping   \n",
       "256                        Normal    142.0  Yes Angina      0.3  upsloping   \n",
       "\n",
       "      ca    thal  num  \n",
       "26   0.0  normal    0  \n",
       "116  0.0  normal    0  \n",
       "219  0.0  normal    0  \n",
       "256  2.0  normal    0  "
      ]
     },
     "execution_count": 8,
     "metadata": {},
     "output_type": "execute_result"
    }
   ],
   "source": [
    "df = df.replace({\n",
    "    'cp': {\n",
    "        0: 'typical angina',\n",
    "        1: 'atypical angina',\n",
    "        2: 'non-anginal pain',\n",
    "        3: 'asymptomatic'\n",
    "        },\n",
    "    'sex':{\n",
    "        1:'Male',\n",
    "        0:'Female'\n",
    "    },\n",
    "    'restecg':{\n",
    "        0:'Normal',\n",
    "        1:'ST-T wave abnormality',\n",
    "        2:'Left ventricular hypertrophy'\n",
    "    },\n",
    "    'exang':{\n",
    "        0:'Yes Angina',\n",
    "        1:'No Angina'\n",
    "    },\n",
    "    'fbs':{\n",
    "        0:'fastingBloodSugar_false',\n",
    "        1:'fastingBloodSugar_true'  \n",
    "    },\n",
    "    'slope':{\n",
    "        1:'upsloping',\n",
    "        2:'flat',\n",
    "        3:'downsloping'\n",
    "    },\n",
    "\n",
    "})\n",
    "\n",
    "df.sample(4)"
   ]
  },
  {
   "cell_type": "markdown",
   "id": "c630cf86",
   "metadata": {},
   "source": [
    "Una vez realizado el proceso de replace podemos notar que tenemos dos registros con valores aunsentes o perdidos en la variable **thal** y **ca**"
   ]
  },
  {
   "cell_type": "code",
   "execution_count": 9,
   "id": "2998a44e",
   "metadata": {
    "scrolled": false
   },
   "outputs": [
    {
     "name": "stdout",
     "output_type": "stream",
     "text": [
      "<class 'pandas.core.frame.DataFrame'>\n",
      "RangeIndex: 303 entries, 0 to 302\n",
      "Data columns (total 14 columns):\n",
      " #   Column    Non-Null Count  Dtype  \n",
      "---  ------    --------------  -----  \n",
      " 0   age       303 non-null    float64\n",
      " 1   sex       303 non-null    object \n",
      " 2   cp        303 non-null    object \n",
      " 3   trestbps  303 non-null    float64\n",
      " 4   chol      303 non-null    float64\n",
      " 5   fbs       303 non-null    object \n",
      " 6   restecg   303 non-null    object \n",
      " 7   thalach   303 non-null    float64\n",
      " 8   exang     303 non-null    object \n",
      " 9   oldpeak   303 non-null    float64\n",
      " 10  slope     303 non-null    object \n",
      " 11  ca        299 non-null    float64\n",
      " 12  thal      301 non-null    object \n",
      " 13  num       303 non-null    int64  \n",
      "dtypes: float64(6), int64(1), object(7)\n",
      "memory usage: 33.3+ KB\n"
     ]
    }
   ],
   "source": [
    "df.info()"
   ]
  },
  {
   "cell_type": "markdown",
   "id": "bf44930b",
   "metadata": {},
   "source": [
    "Considerando que son solo 6 registros y que representan menos del 5% de los datos decidimos directamente eliminarlos del conjunto de datos. "
   ]
  },
  {
   "cell_type": "code",
   "execution_count": 10,
   "id": "09424925",
   "metadata": {},
   "outputs": [],
   "source": [
    "df.dropna(inplace=True)"
   ]
  },
  {
   "cell_type": "code",
   "execution_count": 11,
   "id": "ddf39739",
   "metadata": {},
   "outputs": [
    {
     "name": "stdout",
     "output_type": "stream",
     "text": [
      "<class 'pandas.core.frame.DataFrame'>\n",
      "Int64Index: 297 entries, 0 to 301\n",
      "Data columns (total 14 columns):\n",
      " #   Column    Non-Null Count  Dtype  \n",
      "---  ------    --------------  -----  \n",
      " 0   age       297 non-null    float64\n",
      " 1   sex       297 non-null    object \n",
      " 2   cp        297 non-null    object \n",
      " 3   trestbps  297 non-null    float64\n",
      " 4   chol      297 non-null    float64\n",
      " 5   fbs       297 non-null    object \n",
      " 6   restecg   297 non-null    object \n",
      " 7   thalach   297 non-null    float64\n",
      " 8   exang     297 non-null    object \n",
      " 9   oldpeak   297 non-null    float64\n",
      " 10  slope     297 non-null    object \n",
      " 11  ca        297 non-null    float64\n",
      " 12  thal      297 non-null    object \n",
      " 13  num       297 non-null    int64  \n",
      "dtypes: float64(6), int64(1), object(7)\n",
      "memory usage: 34.8+ KB\n"
     ]
    }
   ],
   "source": [
    "df.info()"
   ]
  },
  {
   "cell_type": "markdown",
   "id": "42844653",
   "metadata": {},
   "source": [
    "## 3.2. Identifica y gestiona los valores extremos\n",
    "\n"
   ]
  },
  {
   "cell_type": "markdown",
   "id": "d41327cb",
   "metadata": {},
   "source": [
    "Mediante el análisis gráfico de las distribuciones observamos algunos valores extremos en las variables **trestbps**, **chol**, **thalach** y **oldpeak**"
   ]
  },
  {
   "cell_type": "code",
   "execution_count": 112,
   "id": "bfcfd3e8",
   "metadata": {},
   "outputs": [
    {
     "data": {
      "image/png": "[encoded data removed]",
      "text/plain": [
       "<Figure size 1440x720 with 6 Axes>"
      ]
     },
     "metadata": {
      "needs_background": "light"
     },
     "output_type": "display_data"
    }
   ],
   "source": [
    "fig, axes = plt.subplots(2, 3, figsize=(20,10))\n",
    "\n",
    "sns.boxplot(ax=axes[0,0], y=\"age\", palette=\"viridis\", data=df).set(title='Distribución de la edad')\n",
    "sns.boxplot(ax=axes[0,1], y=\"trestbps\", palette=\"viridis\", data=df).set(title='Distribución de la presión sanguínea')\n",
    "sns.boxplot(ax=axes[0,2], y=\"chol\" ,palette=\"viridis\", data=df).set(title='Distribución del colesterol')\n",
    "\n",
    "sns.boxplot(ax=axes[1,0], y=\"thalach\" ,palette=\"viridis\", data=df).set(title='Distribución del ratio máximo de pulsasiones')\n",
    "sns.boxplot(ax=axes[1,1], y=\"oldpeak\" ,palette=\"viridis\", data=df).set(title='Distribución de la frecuencia cardíaca máxima')\n",
    "sns.boxplot(ax=axes[1,2], y=\"ca\" ,palette=\"viridis\", data=df).set(title='Distribución de los vasos')\n",
    "\n",
    "plt.show()"
   ]
  },
  {
   "cell_type": "code",
   "execution_count": 109,
   "id": "486330d5",
   "metadata": {},
   "outputs": [
    {
     "data": {
      "image/png": "[encoded data removed]",
      "text/plain": [
       "<Figure size 1440x720 with 6 Axes>"
      ]
     },
     "metadata": {
      "needs_background": "light"
     },
     "output_type": "display_data"
    }
   ],
   "source": [
    "fig, axes = plt.subplots(2, 3, figsize=(20,10))\n",
    "\n",
    "sns.histplot(ax=axes[0,0], x=\"age\", palette=\"viridis\", data=df).set(title='Distribución de la edad')\n",
    "sns.histplot(ax=axes[0,1], x=\"trestbps\", palette=\"viridis\", data=df).set(title='Distribución de la presión sanguínea')\n",
    "sns.histplot(ax=axes[0,2], x=\"chol\" ,palette=\"viridis\", data=df).set(title='Distribución del colesterol')\n",
    "\n",
    "sns.histplot(ax=axes[1,0], x=\"thalach\" ,palette=\"viridis\", data=df).set(title='Distribución del ratio máximo de pulsasiones')\n",
    "sns.histplot(ax=axes[1,1], x=\"oldpeak\" ,palette=\"viridis\", data=df).set(title='Distribución de la frecuencia cardíaca máxima')\n",
    "sns.histplot(ax=axes[1,2], x=\"ca\" ,palette=\"viridis\", data=df, bins=4).set(title='Distribución de los vasos')\n",
    "\n",
    "plt.show()"
   ]
  },
  {
   "cell_type": "code",
   "execution_count": 14,
   "id": "6897e072",
   "metadata": {},
   "outputs": [
    {
     "data": {
      "text/html": [
       "<div>\n",
       "<style scoped>\n",
       "    .dataframe tbody tr th:only-of-type {\n",
       "        vertical-align: middle;\n",
       "    }\n",
       "\n",
       "    .dataframe tbody tr th {\n",
       "        vertical-align: top;\n",
       "    }\n",
       "\n",
       "    .dataframe thead th {\n",
       "        text-align: right;\n",
       "    }\n",
       "</style>\n",
       "<table border=\"1\" class=\"dataframe\">\n",
       "  <thead>\n",
       "    <tr style=\"text-align: right;\">\n",
       "      <th></th>\n",
       "      <th>age</th>\n",
       "      <th>trestbps</th>\n",
       "      <th>chol</th>\n",
       "      <th>thalach</th>\n",
       "      <th>oldpeak</th>\n",
       "      <th>ca</th>\n",
       "      <th>num</th>\n",
       "    </tr>\n",
       "  </thead>\n",
       "  <tbody>\n",
       "    <tr>\n",
       "      <th>count</th>\n",
       "      <td>297.000000</td>\n",
       "      <td>297.000000</td>\n",
       "      <td>297.000000</td>\n",
       "      <td>297.000000</td>\n",
       "      <td>297.000000</td>\n",
       "      <td>297.000000</td>\n",
       "      <td>297.000000</td>\n",
       "    </tr>\n",
       "    <tr>\n",
       "      <th>mean</th>\n",
       "      <td>54.542088</td>\n",
       "      <td>131.693603</td>\n",
       "      <td>247.350168</td>\n",
       "      <td>149.599327</td>\n",
       "      <td>1.055556</td>\n",
       "      <td>0.676768</td>\n",
       "      <td>0.461279</td>\n",
       "    </tr>\n",
       "    <tr>\n",
       "      <th>std</th>\n",
       "      <td>9.049736</td>\n",
       "      <td>17.762806</td>\n",
       "      <td>51.997583</td>\n",
       "      <td>22.941562</td>\n",
       "      <td>1.166123</td>\n",
       "      <td>0.938965</td>\n",
       "      <td>0.499340</td>\n",
       "    </tr>\n",
       "    <tr>\n",
       "      <th>min</th>\n",
       "      <td>29.000000</td>\n",
       "      <td>94.000000</td>\n",
       "      <td>126.000000</td>\n",
       "      <td>71.000000</td>\n",
       "      <td>0.000000</td>\n",
       "      <td>0.000000</td>\n",
       "      <td>0.000000</td>\n",
       "    </tr>\n",
       "    <tr>\n",
       "      <th>25%</th>\n",
       "      <td>48.000000</td>\n",
       "      <td>120.000000</td>\n",
       "      <td>211.000000</td>\n",
       "      <td>133.000000</td>\n",
       "      <td>0.000000</td>\n",
       "      <td>0.000000</td>\n",
       "      <td>0.000000</td>\n",
       "    </tr>\n",
       "    <tr>\n",
       "      <th>50%</th>\n",
       "      <td>56.000000</td>\n",
       "      <td>130.000000</td>\n",
       "      <td>243.000000</td>\n",
       "      <td>153.000000</td>\n",
       "      <td>0.800000</td>\n",
       "      <td>0.000000</td>\n",
       "      <td>0.000000</td>\n",
       "    </tr>\n",
       "    <tr>\n",
       "      <th>75%</th>\n",
       "      <td>61.000000</td>\n",
       "      <td>140.000000</td>\n",
       "      <td>276.000000</td>\n",
       "      <td>166.000000</td>\n",
       "      <td>1.600000</td>\n",
       "      <td>1.000000</td>\n",
       "      <td>1.000000</td>\n",
       "    </tr>\n",
       "    <tr>\n",
       "      <th>max</th>\n",
       "      <td>77.000000</td>\n",
       "      <td>200.000000</td>\n",
       "      <td>564.000000</td>\n",
       "      <td>202.000000</td>\n",
       "      <td>6.200000</td>\n",
       "      <td>3.000000</td>\n",
       "      <td>1.000000</td>\n",
       "    </tr>\n",
       "  </tbody>\n",
       "</table>\n",
       "</div>"
      ],
      "text/plain": [
       "              age    trestbps        chol     thalach     oldpeak          ca  \\\n",
       "count  297.000000  297.000000  297.000000  297.000000  297.000000  297.000000   \n",
       "mean    54.542088  131.693603  247.350168  149.599327    1.055556    0.676768   \n",
       "std      9.049736   17.762806   51.997583   22.941562    1.166123    0.938965   \n",
       "min     29.000000   94.000000  126.000000   71.000000    0.000000    0.000000   \n",
       "25%     48.000000  120.000000  211.000000  133.000000    0.000000    0.000000   \n",
       "50%     56.000000  130.000000  243.000000  153.000000    0.800000    0.000000   \n",
       "75%     61.000000  140.000000  276.000000  166.000000    1.600000    1.000000   \n",
       "max     77.000000  200.000000  564.000000  202.000000    6.200000    3.000000   \n",
       "\n",
       "              num  \n",
       "count  297.000000  \n",
       "mean     0.461279  \n",
       "std      0.499340  \n",
       "min      0.000000  \n",
       "25%      0.000000  \n",
       "50%      0.000000  \n",
       "75%      1.000000  \n",
       "max      1.000000  "
      ]
     },
     "execution_count": 14,
     "metadata": {},
     "output_type": "execute_result"
    }
   ],
   "source": [
    "df.describe()"
   ]
  },
  {
   "cell_type": "markdown",
   "id": "8c4a6f63",
   "metadata": {},
   "source": [
    "Además de los gráficos de boxplot, observando la tabla de estadísticos descriptivos podemos detectar valores máximos que se encuentran varias desviaciones por encima de la media, este caso se da en las distribuciones como en trtbps, chol, thalachh etc.\n"
   ]
  },
  {
   "cell_type": "markdown",
   "id": "bf7e8bd1",
   "metadata": {},
   "source": [
    "Definimos la siguiente función para reemplazar aquellos valores que se encuentren por encima del percentil 95 o por debajo del percentil 5, considerados como valores extremos, dicho reemplazo se realizará por el percentil 85 y 10 respectivamente."
   ]
  },
  {
   "cell_type": "code",
   "execution_count": 15,
   "id": "e99bf5ba",
   "metadata": {},
   "outputs": [],
   "source": [
    "def replaceOuliers(column):\n",
    "    \"\"\"\n",
    "    \"\"\"\n",
    "    colReplace = np.array(column)\n",
    "    median = np.median(column)\n",
    "    \n",
    "    upper =  np.percentile(np.array(column),95)\n",
    "    lower =  np.percentile(np.array(column),5)\n",
    "    \n",
    "    #colReplace[colReplace[:] > upper] = np.percentile(np.array(column),85)\n",
    "    #colReplace[colReplace[:] < lower] = np.percentile(np.array(column),10)\n",
    "    \n",
    "    colReplace[colReplace[:] > upper] = median\n",
    "    colReplace[colReplace[:] < lower] = median\n",
    "    \n",
    "    return list(colReplace)"
   ]
  },
  {
   "cell_type": "code",
   "execution_count": 16,
   "id": "0678c09c",
   "metadata": {},
   "outputs": [],
   "source": [
    "df[\"trestbps\"] = replaceOuliers(list(df[\"trestbps\"]))\n",
    "df[\"chol\"] = replaceOuliers(list(df[\"chol\"]))\n",
    "df[\"thalach\"] = replaceOuliers(list(df[\"thalach\"]))\n",
    "df[\"oldpeak\"] = replaceOuliers(list(df[\"oldpeak\"]))\n"
   ]
  },
  {
   "cell_type": "code",
   "execution_count": 89,
   "id": "03ebd775",
   "metadata": {},
   "outputs": [
    {
     "data": {
      "image/png": "[encoded data removed]",
      "text/plain": [
       "<Figure size 1440x720 with 6 Axes>"
      ]
     },
     "metadata": {
      "needs_background": "light"
     },
     "output_type": "display_data"
    }
   ],
   "source": [
    "fig, axes = plt.subplots(2, 3, figsize=(20,10))\n",
    "\n",
    "sns.boxplot(ax=axes[0,0], y=\"age\", palette=\"viridis\", data=df).set(title='Distribución de la edad')\n",
    "sns.boxplot(ax=axes[0,1], y=\"trestbps\", palette=\"viridis\", data=df).set(title='Distribución de la presión sanguínea')\n",
    "sns.boxplot(ax=axes[0,2], y=\"chol\" ,palette=\"viridis\", data=df).set(title='Distribución del colesterol')\n",
    "\n",
    "sns.boxplot(ax=axes[1,0], y=\"thalach\" ,palette=\"viridis\", data=df).set(title='Distribución del ratio máximo de pulsasiones')\n",
    "sns.boxplot(ax=axes[1,1], y=\"oldpeak\" ,palette=\"viridis\", data=df).set(title='Distribución de la frecuencia cardíaca máxima')\n",
    "sns.boxplot(ax=axes[1,2], y=\"ca\" ,palette=\"viridis\", data=df).set(title='Distribución de los vasos')\n",
    "\n",
    "plt.show()"
   ]
  },
  {
   "cell_type": "markdown",
   "id": "f99dbac8",
   "metadata": {},
   "source": [
    "# 4. Análisis de los datos"
   ]
  },
  {
   "cell_type": "markdown",
   "id": "d12a71ed",
   "metadata": {},
   "source": [
    "### Análisis Exploratorio de datos"
   ]
  },
  {
   "cell_type": "code",
   "execution_count": 18,
   "id": "9bb30026",
   "metadata": {},
   "outputs": [
    {
     "data": {
      "text/html": [
       "<div>\n",
       "<style scoped>\n",
       "    .dataframe tbody tr th:only-of-type {\n",
       "        vertical-align: middle;\n",
       "    }\n",
       "\n",
       "    .dataframe tbody tr th {\n",
       "        vertical-align: top;\n",
       "    }\n",
       "\n",
       "    .dataframe thead th {\n",
       "        text-align: right;\n",
       "    }\n",
       "</style>\n",
       "<table border=\"1\" class=\"dataframe\">\n",
       "  <thead>\n",
       "    <tr style=\"text-align: right;\">\n",
       "      <th></th>\n",
       "      <th>age</th>\n",
       "      <th>trestbps</th>\n",
       "      <th>chol</th>\n",
       "      <th>thalach</th>\n",
       "      <th>oldpeak</th>\n",
       "      <th>ca</th>\n",
       "    </tr>\n",
       "  </thead>\n",
       "  <tbody>\n",
       "    <tr>\n",
       "      <th>count</th>\n",
       "      <td>297.000000</td>\n",
       "      <td>297.000000</td>\n",
       "      <td>297.000000</td>\n",
       "      <td>297.000000</td>\n",
       "      <td>297.000000</td>\n",
       "      <td>297.000000</td>\n",
       "    </tr>\n",
       "    <tr>\n",
       "      <th>mean</th>\n",
       "      <td>54.542088</td>\n",
       "      <td>130.713805</td>\n",
       "      <td>245.030303</td>\n",
       "      <td>150.868687</td>\n",
       "      <td>0.896970</td>\n",
       "      <td>0.676768</td>\n",
       "    </tr>\n",
       "    <tr>\n",
       "      <th>std</th>\n",
       "      <td>9.049736</td>\n",
       "      <td>12.870545</td>\n",
       "      <td>35.974781</td>\n",
       "      <td>18.162357</td>\n",
       "      <td>0.923542</td>\n",
       "      <td>0.938965</td>\n",
       "    </tr>\n",
       "    <tr>\n",
       "      <th>min</th>\n",
       "      <td>29.000000</td>\n",
       "      <td>108.000000</td>\n",
       "      <td>176.000000</td>\n",
       "      <td>108.000000</td>\n",
       "      <td>0.000000</td>\n",
       "      <td>0.000000</td>\n",
       "    </tr>\n",
       "    <tr>\n",
       "      <th>25%</th>\n",
       "      <td>48.000000</td>\n",
       "      <td>120.000000</td>\n",
       "      <td>219.000000</td>\n",
       "      <td>140.000000</td>\n",
       "      <td>0.000000</td>\n",
       "      <td>0.000000</td>\n",
       "    </tr>\n",
       "    <tr>\n",
       "      <th>50%</th>\n",
       "      <td>56.000000</td>\n",
       "      <td>130.000000</td>\n",
       "      <td>243.000000</td>\n",
       "      <td>153.000000</td>\n",
       "      <td>0.800000</td>\n",
       "      <td>0.000000</td>\n",
       "    </tr>\n",
       "    <tr>\n",
       "      <th>75%</th>\n",
       "      <td>61.000000</td>\n",
       "      <td>140.000000</td>\n",
       "      <td>269.000000</td>\n",
       "      <td>163.000000</td>\n",
       "      <td>1.500000</td>\n",
       "      <td>1.000000</td>\n",
       "    </tr>\n",
       "    <tr>\n",
       "      <th>max</th>\n",
       "      <td>77.000000</td>\n",
       "      <td>160.000000</td>\n",
       "      <td>327.000000</td>\n",
       "      <td>182.000000</td>\n",
       "      <td>3.400000</td>\n",
       "      <td>3.000000</td>\n",
       "    </tr>\n",
       "  </tbody>\n",
       "</table>\n",
       "</div>"
      ],
      "text/plain": [
       "              age    trestbps        chol     thalach     oldpeak          ca\n",
       "count  297.000000  297.000000  297.000000  297.000000  297.000000  297.000000\n",
       "mean    54.542088  130.713805  245.030303  150.868687    0.896970    0.676768\n",
       "std      9.049736   12.870545   35.974781   18.162357    0.923542    0.938965\n",
       "min     29.000000  108.000000  176.000000  108.000000    0.000000    0.000000\n",
       "25%     48.000000  120.000000  219.000000  140.000000    0.000000    0.000000\n",
       "50%     56.000000  130.000000  243.000000  153.000000    0.800000    0.000000\n",
       "75%     61.000000  140.000000  269.000000  163.000000    1.500000    1.000000\n",
       "max     77.000000  160.000000  327.000000  182.000000    3.400000    3.000000"
      ]
     },
     "execution_count": 18,
     "metadata": {},
     "output_type": "execute_result"
    }
   ],
   "source": [
    "df[[\"age\",\"trestbps\",\"chol\",\"thalach\",\"oldpeak\",\"ca\"]].describe()"
   ]
  },
  {
   "cell_type": "markdown",
   "id": "78a3d988",
   "metadata": {},
   "source": [
    "A continuación se presentan las distribuciones de las variables en función del target o variable a predecir"
   ]
  },
  {
   "cell_type": "markdown",
   "id": "f0071f8a",
   "metadata": {},
   "source": [
    "### Age"
   ]
  },
  {
   "cell_type": "code",
   "execution_count": 93,
   "id": "b6b4d2d2",
   "metadata": {},
   "outputs": [
    {
     "data": {
      "image/png": "[encoded data removed]",
      "text/plain": [
       "<Figure size 1440x648 with 4 Axes>"
      ]
     },
     "metadata": {
      "needs_background": "light"
     },
     "output_type": "display_data"
    }
   ],
   "source": [
    "fig, axes = plt.subplots(2, 2, figsize=(20,9))\n",
    "\n",
    "sns.histplot(x=df[\"age\"], ax=axes[0,0]).set(title='Distribución de la edad de los pacientes')\n",
    "sns.histplot(x=df[\"age\"], hue=df[\"num\"], ax=axes[0,1]).set(title='Distribución de la edad de los pacientes en función de la presencia de enfermedad')\n",
    "\n",
    "sns.boxplot(y=df[\"age\"], ax=axes[1,0]).set(title='Distribución de la edad de los pacientes')\n",
    "sns.boxplot(y=df[\"age\"], x=df[\"num\"], ax=axes[1,1]).set(title='Distribución de la edad de los pacientes en función de la presencia de enfermedad')\n",
    "\n",
    "plt.show()"
   ]
  },
  {
   "cell_type": "code",
   "execution_count": 20,
   "id": "91f3c115",
   "metadata": {},
   "outputs": [
    {
     "data": {
      "text/html": [
       "<div>\n",
       "<style scoped>\n",
       "    .dataframe tbody tr th:only-of-type {\n",
       "        vertical-align: middle;\n",
       "    }\n",
       "\n",
       "    .dataframe tbody tr th {\n",
       "        vertical-align: top;\n",
       "    }\n",
       "\n",
       "    .dataframe thead th {\n",
       "        text-align: right;\n",
       "    }\n",
       "</style>\n",
       "<table border=\"1\" class=\"dataframe\">\n",
       "  <thead>\n",
       "    <tr style=\"text-align: right;\">\n",
       "      <th></th>\n",
       "      <th>num</th>\n",
       "      <th>0</th>\n",
       "      <th>1</th>\n",
       "    </tr>\n",
       "  </thead>\n",
       "  <tbody>\n",
       "    <tr>\n",
       "      <th rowspan=\"8\" valign=\"top\">age</th>\n",
       "      <th>count</th>\n",
       "      <td>160.000000</td>\n",
       "      <td>137.000000</td>\n",
       "    </tr>\n",
       "    <tr>\n",
       "      <th>mean</th>\n",
       "      <td>52.643750</td>\n",
       "      <td>56.759124</td>\n",
       "    </tr>\n",
       "    <tr>\n",
       "      <th>std</th>\n",
       "      <td>9.551151</td>\n",
       "      <td>7.899670</td>\n",
       "    </tr>\n",
       "    <tr>\n",
       "      <th>min</th>\n",
       "      <td>29.000000</td>\n",
       "      <td>35.000000</td>\n",
       "    </tr>\n",
       "    <tr>\n",
       "      <th>25%</th>\n",
       "      <td>44.750000</td>\n",
       "      <td>53.000000</td>\n",
       "    </tr>\n",
       "    <tr>\n",
       "      <th>50%</th>\n",
       "      <td>52.000000</td>\n",
       "      <td>58.000000</td>\n",
       "    </tr>\n",
       "    <tr>\n",
       "      <th>75%</th>\n",
       "      <td>59.000000</td>\n",
       "      <td>62.000000</td>\n",
       "    </tr>\n",
       "    <tr>\n",
       "      <th>max</th>\n",
       "      <td>76.000000</td>\n",
       "      <td>77.000000</td>\n",
       "    </tr>\n",
       "  </tbody>\n",
       "</table>\n",
       "</div>"
      ],
      "text/plain": [
       "num                 0           1\n",
       "age count  160.000000  137.000000\n",
       "    mean    52.643750   56.759124\n",
       "    std      9.551151    7.899670\n",
       "    min     29.000000   35.000000\n",
       "    25%     44.750000   53.000000\n",
       "    50%     52.000000   58.000000\n",
       "    75%     59.000000   62.000000\n",
       "    max     76.000000   77.000000"
      ]
     },
     "execution_count": 20,
     "metadata": {},
     "output_type": "execute_result"
    }
   ],
   "source": [
    "df[[\"age\",\"num\"]].groupby(\"num\").describe().T"
   ]
  },
  {
   "cell_type": "markdown",
   "id": "ed5d0ee1",
   "metadata": {},
   "source": [
    "Se puede observar comparando las distribuciones, que la mediana y el promedio de la edad de las personas que enferman es mayor que las personas sanas. "
   ]
  },
  {
   "cell_type": "markdown",
   "id": "204badf0",
   "metadata": {},
   "source": [
    "### Sex"
   ]
  },
  {
   "cell_type": "code",
   "execution_count": 94,
   "id": "2d9bd727",
   "metadata": {},
   "outputs": [
    {
     "data": {
      "image/png": "[encoded data removed]",
      "text/plain": [
       "<Figure size 1440x288 with 2 Axes>"
      ]
     },
     "metadata": {
      "needs_background": "light"
     },
     "output_type": "display_data"
    }
   ],
   "source": [
    "fig, axes = plt.subplots(1, 2, figsize=(20,4))\n",
    "\n",
    "sns.countplot(x=df[\"sex\"], ax=axes[0]).set(title='Frecuencias del género')\n",
    "\n",
    "sns.countplot(x=df[\"sex\"], hue=df[\"num\"], ax=axes[1]).set(title='Frecuencias del género en función de la presencia de enfermedad')\n",
    "\n",
    "plt.show()"
   ]
  },
  {
   "cell_type": "code",
   "execution_count": 22,
   "id": "b402b474",
   "metadata": {},
   "outputs": [
    {
     "data": {
      "text/html": [
       "<div>\n",
       "<style scoped>\n",
       "    .dataframe tbody tr th:only-of-type {\n",
       "        vertical-align: middle;\n",
       "    }\n",
       "\n",
       "    .dataframe tbody tr th {\n",
       "        vertical-align: top;\n",
       "    }\n",
       "\n",
       "    .dataframe thead th {\n",
       "        text-align: right;\n",
       "    }\n",
       "</style>\n",
       "<table border=\"1\" class=\"dataframe\">\n",
       "  <thead>\n",
       "    <tr style=\"text-align: right;\">\n",
       "      <th>num</th>\n",
       "      <th>0</th>\n",
       "      <th>1</th>\n",
       "    </tr>\n",
       "    <tr>\n",
       "      <th>sex</th>\n",
       "      <th></th>\n",
       "      <th></th>\n",
       "    </tr>\n",
       "  </thead>\n",
       "  <tbody>\n",
       "    <tr>\n",
       "      <th>Female</th>\n",
       "      <td>0.239057</td>\n",
       "      <td>0.084175</td>\n",
       "    </tr>\n",
       "    <tr>\n",
       "      <th>Male</th>\n",
       "      <td>0.299663</td>\n",
       "      <td>0.377104</td>\n",
       "    </tr>\n",
       "  </tbody>\n",
       "</table>\n",
       "</div>"
      ],
      "text/plain": [
       "num            0         1\n",
       "sex                       \n",
       "Female  0.239057  0.084175\n",
       "Male    0.299663  0.377104"
      ]
     },
     "execution_count": 22,
     "metadata": {},
     "output_type": "execute_result"
    }
   ],
   "source": [
    "pd.crosstab(index= df[\"sex\"], columns=df[\"num\"], normalize=True)"
   ]
  },
  {
   "cell_type": "markdown",
   "id": "df810107",
   "metadata": {},
   "source": [
    "Se observa que la proporción de mujeres que enferman es baja dentro de la muestra estudiada"
   ]
  },
  {
   "cell_type": "markdown",
   "id": "8e252bfa",
   "metadata": {},
   "source": [
    "### CP"
   ]
  },
  {
   "cell_type": "code",
   "execution_count": 95,
   "id": "c55f8210",
   "metadata": {},
   "outputs": [
    {
     "data": {
      "image/png": "[encoded data removed]",
      "text/plain": [
       "<Figure size 1440x288 with 2 Axes>"
      ]
     },
     "metadata": {
      "needs_background": "light"
     },
     "output_type": "display_data"
    }
   ],
   "source": [
    "fig, axes = plt.subplots(1, 2, figsize=(20,4))\n",
    "\n",
    "sns.countplot(x=df[\"cp\"], ax=axes[0]).set(title='Frecuencias de los tipos de dolor en el pecho')\n",
    "\n",
    "sns.countplot(x=df[\"cp\"], hue=df[\"num\"], ax=axes[1]).set(title='Frecuencias de los tipos de dolor en el pecho en función de la presencia de enfermedad')\n",
    "\n",
    "plt.show()"
   ]
  },
  {
   "cell_type": "code",
   "execution_count": 24,
   "id": "79dd6f3f",
   "metadata": {},
   "outputs": [
    {
     "data": {
      "text/html": [
       "<div>\n",
       "<style scoped>\n",
       "    .dataframe tbody tr th:only-of-type {\n",
       "        vertical-align: middle;\n",
       "    }\n",
       "\n",
       "    .dataframe tbody tr th {\n",
       "        vertical-align: top;\n",
       "    }\n",
       "\n",
       "    .dataframe thead th {\n",
       "        text-align: right;\n",
       "    }\n",
       "</style>\n",
       "<table border=\"1\" class=\"dataframe\">\n",
       "  <thead>\n",
       "    <tr style=\"text-align: right;\">\n",
       "      <th>num</th>\n",
       "      <th>0</th>\n",
       "      <th>1</th>\n",
       "    </tr>\n",
       "    <tr>\n",
       "      <th>cp</th>\n",
       "      <th></th>\n",
       "      <th></th>\n",
       "    </tr>\n",
       "  </thead>\n",
       "  <tbody>\n",
       "    <tr>\n",
       "      <th>asymptomatic</th>\n",
       "      <td>0.218855</td>\n",
       "      <td>0.060606</td>\n",
       "    </tr>\n",
       "    <tr>\n",
       "      <th>atypical angina</th>\n",
       "      <td>0.053872</td>\n",
       "      <td>0.023569</td>\n",
       "    </tr>\n",
       "    <tr>\n",
       "      <th>non-anginal pain</th>\n",
       "      <td>0.134680</td>\n",
       "      <td>0.030303</td>\n",
       "    </tr>\n",
       "    <tr>\n",
       "      <th>typical angina</th>\n",
       "      <td>0.131313</td>\n",
       "      <td>0.346801</td>\n",
       "    </tr>\n",
       "  </tbody>\n",
       "</table>\n",
       "</div>"
      ],
      "text/plain": [
       "num                      0         1\n",
       "cp                                  \n",
       "asymptomatic      0.218855  0.060606\n",
       "atypical angina   0.053872  0.023569\n",
       "non-anginal pain  0.134680  0.030303\n",
       "typical angina    0.131313  0.346801"
      ]
     },
     "execution_count": 24,
     "metadata": {},
     "output_type": "execute_result"
    }
   ],
   "source": [
    "pd.crosstab(index= df[\"cp\"], columns=df[\"num\"], normalize=True)"
   ]
  },
  {
   "cell_type": "markdown",
   "id": "8e41eca4",
   "metadata": {},
   "source": [
    "La angina típica para ser el tipo de dolor más asociado a la presencia de la enfermedad"
   ]
  },
  {
   "cell_type": "markdown",
   "id": "01106773",
   "metadata": {},
   "source": [
    "### trestbps"
   ]
  },
  {
   "cell_type": "code",
   "execution_count": 96,
   "id": "3133e8b1",
   "metadata": {},
   "outputs": [
    {
     "data": {
      "image/png": "[encoded data removed]",
      "text/plain": [
       "<Figure size 1440x648 with 4 Axes>"
      ]
     },
     "metadata": {
      "needs_background": "light"
     },
     "output_type": "display_data"
    }
   ],
   "source": [
    "fig, axes = plt.subplots(2, 2, figsize=(20,9))\n",
    "\n",
    "sns.histplot(x=df[\"trestbps\"], ax=axes[0,0]).set(title='Distribución de la presión sanguínea')\n",
    "sns.histplot(x=df[\"trestbps\"], hue=df[\"num\"], ax=axes[0,1]).set(title='Distribución de la la presión sanguínea en función de la presencia de enfermedad')\n",
    "\n",
    "sns.boxplot(y=df[\"trestbps\"], ax=axes[1,0]).set(title='Distribución de la presión sanguínea')\n",
    "sns.boxplot(y=df[\"trestbps\"], x=df[\"num\"], ax=axes[1,1]).set(title='Distribución de la presión sanguínea en función de la presencia de enfermedad')\n",
    "\n",
    "plt.show()"
   ]
  },
  {
   "cell_type": "code",
   "execution_count": 26,
   "id": "980d0e1f",
   "metadata": {},
   "outputs": [
    {
     "data": {
      "text/html": [
       "<div>\n",
       "<style scoped>\n",
       "    .dataframe tbody tr th:only-of-type {\n",
       "        vertical-align: middle;\n",
       "    }\n",
       "\n",
       "    .dataframe tbody tr th {\n",
       "        vertical-align: top;\n",
       "    }\n",
       "\n",
       "    .dataframe thead th {\n",
       "        text-align: right;\n",
       "    }\n",
       "</style>\n",
       "<table border=\"1\" class=\"dataframe\">\n",
       "  <thead>\n",
       "    <tr style=\"text-align: right;\">\n",
       "      <th></th>\n",
       "      <th>num</th>\n",
       "      <th>0</th>\n",
       "      <th>1</th>\n",
       "    </tr>\n",
       "  </thead>\n",
       "  <tbody>\n",
       "    <tr>\n",
       "      <th rowspan=\"8\" valign=\"top\">trestbps</th>\n",
       "      <th>count</th>\n",
       "      <td>160.000000</td>\n",
       "      <td>137.000000</td>\n",
       "    </tr>\n",
       "    <tr>\n",
       "      <th>mean</th>\n",
       "      <td>130.187500</td>\n",
       "      <td>131.328467</td>\n",
       "    </tr>\n",
       "    <tr>\n",
       "      <th>std</th>\n",
       "      <td>12.447721</td>\n",
       "      <td>13.367052</td>\n",
       "    </tr>\n",
       "    <tr>\n",
       "      <th>min</th>\n",
       "      <td>108.000000</td>\n",
       "      <td>108.000000</td>\n",
       "    </tr>\n",
       "    <tr>\n",
       "      <th>25%</th>\n",
       "      <td>120.000000</td>\n",
       "      <td>120.000000</td>\n",
       "    </tr>\n",
       "    <tr>\n",
       "      <th>50%</th>\n",
       "      <td>130.000000</td>\n",
       "      <td>130.000000</td>\n",
       "    </tr>\n",
       "    <tr>\n",
       "      <th>75%</th>\n",
       "      <td>138.500000</td>\n",
       "      <td>140.000000</td>\n",
       "    </tr>\n",
       "    <tr>\n",
       "      <th>max</th>\n",
       "      <td>160.000000</td>\n",
       "      <td>160.000000</td>\n",
       "    </tr>\n",
       "  </tbody>\n",
       "</table>\n",
       "</div>"
      ],
      "text/plain": [
       "num                      0           1\n",
       "trestbps count  160.000000  137.000000\n",
       "         mean   130.187500  131.328467\n",
       "         std     12.447721   13.367052\n",
       "         min    108.000000  108.000000\n",
       "         25%    120.000000  120.000000\n",
       "         50%    130.000000  130.000000\n",
       "         75%    138.500000  140.000000\n",
       "         max    160.000000  160.000000"
      ]
     },
     "execution_count": 26,
     "metadata": {},
     "output_type": "execute_result"
    }
   ],
   "source": [
    "df[[\"trestbps\",\"num\"]].groupby(\"num\").describe().T"
   ]
  },
  {
   "cell_type": "markdown",
   "id": "8cc08b65",
   "metadata": {},
   "source": [
    "Parece no haber grandes diferencias en los estadísticos de tendencia central en las distribuciones de las presión sanguínea entre personas enfermas y sanas"
   ]
  },
  {
   "cell_type": "markdown",
   "id": "b2d643da",
   "metadata": {},
   "source": [
    "### Chol"
   ]
  },
  {
   "cell_type": "code",
   "execution_count": 97,
   "id": "6d109132",
   "metadata": {},
   "outputs": [
    {
     "data": {
      "image/png": "[encoded data removed]",
      "text/plain": [
       "<Figure size 1440x648 with 4 Axes>"
      ]
     },
     "metadata": {
      "needs_background": "light"
     },
     "output_type": "display_data"
    }
   ],
   "source": [
    "fig, axes = plt.subplots(2, 2, figsize=(20,9))\n",
    "\n",
    "sns.histplot(x=df[\"chol\"], ax=axes[0,0]).set(title='Distribución del colesterol')\n",
    "sns.histplot(x=df[\"chol\"], hue=df[\"num\"], ax=axes[0,1]).set(title='Distribución del colesterol en función de la presencia de enfermedad')\n",
    "\n",
    "sns.boxplot(y=df[\"chol\"], ax=axes[1,0]).set(title='Distribución del colesterol')\n",
    "sns.boxplot(y=df[\"chol\"], x=df[\"num\"], ax=axes[1,1]).set(title='Distribución del colesterol en función de la presencia de enfermedad')\n",
    "\n",
    "plt.show()"
   ]
  },
  {
   "cell_type": "code",
   "execution_count": 28,
   "id": "37869edc",
   "metadata": {},
   "outputs": [
    {
     "data": {
      "text/html": [
       "<div>\n",
       "<style scoped>\n",
       "    .dataframe tbody tr th:only-of-type {\n",
       "        vertical-align: middle;\n",
       "    }\n",
       "\n",
       "    .dataframe tbody tr th {\n",
       "        vertical-align: top;\n",
       "    }\n",
       "\n",
       "    .dataframe thead th {\n",
       "        text-align: right;\n",
       "    }\n",
       "</style>\n",
       "<table border=\"1\" class=\"dataframe\">\n",
       "  <thead>\n",
       "    <tr style=\"text-align: right;\">\n",
       "      <th></th>\n",
       "      <th>num</th>\n",
       "      <th>0</th>\n",
       "      <th>1</th>\n",
       "    </tr>\n",
       "  </thead>\n",
       "  <tbody>\n",
       "    <tr>\n",
       "      <th rowspan=\"8\" valign=\"top\">chol</th>\n",
       "      <th>count</th>\n",
       "      <td>160.000000</td>\n",
       "      <td>137.000000</td>\n",
       "    </tr>\n",
       "    <tr>\n",
       "      <th>mean</th>\n",
       "      <td>240.712500</td>\n",
       "      <td>250.072993</td>\n",
       "    </tr>\n",
       "    <tr>\n",
       "      <th>std</th>\n",
       "      <td>35.456659</td>\n",
       "      <td>36.047484</td>\n",
       "    </tr>\n",
       "    <tr>\n",
       "      <th>min</th>\n",
       "      <td>177.000000</td>\n",
       "      <td>176.000000</td>\n",
       "    </tr>\n",
       "    <tr>\n",
       "      <th>25%</th>\n",
       "      <td>211.750000</td>\n",
       "      <td>229.000000</td>\n",
       "    </tr>\n",
       "    <tr>\n",
       "      <th>50%</th>\n",
       "      <td>240.000000</td>\n",
       "      <td>243.000000</td>\n",
       "    </tr>\n",
       "    <tr>\n",
       "      <th>75%</th>\n",
       "      <td>263.000000</td>\n",
       "      <td>276.000000</td>\n",
       "    </tr>\n",
       "    <tr>\n",
       "      <th>max</th>\n",
       "      <td>325.000000</td>\n",
       "      <td>327.000000</td>\n",
       "    </tr>\n",
       "  </tbody>\n",
       "</table>\n",
       "</div>"
      ],
      "text/plain": [
       "num                  0           1\n",
       "chol count  160.000000  137.000000\n",
       "     mean   240.712500  250.072993\n",
       "     std     35.456659   36.047484\n",
       "     min    177.000000  176.000000\n",
       "     25%    211.750000  229.000000\n",
       "     50%    240.000000  243.000000\n",
       "     75%    263.000000  276.000000\n",
       "     max    325.000000  327.000000"
      ]
     },
     "execution_count": 28,
     "metadata": {},
     "output_type": "execute_result"
    }
   ],
   "source": [
    "df[[\"chol\",\"num\"]].groupby(\"num\").describe().T"
   ]
  },
  {
   "cell_type": "markdown",
   "id": "26f3387b",
   "metadata": {},
   "source": [
    "El nivel de colesterol, en promedio, es más elevado en las personas que presentan la enfermedad"
   ]
  },
  {
   "cell_type": "markdown",
   "id": "ec20126f",
   "metadata": {},
   "source": [
    "### fbs"
   ]
  },
  {
   "cell_type": "code",
   "execution_count": 98,
   "id": "173ae755",
   "metadata": {},
   "outputs": [
    {
     "data": {
      "image/png": "[encoded data removed]",
      "text/plain": [
       "<Figure size 1440x288 with 2 Axes>"
      ]
     },
     "metadata": {
      "needs_background": "light"
     },
     "output_type": "display_data"
    }
   ],
   "source": [
    "fig, axes = plt.subplots(1, 2, figsize=(20,4))\n",
    "\n",
    "sns.countplot(x=df[\"fbs\"], ax=axes[0]).set(title='Frecuencias de Fbs')\n",
    "\n",
    "sns.countplot(x=df[\"fbs\"], hue=df[\"num\"], ax=axes[1]).set(title='Frecuencias de Fbs en función de la presencia de enfermedad')\n",
    "\n",
    "plt.show()"
   ]
  },
  {
   "cell_type": "code",
   "execution_count": 30,
   "id": "0a8e25ad",
   "metadata": {},
   "outputs": [
    {
     "data": {
      "text/html": [
       "<div>\n",
       "<style scoped>\n",
       "    .dataframe tbody tr th:only-of-type {\n",
       "        vertical-align: middle;\n",
       "    }\n",
       "\n",
       "    .dataframe tbody tr th {\n",
       "        vertical-align: top;\n",
       "    }\n",
       "\n",
       "    .dataframe thead th {\n",
       "        text-align: right;\n",
       "    }\n",
       "</style>\n",
       "<table border=\"1\" class=\"dataframe\">\n",
       "  <thead>\n",
       "    <tr style=\"text-align: right;\">\n",
       "      <th>num</th>\n",
       "      <th>0</th>\n",
       "      <th>1</th>\n",
       "    </tr>\n",
       "    <tr>\n",
       "      <th>fbs</th>\n",
       "      <th></th>\n",
       "      <th></th>\n",
       "    </tr>\n",
       "  </thead>\n",
       "  <tbody>\n",
       "    <tr>\n",
       "      <th>fastingBloodSugar_false</th>\n",
       "      <td>0.461279</td>\n",
       "      <td>0.393939</td>\n",
       "    </tr>\n",
       "    <tr>\n",
       "      <th>fastingBloodSugar_true</th>\n",
       "      <td>0.077441</td>\n",
       "      <td>0.067340</td>\n",
       "    </tr>\n",
       "  </tbody>\n",
       "</table>\n",
       "</div>"
      ],
      "text/plain": [
       "num                             0         1\n",
       "fbs                                        \n",
       "fastingBloodSugar_false  0.461279  0.393939\n",
       "fastingBloodSugar_true   0.077441  0.067340"
      ]
     },
     "execution_count": 30,
     "metadata": {},
     "output_type": "execute_result"
    }
   ],
   "source": [
    "pd.crosstab(index= df[\"fbs\"], columns=df[\"num\"], normalize=True)"
   ]
  },
  {
   "cell_type": "markdown",
   "id": "e3879e9e",
   "metadata": {},
   "source": [
    "### restecg"
   ]
  },
  {
   "cell_type": "code",
   "execution_count": 99,
   "id": "671314a0",
   "metadata": {},
   "outputs": [
    {
     "data": {
      "image/png": "[encoded data removed]",
      "text/plain": [
       "<Figure size 1440x288 with 2 Axes>"
      ]
     },
     "metadata": {
      "needs_background": "light"
     },
     "output_type": "display_data"
    }
   ],
   "source": [
    "fig, axes = plt.subplots(1, 2, figsize=(20,4))\n",
    "\n",
    "sns.countplot(x=df[\"restecg\"], ax=axes[0]).set(title='Frecuencias de restecg')\n",
    "\n",
    "sns.countplot(x=df[\"restecg\"], hue=df[\"num\"], ax=axes[1]).set(title='Frecuencias de restecg en función de la presencia de enfermedad')\n",
    "\n",
    "plt.show()"
   ]
  },
  {
   "cell_type": "code",
   "execution_count": 32,
   "id": "3f92eba0",
   "metadata": {},
   "outputs": [
    {
     "data": {
      "text/html": [
       "<div>\n",
       "<style scoped>\n",
       "    .dataframe tbody tr th:only-of-type {\n",
       "        vertical-align: middle;\n",
       "    }\n",
       "\n",
       "    .dataframe tbody tr th {\n",
       "        vertical-align: top;\n",
       "    }\n",
       "\n",
       "    .dataframe thead th {\n",
       "        text-align: right;\n",
       "    }\n",
       "</style>\n",
       "<table border=\"1\" class=\"dataframe\">\n",
       "  <thead>\n",
       "    <tr style=\"text-align: right;\">\n",
       "      <th>num</th>\n",
       "      <th>0</th>\n",
       "      <th>1</th>\n",
       "    </tr>\n",
       "    <tr>\n",
       "      <th>restecg</th>\n",
       "      <th></th>\n",
       "      <th></th>\n",
       "    </tr>\n",
       "  </thead>\n",
       "  <tbody>\n",
       "    <tr>\n",
       "      <th>Left ventricular hypertrophy</th>\n",
       "      <td>0.225589</td>\n",
       "      <td>0.265993</td>\n",
       "    </tr>\n",
       "    <tr>\n",
       "      <th>Normal</th>\n",
       "      <td>0.309764</td>\n",
       "      <td>0.185185</td>\n",
       "    </tr>\n",
       "    <tr>\n",
       "      <th>ST-T wave abnormality</th>\n",
       "      <td>0.003367</td>\n",
       "      <td>0.010101</td>\n",
       "    </tr>\n",
       "  </tbody>\n",
       "</table>\n",
       "</div>"
      ],
      "text/plain": [
       "num                                  0         1\n",
       "restecg                                         \n",
       "Left ventricular hypertrophy  0.225589  0.265993\n",
       "Normal                        0.309764  0.185185\n",
       "ST-T wave abnormality         0.003367  0.010101"
      ]
     },
     "execution_count": 32,
     "metadata": {},
     "output_type": "execute_result"
    }
   ],
   "source": [
    "pd.crosstab(index= df[\"restecg\"], columns=df[\"num\"], normalize=True)"
   ]
  },
  {
   "cell_type": "markdown",
   "id": "87483ec0",
   "metadata": {},
   "source": [
    "La presencia de enfermedad se asocia en mayor proporción en los casos con hipertrofia ventricular izquierda"
   ]
  },
  {
   "cell_type": "markdown",
   "id": "5df3c3fb",
   "metadata": {},
   "source": [
    "### thalach"
   ]
  },
  {
   "cell_type": "code",
   "execution_count": 100,
   "id": "e04c20b5",
   "metadata": {},
   "outputs": [
    {
     "data": {
      "image/png": "[encoded data removed]",
      "text/plain": [
       "<Figure size 1440x648 with 4 Axes>"
      ]
     },
     "metadata": {
      "needs_background": "light"
     },
     "output_type": "display_data"
    }
   ],
   "source": [
    "fig, axes = plt.subplots(2, 2, figsize=(20,9))\n",
    "\n",
    "sns.histplot(x=df[\"thalach\"], ax=axes[0,0]).set(title='Distribución de la presión sanguínea')\n",
    "sns.histplot(x=df[\"thalach\"], hue=df[\"num\"], ax=axes[0,1]).set(title='Distribución de la la presión sanguínea en función de la presencia de enfermedad')\n",
    "\n",
    "sns.boxplot(y=df[\"thalach\"], ax=axes[1,0]).set(title='Distribución de la presión sanguínea')\n",
    "sns.boxplot(y=df[\"thalach\"], x=df[\"num\"], ax=axes[1,1]).set(title='Distribución de la presión sanguínea en función de la presencia de enfermedad')\n",
    "\n",
    "plt.show()"
   ]
  },
  {
   "cell_type": "markdown",
   "id": "a1fb6bf6",
   "metadata": {},
   "source": [
    "### Exang"
   ]
  },
  {
   "cell_type": "code",
   "execution_count": 101,
   "id": "7a6e09ea",
   "metadata": {},
   "outputs": [
    {
     "data": {
      "image/png": "[encoded data removed]",
      "text/plain": [
       "<Figure size 1440x288 with 2 Axes>"
      ]
     },
     "metadata": {
      "needs_background": "light"
     },
     "output_type": "display_data"
    }
   ],
   "source": [
    "fig, axes = plt.subplots(1, 2, figsize=(20,4))\n",
    "\n",
    "sns.countplot(x=df[\"exang\"], ax=axes[0]).set(title='Frecuencias de exang')\n",
    "\n",
    "sns.countplot(x=df[\"exang\"], hue=df[\"num\"], ax=axes[1]).set(title='Frecuencias de exang en función de la presencia de enfermedad')\n",
    "\n",
    "plt.show()"
   ]
  },
  {
   "cell_type": "code",
   "execution_count": 35,
   "id": "26f965d6",
   "metadata": {},
   "outputs": [
    {
     "data": {
      "text/html": [
       "<div>\n",
       "<style scoped>\n",
       "    .dataframe tbody tr th:only-of-type {\n",
       "        vertical-align: middle;\n",
       "    }\n",
       "\n",
       "    .dataframe tbody tr th {\n",
       "        vertical-align: top;\n",
       "    }\n",
       "\n",
       "    .dataframe thead th {\n",
       "        text-align: right;\n",
       "    }\n",
       "</style>\n",
       "<table border=\"1\" class=\"dataframe\">\n",
       "  <thead>\n",
       "    <tr style=\"text-align: right;\">\n",
       "      <th>num</th>\n",
       "      <th>0</th>\n",
       "      <th>1</th>\n",
       "    </tr>\n",
       "    <tr>\n",
       "      <th>exang</th>\n",
       "      <th></th>\n",
       "      <th></th>\n",
       "    </tr>\n",
       "  </thead>\n",
       "  <tbody>\n",
       "    <tr>\n",
       "      <th>No Angina</th>\n",
       "      <td>0.077441</td>\n",
       "      <td>0.249158</td>\n",
       "    </tr>\n",
       "    <tr>\n",
       "      <th>Yes Angina</th>\n",
       "      <td>0.461279</td>\n",
       "      <td>0.212121</td>\n",
       "    </tr>\n",
       "  </tbody>\n",
       "</table>\n",
       "</div>"
      ],
      "text/plain": [
       "num                0         1\n",
       "exang                         \n",
       "No Angina   0.077441  0.249158\n",
       "Yes Angina  0.461279  0.212121"
      ]
     },
     "execution_count": 35,
     "metadata": {},
     "output_type": "execute_result"
    }
   ],
   "source": [
    "pd.crosstab(index= df[\"exang\"], columns=df[\"num\"], normalize=True)"
   ]
  },
  {
   "cell_type": "markdown",
   "id": "2c515949",
   "metadata": {},
   "source": [
    "La ausencia de angina tiene una mayor proporción de casos en los que está presente la enfermedad"
   ]
  },
  {
   "cell_type": "markdown",
   "id": "8be630ee",
   "metadata": {},
   "source": [
    "### Oldpeak"
   ]
  },
  {
   "cell_type": "code",
   "execution_count": 102,
   "id": "c56db036",
   "metadata": {},
   "outputs": [
    {
     "data": {
      "image/png": "[encoded data removed]",
      "text/plain": [
       "<Figure size 1440x648 with 4 Axes>"
      ]
     },
     "metadata": {
      "needs_background": "light"
     },
     "output_type": "display_data"
    }
   ],
   "source": [
    "fig, axes = plt.subplots(2, 2, figsize=(20,9))\n",
    "\n",
    "sns.histplot(x=df[\"oldpeak\"], ax=axes[0,0]).set(title='Distribución de oldpeak')\n",
    "sns.histplot(x=df[\"oldpeak\"], hue=df[\"num\"], ax=axes[0,1]).set(title='Distribución de oldpeak en función de la presencia de enfermedad')\n",
    "\n",
    "sns.boxplot(y=df[\"oldpeak\"], ax=axes[1,0]).set(title='Distribución del oldpeak')\n",
    "sns.boxplot(y=df[\"oldpeak\"], x=df[\"num\"], ax=axes[1,1]).set(title='Distribución de oldpeak en función de la presencia de enfermedad')\n",
    "\n",
    "plt.show()"
   ]
  },
  {
   "cell_type": "code",
   "execution_count": 37,
   "id": "55949b16",
   "metadata": {},
   "outputs": [
    {
     "data": {
      "text/html": [
       "<div>\n",
       "<style scoped>\n",
       "    .dataframe tbody tr th:only-of-type {\n",
       "        vertical-align: middle;\n",
       "    }\n",
       "\n",
       "    .dataframe tbody tr th {\n",
       "        vertical-align: top;\n",
       "    }\n",
       "\n",
       "    .dataframe thead th {\n",
       "        text-align: right;\n",
       "    }\n",
       "</style>\n",
       "<table border=\"1\" class=\"dataframe\">\n",
       "  <thead>\n",
       "    <tr style=\"text-align: right;\">\n",
       "      <th></th>\n",
       "      <th>num</th>\n",
       "      <th>0</th>\n",
       "      <th>1</th>\n",
       "    </tr>\n",
       "  </thead>\n",
       "  <tbody>\n",
       "    <tr>\n",
       "      <th rowspan=\"8\" valign=\"top\">oldpeak</th>\n",
       "      <th>count</th>\n",
       "      <td>160.000000</td>\n",
       "      <td>137.000000</td>\n",
       "    </tr>\n",
       "    <tr>\n",
       "      <th>mean</th>\n",
       "      <td>0.560625</td>\n",
       "      <td>1.289781</td>\n",
       "    </tr>\n",
       "    <tr>\n",
       "      <th>std</th>\n",
       "      <td>0.695818</td>\n",
       "      <td>1.000903</td>\n",
       "    </tr>\n",
       "    <tr>\n",
       "      <th>min</th>\n",
       "      <td>0.000000</td>\n",
       "      <td>0.000000</td>\n",
       "    </tr>\n",
       "    <tr>\n",
       "      <th>25%</th>\n",
       "      <td>0.000000</td>\n",
       "      <td>0.600000</td>\n",
       "    </tr>\n",
       "    <tr>\n",
       "      <th>50%</th>\n",
       "      <td>0.200000</td>\n",
       "      <td>1.200000</td>\n",
       "    </tr>\n",
       "    <tr>\n",
       "      <th>75%</th>\n",
       "      <td>1.000000</td>\n",
       "      <td>2.000000</td>\n",
       "    </tr>\n",
       "    <tr>\n",
       "      <th>max</th>\n",
       "      <td>3.000000</td>\n",
       "      <td>3.400000</td>\n",
       "    </tr>\n",
       "  </tbody>\n",
       "</table>\n",
       "</div>"
      ],
      "text/plain": [
       "num                     0           1\n",
       "oldpeak count  160.000000  137.000000\n",
       "        mean     0.560625    1.289781\n",
       "        std      0.695818    1.000903\n",
       "        min      0.000000    0.000000\n",
       "        25%      0.000000    0.600000\n",
       "        50%      0.200000    1.200000\n",
       "        75%      1.000000    2.000000\n",
       "        max      3.000000    3.400000"
      ]
     },
     "execution_count": 37,
     "metadata": {},
     "output_type": "execute_result"
    }
   ],
   "source": [
    "df[[\"oldpeak\",\"num\"]].groupby(\"num\").describe().T"
   ]
  },
  {
   "cell_type": "markdown",
   "id": "1d9d1fb7",
   "metadata": {},
   "source": [
    "La presencia de enfermedad se asocia a mayores valores en oldpeak"
   ]
  },
  {
   "cell_type": "markdown",
   "id": "ef80ecb0",
   "metadata": {},
   "source": [
    "### Slope"
   ]
  },
  {
   "cell_type": "code",
   "execution_count": 105,
   "id": "bd2a9656",
   "metadata": {},
   "outputs": [
    {
     "data": {
      "image/png": "[encoded data removed]",
      "text/plain": [
       "<Figure size 1440x216 with 2 Axes>"
      ]
     },
     "metadata": {
      "needs_background": "light"
     },
     "output_type": "display_data"
    }
   ],
   "source": [
    "fig, axes = plt.subplots(1, 2, figsize=(20,3))\n",
    "\n",
    "sns.countplot(x=df[\"slope\"], ax=axes[0]).set(title='Frecuencias de slope')\n",
    "\n",
    "sns.countplot(x=df[\"slope\"], hue=df[\"num\"], ax=axes[1]).set(title='Frecuencias de slope en función de la presencia de enfermedad')\n",
    "\n",
    "plt.show()"
   ]
  },
  {
   "cell_type": "code",
   "execution_count": 39,
   "id": "b55b2fd9",
   "metadata": {},
   "outputs": [
    {
     "data": {
      "text/html": [
       "<div>\n",
       "<style scoped>\n",
       "    .dataframe tbody tr th:only-of-type {\n",
       "        vertical-align: middle;\n",
       "    }\n",
       "\n",
       "    .dataframe tbody tr th {\n",
       "        vertical-align: top;\n",
       "    }\n",
       "\n",
       "    .dataframe thead th {\n",
       "        text-align: right;\n",
       "    }\n",
       "</style>\n",
       "<table border=\"1\" class=\"dataframe\">\n",
       "  <thead>\n",
       "    <tr style=\"text-align: right;\">\n",
       "      <th>num</th>\n",
       "      <th>0</th>\n",
       "      <th>1</th>\n",
       "    </tr>\n",
       "    <tr>\n",
       "      <th>slope</th>\n",
       "      <th></th>\n",
       "      <th></th>\n",
       "    </tr>\n",
       "  </thead>\n",
       "  <tbody>\n",
       "    <tr>\n",
       "      <th>downsloping</th>\n",
       "      <td>0.030303</td>\n",
       "      <td>0.040404</td>\n",
       "    </tr>\n",
       "    <tr>\n",
       "      <th>flat</th>\n",
       "      <td>0.161616</td>\n",
       "      <td>0.299663</td>\n",
       "    </tr>\n",
       "    <tr>\n",
       "      <th>upsloping</th>\n",
       "      <td>0.346801</td>\n",
       "      <td>0.121212</td>\n",
       "    </tr>\n",
       "  </tbody>\n",
       "</table>\n",
       "</div>"
      ],
      "text/plain": [
       "num                 0         1\n",
       "slope                          \n",
       "downsloping  0.030303  0.040404\n",
       "flat         0.161616  0.299663\n",
       "upsloping    0.346801  0.121212"
      ]
     },
     "execution_count": 39,
     "metadata": {},
     "output_type": "execute_result"
    }
   ],
   "source": [
    "pd.crosstab(index= df[\"slope\"], columns=df[\"num\"], normalize=True)"
   ]
  },
  {
   "cell_type": "markdown",
   "id": "113be622",
   "metadata": {},
   "source": [
    "La proporción de mayor se da en pacientes con el slope flat y se asoacia a la ausencia de enfermedad"
   ]
  },
  {
   "cell_type": "markdown",
   "id": "96a75246",
   "metadata": {},
   "source": [
    "### Ca"
   ]
  },
  {
   "cell_type": "code",
   "execution_count": 106,
   "id": "e90c3741",
   "metadata": {},
   "outputs": [
    {
     "data": {
      "image/png": "[encoded data removed]",
      "text/plain": [
       "<Figure size 1440x648 with 4 Axes>"
      ]
     },
     "metadata": {
      "needs_background": "light"
     },
     "output_type": "display_data"
    }
   ],
   "source": [
    "fig, axes = plt.subplots(2, 2, figsize=(20,9))\n",
    "\n",
    "sns.histplot(x=df[\"ca\"], ax=axes[0,0], bins=4).set(title='Distribución de ca')\n",
    "sns.histplot(x=df[\"ca\"], hue=df[\"num\"], ax=axes[0,1], bins=4).set(title='Distribución de ca en función de la presencia de enfermedad')\n",
    "\n",
    "sns.boxplot(y=df[\"ca\"], ax=axes[1,0]).set(title='Distribución del oldpeak')\n",
    "sns.boxplot(y=df[\"ca\"], x=df[\"num\"], ax=axes[1,1]).set(title='Distribución de ca en función de la presencia de enfermedad')\n",
    "\n",
    "plt.show()"
   ]
  },
  {
   "cell_type": "code",
   "execution_count": 41,
   "id": "2e58f60d",
   "metadata": {},
   "outputs": [
    {
     "data": {
      "text/html": [
       "<div>\n",
       "<style scoped>\n",
       "    .dataframe tbody tr th:only-of-type {\n",
       "        vertical-align: middle;\n",
       "    }\n",
       "\n",
       "    .dataframe tbody tr th {\n",
       "        vertical-align: top;\n",
       "    }\n",
       "\n",
       "    .dataframe thead th {\n",
       "        text-align: right;\n",
       "    }\n",
       "</style>\n",
       "<table border=\"1\" class=\"dataframe\">\n",
       "  <thead>\n",
       "    <tr style=\"text-align: right;\">\n",
       "      <th></th>\n",
       "      <th>num</th>\n",
       "      <th>0</th>\n",
       "      <th>1</th>\n",
       "    </tr>\n",
       "  </thead>\n",
       "  <tbody>\n",
       "    <tr>\n",
       "      <th rowspan=\"8\" valign=\"top\">ca</th>\n",
       "      <th>count</th>\n",
       "      <td>160.000000</td>\n",
       "      <td>137.000000</td>\n",
       "    </tr>\n",
       "    <tr>\n",
       "      <th>mean</th>\n",
       "      <td>0.275000</td>\n",
       "      <td>1.145985</td>\n",
       "    </tr>\n",
       "    <tr>\n",
       "      <th>std</th>\n",
       "      <td>0.633945</td>\n",
       "      <td>1.018506</td>\n",
       "    </tr>\n",
       "    <tr>\n",
       "      <th>min</th>\n",
       "      <td>0.000000</td>\n",
       "      <td>0.000000</td>\n",
       "    </tr>\n",
       "    <tr>\n",
       "      <th>25%</th>\n",
       "      <td>0.000000</td>\n",
       "      <td>0.000000</td>\n",
       "    </tr>\n",
       "    <tr>\n",
       "      <th>50%</th>\n",
       "      <td>0.000000</td>\n",
       "      <td>1.000000</td>\n",
       "    </tr>\n",
       "    <tr>\n",
       "      <th>75%</th>\n",
       "      <td>0.000000</td>\n",
       "      <td>2.000000</td>\n",
       "    </tr>\n",
       "    <tr>\n",
       "      <th>max</th>\n",
       "      <td>3.000000</td>\n",
       "      <td>3.000000</td>\n",
       "    </tr>\n",
       "  </tbody>\n",
       "</table>\n",
       "</div>"
      ],
      "text/plain": [
       "num                0           1\n",
       "ca count  160.000000  137.000000\n",
       "   mean     0.275000    1.145985\n",
       "   std      0.633945    1.018506\n",
       "   min      0.000000    0.000000\n",
       "   25%      0.000000    0.000000\n",
       "   50%      0.000000    1.000000\n",
       "   75%      0.000000    2.000000\n",
       "   max      3.000000    3.000000"
      ]
     },
     "execution_count": 41,
     "metadata": {},
     "output_type": "execute_result"
    }
   ],
   "source": [
    "df[[\"ca\",\"num\"]].groupby(\"num\").describe().T"
   ]
  },
  {
   "cell_type": "markdown",
   "id": "7a113d3d",
   "metadata": {},
   "source": [
    "La presencia de vasos se asocia a la presencia de la enfermedad"
   ]
  },
  {
   "cell_type": "markdown",
   "id": "9e720137",
   "metadata": {},
   "source": [
    "### Thal"
   ]
  },
  {
   "cell_type": "code",
   "execution_count": 107,
   "id": "376474f7",
   "metadata": {},
   "outputs": [
    {
     "data": {
      "image/png": "[encoded data removed]",
      "text/plain": [
       "<Figure size 1440x360 with 2 Axes>"
      ]
     },
     "metadata": {
      "needs_background": "light"
     },
     "output_type": "display_data"
    }
   ],
   "source": [
    "fig, axes = plt.subplots(1, 2, figsize=(20,5))\n",
    "sns.countplot(x=df[\"thal\"], ax=axes[0]).set(title='Frecuencias de thal')\n",
    "sns.countplot(x=df[\"thal\"], hue=df[\"num\"], ax=axes[1]).set(title='Frecuencias de thal en función de la presencia de enfermedad')\n",
    "plt.show()"
   ]
  },
  {
   "cell_type": "code",
   "execution_count": 43,
   "id": "18ed3fe0",
   "metadata": {},
   "outputs": [
    {
     "data": {
      "text/html": [
       "<div>\n",
       "<style scoped>\n",
       "    .dataframe tbody tr th:only-of-type {\n",
       "        vertical-align: middle;\n",
       "    }\n",
       "\n",
       "    .dataframe tbody tr th {\n",
       "        vertical-align: top;\n",
       "    }\n",
       "\n",
       "    .dataframe thead th {\n",
       "        text-align: right;\n",
       "    }\n",
       "</style>\n",
       "<table border=\"1\" class=\"dataframe\">\n",
       "  <thead>\n",
       "    <tr style=\"text-align: right;\">\n",
       "      <th>num</th>\n",
       "      <th>0</th>\n",
       "      <th>1</th>\n",
       "    </tr>\n",
       "    <tr>\n",
       "      <th>thal</th>\n",
       "      <th></th>\n",
       "      <th></th>\n",
       "    </tr>\n",
       "  </thead>\n",
       "  <tbody>\n",
       "    <tr>\n",
       "      <th>fixed defect</th>\n",
       "      <td>0.020202</td>\n",
       "      <td>0.040404</td>\n",
       "    </tr>\n",
       "    <tr>\n",
       "      <th>normal</th>\n",
       "      <td>0.427609</td>\n",
       "      <td>0.124579</td>\n",
       "    </tr>\n",
       "    <tr>\n",
       "      <th>reversable defect</th>\n",
       "      <td>0.090909</td>\n",
       "      <td>0.296296</td>\n",
       "    </tr>\n",
       "  </tbody>\n",
       "</table>\n",
       "</div>"
      ],
      "text/plain": [
       "num                       0         1\n",
       "thal                                 \n",
       "fixed defect       0.020202  0.040404\n",
       "normal             0.427609  0.124579\n",
       "reversable defect  0.090909  0.296296"
      ]
     },
     "execution_count": 43,
     "metadata": {},
     "output_type": "execute_result"
    }
   ],
   "source": [
    "pd.crosstab(index= df[\"thal\"], columns=df[\"num\"], normalize=True)"
   ]
  },
  {
   "cell_type": "markdown",
   "id": "b7320238",
   "metadata": {},
   "source": [
    "Por lo general los pacientes con **thal=normal** tienden a estar sanos."
   ]
  },
  {
   "cell_type": "markdown",
   "id": "2e5658d4",
   "metadata": {},
   "source": [
    "## 4.1. Selección de los grupos de datos que se quieren analizar/comparar \n",
    "**(p.ej., si se van a comparar grupos de datos, ¿cuáles son estos grupos y\n",
    "qué tipo de análisis se van a aplicar?)**"
   ]
  },
  {
   "cell_type": "markdown",
   "id": "20e443ac",
   "metadata": {},
   "source": [
    "A lo largo de la presente investigación se van a comparar los grupos de pacientes enfermos y pacientes sanos"
   ]
  },
  {
   "cell_type": "markdown",
   "id": "52c1ae23",
   "metadata": {},
   "source": [
    "## 4.2. Comprobación de la normalidad y homogeneidad de la varianza"
   ]
  },
  {
   "cell_type": "markdown",
   "id": "bfe6553e",
   "metadata": {},
   "source": [
    "Para comprobar la normalidad de las variables cuantitiativas utilizaremos el famoso test de Shapiro-Wilk. Recordemos que si el *p*-valor resulta ser menor de 0.05 (el nivel de significación), rechazaremos la hipótesis nula, es decir, rechazaremos que los datos tienen una distribución normal. \n",
    "\n",
    "Para comprobar la homocedasticidad de los datos (variables cuantitativas), es decir, si existe una igualdad de varianzas entre dos grupos, aplicaremos el test de Levene para aquellas variables que siguen una normal y el test de Fligner-Killeen para las que no lo son. Recordemos que la premisa es la misma que con el test de Shapiro-Wilk: un *p*-valor inferior al nivel de significación $\\alpha$ supondrá el rechazo de la hipótesis nula y concluiremos que no existe homogeneidad de varianzas.\n",
    "\n",
    "Para todos ellos, definimos una función para realizar los contrastes de homogenidad de varianza de forma más efectiva:"
   ]
  },
  {
   "cell_type": "code",
   "execution_count": 130,
   "id": "ef743c36",
   "metadata": {},
   "outputs": [],
   "source": [
    "# Test de normalidad Shapiro-Wilk\n",
    "def testNormality(x):\n",
    "    \"\"\"\n",
    "    x: list type to check normality\n",
    "    \n",
    "    \"\"\"\n",
    "    \n",
    "    a = np.array(x)\n",
    "    stat, p = stats.shapiro(x)\n",
    "    \n",
    "    if p < 0.05:\n",
    "        print(\"Distribution is not normal, p value: {}\".format(p))\n",
    "    else:\n",
    "        print(\"Distribution is normal, p value: {}\".format(p))"
   ]
  },
  {
   "cell_type": "code",
   "execution_count": 44,
   "id": "62c28c06",
   "metadata": {},
   "outputs": [],
   "source": [
    "# Test de varianzas Levene en variables con distribución normal\n",
    "def testLevene(listA, listB):\n",
    "    \"\"\"\n",
    "    listA: list type to compare variance \n",
    "    listB: list type to compare variance\n",
    "    \n",
    "    \"\"\"\n",
    "    \n",
    "    a = np.array(listA)\n",
    "    b = np.array(listB)\n",
    "    stat, p = levene(a, b)\n",
    "    \n",
    "    if p < 0.05:\n",
    "        print(\"Variances not equal, p value: {}\".format(p))\n",
    "    else:\n",
    "        print(\"Variances equal, p value: {}\".format(p))"
   ]
  },
  {
   "cell_type": "code",
   "execution_count": 144,
   "id": "b48d8bce",
   "metadata": {},
   "outputs": [],
   "source": [
    "# Test de varianzas Fligner-Killeen en variables con distribución no normal\n",
    "def testFligner(listA, listB):\n",
    "    \"\"\"\n",
    "    listA: list type to compare variance \n",
    "    listB: list type to compare variance\n",
    "    \n",
    "    \"\"\"\n",
    "    \n",
    "    a = np.array(listA)\n",
    "    b = np.array(listB)\n",
    "    stat, p = fligner(a, b)\n",
    "    \n",
    "    if p < 0.05:\n",
    "        print(\"Variances not equal, p value: {}\".format(p))\n",
    "    else:\n",
    "        print(\"Variances equal, p value: {}\".format(p))"
   ]
  },
  {
   "cell_type": "markdown",
   "id": "00bb3cce",
   "metadata": {},
   "source": [
    "Separamos los datos en enfermos y sanos para facilitar los contrastes:"
   ]
  },
  {
   "cell_type": "code",
   "execution_count": 158,
   "id": "f04c8c03",
   "metadata": {},
   "outputs": [],
   "source": [
    "df_sick = df[df[\"num\"] == 1] \n",
    "df_healthy = df[df[\"num\"] == 0] "
   ]
  },
  {
   "cell_type": "markdown",
   "id": "f849caf6",
   "metadata": {},
   "source": [
    "### `age`"
   ]
  },
  {
   "cell_type": "code",
   "execution_count": 145,
   "id": "875c8587",
   "metadata": {
    "scrolled": false
   },
   "outputs": [
    {
     "name": "stdout",
     "output_type": "stream",
     "text": [
      "\n",
      "Test de normalidad para la edad en población con patologías cardiacas:\n",
      "Distribution is not normal, p value: 0.0016702482243999839\n",
      "\n",
      "Test de normalidad para la edad en población sin patologías cardiacas:\n",
      "Distribution is normal, p value: 0.11104635894298553\n"
     ]
    }
   ],
   "source": [
    "print(\"\\nTest de normalidad para la edad en población con patologías cardiacas:\")\n",
    "testNormality(df_sick[\"age\"])\n",
    "print(\"\\nTest de normalidad para la edad en población sin patologías cardiacas:\")\n",
    "testNormality(df_healthy[\"age\"])"
   ]
  },
  {
   "cell_type": "markdown",
   "id": "f2c73145",
   "metadata": {},
   "source": [
    "Siendo rigurosos, visto que una de las distribuciones no sigue una distribución normal, aplicaremos el Test Fligner-Killen para comparar las varianzas. Sin embargo, recordemos que el tamaño de las muestras es superior a 30, por lo tanto, según el Teorema Central del Límite, podríamos asumir que la distribución de la media de la muestra se asemeja a la de una normal."
   ]
  },
  {
   "cell_type": "code",
   "execution_count": 161,
   "id": "df3dcc1c",
   "metadata": {
    "scrolled": true
   },
   "outputs": [
    {
     "name": "stdout",
     "output_type": "stream",
     "text": [
      "137\n",
      "160\n"
     ]
    }
   ],
   "source": [
    "print(len(df_sick))\n",
    "print(len(df_healthy))"
   ]
  },
  {
   "cell_type": "code",
   "execution_count": 146,
   "id": "57f3c748",
   "metadata": {},
   "outputs": [
    {
     "name": "stdout",
     "output_type": "stream",
     "text": [
      "Test de varianza entre la edad en pacientes con patologías caridacas y sin ellas:\n",
      "Variances not equal, p value: 0.003954117411351063\n"
     ]
    }
   ],
   "source": [
    "print(\"Test de varianza entre la edad en pacientes con patologías caridacas y sin ellas:\")\n",
    "testFligner(df_sick[\"age\"], df_healthy[\"age\"])"
   ]
  },
  {
   "cell_type": "markdown",
   "id": "54883cdb",
   "metadata": {},
   "source": [
    "### `trestbps`"
   ]
  },
  {
   "cell_type": "code",
   "execution_count": 149,
   "id": "5dee8f1e",
   "metadata": {
    "scrolled": true
   },
   "outputs": [
    {
     "name": "stdout",
     "output_type": "stream",
     "text": [
      "\n",
      "Test de normalidad para la presión sanguínea en reposo en población con patologías cardiacas:\n",
      "Distribution is not normal, p value: 0.0011744850780814886\n",
      "\n",
      "Test de normalidad para la presión sanguínea en reposo en población sin patologías cardiacas:\n",
      "Distribution is not normal, p value: 0.00020238129945937544\n"
     ]
    }
   ],
   "source": [
    "print(\"\\nTest de normalidad para la presión sanguínea en reposo en población con patologías cardiacas:\")\n",
    "testNormality(df_sick[\"trestbps\"])\n",
    "print(\"\\nTest de normalidad para la presión sanguínea en reposo en población sin patologías cardiacas:\")\n",
    "testNormality(df_healthy[\"trestbps\"])"
   ]
  },
  {
   "cell_type": "markdown",
   "id": "6278a38f",
   "metadata": {},
   "source": [
    "Como ambas distribuciones no son normales, optamos por hacer el test de Fligner-Killeen para la homocedasticidad."
   ]
  },
  {
   "cell_type": "code",
   "execution_count": 162,
   "id": "bf0cb10e",
   "metadata": {},
   "outputs": [
    {
     "name": "stdout",
     "output_type": "stream",
     "text": [
      "Test de varianza entre la presión sanguínea en reposo en pacientes con patologías caridacas y sin ellas:\n",
      "Variances equal, p value: 0.32114310607369934\n"
     ]
    }
   ],
   "source": [
    "print(\"Test de varianza entre la presión sanguínea en reposo en pacientes con patologías caridacas y sin ellas:\")\n",
    "testFligner(df_sick[\"trestbps\"], df_healthy[\"trestbps\"])"
   ]
  },
  {
   "cell_type": "markdown",
   "id": "99c2cd07",
   "metadata": {},
   "source": [
    "### `chol`"
   ]
  },
  {
   "cell_type": "code",
   "execution_count": 170,
   "id": "5a248cae",
   "metadata": {
    "scrolled": false
   },
   "outputs": [
    {
     "name": "stdout",
     "output_type": "stream",
     "text": [
      "\n",
      "Test de normalidad para el colesterol en población con patologías cardiacas:\n",
      "Distribution is normal, p value: 0.10689220577478409\n",
      "\n",
      "Test de normalidad para el colesterol en población sin patologías cardiacas:\n",
      "Distribution is not normal, p value: 0.0006504325428977609\n"
     ]
    }
   ],
   "source": [
    "print(\"\\nTest de normalidad para el colesterol en población con patologías cardiacas:\")\n",
    "testNormality(df_sick[\"chol\"])\n",
    "print(\"\\nTest de normalidad para el colesterol en población sin patologías cardiacas:\")\n",
    "testNormality(df_healthy[\"chol\"])"
   ]
  },
  {
   "cell_type": "markdown",
   "id": "fdd970a7",
   "metadata": {},
   "source": [
    "Como una de las distribuciones no es normal, optamos por hacer el test de Fligner-Killeen para la homocedasticidad."
   ]
  },
  {
   "cell_type": "code",
   "execution_count": 195,
   "id": "f57ff581",
   "metadata": {
    "scrolled": true
   },
   "outputs": [
    {
     "name": "stdout",
     "output_type": "stream",
     "text": [
      "Test de varianza entre el colesterol en pacientes con patologías caridacas y sin ellas:\n",
      "Variances equal, p value: 0.7886596720202534\n"
     ]
    }
   ],
   "source": [
    "print(\"Test de varianza entre el colesterol en pacientes con patologías caridacas y sin ellas:\")\n",
    "testFligner(df_sick[\"chol\"], df_healthy[\"chol\"])"
   ]
  },
  {
   "cell_type": "markdown",
   "id": "8600b57b",
   "metadata": {},
   "source": [
    "### `thalach`"
   ]
  },
  {
   "cell_type": "code",
   "execution_count": 174,
   "id": "13143ad9",
   "metadata": {
    "scrolled": true
   },
   "outputs": [
    {
     "name": "stdout",
     "output_type": "stream",
     "text": [
      "\n",
      "Test de normalidad para la frecuencia cardiaca máxima en población con patologías cardiacas:\n",
      "Distribution is not normal, p value: 0.024152381345629692\n",
      "\n",
      "Test de normalidad para la frecuencia cardiaca máxima en población sin patologías cardiacas:\n",
      "Distribution is not normal, p value: 2.2021031327312812e-05\n"
     ]
    }
   ],
   "source": [
    "print(\"\\nTest de normalidad para la frecuencia cardiaca máxima en población con patologías cardiacas:\")\n",
    "testNormality(df_sick[\"thalach\"])\n",
    "print(\"\\nTest de normalidad para la frecuencia cardiaca máxima en población sin patologías cardiacas:\")\n",
    "testNormality(df_healthy[\"thalach\"])"
   ]
  },
  {
   "cell_type": "markdown",
   "id": "1b6cb0c5",
   "metadata": {},
   "source": [
    "Como ambas distribuciones no son normales, optamos por hacer el test de Fligner-Killeen para la homocedasticidad."
   ]
  },
  {
   "cell_type": "code",
   "execution_count": 200,
   "id": "6e051339",
   "metadata": {
    "scrolled": false
   },
   "outputs": [
    {
     "name": "stdout",
     "output_type": "stream",
     "text": [
      "Test de varianza entre la frecuencia cardiaca máxima en pacientes con patologías caridacas y sin ellas:\n",
      "Variances equal, p value: 0.07540335575256349\n"
     ]
    }
   ],
   "source": [
    "print(\"Test de varianza entre la frecuencia cardiaca máxima en pacientes con patologías caridacas y sin ellas:\")\n",
    "testFligner(df_sick[\"thalach\"], df_healthy[\"thalach\"])"
   ]
  },
  {
   "cell_type": "markdown",
   "id": "046d18ab",
   "metadata": {},
   "source": [
    "### `oldpeak`"
   ]
  },
  {
   "cell_type": "code",
   "execution_count": 179,
   "id": "fc964051",
   "metadata": {
    "scrolled": true
   },
   "outputs": [
    {
     "name": "stdout",
     "output_type": "stream",
     "text": [
      "\n",
      "Test de normalidad para la depresión del ST inducida por el ejercicio en población con patologías cardiacas:\n",
      "Distribution is not normal, p value: 3.473451670288341e-06\n",
      "\n",
      "Test de normalidad para la depresión del ST inducida por el ejercicio en población sin patologías cardiacas:\n",
      "Distribution is not normal, p value: 2.1279836616774905e-13\n"
     ]
    }
   ],
   "source": [
    "print(\"\\nTest de normalidad para la depresión del ST inducida por el ejercicio en población con patologías cardiacas:\")\n",
    "testNormality(df_sick[\"oldpeak\"])\n",
    "print(\"\\nTest de normalidad para la depresión del ST inducida por el ejercicio en población sin patologías cardiacas:\")\n",
    "testNormality(df_healthy[\"oldpeak\"])"
   ]
  },
  {
   "cell_type": "markdown",
   "id": "3810e002",
   "metadata": {},
   "source": [
    "Como ambas distribuciones no son normales, optamos por hacer el test de Fligner-Killeen para la homocedasticidad."
   ]
  },
  {
   "cell_type": "code",
   "execution_count": 180,
   "id": "e4702040",
   "metadata": {
    "scrolled": false
   },
   "outputs": [
    {
     "name": "stdout",
     "output_type": "stream",
     "text": [
      "Test de varianza entre la frecuencia cardiaca máxima en pacientes con patologías caridacas y sin ellas:\n",
      "Variances not equal, p value: 0.0002196641112224477\n"
     ]
    }
   ],
   "source": [
    "print(\"Test de varianza entre la frecuencia cardiaca máxima en pacientes con patologías caridacas y sin ellas:\")\n",
    "testFligner(df_sick[\"oldpeak\"], df_healthy[\"oldpeak\"])"
   ]
  },
  {
   "cell_type": "markdown",
   "id": "e29a10f4",
   "metadata": {},
   "source": [
    "### `ca`"
   ]
  },
  {
   "cell_type": "code",
   "execution_count": 185,
   "id": "eaac6f84",
   "metadata": {
    "scrolled": true
   },
   "outputs": [
    {
     "name": "stdout",
     "output_type": "stream",
     "text": [
      "\n",
      "Test de normalidad para el número de vasos principales en población con patologías cardiacas:\n",
      "Distribution is not normal, p value: 2.0717264015424064e-10\n",
      "\n",
      "Test de normalidad para el número de vasos principales en población sin patologías cardiacas:\n",
      "Distribution is not normal, p value: 2.7069059434691266e-21\n"
     ]
    }
   ],
   "source": [
    "print(\"\\nTest de normalidad para el número de vasos principales en población con patologías cardiacas:\")\n",
    "testNormality(df_sick[\"ca\"])\n",
    "print(\"\\nTest de normalidad para el número de vasos principales en población sin patologías cardiacas:\")\n",
    "testNormality(df_healthy[\"ca\"])"
   ]
  },
  {
   "cell_type": "markdown",
   "id": "13d990cf",
   "metadata": {},
   "source": [
    "Como ambas distribuciones son no normales, optamos por hacer el test de Fligner-Killeen para la homocedasticidad."
   ]
  },
  {
   "cell_type": "code",
   "execution_count": 187,
   "id": "60aea116",
   "metadata": {
    "scrolled": true
   },
   "outputs": [
    {
     "name": "stdout",
     "output_type": "stream",
     "text": [
      "Test de varianza entre el número de vasos principales en pacientes con patologías caridacas y sin ellas:\n",
      "Variances not equal, p value: 6.981563629337983e-11\n"
     ]
    }
   ],
   "source": [
    "print(\"Test de varianza entre el número de vasos principales en pacientes con patologías caridacas y sin ellas:\")\n",
    "testFligner(df_sick[\"ca\"], df_healthy[\"ca\"])"
   ]
  },
  {
   "cell_type": "markdown",
   "id": "cdf91ead",
   "metadata": {},
   "source": [
    "Como ya hemos comentado, por el tamaño muestral podríamos haber asumido normalidad y optado por el Test Levene en todas ellas. Hemos hecho también este test (aunque no lo ponemos aquí por cuestiones de espacio) y la conclusión ha sido en todas ocasiones la misma.\n",
    "\n",
    "Exponemos a continuación la tabla resumen.\n",
    "\n",
    "| **Variable** | **Resultado test de normalidad** (enfermos / sanos) | **Resultado test de igualdad de varianzas** |\n",
    "|---|---|---|\n",
    "| age | Distribución no normal / Distribución normal | Varianzas no iguales |\n",
    "| trestbps | Distribución no normal / Distribución no normal | Varianzas iguales |\n",
    "| chol | Distribución normal / Distribución no normal | Varianzas iguales |\n",
    "| thalach | Distribución no normal / Distribución no normal | Varianzas iguales |\n",
    "| oldpeak | Distribución no normal / Distribución no normal | Varianzas no iguales |\n",
    "| ca | Distribución no normal / Distribución no normal | Varianzas no iguales |"
   ]
  },
  {
   "cell_type": "markdown",
   "id": "03a35b55",
   "metadata": {},
   "source": [
    "## 4.3. Aplicación de pruebas estadísticas para comparar los grupos de datos\n",
    "**En función de los datos y el objetivo del estudio, aplicar pruebas de contraste de hipótesis, correlaciones, regresiones, etc. Aplicar al menos tres métodos de análisis diferentes.**\n",
    "\n"
   ]
  },
  {
   "cell_type": "code",
   "execution_count": null,
   "id": "2ff8f76c",
   "metadata": {},
   "outputs": [],
   "source": []
  },
  {
   "cell_type": "markdown",
   "id": "34a66a56",
   "metadata": {},
   "source": [
    "### 4.4.2. Relación entre predictores\n"
   ]
  },
  {
   "cell_type": "code",
   "execution_count": null,
   "id": "e076b663",
   "metadata": {},
   "outputs": [],
   "source": [
    "df[[\"age\",\"trestbps\",\"chol\",\"thalach\",\"ca\"]].corr()"
   ]
  },
  {
   "cell_type": "code",
   "execution_count": null,
   "id": "7e780b2c",
   "metadata": {},
   "outputs": [],
   "source": [
    "sns.heatmap(df[[\"age\",\"trestbps\",\"chol\",\"thalach\",\"ca\"]].corr(),\n",
    "            vmin=-1, vmax=1, center=0,\n",
    "            square=True,\n",
    "            annot=True,\n",
    "            fmt=\".1f\"\n",
    "           )\n",
    "plt.show()"
   ]
  },
  {
   "cell_type": "code",
   "execution_count": null,
   "id": "4c61f55f",
   "metadata": {},
   "outputs": [],
   "source": [
    "sns.pairplot(df[[\"age\",\"trestbps\",\"chol\",\"thalach\",\"ca\"]])"
   ]
  },
  {
   "cell_type": "markdown",
   "id": "53dab188",
   "metadata": {},
   "source": [
    "Se concluye que no hay correlaciones elevadas entre las variables predictoras"
   ]
  },
  {
   "cell_type": "markdown",
   "id": "d4264faf",
   "metadata": {},
   "source": [
    "## 4.4. Modelaje Estadístico"
   ]
  },
  {
   "cell_type": "markdown",
   "id": "59c572c4",
   "metadata": {},
   "source": [
    "Realizamos un one hot encoding sobre las variables categóricas"
   ]
  },
  {
   "cell_type": "code",
   "execution_count": null,
   "id": "5a54a782",
   "metadata": {},
   "outputs": [],
   "source": [
    "df = pd.get_dummies(df, prefix='sex', columns=[\"sex\"], drop_first=True)\n",
    "df = pd.get_dummies(df, prefix='cp', columns=[\"cp\"], drop_first=True)\n",
    "df = pd.get_dummies(df, prefix='fbs', columns=[\"fbs\"], drop_first=True)\n",
    "df = pd.get_dummies(df, prefix='restecg', columns=[\"restecg\"], drop_first=True)\n",
    "df = pd.get_dummies(df, prefix='exang', columns=[\"exang\"], drop_first=True)\n",
    "df = pd.get_dummies(df, prefix='slope', columns=[\"slope\"], drop_first=True)\n",
    "df = pd.get_dummies(df, prefix='thal', columns=[\"thal\"], drop_first=True)\n",
    "\n",
    "df.sample(5)"
   ]
  },
  {
   "cell_type": "code",
   "execution_count": null,
   "id": "3e37d263",
   "metadata": {},
   "outputs": [],
   "source": [
    "df.shape"
   ]
  },
  {
   "cell_type": "markdown",
   "id": "237149aa",
   "metadata": {},
   "source": [
    "Elegimos probar principalmente 3 clasificadores:"
   ]
  },
  {
   "cell_type": "code",
   "execution_count": null,
   "id": "39185442",
   "metadata": {},
   "outputs": [],
   "source": [
    "logistcRegresion = LogisticRegression()\n",
    "decisionTree = DecisionTreeClassifier()\n",
    "randomForest = RandomForestClassifier()"
   ]
  },
  {
   "cell_type": "markdown",
   "id": "348f30bb",
   "metadata": {},
   "source": [
    "Definimos estos parámetros para hacer grid search"
   ]
  },
  {
   "cell_type": "code",
   "execution_count": null,
   "id": "31057305",
   "metadata": {},
   "outputs": [],
   "source": [
    "############### LR\n",
    "logistcRegresion_params = {'C': [0.01,0.1,1,10,100,1000]}\n",
    "\n",
    "############### DT\n",
    "\n",
    "decisionTree_params = {\"criterion\":[\"gini\",\"entropy\"],\n",
    "                       \"max_depth\":[5,10,20]    \n",
    "                      }\n",
    "\n",
    "############### RF\n",
    "randomForest_params = {\n",
    "    'max_depth': [5,10,20],\n",
    "    \"criterion\":[\"gini\",\"entropy\"],\n",
    "    'max_features': ['auto'],\n",
    "    'n_estimators': [10,80],\n",
    "    'n_jobs':[-1]\n",
    "    \n",
    "}\n"
   ]
  },
  {
   "cell_type": "markdown",
   "id": "add77934",
   "metadata": {},
   "source": [
    "Separamos en X e Y"
   ]
  },
  {
   "cell_type": "code",
   "execution_count": null,
   "id": "bff27850",
   "metadata": {},
   "outputs": [],
   "source": [
    "X = df.loc[:, df.columns != 'num']\n",
    "y = list(df[\"num\"])"
   ]
  },
  {
   "cell_type": "code",
   "execution_count": null,
   "id": "f9d51784",
   "metadata": {},
   "outputs": [],
   "source": [
    "X.head(2)"
   ]
  },
  {
   "cell_type": "code",
   "execution_count": null,
   "id": "37446bd8",
   "metadata": {},
   "outputs": [],
   "source": [
    "y[0:3]"
   ]
  },
  {
   "cell_type": "markdown",
   "id": "6ea91223",
   "metadata": {},
   "source": [
    "Escalamos todas las variables para se encuentren en la misma escala de medición"
   ]
  },
  {
   "cell_type": "code",
   "execution_count": null,
   "id": "3bdeded6",
   "metadata": {},
   "outputs": [],
   "source": [
    "scaler = MinMaxScaler()\n",
    "X_scaled = scaler.fit_transform(X)"
   ]
  },
  {
   "cell_type": "markdown",
   "id": "993fa600",
   "metadata": {},
   "source": [
    "Realizamos un grid search para el algoritmo de regresión logística y nos quedamos con el modelo mayor performance"
   ]
  },
  {
   "cell_type": "code",
   "execution_count": null,
   "id": "a93ad83a",
   "metadata": {},
   "outputs": [],
   "source": [
    "model_GS_logisticRegression = GridSearchCV(estimator=logistcRegresion,\n",
    "                                           param_grid=logistcRegresion_params, \n",
    "                                           scoring = ['accuracy', 'f1','roc_auc'],\n",
    "                                           n_jobs=-1,\n",
    "                                           cv=5,\n",
    "                                           verbose=False,\n",
    "                                           refit='f1'\n",
    "                            )\n",
    "        \n",
    "model_GS_logisticRegression.fit(X_scaled,y)\n",
    "estimator = model_GS_logisticRegression.best_estimator_\n",
    "\n",
    "dump(estimator, str(\"models/\" + \"bestModeloRegressionLogistc\" + \".joblib\"))"
   ]
  },
  {
   "cell_type": "code",
   "execution_count": null,
   "id": "445327d4",
   "metadata": {},
   "outputs": [],
   "source": [
    "resultsRegressionLogistic = pd.DataFrame(model_GS_logisticRegression.cv_results_)\n",
    "resultsRegressionLogistic = resultsRegressionLogistic[[\"mean_fit_time\", \n",
    "                                                       \"params\", \n",
    "                                                       \"mean_test_accuracy\",\"std_test_accuracy\",\n",
    "                                                       \"mean_test_f1\",\"std_test_f1\",\n",
    "                                                       \"mean_test_roc_auc\",\"std_test_roc_auc\"]]"
   ]
  },
  {
   "cell_type": "code",
   "execution_count": null,
   "id": "27bd8002",
   "metadata": {},
   "outputs": [],
   "source": [
    "resultsRegressionLogistic.head(2)"
   ]
  },
  {
   "cell_type": "markdown",
   "id": "accf2730",
   "metadata": {},
   "source": [
    "Realizamos el mismo procedimiento para el árbol de decisión"
   ]
  },
  {
   "cell_type": "code",
   "execution_count": null,
   "id": "244116d0",
   "metadata": {},
   "outputs": [],
   "source": [
    "model_GS_decisionTree = GridSearchCV(estimator=decisionTree,\n",
    "                                           param_grid=decisionTree_params, \n",
    "                                           scoring = ['accuracy', 'f1','roc_auc'],\n",
    "                                           n_jobs=-1,\n",
    "                                           cv=5,\n",
    "                                           verbose=False,\n",
    "                                           refit='f1'\n",
    "                            )\n",
    "        \n",
    "model_GS_decisionTree.fit(X_scaled,y)\n",
    "estimator_dt = model_GS_decisionTree.best_estimator_\n",
    "\n",
    "dump(estimator_dt, str(\"models/\" + \"bestModeloDecisionTree\" + \".joblib\"))\n",
    "\n",
    "results_dt = pd.DataFrame(model_GS_decisionTree.cv_results_)\n",
    "results_dt = results_dt[[\"mean_fit_time\", \n",
    "                                                       \"params\", \n",
    "                                                       \"mean_test_accuracy\",\"std_test_accuracy\",\n",
    "                                                       \"mean_test_f1\",\"std_test_f1\",\n",
    "                                                       \"mean_test_roc_auc\",\"std_test_roc_auc\"]]\n",
    "\n",
    "results_dt.head(2)"
   ]
  },
  {
   "cell_type": "markdown",
   "id": "0194e2ab",
   "metadata": {},
   "source": [
    "Realizamos el mismo procedimiento para el Random Forest"
   ]
  },
  {
   "cell_type": "code",
   "execution_count": null,
   "id": "ff8d5d85",
   "metadata": {},
   "outputs": [],
   "source": [
    "model_GS_RF = GridSearchCV(estimator=randomForest,\n",
    "                                           param_grid=randomForest_params, \n",
    "                                           scoring = ['accuracy', 'f1','roc_auc'],\n",
    "                                           n_jobs=-1,\n",
    "                                           cv=5,\n",
    "                                           verbose=False,\n",
    "                                           refit='f1'\n",
    "                            )\n",
    "        \n",
    "model_GS_RF.fit(X_scaled,y)\n",
    "estimator_RF = model_GS_RF.best_estimator_\n",
    "\n",
    "dump(estimator_RF, str(\"models/\" + \"bestModeloRF\" + \".joblib\"))\n",
    "\n",
    "results_RF = pd.DataFrame(model_GS_RF.cv_results_)\n",
    "results_RF = results_RF[[\"mean_fit_time\", \n",
    "                                                       \"params\", \n",
    "                                                       \"mean_test_accuracy\",\"std_test_accuracy\",\n",
    "                                                       \"mean_test_f1\",\"std_test_f1\",\n",
    "                                                       \"mean_test_roc_auc\",\"std_test_roc_auc\"]]\n",
    "\n",
    "results_RF.head(2)"
   ]
  },
  {
   "cell_type": "markdown",
   "id": "6be41c32",
   "metadata": {},
   "source": [
    "Concatenamos todos los resultados de los grid search para su análisis"
   ]
  },
  {
   "cell_type": "code",
   "execution_count": null,
   "id": "3aa2a54e",
   "metadata": {},
   "outputs": [],
   "source": [
    "resultsRegressionLogistic[\"Model\"] = \"Regresion Logistica\"\n",
    "results_dt[\"Model\"] = \"Decision Tree\"\n",
    "results_RF[\"Model\"] = \"Random Forest\"\n",
    "\n",
    "results = pd.concat([resultsRegressionLogistic, results_dt, results_RF])\n",
    "results.to_csv(\"resultsModels.csv\", index=False, sep=\"|\")"
   ]
  },
  {
   "cell_type": "code",
   "execution_count": null,
   "id": "82cf56a0",
   "metadata": {},
   "outputs": [],
   "source": [
    "results[[\"Model\",\"mean_fit_time\"]].groupby(\"Model\").mean()"
   ]
  },
  {
   "cell_type": "markdown",
   "id": "09a5f29c",
   "metadata": {},
   "source": [
    "El algoritmo que en promedio tarda más en entrenar es el Random Forest"
   ]
  },
  {
   "cell_type": "code",
   "execution_count": null,
   "id": "d5c91d31",
   "metadata": {},
   "outputs": [],
   "source": [
    "results[[\"Model\",\"mean_test_accuracy\",\"mean_test_f1\",\"mean_test_roc_auc\"]].groupby(\"Model\").mean()"
   ]
  },
  {
   "cell_type": "markdown",
   "id": "3794c34a",
   "metadata": {},
   "source": [
    "Random Forest y regresión logística son los modelos con mayor accuracy, son los de mayor performance detectando a los pacientes con la enfermedad"
   ]
  },
  {
   "cell_type": "markdown",
   "id": "bf3d9b95",
   "metadata": {},
   "source": [
    "Cargamos los modelos de mayor performance:"
   ]
  },
  {
   "cell_type": "markdown",
   "id": "a868dfc3",
   "metadata": {},
   "source": [
    "realizamos una validación final"
   ]
  },
  {
   "cell_type": "code",
   "execution_count": null,
   "id": "8726060c",
   "metadata": {},
   "outputs": [],
   "source": [
    "model_RL = load(\"models/bestModeloRegressionLogistc.joblib\")\n",
    "model_DT = load(\"models/bestModeloDecisionTree.joblib\")\n",
    "model_RF = load(\"models/bestModeloRF.joblib\")"
   ]
  },
  {
   "cell_type": "code",
   "execution_count": null,
   "id": "0ebd2cf9",
   "metadata": {},
   "outputs": [],
   "source": [
    "y_pred_RL = model_RL.predict(X_scaled)\n",
    "print(classification_report(y, y_pred_RL))"
   ]
  },
  {
   "cell_type": "code",
   "execution_count": null,
   "id": "e3b73881",
   "metadata": {},
   "outputs": [],
   "source": [
    "y_pred_DT = model_DT.predict(X_scaled)\n",
    "print(classification_report(y, y_pred_DT))"
   ]
  },
  {
   "cell_type": "code",
   "execution_count": null,
   "id": "33d4e500",
   "metadata": {},
   "outputs": [],
   "source": [
    "y_pred_RF = model_RF.predict(X_scaled)\n",
    "print(classification_report(y, y_pred_RF))"
   ]
  },
  {
   "cell_type": "code",
   "execution_count": null,
   "id": "3df1e074",
   "metadata": {},
   "outputs": [],
   "source": [
    "ns_probs = [0 for _ in range(len(y))]\n",
    "\n",
    "\n",
    "RL_props = model_RL.predict_proba(X_scaled)\n",
    "RL_props = RL_props[:, 1]\n",
    "\n",
    "DT_props = model_DT.predict_proba(X_scaled)\n",
    "DT_props = DT_props[:, 1]\n",
    "\n",
    "RF_props = model_RF.predict_proba(X_scaled)\n",
    "RF_props = RF_props[:, 1]\n",
    "\n",
    "\n",
    "ns_auc = roc_auc_score(y, ns_probs)\n",
    "RL_auc = roc_auc_score(y, RL_props)\n",
    "DT_auc = roc_auc_score(y, DT_props)\n",
    "RF_auc = roc_auc_score(y, RF_props)\n",
    "\n",
    "print('Regresion Logistica: ROC AUC = %.3f' % (RL_auc))\n",
    "print('Decision Tree: ROC AUC = %.3f' % (DT_auc))\n",
    "print('Random Forest: ROC AUC = %.3f' % (RF_auc))\n",
    "\n",
    "\n",
    "\n",
    "ns_fpr, ns_tpr, _ = roc_curve(y, ns_probs)\n",
    "\n",
    "rL_fpr, rL_tpr, _ = roc_curve(y, RL_props)\n",
    "dt_fpr, dt_tpr, _ = roc_curve(y, DT_props)\n",
    "rf_fpr, rf_tpr, _ = roc_curve(y, RF_props)\n",
    "\n",
    "\n",
    "plt.plot(ns_fpr, ns_tpr, linestyle='--')\n",
    "plt.plot(rL_fpr, rL_tpr, marker='.', label='Regresion Logistica')\n",
    "plt.plot(dt_fpr, dt_tpr, marker='.', label='Decision Tree')\n",
    "plt.plot(rf_fpr, rf_tpr, marker='.', label='Random Forest')\n",
    "\n",
    "\n",
    "plt.xlabel('Tasa de Falsos Positivos')\n",
    "plt.ylabel('Tasa de Verdaderos Positivos')\n",
    "plt.legend()"
   ]
  },
  {
   "cell_type": "markdown",
   "id": "1c615a43",
   "metadata": {},
   "source": [
    "# 5. Representación gráfica\n",
    "**Representación de los resultados a partir de tablas y gráficas. Este apartado se puede responder a lo largo de la práctica, sin necesidad de concentrar todas las representaciones en este punto de la práctica.**\n",
    "\n",
    "xxx Resuelto a lo largo de la práctica xx"
   ]
  },
  {
   "cell_type": "markdown",
   "id": "1c7ea8f6",
   "metadata": {},
   "source": [
    "# 6. Resolución del problema\n",
    "**A partir de los resultados obtenidos, ¿cuáles son las conclusiones? ¿Los resultados permiten responder al problema?**"
   ]
  },
  {
   "cell_type": "markdown",
   "id": "fcbde7c9",
   "metadata": {},
   "source": [
    "# 7. Código\n",
    "**Hay que adjuntar el código, preferiblemente en R, con el que se ha realizado la limpieza, análisis y representación de los datos. Si lo preferís, también podéis trabajar en Python.**\n",
    "\n",
    "xx El código se ha ido viendo a lo largo de la práctica xx"
   ]
  },
  {
   "cell_type": "markdown",
   "id": "ee52a2aa",
   "metadata": {},
   "source": [
    "# 8. Vídeo\n",
    "**Realizar un breve vídeo explicativo de la práctica (máximo 10 minutos), donde ambos integrantes del equipo expliquen con sus propias palabras el desarrollo de la práctica, basándose en las preguntas del enunciado para justificar y explicar el código desarrollado. Este vídeo se deberá entregar a través de un enlace al Google Drive de la UOC (https://drive.google.com/...), junto con enlace al repositorio Git entregado.**"
   ]
  },
  {
   "cell_type": "markdown",
   "id": "5f6d082f",
   "metadata": {},
   "source": [
    "# Contribuciones"
   ]
  },
  {
   "cell_type": "code",
   "execution_count": null,
   "id": "c67a88d6",
   "metadata": {},
   "outputs": [],
   "source": [
    "contribuciones = pd.DataFrame()\n",
    "contribuciones['Contribuciones'] = ['Investigación previa', 'Redacción de las respuestas', 'Desarrollo del código', 'Participación en el vídeo']\n",
    "contribuciones['Firma'] = ['Víctor H. Ayala, Clara Roca', 'Víctor H. Ayala, Clara Roca', 'Víctor H. Ayala, Clara Roca', 'Víctor H. Ayala, Clara Roca']\n",
    "contribuciones"
   ]
  },
  {
   "cell_type": "markdown",
   "id": "875efc0b",
   "metadata": {},
   "source": [
    "***"
   ]
  },
  {
   "cell_type": "code",
   "execution_count": null,
   "id": "1e1b5652",
   "metadata": {},
   "outputs": [],
   "source": [
    "#### Práctica 2: Tipología y ciclo de vida de los datos\n",
    "# Análisis sobre enfermedades cardiacas\n",
    "#### Autores: \n",
    "- Víctor H. Ayala Sánchez  \n",
    "- Clara M. Roca de la Concha\n",
    "\n",
    "https://archive.ics.uci.edu/ml/datasets/heart+disease\n",
    "\n",
    "# Tabla de contenidos\n",
    "\n",
    "- 1. [Descripción del dataset](#1.-Descripción-del-dataset)\n",
    "- 2. [Integración y selección de los datos de interés a analizar](#2.-Integración-y-selección-de-los-datos-de-interés-a-analizar)\n",
    "- 3. [Limpieza de los datos](#3.-Limpieza-de-los-datos)\n",
    "    - 3.1. [¿Los datos contienen ceros o elementos vacíos?](#3.1.-¿Los-datos-contienen-ceros-o-elementos-vacíos?)\n",
    "    - 3.2. [Identifica y gestiona los valores extremos](#3.2.-Identifica-y-gestiona-los-valores-extremos)\n",
    "- 4.[Análisis de los datos](#4.-Análisis-de-los-datos)\n",
    "    - 4.1.[Selección de los grupos de datos que se quieren analizar/comparar](#4.1.-Selección-de-los-grupos-de-datos-que-se-quieren-analizar/comparar)\n",
    "    - 4.2.[Comprobación de la normalidad y homogeneidad de la varianza](#4.2.-Comprobación-de-la-normalidad-y-homogeneidad-de-la-varianza)\n",
    "    - 4.3.[Aplicación de pruebas estadísticas para comparar los grupos de datos](#4.3.-Aplicación-de-pruebas-estadísticas-para-comparar-los-grupos-de-datos)\n",
    "    - 4.4.[Relación entre predictores](#4.4.-Relación-entre-predictores)\n",
    "    - 4.5 [Modelaje Estadístico](#4.4.-Modelaje-Estadístico)\n",
    "- 5.[Representación gráfica](#5.-Representación-gráfica)\n",
    "- 6.[Resolución del problema](#6.-Resolución-del-problema)\n",
    "- 7.[Código](#7.-Código)\n",
    "- 8.[Vídeo](#8.-Vídeo)\n",
    "- [Contribuciones](#Contribuciones)\n",
    "\n",
    "# Librerías\n",
    "\n",
    "import pandas as pd\n",
    "import numpy as np\n",
    "from scipy.stats import levene\n",
    "from scipy.stats import fligner\n",
    "from scipy import stats\n",
    "\n",
    "\n",
    "import seaborn as sns\n",
    "import matplotlib.pyplot as plt\n",
    "\n",
    "from sklearn.preprocessing import MinMaxScaler\n",
    "from sklearn.linear_model import LogisticRegression\n",
    "from sklearn.tree import DecisionTreeClassifier\n",
    "from sklearn.ensemble import RandomForestClassifier\n",
    "\n",
    "from sklearn.model_selection import GridSearchCV\n",
    "from sklearn.metrics import classification_report\n",
    "\n",
    "from sklearn.metrics import roc_auc_score\n",
    "from sklearn.metrics import roc_curve\n",
    "\n",
    "from joblib import dump, load\n",
    "\n",
    "# 1. Descripción del dataset\n",
    "\n",
    "**¿Por qué es importante y qué pregunta/problema pretende responder?**\t\t\t\n",
    "\n",
    "Partimos del dataset recomendado por la asignatura: [*Heart Attack Analysis & Prediction dataset*](https://www.kaggle.com/datasets/rashikrahmanpritom/heart-attack-analysis-prediction-dataset). En principio, este dataset trata de explicar la enfermedad cardiaca a partir de una serie de factores, como el colesterol o la frecuencia cardiaca. No obstante, aclararemos que este dataset es útil para practicar, pero no tanto para resolver un problema real, tal como ya se comenta [en el foro del propio dataset en Kaggle](https://www.kaggle.com/datasets/rashikrahmanpritom/heart-attack-analysis-prediction-dataset/discussion/249239). \n",
    "\n",
    "En un análisis preliminar de los datos, podemos comprobar que el archivo `heart.csv` consta de 303 registros y 14 variables. La información de Kaggle es escasa, puesto que no proporciona información espacio-temporal sobre los datos. Tampoco proporciona citas adicionales sobre las fuentes, siendo que es improbable que los que proporcionan este dataset sean los autores de la investigación. Nótese que señalan la procedencia 'online' y el método 'crawling'. \n",
    "\n",
    "Una búsqueda rápida nos llevará a encontrar [el origen de los datos](https://archive.ics.uci.edu/ml/datasets/heart+disease). Se trata de un popular dataset donado en 1988. El estudio original consta de 4 ubicaciones:\n",
    "1. Budapest (Hungría): Hungarian Institute of Cardiology, Andras Janosi, M.D.\n",
    "2. Zurich (Suiza): University Hospital, William Steinbrunn, M.D.\n",
    "3. Basilea (Suiza): University Hospital, Matthias Pfisterer, M.D.\n",
    "4. Cleveland (Estados Unidos): V.A. Medical Center, Long Beach and Cleveland Clinic Foundation, Robert Detrano, M.D., Ph.D.\n",
    "\n",
    "Originalmente, constaba de 76 atributos, si bien \"todos los experimentos publicados se refieren a 14 atributos\", tal como se nos indica [en el repositorio original](https://archive.ics.uci.edu/ml/datasets/heart+disease). Los datos compartidos en Kaggle proceden del dataset de Cleveland, el más popular en los estudios de Machine Learning. \n",
    "\n",
    "Por lo tanto, tenemos en nuestras manos un dataset cuya fuente original no está citada, con un número de registros menor al ideal en un estudio de estas características y de una antigüedad considerable. Presenta además algunas dificultades, como el hecho de que algunos valores no se corresponden con los establecidos en la descripción de los datos. Por ejemplo, la variable `cp` ('chest pain type') va del 0 al 3 mientras que en la descripción –tanto en kaggle como en el repositorio de UCI– va del 1 al 4. Instuitivamente cabe pensar que el 1 original pasó al 0 y el 4, al 3. Sin embargo, comparando los datos de Kaggle con el dataset original, podemos comprobar que esto no es así. Otros valores hacen saltar las alarmas, como la asignación en la variable `output`. Por este motivo, hemos tomado la decisión de partir directamente del dataset original, que se encuentra [aquí](https://archive.ics.uci.edu/ml/machine-learning-databases/heart-disease/) bajo el nombre `processed.cleveland.data`.\n",
    "\n",
    "Dicho esto, pasamos a describir las variables que tenemos entre manos:\n",
    "\n",
    "`age`: edad del paciente \n",
    "\n",
    "`sex`: sexo del paciente\n",
    "\n",
    "        0 = mujer\n",
    "        1 = hombre\n",
    "`cp`: tipo de dolor de pecho. \n",
    "\n",
    "        1 = angina típica\n",
    "        2 = angina atípica\n",
    "        3 = dolor no anginoso\n",
    "        4 = asintomático\n",
    "        \n",
    "`trestbps` : presión sanguínea en reposo (en mm Hg)\n",
    "\n",
    "`chol` : colesterol en mg/dl\n",
    "\n",
    "`fbs` : azúcar en sangre en ayunas > 120 mg/dl.\n",
    "\n",
    "        0 = falso\n",
    "        1 = verdadero\n",
    "        \n",
    "`restecg` : resultados electrocardiográficos en reposo\n",
    "\n",
    "        0 = normal\n",
    "        1 = anomalías en la onda ST-T\n",
    "        2 = hipertrofia ventricular izquierda\n",
    "        \n",
    "`thalach` : frecuencia cardiaca máxima alcanzada.\n",
    "\n",
    "`exang`: angina inducida por el ejercicio\n",
    "\n",
    "        0 = no\n",
    "        1 = sí\n",
    "        \n",
    "`oldpeak`: depresión del ST inducida por el ejercicio en relación con el reposo\n",
    "\n",
    "`slope`: la pendiente del segmento ST de ejercicio máximo.\n",
    "\n",
    "        1 = pendiente ascendiente \n",
    "        2 = sin pendiente\n",
    "        3 = pendiente descendente\n",
    "        \n",
    "`ca`: número de vasos principales (de 0 a 3)\n",
    "\n",
    "`thal`: Thallium Stress Test, por lo que podemos leer [aquí](https://www.kaggle.com/datasets/rashikrahmanpritom/heart-attack-analysis-prediction-dataset/discussion/234843?sort=votes)\n",
    "\n",
    "        3 = normal\n",
    "        6 = defecto arreglado\n",
    "        7 = defecto reversible \n",
    "\n",
    "`num`: atributo predicho; diagnóstico de enfermedad cardíaca (estado de enfermedad angiográfico)\n",
    "\n",
    "        0 = ausencia de enfermedad cardíaca\n",
    "        1, 2, 3 o 4 = presencia de enfermedad cardíaca\n",
    "\n",
    "# 2. Integración y selección de los datos de interés a analizar\n",
    "**Puede ser el resultado de adicionar diferentes datasets o una subselección útil de los datos originales, en base al objetivo que se quiera conseguir.**\n",
    "\n",
    "Usaremos el dataset al completo, teniendo en cuenta que ya se parte de una reducción del original, que contenía 76 variables, si bien sí realizaremos ciertas modificaciones que pasamos a describir aquí:\n",
    "\n",
    "1. Añadimos el nombre de las columnas, no presente en el archivo.\n",
    "2. Convertimos los valores de ciertas variables para unificar las categorías de 'normal' o 'asintomático' en 0:\n",
    "    a. `cp`:\n",
    "        \n",
    "        0 = asintomático (antes 4)\n",
    "        1 = angina típica\n",
    "        2 = angina atípica\n",
    "        3 = dolor no anginoso\n",
    "        \n",
    "    b. `thal`:\n",
    "    \n",
    "        0 = normal (antes 3)\n",
    "        1 = defecto arreglado (antes 6)\n",
    "        2 = defecto reversible (antes 7)\n",
    "\n",
    "3. Unificamos todos los resultados en `num` de presencia de enfermedad cardíaca en 1 para que quede:\n",
    "    \n",
    "        0 = ausencia de enfermedad cardíaca\n",
    "        1 = presencia de enfermedad cardíaca\n",
    "        \n",
    "Antes de realizar todos estos cambios, deberemos asegurarnos de que no haya algún valor nulo imputado con estos números.   \n",
    "\n",
    "# Añadimos al dataset el nombre correspondiente de cada columna\n",
    "columns = ['age', 'sex', 'cp', 'trestbps', 'chol', \n",
    "           'fbs', 'restecg', 'thalach', 'exang', \n",
    "           'oldpeak', 'slope', 'ca', 'thal', 'num']\n",
    "df = pd.read_csv(\"data/processed.cleveland.csv\", header=None, names=columns)\n",
    "df.head()\n",
    "\n",
    "df.info()\n",
    "\n",
    "Vamos a homogeneizar el dataframe y pasar todo a numeric. Usaremos `errors='coerce'` para convertir en nulos los valores no numéricos.\n",
    "\n",
    "df = df.apply(pd.to_numeric, errors='coerce')\n",
    "\n",
    "A continuación, podemos comprobar que, efectivamente, `ca`contiene 4 valores nulos y `thal`, 2.\n",
    "\n",
    "df.info()\n",
    "\n",
    "Visto que, efectivamente, todas las variables se ajustan a lo indicado en la descripción del dataset, procedemos a recodificar las variables indicadas.\n",
    "\n",
    "df = df.replace({\n",
    "    'cp': {\n",
    "        4: 0\n",
    "        },\n",
    "   \n",
    "    'thal':{ \n",
    "        3 : \"normal\",\n",
    "        6.0 : \"fixed defect\",\n",
    "        7.0 : \"reversable defect\"\n",
    "        #'?': np.NaN\n",
    "    },\n",
    "    \n",
    "    'num':{ \n",
    "        2 : 1,\n",
    "        3 : 1,\n",
    "        4 : 1\n",
    "    }  \n",
    "    \n",
    "})\n",
    "        \n",
    "df.sample(5)\n",
    "\n",
    "# 3. Limpieza de los datos\n",
    "\n",
    "## 3.1. ¿Los datos contienen ceros o elementos vacíos? \n",
    "**Gestiona cada uno de estos casos.**\n",
    "\n",
    "Como ya hemos podido comprobar, existen valores nulos en la variable `ca`y en la variable `thal`.\n",
    "\n",
    "df.info()\n",
    "\n",
    "Realizamos un preprocesamiento, haciendo replace sobre las variables categóricas para poder analizar los datos\n",
    "\n",
    "df = df.replace({\n",
    "    'cp': {\n",
    "        0: 'typical angina',\n",
    "        1: 'atypical angina',\n",
    "        2: 'non-anginal pain',\n",
    "        3: 'asymptomatic'\n",
    "        },\n",
    "    'sex':{\n",
    "        1:'Male',\n",
    "        0:'Female'\n",
    "    },\n",
    "    'restecg':{\n",
    "        0:'Normal',\n",
    "        1:'ST-T wave abnormality',\n",
    "        2:'Left ventricular hypertrophy'\n",
    "    },\n",
    "    'exang':{\n",
    "        0:'Yes Angina',\n",
    "        1:'No Angina'\n",
    "    },\n",
    "    'fbs':{\n",
    "        0:'fastingBloodSugar_false',\n",
    "        1:'fastingBloodSugar_true'  \n",
    "    },\n",
    "    'slope':{\n",
    "        1:'upsloping',\n",
    "        2:'flat',\n",
    "        3:'downsloping'\n",
    "    },\n",
    "\n",
    "})\n",
    "\n",
    "df.sample(4)\n",
    "\n",
    "Una vez realizado el proceso de replace podemos notar que tenemos dos registros con valores aunsentes o perdidos en la variable **thal** y **ca**\n",
    "\n",
    "df.info()\n",
    "\n",
    "Considerando que son solo 6 registros y que representan menos del 5% de los datos decidimos directamente eliminarlos del conjunto de datos. \n",
    "\n",
    "df.dropna(inplace=True)\n",
    "\n",
    "df.info()\n",
    "\n",
    "## 3.2. Identifica y gestiona los valores extremos\n",
    "\n",
    "\n",
    "\n",
    "Mediante el análisis gráfico de las distribuciones observamos algunos valores extremos en las variables **trestbps**, **chol**, **thalach** y **oldpeak**\n",
    "\n",
    "fig, axes = plt.subplots(2, 3, figsize=(20,10))\n",
    "\n",
    "sns.boxplot(ax=axes[0,0], y=\"age\", palette=\"viridis\", data=df).set(title='Distribución de la edad')\n",
    "sns.boxplot(ax=axes[0,1], y=\"trestbps\", palette=\"viridis\", data=df).set(title='Distribución de la presión sanguínea')\n",
    "sns.boxplot(ax=axes[0,2], y=\"chol\" ,palette=\"viridis\", data=df).set(title='Distribución del colesterol')\n",
    "\n",
    "sns.boxplot(ax=axes[1,0], y=\"thalach\" ,palette=\"viridis\", data=df).set(title='Distribución del ratio máximo de pulsasiones')\n",
    "sns.boxplot(ax=axes[1,1], y=\"oldpeak\" ,palette=\"viridis\", data=df).set(title='Distribución de la frecuencia cardíaca máxima')\n",
    "sns.boxplot(ax=axes[1,2], y=\"ca\" ,palette=\"viridis\", data=df).set(title='Distribución de los vasos')\n",
    "\n",
    "plt.show()\n",
    "\n",
    "fig, axes = plt.subplots(2, 3, figsize=(20,10))\n",
    "\n",
    "sns.histplot(ax=axes[0,0], x=\"age\", palette=\"viridis\", data=df).set(title='Distribución de la edad')\n",
    "sns.histplot(ax=axes[0,1], x=\"trestbps\", palette=\"viridis\", data=df).set(title='Distribución de la presión sanguínea')\n",
    "sns.histplot(ax=axes[0,2], x=\"chol\" ,palette=\"viridis\", data=df).set(title='Distribución del colesterol')\n",
    "\n",
    "sns.histplot(ax=axes[1,0], x=\"thalach\" ,palette=\"viridis\", data=df).set(title='Distribución del ratio máximo de pulsasiones')\n",
    "sns.histplot(ax=axes[1,1], x=\"oldpeak\" ,palette=\"viridis\", data=df).set(title='Distribución de la frecuencia cardíaca máxima')\n",
    "sns.histplot(ax=axes[1,2], x=\"ca\" ,palette=\"viridis\", data=df, bins=4).set(title='Distribución de los vasos')\n",
    "\n",
    "plt.show()\n",
    "\n",
    "df.describe()\n",
    "\n",
    "Además de los gráficos de boxplot, observando la tabla de estadísticos descriptivos podemos detectar valores máximos que se encuentran varias desviaciones por encima de la media, este caso se da en las distribuciones como en trtbps, chol, thalachh etc.\n",
    "\n",
    "\n",
    "Definimos la siguiente función para reemplazar aquellos valores que se encuentren por encima del percentil 95 o por debajo del percentil 5, considerados como valores extremos, dicho reemplazo se realizará por el percentil 85 y 10 respectivamente.\n",
    "\n",
    "def replaceOuliers(column):\n",
    "    \"\"\"\n",
    "    \"\"\"\n",
    "    colReplace = np.array(column)\n",
    "    median = np.median(column)\n",
    "    \n",
    "    upper =  np.percentile(np.array(column),95)\n",
    "    lower =  np.percentile(np.array(column),5)\n",
    "    \n",
    "    #colReplace[colReplace[:] > upper] = np.percentile(np.array(column),85)\n",
    "    #colReplace[colReplace[:] < lower] = np.percentile(np.array(column),10)\n",
    "    \n",
    "    colReplace[colReplace[:] > upper] = median\n",
    "    colReplace[colReplace[:] < lower] = median\n",
    "    \n",
    "    return list(colReplace)\n",
    "\n",
    "df[\"trestbps\"] = replaceOuliers(list(df[\"trestbps\"]))\n",
    "df[\"chol\"] = replaceOuliers(list(df[\"chol\"]))\n",
    "df[\"thalach\"] = replaceOuliers(list(df[\"thalach\"]))\n",
    "df[\"oldpeak\"] = replaceOuliers(list(df[\"oldpeak\"]))\n",
    "\n",
    "\n",
    "fig, axes = plt.subplots(2, 3, figsize=(20,10))\n",
    "\n",
    "sns.boxplot(ax=axes[0,0], y=\"age\", palette=\"viridis\", data=df).set(title='Distribución de la edad')\n",
    "sns.boxplot(ax=axes[0,1], y=\"trestbps\", palette=\"viridis\", data=df).set(title='Distribución de la presión sanguínea')\n",
    "sns.boxplot(ax=axes[0,2], y=\"chol\" ,palette=\"viridis\", data=df).set(title='Distribución del colesterol')\n",
    "\n",
    "sns.boxplot(ax=axes[1,0], y=\"thalach\" ,palette=\"viridis\", data=df).set(title='Distribución del ratio máximo de pulsasiones')\n",
    "sns.boxplot(ax=axes[1,1], y=\"oldpeak\" ,palette=\"viridis\", data=df).set(title='Distribución de la frecuencia cardíaca máxima')\n",
    "sns.boxplot(ax=axes[1,2], y=\"ca\" ,palette=\"viridis\", data=df).set(title='Distribución de los vasos')\n",
    "\n",
    "plt.show()\n",
    "\n",
    "# 4. Análisis de los datos\n",
    "\n",
    "### Análisis Exploratorio de datos\n",
    "\n",
    "df[[\"age\",\"trestbps\",\"chol\",\"thalach\",\"oldpeak\",\"ca\"]].describe()\n",
    "\n",
    "A continuación se presentan las distribuciones de las variables en función del target o variable a predecir\n",
    "\n",
    "### Age\n",
    "\n",
    "fig, axes = plt.subplots(2, 2, figsize=(20,9))\n",
    "\n",
    "sns.histplot(x=df[\"age\"], ax=axes[0,0]).set(title='Distribución de la edad de los pacientes')\n",
    "sns.histplot(x=df[\"age\"], hue=df[\"num\"], ax=axes[0,1]).set(title='Distribución de la edad de los pacientes en función de la presencia de enfermedad')\n",
    "\n",
    "sns.boxplot(y=df[\"age\"], ax=axes[1,0]).set(title='Distribución de la edad de los pacientes')\n",
    "sns.boxplot(y=df[\"age\"], x=df[\"num\"], ax=axes[1,1]).set(title='Distribución de la edad de los pacientes en función de la presencia de enfermedad')\n",
    "\n",
    "plt.show()\n",
    "\n",
    "df[[\"age\",\"num\"]].groupby(\"num\").describe().T\n",
    "\n",
    "Se puede observar comparando las distribuciones, que la mediana y el promedio de la edad de las personas que enferman es mayor que las personas sanas. \n",
    "\n",
    "### Sex\n",
    "\n",
    "fig, axes = plt.subplots(1, 2, figsize=(20,4))\n",
    "\n",
    "sns.countplot(x=df[\"sex\"], ax=axes[0]).set(title='Frecuencias del género')\n",
    "\n",
    "sns.countplot(x=df[\"sex\"], hue=df[\"num\"], ax=axes[1]).set(title='Frecuencias del género en función de la presencia de enfermedad')\n",
    "\n",
    "plt.show()\n",
    "\n",
    "pd.crosstab(index= df[\"sex\"], columns=df[\"num\"], normalize=True)\n",
    "\n",
    "Se observa que la proporción de mujeres que enferman es baja dentro de la muestra estudiada\n",
    "\n",
    "### CP\n",
    "\n",
    "fig, axes = plt.subplots(1, 2, figsize=(20,4))\n",
    "\n",
    "sns.countplot(x=df[\"cp\"], ax=axes[0]).set(title='Frecuencias de los tipos de dolor en el pecho')\n",
    "\n",
    "sns.countplot(x=df[\"cp\"], hue=df[\"num\"], ax=axes[1]).set(title='Frecuencias de los tipos de dolor en el pecho en función de la presencia de enfermedad')\n",
    "\n",
    "plt.show()\n",
    "\n",
    "pd.crosstab(index= df[\"cp\"], columns=df[\"num\"], normalize=True)\n",
    "\n",
    "La angina típica para ser el tipo de dolor más asociado a la presencia de la enfermedad\n",
    "\n",
    "### trestbps\n",
    "\n",
    "fig, axes = plt.subplots(2, 2, figsize=(20,9))\n",
    "\n",
    "sns.histplot(x=df[\"trestbps\"], ax=axes[0,0]).set(title='Distribución de la presión sanguínea')\n",
    "sns.histplot(x=df[\"trestbps\"], hue=df[\"num\"], ax=axes[0,1]).set(title='Distribución de la la presión sanguínea en función de la presencia de enfermedad')\n",
    "\n",
    "sns.boxplot(y=df[\"trestbps\"], ax=axes[1,0]).set(title='Distribución de la presión sanguínea')\n",
    "sns.boxplot(y=df[\"trestbps\"], x=df[\"num\"], ax=axes[1,1]).set(title='Distribución de la presión sanguínea en función de la presencia de enfermedad')\n",
    "\n",
    "plt.show()\n",
    "\n",
    "df[[\"trestbps\",\"num\"]].groupby(\"num\").describe().T\n",
    "\n",
    "Parece no haber grandes diferencias en los estadísticos de tendencia central en las distribuciones de las presión sanguínea entre personas enfermas y sanas\n",
    "\n",
    "### Chol\n",
    "\n",
    "fig, axes = plt.subplots(2, 2, figsize=(20,9))\n",
    "\n",
    "sns.histplot(x=df[\"chol\"], ax=axes[0,0]).set(title='Distribución del colesterol')\n",
    "sns.histplot(x=df[\"chol\"], hue=df[\"num\"], ax=axes[0,1]).set(title='Distribución del colesterol en función de la presencia de enfermedad')\n",
    "\n",
    "sns.boxplot(y=df[\"chol\"], ax=axes[1,0]).set(title='Distribución del colesterol')\n",
    "sns.boxplot(y=df[\"chol\"], x=df[\"num\"], ax=axes[1,1]).set(title='Distribución del colesterol en función de la presencia de enfermedad')\n",
    "\n",
    "plt.show()\n",
    "\n",
    "df[[\"chol\",\"num\"]].groupby(\"num\").describe().T\n",
    "\n",
    "El nivel de colesterol, en promedio, es más elevado en las personas que presentan la enfermedad\n",
    "\n",
    "### fbs\n",
    "\n",
    "fig, axes = plt.subplots(1, 2, figsize=(20,4))\n",
    "\n",
    "sns.countplot(x=df[\"fbs\"], ax=axes[0]).set(title='Frecuencias de Fbs')\n",
    "\n",
    "sns.countplot(x=df[\"fbs\"], hue=df[\"num\"], ax=axes[1]).set(title='Frecuencias de Fbs en función de la presencia de enfermedad')\n",
    "\n",
    "plt.show()\n",
    "\n",
    "pd.crosstab(index= df[\"fbs\"], columns=df[\"num\"], normalize=True)\n",
    "\n",
    "### restecg\n",
    "\n",
    "fig, axes = plt.subplots(1, 2, figsize=(20,4))\n",
    "\n",
    "sns.countplot(x=df[\"restecg\"], ax=axes[0]).set(title='Frecuencias de restecg')\n",
    "\n",
    "sns.countplot(x=df[\"restecg\"], hue=df[\"num\"], ax=axes[1]).set(title='Frecuencias de restecg en función de la presencia de enfermedad')\n",
    "\n",
    "plt.show()\n",
    "\n",
    "pd.crosstab(index= df[\"restecg\"], columns=df[\"num\"], normalize=True)\n",
    "\n",
    "La presencia de enfermedad se asocia en mayor proporción en los casos con hipertrofia ventricular izquierda\n",
    "\n",
    "### thalach\n",
    "\n",
    "fig, axes = plt.subplots(2, 2, figsize=(20,9))\n",
    "\n",
    "sns.histplot(x=df[\"thalach\"], ax=axes[0,0]).set(title='Distribución de la presión sanguínea')\n",
    "sns.histplot(x=df[\"thalach\"], hue=df[\"num\"], ax=axes[0,1]).set(title='Distribución de la la presión sanguínea en función de la presencia de enfermedad')\n",
    "\n",
    "sns.boxplot(y=df[\"thalach\"], ax=axes[1,0]).set(title='Distribución de la presión sanguínea')\n",
    "sns.boxplot(y=df[\"thalach\"], x=df[\"num\"], ax=axes[1,1]).set(title='Distribución de la presión sanguínea en función de la presencia de enfermedad')\n",
    "\n",
    "plt.show()\n",
    "\n",
    "### Exang\n",
    "\n",
    "fig, axes = plt.subplots(1, 2, figsize=(20,4))\n",
    "\n",
    "sns.countplot(x=df[\"exang\"], ax=axes[0]).set(title='Frecuencias de exang')\n",
    "\n",
    "sns.countplot(x=df[\"exang\"], hue=df[\"num\"], ax=axes[1]).set(title='Frecuencias de exang en función de la presencia de enfermedad')\n",
    "\n",
    "plt.show()\n",
    "\n",
    "pd.crosstab(index= df[\"exang\"], columns=df[\"num\"], normalize=True)\n",
    "\n",
    "La ausencia de angina tiene una mayor proporción de casos en los que está presente la enfermedad\n",
    "\n",
    "### Oldpeak\n",
    "\n",
    "fig, axes = plt.subplots(2, 2, figsize=(20,9))\n",
    "\n",
    "sns.histplot(x=df[\"oldpeak\"], ax=axes[0,0]).set(title='Distribución de oldpeak')\n",
    "sns.histplot(x=df[\"oldpeak\"], hue=df[\"num\"], ax=axes[0,1]).set(title='Distribución de oldpeak en función de la presencia de enfermedad')\n",
    "\n",
    "sns.boxplot(y=df[\"oldpeak\"], ax=axes[1,0]).set(title='Distribución del oldpeak')\n",
    "sns.boxplot(y=df[\"oldpeak\"], x=df[\"num\"], ax=axes[1,1]).set(title='Distribución de oldpeak en función de la presencia de enfermedad')\n",
    "\n",
    "plt.show()\n",
    "\n",
    "df[[\"oldpeak\",\"num\"]].groupby(\"num\").describe().T\n",
    "\n",
    "La presencia de enfermedad se asocia a mayores valores en oldpeak\n",
    "\n",
    "### Slope\n",
    "\n",
    "fig, axes = plt.subplots(1, 2, figsize=(20,3))\n",
    "\n",
    "sns.countplot(x=df[\"slope\"], ax=axes[0]).set(title='Frecuencias de slope')\n",
    "\n",
    "sns.countplot(x=df[\"slope\"], hue=df[\"num\"], ax=axes[1]).set(title='Frecuencias de slope en función de la presencia de enfermedad')\n",
    "\n",
    "plt.show()\n",
    "\n",
    "pd.crosstab(index= df[\"slope\"], columns=df[\"num\"], normalize=True)\n",
    "\n",
    "La proporción de mayor se da en pacientes con el slope flat y se asoacia a la ausencia de enfermedad\n",
    "\n",
    "### Ca\n",
    "\n",
    "fig, axes = plt.subplots(2, 2, figsize=(20,9))\n",
    "\n",
    "sns.histplot(x=df[\"ca\"], ax=axes[0,0], bins=4).set(title='Distribución de ca')\n",
    "sns.histplot(x=df[\"ca\"], hue=df[\"num\"], ax=axes[0,1], bins=4).set(title='Distribución de ca en función de la presencia de enfermedad')\n",
    "\n",
    "sns.boxplot(y=df[\"ca\"], ax=axes[1,0]).set(title='Distribución del oldpeak')\n",
    "sns.boxplot(y=df[\"ca\"], x=df[\"num\"], ax=axes[1,1]).set(title='Distribución de ca en función de la presencia de enfermedad')\n",
    "\n",
    "plt.show()\n",
    "\n",
    "df[[\"ca\",\"num\"]].groupby(\"num\").describe().T\n",
    "\n",
    "La presencia de vasos se asocia a la presencia de la enfermedad\n",
    "\n",
    "### Thal\n",
    "\n",
    "fig, axes = plt.subplots(1, 2, figsize=(20,5))\n",
    "sns.countplot(x=df[\"thal\"], ax=axes[0]).set(title='Frecuencias de thal')\n",
    "sns.countplot(x=df[\"thal\"], hue=df[\"num\"], ax=axes[1]).set(title='Frecuencias de thal en función de la presencia de enfermedad')\n",
    "plt.show()\n",
    "\n",
    "pd.crosstab(index= df[\"thal\"], columns=df[\"num\"], normalize=True)\n",
    "\n",
    "Por lo general los pacientes con **thal=normal** tienden a estar sanos.\n",
    "\n",
    "## 4.1. Selección de los grupos de datos que se quieren analizar/comparar \n",
    "**(p.ej., si se van a comparar grupos de datos, ¿cuáles son estos grupos y\n",
    "qué tipo de análisis se van a aplicar?)**\n",
    "\n",
    "A lo largo de la presente investigación se van a comparar los grupos de pacientes enfermos y pacientes sanos\n",
    "\n",
    "## 4.2. Comprobación de la normalidad y homogeneidad de la varianza\n",
    "\n",
    "Para comprobar la normalidad de las variables cuantitiativas utilizaremos el famoso test de Shapiro-Wilk. Recordemos que si el *p*-valor resulta ser menor de 0.05 (el nivel de significación), rechazaremos la hipótesis nula, es decir, rechazaremos que los datos tienen una distribución normal. \n",
    "\n",
    "Para comprobar la homocedasticidad de los datos (variables cuantitativas), es decir, si existe una igualdad de varianzas entre dos grupos, aplicaremos el test de Levene para aquellas variables que siguen una normal y el test de Fligner-Killeen para las que no lo son. Recordemos que la premisa es la misma que con el test de Shapiro-Wilk: un *p*-valor inferior al nivel de significación $\\alpha$ supondrá el rechazo de la hipótesis nula y concluiremos que no existe homogeneidad de varianzas.\n",
    "\n",
    "Para todos ellos, definimos una función para realizar los contrastes de homogenidad de varianza de forma más efectiva:\n",
    "\n",
    "# Test de normalidad Shapiro-Wilk\n",
    "def testNormality(x):\n",
    "    \"\"\"\n",
    "    x: list type to check normality\n",
    "    \n",
    "    \"\"\"\n",
    "    \n",
    "    a = np.array(x)\n",
    "    stat, p = stats.shapiro(x)\n",
    "    \n",
    "    if p < 0.05:\n",
    "        print(\"Distribution is not normal, p value: {}\".format(p))\n",
    "    else:\n",
    "        print(\"Distribution is normal, p value: {}\".format(p))\n",
    "\n",
    "# Test de varianzas Levene en variables con distribución normal\n",
    "def testLevene(listA, listB):\n",
    "    \"\"\"\n",
    "    listA: list type to compare variance \n",
    "    listB: list type to compare variance\n",
    "    \n",
    "    \"\"\"\n",
    "    \n",
    "    a = np.array(listA)\n",
    "    b = np.array(listB)\n",
    "    stat, p = levene(a, b)\n",
    "    \n",
    "    if p < 0.05:\n",
    "        print(\"Variances not equal, p value: {}\".format(p))\n",
    "    else:\n",
    "        print(\"Variances equal, p value: {}\".format(p))\n",
    "\n",
    "# Test de varianzas Fligner-Killeen en variables con distribución no normal\n",
    "def testFligner(listA, listB):\n",
    "    \"\"\"\n",
    "    listA: list type to compare variance \n",
    "    listB: list type to compare variance\n",
    "    \n",
    "    \"\"\"\n",
    "    \n",
    "    a = np.array(listA)\n",
    "    b = np.array(listB)\n",
    "    stat, p = fligner(a, b)\n",
    "    \n",
    "    if p < 0.05:\n",
    "        print(\"Variances not equal, p value: {}\".format(p))\n",
    "    else:\n",
    "        print(\"Variances equal, p value: {}\".format(p))\n",
    "\n",
    "Separamos los datos en enfermos y sanos para facilitar los contrastes:\n",
    "\n",
    "df_sick = df[df[\"num\"] == 1] \n",
    "df_healthy = df[df[\"num\"] == 0] \n",
    "\n",
    "### `age`\n",
    "\n",
    "print(\"\\nTest de normalidad para la edad en población con patologías cardiacas:\")\n",
    "testNormality(df_sick[\"age\"])\n",
    "print(\"\\nTest de normalidad para la edad en población sin patologías cardiacas:\")\n",
    "testNormality(df_healthy[\"age\"])\n",
    "\n",
    "Siendo rigurosos, visto que una de las distribuciones no sigue una distribución normal, aplicaremos el Test Fligner-Killen para comparar las varianzas. Sin embargo, recordemos que el tamaño de las muestras es superior a 30, por lo tanto, según el Teorema Central del Límite, podríamos asumir que la distribución de la media de la muestra se asemeja a la de una normal.\n",
    "\n",
    "print(len(df_sick))\n",
    "print(len(df_healthy))\n",
    "\n",
    "print(\"Test de varianza entre la edad en pacientes con patologías caridacas y sin ellas:\")\n",
    "testFligner(df_sick[\"age\"], df_healthy[\"age\"])\n",
    "\n",
    "### `trestbps`\n",
    "\n",
    "print(\"\\nTest de normalidad para la presión sanguínea en reposo en población con patologías cardiacas:\")\n",
    "testNormality(df_sick[\"trestbps\"])\n",
    "print(\"\\nTest de normalidad para la presión sanguínea en reposo en población sin patologías cardiacas:\")\n",
    "testNormality(df_healthy[\"trestbps\"])\n",
    "\n",
    "Como ambas distribuciones no son normales, optamos por hacer el test de Fligner-Killeen para la homocedasticidad.\n",
    "\n",
    "print(\"Test de varianza entre la presión sanguínea en reposo en pacientes con patologías caridacas y sin ellas:\")\n",
    "testFligner(df_sick[\"trestbps\"], df_healthy[\"trestbps\"])\n",
    "\n",
    "### `chol`\n",
    "\n",
    "print(\"\\nTest de normalidad para el colesterol en población con patologías cardiacas:\")\n",
    "testNormality(df_sick[\"chol\"])\n",
    "print(\"\\nTest de normalidad para el colesterol en población sin patologías cardiacas:\")\n",
    "testNormality(df_healthy[\"chol\"])\n",
    "\n",
    "Como una de las distribuciones no es normal, optamos por hacer el test de Fligner-Killeen para la homocedasticidad.\n",
    "\n",
    "print(\"Test de varianza entre el colesterol en pacientes con patologías caridacas y sin ellas:\")\n",
    "testFligner(df_sick[\"chol\"], df_healthy[\"chol\"])\n",
    "\n",
    "### `thalach`\n",
    "\n",
    "print(\"\\nTest de normalidad para la frecuencia cardiaca máxima en población con patologías cardiacas:\")\n",
    "testNormality(df_sick[\"thalach\"])\n",
    "print(\"\\nTest de normalidad para la frecuencia cardiaca máxima en población sin patologías cardiacas:\")\n",
    "testNormality(df_healthy[\"thalach\"])\n",
    "\n",
    "Como ambas distribuciones no son normales, optamos por hacer el test de Fligner-Killeen para la homocedasticidad.\n",
    "\n",
    "print(\"Test de varianza entre la frecuencia cardiaca máxima en pacientes con patologías caridacas y sin ellas:\")\n",
    "testFligner(df_sick[\"thalach\"], df_healthy[\"thalach\"])\n",
    "\n",
    "### `oldpeak`\n",
    "\n",
    "print(\"\\nTest de normalidad para la depresión del ST inducida por el ejercicio en población con patologías cardiacas:\")\n",
    "testNormality(df_sick[\"oldpeak\"])\n",
    "print(\"\\nTest de normalidad para la depresión del ST inducida por el ejercicio en población sin patologías cardiacas:\")\n",
    "testNormality(df_healthy[\"oldpeak\"])\n",
    "\n",
    "Como ambas distribuciones no son normales, optamos por hacer el test de Fligner-Killeen para la homocedasticidad.\n",
    "\n",
    "print(\"Test de varianza entre la frecuencia cardiaca máxima en pacientes con patologías caridacas y sin ellas:\")\n",
    "testFligner(df_sick[\"oldpeak\"], df_healthy[\"oldpeak\"])\n",
    "\n",
    "### `ca`\n",
    "\n",
    "print(\"\\nTest de normalidad para el número de vasos principales en población con patologías cardiacas:\")\n",
    "testNormality(df_sick[\"ca\"])\n",
    "print(\"\\nTest de normalidad para el número de vasos principales en población sin patologías cardiacas:\")\n",
    "testNormality(df_healthy[\"ca\"])\n",
    "\n",
    "Como ambas distribuciones son no normales, optamos por hacer el test de Fligner-Killeen para la homocedasticidad.\n",
    "\n",
    "print(\"Test de varianza entre el número de vasos principales en pacientes con patologías caridacas y sin ellas:\")\n",
    "testFligner(df_sick[\"ca\"], df_healthy[\"ca\"])\n",
    "\n",
    "Como ya hemos comentado, por el tamaño muestral podríamos haber asumido normalidad y optado por el Test Levene en todas ellas. Hemos hecho también este test (aunque no lo ponemos aquí por cuestiones de espacio) y la conclusión ha sido en todas ocasiones la misma.\n",
    "\n",
    "Exponemos a continuación la tabla resumen.\n",
    "\n",
    "| **Variable** | **Resultado test de normalidad** (enfermos / sanos) | **Resultado test de igualdad de varianzas** |\n",
    "|---|---|---|\n",
    "| age | Distribución no normal / Distribución normal | Varianzas no iguales |\n",
    "| trestbps | Distribución no normal / Distribución no normal | Varianzas iguales |\n",
    "| chol | Distribución normal / Distribución no normal | Varianzas iguales |\n",
    "| thalach | Distribución no normal / Distribución no normal | Varianzas iguales |\n",
    "| oldpeak | Distribución no normal / Distribución no normal | Varianzas no iguales |\n",
    "| ca | Distribución no normal / Distribución no normal | Varianzas no iguales |\n",
    "\n",
    "## 4.3. Aplicación de pruebas estadísticas para comparar los grupos de datos\n",
    "**En función de los datos y el objetivo del estudio, aplicar pruebas de contraste de hipótesis, correlaciones, regresiones, etc. Aplicar al menos tres métodos de análisis diferentes.**\n",
    "\n",
    "\n",
    "\n",
    "\n",
    "\n",
    "### 4.4.2. Relación entre predictores\n",
    "\n",
    "\n",
    "df[[\"age\",\"trestbps\",\"chol\",\"thalach\",\"ca\"]].corr()\n",
    "\n",
    "sns.heatmap(df[[\"age\",\"trestbps\",\"chol\",\"thalach\",\"ca\"]].corr(),\n",
    "            vmin=-1, vmax=1, center=0,\n",
    "            square=True,\n",
    "            annot=True,\n",
    "            fmt=\".1f\"\n",
    "           )\n",
    "plt.show()\n",
    "\n",
    "sns.pairplot(df[[\"age\",\"trestbps\",\"chol\",\"thalach\",\"ca\"]])\n",
    "\n",
    "Se concluye que no hay correlaciones elevadas entre las variables predictoras\n",
    "\n",
    "## 4.4. Modelaje Estadístico\n",
    "\n",
    "Realizamos un one hot encoding sobre las variables categóricas\n",
    "\n",
    "df = pd.get_dummies(df, prefix='sex', columns=[\"sex\"], drop_first=True)\n",
    "df = pd.get_dummies(df, prefix='cp', columns=[\"cp\"], drop_first=True)\n",
    "df = pd.get_dummies(df, prefix='fbs', columns=[\"fbs\"], drop_first=True)\n",
    "df = pd.get_dummies(df, prefix='restecg', columns=[\"restecg\"], drop_first=True)\n",
    "df = pd.get_dummies(df, prefix='exang', columns=[\"exang\"], drop_first=True)\n",
    "df = pd.get_dummies(df, prefix='slope', columns=[\"slope\"], drop_first=True)\n",
    "df = pd.get_dummies(df, prefix='thal', columns=[\"thal\"], drop_first=True)\n",
    "\n",
    "df.sample(5)\n",
    "\n",
    "df.shape\n",
    "\n",
    "Elegimos probar principalmente 3 clasificadores:\n",
    "\n",
    "logistcRegresion = LogisticRegression()\n",
    "decisionTree = DecisionTreeClassifier()\n",
    "randomForest = RandomForestClassifier()\n",
    "\n",
    "Definimos estos parámetros para hacer grid search\n",
    "\n",
    "############### LR\n",
    "logistcRegresion_params = {'C': [0.01,0.1,1,10,100,1000]}\n",
    "\n",
    "############### DT\n",
    "\n",
    "decisionTree_params = {\"criterion\":[\"gini\",\"entropy\"],\n",
    "                       \"max_depth\":[5,10,20]    \n",
    "                      }\n",
    "\n",
    "############### RF\n",
    "randomForest_params = {\n",
    "    'max_depth': [5,10,20],\n",
    "    \"criterion\":[\"gini\",\"entropy\"],\n",
    "    'max_features': ['auto'],\n",
    "    'n_estimators': [10,80],\n",
    "    'n_jobs':[-1]\n",
    "    \n",
    "}\n",
    "\n",
    "\n",
    "Separamos en X e Y\n",
    "\n",
    "X = df.loc[:, df.columns != 'num']\n",
    "y = list(df[\"num\"])\n",
    "\n",
    "X.head(2)\n",
    "\n",
    "y[0:3]\n",
    "\n",
    "Escalamos todas las variables para se encuentren en la misma escala de medición\n",
    "\n",
    "scaler = MinMaxScaler()\n",
    "X_scaled = scaler.fit_transform(X)\n",
    "\n",
    "Realizamos un grid search para el algoritmo de regresión logística y nos quedamos con el modelo mayor performance\n",
    "\n",
    "model_GS_logisticRegression = GridSearchCV(estimator=logistcRegresion,\n",
    "                                           param_grid=logistcRegresion_params, \n",
    "                                           scoring = ['accuracy', 'f1','roc_auc'],\n",
    "                                           n_jobs=-1,\n",
    "                                           cv=5,\n",
    "                                           verbose=False,\n",
    "                                           refit='f1'\n",
    "                            )\n",
    "        \n",
    "model_GS_logisticRegression.fit(X_scaled,y)\n",
    "estimator = model_GS_logisticRegression.best_estimator_\n",
    "\n",
    "dump(estimator, str(\"models/\" + \"bestModeloRegressionLogistc\" + \".joblib\"))\n",
    "\n",
    "resultsRegressionLogistic = pd.DataFrame(model_GS_logisticRegression.cv_results_)\n",
    "resultsRegressionLogistic = resultsRegressionLogistic[[\"mean_fit_time\", \n",
    "                                                       \"params\", \n",
    "                                                       \"mean_test_accuracy\",\"std_test_accuracy\",\n",
    "                                                       \"mean_test_f1\",\"std_test_f1\",\n",
    "                                                       \"mean_test_roc_auc\",\"std_test_roc_auc\"]]\n",
    "\n",
    "resultsRegressionLogistic.head(2)\n",
    "\n",
    "Realizamos el mismo procedimiento para el árbol de decisión\n",
    "\n",
    "model_GS_decisionTree = GridSearchCV(estimator=decisionTree,\n",
    "                                           param_grid=decisionTree_params, \n",
    "                                           scoring = ['accuracy', 'f1','roc_auc'],\n",
    "                                           n_jobs=-1,\n",
    "                                           cv=5,\n",
    "                                           verbose=False,\n",
    "                                           refit='f1'\n",
    "                            )\n",
    "        \n",
    "model_GS_decisionTree.fit(X_scaled,y)\n",
    "estimator_dt = model_GS_decisionTree.best_estimator_\n",
    "\n",
    "dump(estimator_dt, str(\"models/\" + \"bestModeloDecisionTree\" + \".joblib\"))\n",
    "\n",
    "results_dt = pd.DataFrame(model_GS_decisionTree.cv_results_)\n",
    "results_dt = results_dt[[\"mean_fit_time\", \n",
    "                                                       \"params\", \n",
    "                                                       \"mean_test_accuracy\",\"std_test_accuracy\",\n",
    "                                                       \"mean_test_f1\",\"std_test_f1\",\n",
    "                                                       \"mean_test_roc_auc\",\"std_test_roc_auc\"]]\n",
    "\n",
    "results_dt.head(2)\n",
    "\n",
    "Realizamos el mismo procedimiento para el Random Forest\n",
    "\n",
    "model_GS_RF = GridSearchCV(estimator=randomForest,\n",
    "                                           param_grid=randomForest_params, \n",
    "                                           scoring = ['accuracy', 'f1','roc_auc'],\n",
    "                                           n_jobs=-1,\n",
    "                                           cv=5,\n",
    "                                           verbose=False,\n",
    "                                           refit='f1'\n",
    "                            )\n",
    "        \n",
    "model_GS_RF.fit(X_scaled,y)\n",
    "estimator_RF = model_GS_RF.best_estimator_\n",
    "\n",
    "dump(estimator_RF, str(\"models/\" + \"bestModeloRF\" + \".joblib\"))\n",
    "\n",
    "results_RF = pd.DataFrame(model_GS_RF.cv_results_)\n",
    "results_RF = results_RF[[\"mean_fit_time\", \n",
    "                                                       \"params\", \n",
    "                                                       \"mean_test_accuracy\",\"std_test_accuracy\",\n",
    "                                                       \"mean_test_f1\",\"std_test_f1\",\n",
    "                                                       \"mean_test_roc_auc\",\"std_test_roc_auc\"]]\n",
    "\n",
    "results_RF.head(2)\n",
    "\n",
    "Concatenamos todos los resultados de los grid search para su análisis\n",
    "\n",
    "resultsRegressionLogistic[\"Model\"] = \"Regresion Logistica\"\n",
    "results_dt[\"Model\"] = \"Decision Tree\"\n",
    "results_RF[\"Model\"] = \"Random Forest\"\n",
    "\n",
    "results = pd.concat([resultsRegressionLogistic, results_dt, results_RF])\n",
    "results.to_csv(\"resultsModels.csv\", index=False, sep=\"|\")\n",
    "\n",
    "results[[\"Model\",\"mean_fit_time\"]].groupby(\"Model\").mean()\n",
    "\n",
    "El algoritmo que en promedio tarda más en entrenar es el Random Forest\n",
    "\n",
    "results[[\"Model\",\"mean_test_accuracy\",\"mean_test_f1\",\"mean_test_roc_auc\"]].groupby(\"Model\").mean()\n",
    "\n",
    "Random Forest y regresión logística son los modelos con mayor accuracy, son los de mayor performance detectando a los pacientes con la enfermedad\n",
    "\n",
    "Cargamos los modelos de mayor performance:\n",
    "\n",
    "realizamos una validación final\n",
    "\n",
    "model_RL = load(\"models/bestModeloRegressionLogistc.joblib\")\n",
    "model_DT = load(\"models/bestModeloDecisionTree.joblib\")\n",
    "model_RF = load(\"models/bestModeloRF.joblib\")\n",
    "\n",
    "y_pred_RL = model_RL.predict(X_scaled)\n",
    "print(classification_report(y, y_pred_RL))\n",
    "\n",
    "y_pred_DT = model_DT.predict(X_scaled)\n",
    "print(classification_report(y, y_pred_DT))\n",
    "\n",
    "y_pred_RF = model_RF.predict(X_scaled)\n",
    "print(classification_report(y, y_pred_RF))\n",
    "\n",
    "ns_probs = [0 for _ in range(len(y))]\n",
    "\n",
    "\n",
    "RL_props = model_RL.predict_proba(X_scaled)\n",
    "RL_props = RL_props[:, 1]\n",
    "\n",
    "DT_props = model_DT.predict_proba(X_scaled)\n",
    "DT_props = DT_props[:, 1]\n",
    "\n",
    "RF_props = model_RF.predict_proba(X_scaled)\n",
    "RF_props = RF_props[:, 1]\n",
    "\n",
    "\n",
    "ns_auc = roc_auc_score(y, ns_probs)\n",
    "RL_auc = roc_auc_score(y, RL_props)\n",
    "DT_auc = roc_auc_score(y, DT_props)\n",
    "RF_auc = roc_auc_score(y, RF_props)\n",
    "\n",
    "print('Regresion Logistica: ROC AUC = %.3f' % (RL_auc))\n",
    "print('Decision Tree: ROC AUC = %.3f' % (DT_auc))\n",
    "print('Random Forest: ROC AUC = %.3f' % (RF_auc))\n",
    "\n",
    "\n",
    "\n",
    "ns_fpr, ns_tpr, _ = roc_curve(y, ns_probs)\n",
    "\n",
    "rL_fpr, rL_tpr, _ = roc_curve(y, RL_props)\n",
    "dt_fpr, dt_tpr, _ = roc_curve(y, DT_props)\n",
    "rf_fpr, rf_tpr, _ = roc_curve(y, RF_props)\n",
    "\n",
    "\n",
    "plt.plot(ns_fpr, ns_tpr, linestyle='--')\n",
    "plt.plot(rL_fpr, rL_tpr, marker='.', label='Regresion Logistica')\n",
    "plt.plot(dt_fpr, dt_tpr, marker='.', label='Decision Tree')\n",
    "plt.plot(rf_fpr, rf_tpr, marker='.', label='Random Forest')\n",
    "\n",
    "\n",
    "plt.xlabel('Tasa de Falsos Positivos')\n",
    "plt.ylabel('Tasa de Verdaderos Positivos')\n",
    "plt.legend()\n",
    "\n",
    "# 5. Representación gráfica\n",
    "**Representación de los resultados a partir de tablas y gráficas. Este apartado se puede responder a lo largo de la práctica, sin necesidad de concentrar todas las representaciones en este punto de la práctica.**\n",
    "\n",
    "xxx Resuelto a lo largo de la práctica xx\n",
    "\n",
    "# 6. Resolución del problema\n",
    "**A partir de los resultados obtenidos, ¿cuáles son las conclusiones? ¿Los resultados permiten responder al problema?**\n",
    "\n",
    "# 7. Código\n",
    "**Hay que adjuntar el código, preferiblemente en R, con el que se ha realizado la limpieza, análisis y representación de los datos. Si lo preferís, también podéis trabajar en Python.**\n",
    "\n",
    "xx El código se ha ido viendo a lo largo de la práctica xx\n",
    "\n",
    "# 8. Vídeo\n",
    "**Realizar un breve vídeo explicativo de la práctica (máximo 10 minutos), donde ambos integrantes del equipo expliquen con sus propias palabras el desarrollo de la práctica, basándose en las preguntas del enunciado para justificar y explicar el código desarrollado. Este vídeo se deberá entregar a través de un enlace al Google Drive de la UOC (https://drive.google.com/...), junto con enlace al repositorio Git entregado.**\n",
    "\n",
    "# Contribuciones\n",
    "\n",
    "contribuciones = pd.DataFrame()\n",
    "contribuciones['Contribuciones'] = ['Investigación previa', 'Redacción de las respuestas', 'Desarrollo del código', 'Participación en el vídeo']\n",
    "contribuciones['Firma'] = ['Víctor H. Ayala, Clara Roca', 'Víctor H. Ayala, Clara Roca', 'Víctor H. Ayala, Clara Roca', 'Víctor H. Ayala, Clara Roca']\n",
    "contribuciones\n",
    "\n",
    "***"
   ]
  }
 ],
 "metadata": {
  "kernelspec": {
   "display_name": "Python 3 (ipykernel)",
   "language": "python",
   "name": "python3"
  },
  "language_info": {
   "codemirror_mode": {
    "name": "ipython",
    "version": 3
   },
   "file_extension": ".py",
   "mimetype": "text/x-python",
   "name": "python",
   "nbconvert_exporter": "python",
   "pygments_lexer": "ipython3",
   "version": "3.9.7"
  }
 },
 "nbformat": 4,
 "nbformat_minor": 5
}
