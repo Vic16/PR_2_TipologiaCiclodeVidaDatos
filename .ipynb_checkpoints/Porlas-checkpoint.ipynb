{
 "cells": [
  {
   "cell_type": "code",
   "execution_count": null,
   "id": "5953b133",
   "metadata": {},
   "outputs": [],
   "source": []
  },
  {
   "cell_type": "markdown",
   "id": "2aaf72e1",
   "metadata": {},
   "source": [
    "#### Práctica 2: Tipología y ciclo de vida de los datos\n",
    "# Análisis sobre enfermedades cardiacas\n",
    "#### Autores: \n",
    "- Víctor H. Ayala Sánchez  \n",
    "- Clara M. Roca de la Concha"
   ]
  },
  {
   "cell_type": "markdown",
   "id": "eafb66e9",
   "metadata": {},
   "source": [
    "https://archive.ics.uci.edu/ml/datasets/heart+disease"
   ]
  },
  {
   "cell_type": "markdown",
   "id": "b4305276",
   "metadata": {},
   "source": [
    "# Tabla de contenidos\n",
    "\n",
    "- 1. [Descripción del dataset](#1.-Descripción-del-dataset)\n",
    "- 2. [Integración y selección de los datos de interés a analizar](#2.-Integración-y-selección-de-los-datos-de-interés-a-analizar)\n",
    "- 3. [Limpieza de los datos](#3.-Limpieza-de-los-datos)\n",
    "    - 3.1. [¿Los datos contienen ceros o elementos vacíos?](#3.1.-¿Los-datos-contienen-ceros-o-elementos-vacíos?)\n",
    "    - 3.2. [Identifica y gestiona los valores extremos](#3.2.-Identifica-y-gestiona-los-valores-extremos)\n",
    "- 4.[Análisis de los datos](#4.-Análisis-de-los-datos)\n",
    "    - 4.1.[Selección de los grupos de datos que se quieren analizar/comparar](#4.1.-Selección-de-los-grupos-de-datos-que-se-quieren-analizar/comparar)\n",
    "    - 4.2.[Comprobación de la normalidad y homogeneidad de la varianza](#4.2.-Comprobación-de-la-normalidad-y-homogeneidad-de-la-varianza)\n",
    "    - 4.3.[Aplicación de pruebas estadísticas para comparar los grupos de datos](#4.3.-Aplicación-de-pruebas-estadísticas-para-comparar-los-grupos-de-datos)\n",
    "    - 4.4.[Relación entre predictores](#4.4.-Relación-entre-predictores)\n",
    "    - 4.5 [Modelaje Estadístico](#4.4.-Modelaje-Estadístico)\n",
    "- 5.[Representación gráfica](#5.-Representación-gráfica)\n",
    "- 6.[Resolución del problema](#6.-Resolución-del-problema)\n",
    "- 7.[Código](#7.-Código)\n",
    "- 8.[Vídeo](#8.-Vídeo)\n",
    "- [Contribuciones](#Contribuciones)"
   ]
  },
  {
   "cell_type": "markdown",
   "id": "a7f8d38d",
   "metadata": {},
   "source": [
    "# Librerías"
   ]
  },
  {
   "cell_type": "code",
   "execution_count": 407,
   "id": "957eb359",
   "metadata": {},
   "outputs": [],
   "source": [
    "import pandas as pd\n",
    "import numpy as np\n",
    "from scipy.stats import levene\n",
    "from scipy import stats\n",
    "\n",
    "\n",
    "import seaborn as sns\n",
    "import matplotlib.pyplot as plt\n",
    "\n",
    "from sklearn.preprocessing import MinMaxScaler\n",
    "from sklearn.linear_model import LogisticRegression\n",
    "from sklearn.tree import DecisionTreeClassifier\n",
    "from sklearn.ensemble import RandomForestClassifier\n",
    "\n",
    "from sklearn.model_selection import GridSearchCV\n",
    "from sklearn.metrics import classification_report\n",
    "\n",
    "from sklearn.metrics import roc_auc_score\n",
    "from sklearn.metrics import roc_curve\n",
    "\n",
    "from joblib import dump, load"
   ]
  },
  {
   "cell_type": "markdown",
   "id": "2fb1a143",
   "metadata": {},
   "source": [
    "# 1. Descripción del dataset\n",
    "\n",
    "**¿Por qué es importante y qué pregunta/problema pretende responder?**\t\t\t\n",
    "\n",
    "Partimos del dataset recomendado por la asignatura: [*Heart Attack Analysis & Prediction dataset*](https://www.kaggle.com/datasets/rashikrahmanpritom/heart-attack-analysis-prediction-dataset). En principio, este dataset trata de explicar la enfermedad cardiaca a partir de una serie de factores, como el colesterol o la frecuencia cardiaca. No obstante, aclararemos que este dataset es útil para practicar, pero no tanto para resolver un problema real, tal como ya se comenta [en el foro del propio dataset en Kaggle](https://www.kaggle.com/datasets/rashikrahmanpritom/heart-attack-analysis-prediction-dataset/discussion/249239). \n",
    "\n",
    "En un análisis preliminar de los datos, podemos comprobar que el archivo `heart.csv` consta de 303 registros y 14 variables. La información de Kaggle es escasa, puesto que no proporciona información espacio-temporal sobre los datos. Tampoco proporciona citas adicionales sobre las fuentes, siendo que es improbable que los que proporcionan este dataset sean los autores de la investigación. Nótese que señalan la procedencia 'online' y el método 'crawling'. \n",
    "\n",
    "Una búsqueda rápida nos llevará a encontrar [el origen de los datos](https://archive.ics.uci.edu/ml/datasets/heart+disease). Se trata de un popular dataset donado en 1988. El estudio original consta de 4 ubicaciones:\n",
    "1. Budapest (Hungría): Hungarian Institute of Cardiology, Andras Janosi, M.D.\n",
    "2. Zurich (Suiza): University Hospital, William Steinbrunn, M.D.\n",
    "3. Basilea (Suiza): University Hospital, Matthias Pfisterer, M.D.\n",
    "4. Cleveland (Estados Unidos): V.A. Medical Center, Long Beach and Cleveland Clinic Foundation, Robert Detrano, M.D., Ph.D.\n",
    "\n",
    "Originalmente, constaba de 76 atributos, si bien \"todos los experimentos publicados se refieren a 14 atributos\", tal como se nos indica [en el repositorio original](https://archive.ics.uci.edu/ml/datasets/heart+disease). Los datos compartidos en Kaggle proceden del dataset de Cleveland, el más popular en los estudios de Machine Learning. \n",
    "\n",
    "Por lo tanto, tenemos en nuestras manos un dataset cuya fuente original no está citada, con un número de registros menor al ideal en un estudio de estas características y de una antigüedad considerable. Presenta además algunas dificultades, como el hecho de que algunos valores no se corresponden con los establecidos en la descripción de los datos. Por ejemplo, la variable `cp` ('chest pain type') va del 0 al 3 mientras que en la descripción –tanto en kaggle como en el repositorio de UCI– va del 1 al 4. Instuitivamente cabe pensar que el 1 original pasó al 0 y el 4, al 3. Sin embargo, comparando los datos de Kaggle con el dataset original, podemos comprobar que esto no es así. Otros valores hacen saltar las alarmas, como la asignación en la variable `output`. Por este motivo, hemos tomado la decisión de partir directamente del dataset original, que se encuentra [aquí](https://archive.ics.uci.edu/ml/machine-learning-databases/heart-disease/) bajo el nombre `processed.cleveland.data`.\n",
    "\n",
    "Dicho esto, pasamos a describir las variables que tenemos entre manos:\n",
    "\n",
    "`age`: edad del paciente\n",
    "\n",
    "`sex`: sexo del paciente\n",
    "\n",
    "        0 = mujer\n",
    "        1 = hombre\n",
    "        \n",
    "        \n",
    "`cp`: tipo de dolor de pecho. \n",
    "\n",
    "        1 = angina típica\n",
    "        2 = angina atípica\n",
    "        3 = dolor no anginoso\n",
    "        4 = asintomático\n",
    "        \n",
    "`trestbps` : presión sanguínea en reposo (en mm Hg)\n",
    "\n",
    "`chol` : colesterol en mg/dl\n",
    "\n",
    "`fbs` : azúcar en sangre en ayunas > 120 mg/dl.\n",
    "\n",
    "        0 = falso\n",
    "        1 = verdadero\n",
    "        \n",
    "`restecg` : resultados electrocardiográficos en reposo\n",
    "\n",
    "        0 = normal\n",
    "        1 = anomalías en la onda ST-T\n",
    "        2 = hipertrofia ventricular izquierda\n",
    "        \n",
    "`thalach` : frecuencia cardiaca máxima alcanzada.\n",
    "\n",
    "`exang`: angina inducida por el ejercicio\n",
    "\n",
    "        0 = no\n",
    "        1 = sí\n",
    "        \n",
    "`oldpeak`: depresión del ST inducida por el ejercicio en relación con el reposo\n",
    "\n",
    "`slope`: la pendiente del segmento ST de ejercicio máximo.\n",
    "\n",
    "        1 = pendiente ascendiente \n",
    "        2 = sin pendiente\n",
    "        3 = pendiente descendente\n",
    "        \n",
    "`ca`: número de vasos principales (de 0 a 3)\n",
    "\n",
    "`thal`: Thallium Stress Test, por lo que podemos leer [aquí](https://www.kaggle.com/datasets/rashikrahmanpritom/heart-attack-analysis-prediction-dataset/discussion/234843?sort=votes)\n",
    "\n",
    "        3 = normal\n",
    "        6 = defecto arreglado\n",
    "        7 = defecto reversible \n",
    "\n",
    "`num`: atributo predicho; diagnóstico de enfermedad cardíaca (estado de enfermedad angiográfico)\n",
    "\n",
    "        0 = ausencia de enfermedad cardíaca\n",
    "        1, 2, 3 o 4 = presencia de enfermedad cardíaca"
   ]
  },
  {
   "cell_type": "markdown",
   "id": "746bc638",
   "metadata": {},
   "source": [
    "# 2. Integración y selección de los datos de interés a analizar\n",
    "**Puede ser el resultado de adicionar diferentes datasets o una subselección útil de los datos originales, en base al objetivo que se quiera conseguir.**\n",
    "\n",
    "Usaremos el dataset al completo, teniendo en cuenta que ya se parte de una reducción del original, que contenía 76 variables, si bien sí realizaremos ciertas modificaciones que pasamos a describir aquí:\n",
    "\n",
    "1. Añadimos el nombre de las columnas, no presente en el archivo.\n",
    "2. Convertimos los valores de ciertas variables para unificar las categorías de 'normal' o 'asintomático' en 0:\n",
    "    a. `cp`:\n",
    "        \n",
    "        0 = asintomático (antes 4)\n",
    "        1 = angina típica\n",
    "        2 = angina atípica\n",
    "        3 = dolor no anginoso\n",
    "        \n",
    "    b. `thal`:\n",
    "    \n",
    "        0 = normal (antes 3)\n",
    "        1 = defecto arreglado (antes 6)\n",
    "        2 = defecto reversible (antes 7)\n",
    "\n",
    "3. Unificamos todos los resultados en `num` de presencia de enfermedad cardíaca en 1 para que quede:\n",
    "    \n",
    "        0 = ausencia de enfermedad cardíaca\n",
    "        1 = presencia de enfermedad cardíaca\n",
    "        \n",
    "Antes de realizar todos estos cambios, deberemos asegurarnos de que no haya algún valor nulo imputado con estos números.   "
   ]
  },
  {
   "cell_type": "code",
   "execution_count": 306,
   "id": "5422d0d0",
   "metadata": {},
   "outputs": [
    {
     "data": {
      "text/html": [
       "<div>\n",
       "<style scoped>\n",
       "    .dataframe tbody tr th:only-of-type {\n",
       "        vertical-align: middle;\n",
       "    }\n",
       "\n",
       "    .dataframe tbody tr th {\n",
       "        vertical-align: top;\n",
       "    }\n",
       "\n",
       "    .dataframe thead th {\n",
       "        text-align: right;\n",
       "    }\n",
       "</style>\n",
       "<table border=\"1\" class=\"dataframe\">\n",
       "  <thead>\n",
       "    <tr style=\"text-align: right;\">\n",
       "      <th></th>\n",
       "      <th>age</th>\n",
       "      <th>sex</th>\n",
       "      <th>cp</th>\n",
       "      <th>trestbps</th>\n",
       "      <th>chol</th>\n",
       "      <th>fbs</th>\n",
       "      <th>restecg</th>\n",
       "      <th>thalach</th>\n",
       "      <th>exang</th>\n",
       "      <th>oldpeak</th>\n",
       "      <th>slope</th>\n",
       "      <th>ca</th>\n",
       "      <th>thal</th>\n",
       "      <th>num</th>\n",
       "    </tr>\n",
       "  </thead>\n",
       "  <tbody>\n",
       "    <tr>\n",
       "      <th>0</th>\n",
       "      <td>63.0</td>\n",
       "      <td>1.0</td>\n",
       "      <td>1.0</td>\n",
       "      <td>145.0</td>\n",
       "      <td>233.0</td>\n",
       "      <td>1.0</td>\n",
       "      <td>2.0</td>\n",
       "      <td>150.0</td>\n",
       "      <td>0.0</td>\n",
       "      <td>2.3</td>\n",
       "      <td>3.0</td>\n",
       "      <td>0.0</td>\n",
       "      <td>6.0</td>\n",
       "      <td>0</td>\n",
       "    </tr>\n",
       "    <tr>\n",
       "      <th>1</th>\n",
       "      <td>67.0</td>\n",
       "      <td>1.0</td>\n",
       "      <td>4.0</td>\n",
       "      <td>160.0</td>\n",
       "      <td>286.0</td>\n",
       "      <td>0.0</td>\n",
       "      <td>2.0</td>\n",
       "      <td>108.0</td>\n",
       "      <td>1.0</td>\n",
       "      <td>1.5</td>\n",
       "      <td>2.0</td>\n",
       "      <td>3.0</td>\n",
       "      <td>3.0</td>\n",
       "      <td>2</td>\n",
       "    </tr>\n",
       "    <tr>\n",
       "      <th>2</th>\n",
       "      <td>67.0</td>\n",
       "      <td>1.0</td>\n",
       "      <td>4.0</td>\n",
       "      <td>120.0</td>\n",
       "      <td>229.0</td>\n",
       "      <td>0.0</td>\n",
       "      <td>2.0</td>\n",
       "      <td>129.0</td>\n",
       "      <td>1.0</td>\n",
       "      <td>2.6</td>\n",
       "      <td>2.0</td>\n",
       "      <td>2.0</td>\n",
       "      <td>7.0</td>\n",
       "      <td>1</td>\n",
       "    </tr>\n",
       "    <tr>\n",
       "      <th>3</th>\n",
       "      <td>37.0</td>\n",
       "      <td>1.0</td>\n",
       "      <td>3.0</td>\n",
       "      <td>130.0</td>\n",
       "      <td>250.0</td>\n",
       "      <td>0.0</td>\n",
       "      <td>0.0</td>\n",
       "      <td>187.0</td>\n",
       "      <td>0.0</td>\n",
       "      <td>3.5</td>\n",
       "      <td>3.0</td>\n",
       "      <td>0.0</td>\n",
       "      <td>3.0</td>\n",
       "      <td>0</td>\n",
       "    </tr>\n",
       "    <tr>\n",
       "      <th>4</th>\n",
       "      <td>41.0</td>\n",
       "      <td>0.0</td>\n",
       "      <td>2.0</td>\n",
       "      <td>130.0</td>\n",
       "      <td>204.0</td>\n",
       "      <td>0.0</td>\n",
       "      <td>2.0</td>\n",
       "      <td>172.0</td>\n",
       "      <td>0.0</td>\n",
       "      <td>1.4</td>\n",
       "      <td>1.0</td>\n",
       "      <td>0.0</td>\n",
       "      <td>3.0</td>\n",
       "      <td>0</td>\n",
       "    </tr>\n",
       "  </tbody>\n",
       "</table>\n",
       "</div>"
      ],
      "text/plain": [
       "    age  sex   cp  trestbps   chol  fbs  restecg  thalach  exang  oldpeak  \\\n",
       "0  63.0  1.0  1.0     145.0  233.0  1.0      2.0    150.0    0.0      2.3   \n",
       "1  67.0  1.0  4.0     160.0  286.0  0.0      2.0    108.0    1.0      1.5   \n",
       "2  67.0  1.0  4.0     120.0  229.0  0.0      2.0    129.0    1.0      2.6   \n",
       "3  37.0  1.0  3.0     130.0  250.0  0.0      0.0    187.0    0.0      3.5   \n",
       "4  41.0  0.0  2.0     130.0  204.0  0.0      2.0    172.0    0.0      1.4   \n",
       "\n",
       "   slope   ca thal  num  \n",
       "0    3.0  0.0  6.0    0  \n",
       "1    2.0  3.0  3.0    2  \n",
       "2    2.0  2.0  7.0    1  \n",
       "3    3.0  0.0  3.0    0  \n",
       "4    1.0  0.0  3.0    0  "
      ]
     },
     "execution_count": 306,
     "metadata": {},
     "output_type": "execute_result"
    }
   ],
   "source": [
    "# Añadimos al dataset el nombre correspondiente de cada columna\n",
    "columns = ['age', 'sex', 'cp', 'trestbps', 'chol', \n",
    "           'fbs', 'restecg', 'thalach', 'exang', \n",
    "           'oldpeak', 'slope', 'ca', 'thal', 'num']\n",
    "df = pd.read_csv(\"data/processed.cleveland.csv\", header=None, names=columns)\n",
    "df.head()"
   ]
  },
  {
   "cell_type": "code",
   "execution_count": 307,
   "id": "94cee72d",
   "metadata": {},
   "outputs": [
    {
     "name": "stdout",
     "output_type": "stream",
     "text": [
      "<class 'pandas.core.frame.DataFrame'>\n",
      "RangeIndex: 303 entries, 0 to 302\n",
      "Data columns (total 14 columns):\n",
      " #   Column    Non-Null Count  Dtype  \n",
      "---  ------    --------------  -----  \n",
      " 0   age       303 non-null    float64\n",
      " 1   sex       303 non-null    float64\n",
      " 2   cp        303 non-null    float64\n",
      " 3   trestbps  303 non-null    float64\n",
      " 4   chol      303 non-null    float64\n",
      " 5   fbs       303 non-null    float64\n",
      " 6   restecg   303 non-null    float64\n",
      " 7   thalach   303 non-null    float64\n",
      " 8   exang     303 non-null    float64\n",
      " 9   oldpeak   303 non-null    float64\n",
      " 10  slope     303 non-null    float64\n",
      " 11  ca        303 non-null    object \n",
      " 12  thal      303 non-null    object \n",
      " 13  num       303 non-null    int64  \n",
      "dtypes: float64(11), int64(1), object(2)\n",
      "memory usage: 33.3+ KB\n"
     ]
    }
   ],
   "source": [
    "df.info()"
   ]
  },
  {
   "cell_type": "markdown",
   "id": "64834f6a",
   "metadata": {},
   "source": [
    "Vamos a homogeneizar el dataframe y pasar todo a numeric. Usaremos `errors='coerce'` para convertir en nulos los valores no numéricos."
   ]
  },
  {
   "cell_type": "code",
   "execution_count": 308,
   "id": "68ae962c",
   "metadata": {},
   "outputs": [],
   "source": [
    "df = df.apply(pd.to_numeric, errors='coerce')"
   ]
  },
  {
   "cell_type": "markdown",
   "id": "1d6e55d1",
   "metadata": {},
   "source": [
    "A continuación, podemos comprobar que, efectivamente, `ca`contiene 4 valores nulos y `thal`, 2."
   ]
  },
  {
   "cell_type": "code",
   "execution_count": 309,
   "id": "32b0f154",
   "metadata": {
    "scrolled": false
   },
   "outputs": [
    {
     "name": "stdout",
     "output_type": "stream",
     "text": [
      "<class 'pandas.core.frame.DataFrame'>\n",
      "RangeIndex: 303 entries, 0 to 302\n",
      "Data columns (total 14 columns):\n",
      " #   Column    Non-Null Count  Dtype  \n",
      "---  ------    --------------  -----  \n",
      " 0   age       303 non-null    float64\n",
      " 1   sex       303 non-null    float64\n",
      " 2   cp        303 non-null    float64\n",
      " 3   trestbps  303 non-null    float64\n",
      " 4   chol      303 non-null    float64\n",
      " 5   fbs       303 non-null    float64\n",
      " 6   restecg   303 non-null    float64\n",
      " 7   thalach   303 non-null    float64\n",
      " 8   exang     303 non-null    float64\n",
      " 9   oldpeak   303 non-null    float64\n",
      " 10  slope     303 non-null    float64\n",
      " 11  ca        299 non-null    float64\n",
      " 12  thal      301 non-null    float64\n",
      " 13  num       303 non-null    int64  \n",
      "dtypes: float64(13), int64(1)\n",
      "memory usage: 33.3 KB\n"
     ]
    }
   ],
   "source": [
    "df.info()"
   ]
  },
  {
   "cell_type": "markdown",
   "id": "bd845876",
   "metadata": {},
   "source": [
    "Visto que, efectivamente, todas las variables se ajustan a lo indicado en la descripción del dataset, procedemos a recodificar las variables indicadas."
   ]
  },
  {
   "cell_type": "code",
   "execution_count": 310,
   "id": "46e1c5a4",
   "metadata": {},
   "outputs": [
    {
     "data": {
      "text/html": [
       "<div>\n",
       "<style scoped>\n",
       "    .dataframe tbody tr th:only-of-type {\n",
       "        vertical-align: middle;\n",
       "    }\n",
       "\n",
       "    .dataframe tbody tr th {\n",
       "        vertical-align: top;\n",
       "    }\n",
       "\n",
       "    .dataframe thead th {\n",
       "        text-align: right;\n",
       "    }\n",
       "</style>\n",
       "<table border=\"1\" class=\"dataframe\">\n",
       "  <thead>\n",
       "    <tr style=\"text-align: right;\">\n",
       "      <th></th>\n",
       "      <th>age</th>\n",
       "      <th>sex</th>\n",
       "      <th>cp</th>\n",
       "      <th>trestbps</th>\n",
       "      <th>chol</th>\n",
       "      <th>fbs</th>\n",
       "      <th>restecg</th>\n",
       "      <th>thalach</th>\n",
       "      <th>exang</th>\n",
       "      <th>oldpeak</th>\n",
       "      <th>slope</th>\n",
       "      <th>ca</th>\n",
       "      <th>thal</th>\n",
       "      <th>num</th>\n",
       "    </tr>\n",
       "  </thead>\n",
       "  <tbody>\n",
       "    <tr>\n",
       "      <th>128</th>\n",
       "      <td>44.0</td>\n",
       "      <td>1.0</td>\n",
       "      <td>2.0</td>\n",
       "      <td>120.0</td>\n",
       "      <td>220.0</td>\n",
       "      <td>0.0</td>\n",
       "      <td>0.0</td>\n",
       "      <td>170.0</td>\n",
       "      <td>0.0</td>\n",
       "      <td>0.0</td>\n",
       "      <td>1.0</td>\n",
       "      <td>0.0</td>\n",
       "      <td>normal</td>\n",
       "      <td>0</td>\n",
       "    </tr>\n",
       "    <tr>\n",
       "      <th>9</th>\n",
       "      <td>53.0</td>\n",
       "      <td>1.0</td>\n",
       "      <td>0.0</td>\n",
       "      <td>140.0</td>\n",
       "      <td>203.0</td>\n",
       "      <td>1.0</td>\n",
       "      <td>2.0</td>\n",
       "      <td>155.0</td>\n",
       "      <td>1.0</td>\n",
       "      <td>3.1</td>\n",
       "      <td>3.0</td>\n",
       "      <td>0.0</td>\n",
       "      <td>reversable defect</td>\n",
       "      <td>1</td>\n",
       "    </tr>\n",
       "    <tr>\n",
       "      <th>31</th>\n",
       "      <td>60.0</td>\n",
       "      <td>1.0</td>\n",
       "      <td>0.0</td>\n",
       "      <td>117.0</td>\n",
       "      <td>230.0</td>\n",
       "      <td>1.0</td>\n",
       "      <td>0.0</td>\n",
       "      <td>160.0</td>\n",
       "      <td>1.0</td>\n",
       "      <td>1.4</td>\n",
       "      <td>1.0</td>\n",
       "      <td>2.0</td>\n",
       "      <td>reversable defect</td>\n",
       "      <td>1</td>\n",
       "    </tr>\n",
       "    <tr>\n",
       "      <th>233</th>\n",
       "      <td>74.0</td>\n",
       "      <td>0.0</td>\n",
       "      <td>2.0</td>\n",
       "      <td>120.0</td>\n",
       "      <td>269.0</td>\n",
       "      <td>0.0</td>\n",
       "      <td>2.0</td>\n",
       "      <td>121.0</td>\n",
       "      <td>1.0</td>\n",
       "      <td>0.2</td>\n",
       "      <td>1.0</td>\n",
       "      <td>1.0</td>\n",
       "      <td>normal</td>\n",
       "      <td>0</td>\n",
       "    </tr>\n",
       "    <tr>\n",
       "      <th>174</th>\n",
       "      <td>64.0</td>\n",
       "      <td>1.0</td>\n",
       "      <td>0.0</td>\n",
       "      <td>145.0</td>\n",
       "      <td>212.0</td>\n",
       "      <td>0.0</td>\n",
       "      <td>2.0</td>\n",
       "      <td>132.0</td>\n",
       "      <td>0.0</td>\n",
       "      <td>2.0</td>\n",
       "      <td>2.0</td>\n",
       "      <td>2.0</td>\n",
       "      <td>fixed defect</td>\n",
       "      <td>1</td>\n",
       "    </tr>\n",
       "  </tbody>\n",
       "</table>\n",
       "</div>"
      ],
      "text/plain": [
       "      age  sex   cp  trestbps   chol  fbs  restecg  thalach  exang  oldpeak  \\\n",
       "128  44.0  1.0  2.0     120.0  220.0  0.0      0.0    170.0    0.0      0.0   \n",
       "9    53.0  1.0  0.0     140.0  203.0  1.0      2.0    155.0    1.0      3.1   \n",
       "31   60.0  1.0  0.0     117.0  230.0  1.0      0.0    160.0    1.0      1.4   \n",
       "233  74.0  0.0  2.0     120.0  269.0  0.0      2.0    121.0    1.0      0.2   \n",
       "174  64.0  1.0  0.0     145.0  212.0  0.0      2.0    132.0    0.0      2.0   \n",
       "\n",
       "     slope   ca               thal  num  \n",
       "128    1.0  0.0             normal    0  \n",
       "9      3.0  0.0  reversable defect    1  \n",
       "31     1.0  2.0  reversable defect    1  \n",
       "233    1.0  1.0             normal    0  \n",
       "174    2.0  2.0       fixed defect    1  "
      ]
     },
     "execution_count": 310,
     "metadata": {},
     "output_type": "execute_result"
    }
   ],
   "source": [
    "df = df.replace({\n",
    "    'cp': {\n",
    "        4: 0\n",
    "        },\n",
    "   \n",
    "    'thal':{ \n",
    "        3 : \"normal\",\n",
    "        6.0 : \"fixed defect\",\n",
    "        7.0 : \"reversable defect\"\n",
    "        #'?': np.NaN\n",
    "    },\n",
    "    \n",
    "    'num':{ \n",
    "        2 : 1,\n",
    "        3 : 1,\n",
    "        4 : 1\n",
    "    }  \n",
    "    \n",
    "})\n",
    "        \n",
    "df.sample(5)"
   ]
  },
  {
   "cell_type": "markdown",
   "id": "6bfa9cf6",
   "metadata": {},
   "source": [
    "# 3. Limpieza de los datos"
   ]
  },
  {
   "cell_type": "markdown",
   "id": "5ce30db4",
   "metadata": {},
   "source": [
    "## 3.1. ¿Los datos contienen ceros o elementos vacíos? \n",
    "**Gestiona cada uno de estos casos.**\n",
    "\n",
    "Como ya hemos podido comprobar, existen valores nulos en la variable `ca`y en la variable `thal`."
   ]
  },
  {
   "cell_type": "code",
   "execution_count": 311,
   "id": "64baa2c5",
   "metadata": {},
   "outputs": [
    {
     "name": "stdout",
     "output_type": "stream",
     "text": [
      "<class 'pandas.core.frame.DataFrame'>\n",
      "RangeIndex: 303 entries, 0 to 302\n",
      "Data columns (total 14 columns):\n",
      " #   Column    Non-Null Count  Dtype  \n",
      "---  ------    --------------  -----  \n",
      " 0   age       303 non-null    float64\n",
      " 1   sex       303 non-null    float64\n",
      " 2   cp        303 non-null    float64\n",
      " 3   trestbps  303 non-null    float64\n",
      " 4   chol      303 non-null    float64\n",
      " 5   fbs       303 non-null    float64\n",
      " 6   restecg   303 non-null    float64\n",
      " 7   thalach   303 non-null    float64\n",
      " 8   exang     303 non-null    float64\n",
      " 9   oldpeak   303 non-null    float64\n",
      " 10  slope     303 non-null    float64\n",
      " 11  ca        299 non-null    float64\n",
      " 12  thal      301 non-null    object \n",
      " 13  num       303 non-null    int64  \n",
      "dtypes: float64(12), int64(1), object(1)\n",
      "memory usage: 33.3+ KB\n"
     ]
    }
   ],
   "source": [
    "df.info()"
   ]
  },
  {
   "cell_type": "markdown",
   "id": "12d8fb5c",
   "metadata": {},
   "source": [
    "Realizamos un preprocesamiento, haciendo replace sobre las variables categóricas para poder analizar los datos"
   ]
  },
  {
   "cell_type": "code",
   "execution_count": 312,
   "id": "c9649ed6",
   "metadata": {
    "scrolled": false
   },
   "outputs": [
    {
     "data": {
      "text/html": [
       "<div>\n",
       "<style scoped>\n",
       "    .dataframe tbody tr th:only-of-type {\n",
       "        vertical-align: middle;\n",
       "    }\n",
       "\n",
       "    .dataframe tbody tr th {\n",
       "        vertical-align: top;\n",
       "    }\n",
       "\n",
       "    .dataframe thead th {\n",
       "        text-align: right;\n",
       "    }\n",
       "</style>\n",
       "<table border=\"1\" class=\"dataframe\">\n",
       "  <thead>\n",
       "    <tr style=\"text-align: right;\">\n",
       "      <th></th>\n",
       "      <th>age</th>\n",
       "      <th>sex</th>\n",
       "      <th>cp</th>\n",
       "      <th>trestbps</th>\n",
       "      <th>chol</th>\n",
       "      <th>fbs</th>\n",
       "      <th>restecg</th>\n",
       "      <th>thalach</th>\n",
       "      <th>exang</th>\n",
       "      <th>oldpeak</th>\n",
       "      <th>slope</th>\n",
       "      <th>ca</th>\n",
       "      <th>thal</th>\n",
       "      <th>num</th>\n",
       "    </tr>\n",
       "  </thead>\n",
       "  <tbody>\n",
       "    <tr>\n",
       "      <th>272</th>\n",
       "      <td>46.0</td>\n",
       "      <td>Male</td>\n",
       "      <td>typical angina</td>\n",
       "      <td>140.0</td>\n",
       "      <td>311.0</td>\n",
       "      <td>fastingBloodSugar_false</td>\n",
       "      <td>Normal</td>\n",
       "      <td>120.0</td>\n",
       "      <td>No Angina</td>\n",
       "      <td>1.8</td>\n",
       "      <td>flat</td>\n",
       "      <td>2.0</td>\n",
       "      <td>reversable defect</td>\n",
       "      <td>1</td>\n",
       "    </tr>\n",
       "    <tr>\n",
       "      <th>59</th>\n",
       "      <td>51.0</td>\n",
       "      <td>Male</td>\n",
       "      <td>atypical angina</td>\n",
       "      <td>125.0</td>\n",
       "      <td>213.0</td>\n",
       "      <td>fastingBloodSugar_false</td>\n",
       "      <td>Left ventricular hypertrophy</td>\n",
       "      <td>125.0</td>\n",
       "      <td>No Angina</td>\n",
       "      <td>1.4</td>\n",
       "      <td>upsloping</td>\n",
       "      <td>1.0</td>\n",
       "      <td>normal</td>\n",
       "      <td>0</td>\n",
       "    </tr>\n",
       "    <tr>\n",
       "      <th>251</th>\n",
       "      <td>58.0</td>\n",
       "      <td>Male</td>\n",
       "      <td>typical angina</td>\n",
       "      <td>146.0</td>\n",
       "      <td>218.0</td>\n",
       "      <td>fastingBloodSugar_false</td>\n",
       "      <td>Normal</td>\n",
       "      <td>105.0</td>\n",
       "      <td>Yes Angina</td>\n",
       "      <td>2.0</td>\n",
       "      <td>flat</td>\n",
       "      <td>1.0</td>\n",
       "      <td>reversable defect</td>\n",
       "      <td>1</td>\n",
       "    </tr>\n",
       "    <tr>\n",
       "      <th>134</th>\n",
       "      <td>43.0</td>\n",
       "      <td>Female</td>\n",
       "      <td>asymptomatic</td>\n",
       "      <td>122.0</td>\n",
       "      <td>213.0</td>\n",
       "      <td>fastingBloodSugar_false</td>\n",
       "      <td>Normal</td>\n",
       "      <td>165.0</td>\n",
       "      <td>Yes Angina</td>\n",
       "      <td>0.2</td>\n",
       "      <td>flat</td>\n",
       "      <td>0.0</td>\n",
       "      <td>normal</td>\n",
       "      <td>0</td>\n",
       "    </tr>\n",
       "  </tbody>\n",
       "</table>\n",
       "</div>"
      ],
      "text/plain": [
       "      age     sex               cp  trestbps   chol                      fbs  \\\n",
       "272  46.0    Male   typical angina     140.0  311.0  fastingBloodSugar_false   \n",
       "59   51.0    Male  atypical angina     125.0  213.0  fastingBloodSugar_false   \n",
       "251  58.0    Male   typical angina     146.0  218.0  fastingBloodSugar_false   \n",
       "134  43.0  Female     asymptomatic     122.0  213.0  fastingBloodSugar_false   \n",
       "\n",
       "                          restecg  thalach       exang  oldpeak      slope  \\\n",
       "272                        Normal    120.0   No Angina      1.8       flat   \n",
       "59   Left ventricular hypertrophy    125.0   No Angina      1.4  upsloping   \n",
       "251                        Normal    105.0  Yes Angina      2.0       flat   \n",
       "134                        Normal    165.0  Yes Angina      0.2       flat   \n",
       "\n",
       "      ca               thal  num  \n",
       "272  2.0  reversable defect    1  \n",
       "59   1.0             normal    0  \n",
       "251  1.0  reversable defect    1  \n",
       "134  0.0             normal    0  "
      ]
     },
     "execution_count": 312,
     "metadata": {},
     "output_type": "execute_result"
    }
   ],
   "source": [
    "df = df.replace({\n",
    "    'cp': {\n",
    "        0: 'typical angina',\n",
    "        1: 'atypical angina',\n",
    "        2: 'non-anginal pain',\n",
    "        3: 'asymptomatic'\n",
    "        },\n",
    "    'sex':{\n",
    "        1:'Male',\n",
    "        0:'Female'\n",
    "    },\n",
    "    'restecg':{\n",
    "        0:'Normal',\n",
    "        1:'ST-T wave abnormality',\n",
    "        2:'Left ventricular hypertrophy'\n",
    "    },\n",
    "    'exang':{\n",
    "        0:'Yes Angina',\n",
    "        1:'No Angina'\n",
    "    },\n",
    "    'fbs':{\n",
    "        0:'fastingBloodSugar_false',\n",
    "        1:'fastingBloodSugar_true'  \n",
    "    },\n",
    "    'slope':{\n",
    "        1:'upsloping',\n",
    "        2:'flat',\n",
    "        3:'downsloping'\n",
    "    },\n",
    "\n",
    "})\n",
    "\n",
    "df.sample(4)"
   ]
  },
  {
   "cell_type": "markdown",
   "id": "6842659d",
   "metadata": {},
   "source": [
    "Una vez realizado el proceso de replace podemos notar que tenemos dos registros con valores aunsentes o perdidos en la variable **thal** y **ca**"
   ]
  },
  {
   "cell_type": "code",
   "execution_count": 313,
   "id": "e942754a",
   "metadata": {
    "scrolled": false
   },
   "outputs": [
    {
     "name": "stdout",
     "output_type": "stream",
     "text": [
      "<class 'pandas.core.frame.DataFrame'>\n",
      "RangeIndex: 303 entries, 0 to 302\n",
      "Data columns (total 14 columns):\n",
      " #   Column    Non-Null Count  Dtype  \n",
      "---  ------    --------------  -----  \n",
      " 0   age       303 non-null    float64\n",
      " 1   sex       303 non-null    object \n",
      " 2   cp        303 non-null    object \n",
      " 3   trestbps  303 non-null    float64\n",
      " 4   chol      303 non-null    float64\n",
      " 5   fbs       303 non-null    object \n",
      " 6   restecg   303 non-null    object \n",
      " 7   thalach   303 non-null    float64\n",
      " 8   exang     303 non-null    object \n",
      " 9   oldpeak   303 non-null    float64\n",
      " 10  slope     303 non-null    object \n",
      " 11  ca        299 non-null    float64\n",
      " 12  thal      301 non-null    object \n",
      " 13  num       303 non-null    int64  \n",
      "dtypes: float64(6), int64(1), object(7)\n",
      "memory usage: 33.3+ KB\n"
     ]
    }
   ],
   "source": [
    "df.info()"
   ]
  },
  {
   "cell_type": "markdown",
   "id": "676fe30d",
   "metadata": {},
   "source": [
    "Considerando que son solo 6 registros y que representan menos del 5% de los datos decidimos directamente eliminarlos del conjunto de datos. "
   ]
  },
  {
   "cell_type": "code",
   "execution_count": 314,
   "id": "8b7c14ff",
   "metadata": {},
   "outputs": [],
   "source": [
    "df.dropna(inplace=True)"
   ]
  },
  {
   "cell_type": "code",
   "execution_count": 315,
   "id": "d6d63e12",
   "metadata": {},
   "outputs": [
    {
     "name": "stdout",
     "output_type": "stream",
     "text": [
      "<class 'pandas.core.frame.DataFrame'>\n",
      "Int64Index: 297 entries, 0 to 301\n",
      "Data columns (total 14 columns):\n",
      " #   Column    Non-Null Count  Dtype  \n",
      "---  ------    --------------  -----  \n",
      " 0   age       297 non-null    float64\n",
      " 1   sex       297 non-null    object \n",
      " 2   cp        297 non-null    object \n",
      " 3   trestbps  297 non-null    float64\n",
      " 4   chol      297 non-null    float64\n",
      " 5   fbs       297 non-null    object \n",
      " 6   restecg   297 non-null    object \n",
      " 7   thalach   297 non-null    float64\n",
      " 8   exang     297 non-null    object \n",
      " 9   oldpeak   297 non-null    float64\n",
      " 10  slope     297 non-null    object \n",
      " 11  ca        297 non-null    float64\n",
      " 12  thal      297 non-null    object \n",
      " 13  num       297 non-null    int64  \n",
      "dtypes: float64(6), int64(1), object(7)\n",
      "memory usage: 34.8+ KB\n"
     ]
    }
   ],
   "source": [
    "df.info()"
   ]
  },
  {
   "cell_type": "markdown",
   "id": "5f781489",
   "metadata": {},
   "source": [
    "## 3.2. Identifica y gestiona los valores extremos\n",
    "\n"
   ]
  },
  {
   "cell_type": "markdown",
   "id": "39d4b6da",
   "metadata": {},
   "source": [
    "Mediante el análisis gráfico de las distribuciones observamos algunos valores extremos en las variables **trestbps**, **chol**, **thalach** y **oldpeak**"
   ]
  },
  {
   "cell_type": "code",
   "execution_count": 316,
   "id": "4ab25ec9",
   "metadata": {},
   "outputs": [
    {
     "data": {
      "image/png": "[encoded data removed]",
      "text/plain": [
       "<Figure size 2520x2160 with 6 Axes>"
      ]
     },
     "metadata": {
      "needs_background": "light"
     },
     "output_type": "display_data"
    }
   ],
   "source": [
    "fig, axes = plt.subplots(2, 3, figsize=(35,30))\n",
    "\n",
    "sns.boxplot(ax=axes[0,0], y=\"age\", palette=\"viridis\", data=df).set(title='Distribución de la edad')\n",
    "sns.boxplot(ax=axes[0,1], y=\"trestbps\", palette=\"viridis\", data=df).set(title='Distribución de la presión sanguínea')\n",
    "sns.boxplot(ax=axes[0,2], y=\"chol\" ,palette=\"viridis\", data=df).set(title='Distribución del colesterol')\n",
    "\n",
    "sns.boxplot(ax=axes[1,0], y=\"thalach\" ,palette=\"viridis\", data=df).set(title='Distribución del ratio máximo de pulsasiones')\n",
    "sns.boxplot(ax=axes[1,1], y=\"oldpeak\" ,palette=\"viridis\", data=df).set(title='Distribución de la frecuencia cardíaca máxima')\n",
    "sns.boxplot(ax=axes[1,2], y=\"ca\" ,palette=\"viridis\", data=df).set(title='Distribución de los vasos')\n",
    "\n",
    "plt.show()"
   ]
  },
  {
   "cell_type": "code",
   "execution_count": 317,
   "id": "c2d04fb5",
   "metadata": {},
   "outputs": [
    {
     "data": {
      "image/png": "[encoded data removed]",
      "text/plain": [
       "<Figure size 2520x2160 with 6 Axes>"
      ]
     },
     "metadata": {
      "needs_background": "light"
     },
     "output_type": "display_data"
    }
   ],
   "source": [
    "fig, axes = plt.subplots(2, 3, figsize=(35,30))\n",
    "\n",
    "sns.histplot(ax=axes[0,0], x=\"age\", palette=\"viridis\", data=df).set(title='Distribución de la edad')\n",
    "sns.histplot(ax=axes[0,1], x=\"trestbps\", palette=\"viridis\", data=df).set(title='Distribución de la presión sanguínea')\n",
    "sns.histplot(ax=axes[0,2], x=\"chol\" ,palette=\"viridis\", data=df).set(title='Distribución del colesterol')\n",
    "\n",
    "sns.histplot(ax=axes[1,0], x=\"thalach\" ,palette=\"viridis\", data=df).set(title='Distribución del ratio máximo de pulsasiones')\n",
    "sns.histplot(ax=axes[1,1], x=\"oldpeak\" ,palette=\"viridis\", data=df).set(title='Distribución de la frecuencia cardíaca máxima')\n",
    "sns.histplot(ax=axes[1,2], x=\"ca\" ,palette=\"viridis\", data=df, bins=4).set(title='Distribución de los vasos')\n",
    "\n",
    "plt.show()"
   ]
  },
  {
   "cell_type": "code",
   "execution_count": 318,
   "id": "c638d50d",
   "metadata": {},
   "outputs": [
    {
     "data": {
      "text/html": [
       "<div>\n",
       "<style scoped>\n",
       "    .dataframe tbody tr th:only-of-type {\n",
       "        vertical-align: middle;\n",
       "    }\n",
       "\n",
       "    .dataframe tbody tr th {\n",
       "        vertical-align: top;\n",
       "    }\n",
       "\n",
       "    .dataframe thead th {\n",
       "        text-align: right;\n",
       "    }\n",
       "</style>\n",
       "<table border=\"1\" class=\"dataframe\">\n",
       "  <thead>\n",
       "    <tr style=\"text-align: right;\">\n",
       "      <th></th>\n",
       "      <th>age</th>\n",
       "      <th>trestbps</th>\n",
       "      <th>chol</th>\n",
       "      <th>thalach</th>\n",
       "      <th>oldpeak</th>\n",
       "      <th>ca</th>\n",
       "      <th>num</th>\n",
       "    </tr>\n",
       "  </thead>\n",
       "  <tbody>\n",
       "    <tr>\n",
       "      <th>count</th>\n",
       "      <td>297.000000</td>\n",
       "      <td>297.000000</td>\n",
       "      <td>297.000000</td>\n",
       "      <td>297.000000</td>\n",
       "      <td>297.000000</td>\n",
       "      <td>297.000000</td>\n",
       "      <td>297.000000</td>\n",
       "    </tr>\n",
       "    <tr>\n",
       "      <th>mean</th>\n",
       "      <td>54.542088</td>\n",
       "      <td>131.693603</td>\n",
       "      <td>247.350168</td>\n",
       "      <td>149.599327</td>\n",
       "      <td>1.055556</td>\n",
       "      <td>0.676768</td>\n",
       "      <td>0.461279</td>\n",
       "    </tr>\n",
       "    <tr>\n",
       "      <th>std</th>\n",
       "      <td>9.049736</td>\n",
       "      <td>17.762806</td>\n",
       "      <td>51.997583</td>\n",
       "      <td>22.941562</td>\n",
       "      <td>1.166123</td>\n",
       "      <td>0.938965</td>\n",
       "      <td>0.499340</td>\n",
       "    </tr>\n",
       "    <tr>\n",
       "      <th>min</th>\n",
       "      <td>29.000000</td>\n",
       "      <td>94.000000</td>\n",
       "      <td>126.000000</td>\n",
       "      <td>71.000000</td>\n",
       "      <td>0.000000</td>\n",
       "      <td>0.000000</td>\n",
       "      <td>0.000000</td>\n",
       "    </tr>\n",
       "    <tr>\n",
       "      <th>25%</th>\n",
       "      <td>48.000000</td>\n",
       "      <td>120.000000</td>\n",
       "      <td>211.000000</td>\n",
       "      <td>133.000000</td>\n",
       "      <td>0.000000</td>\n",
       "      <td>0.000000</td>\n",
       "      <td>0.000000</td>\n",
       "    </tr>\n",
       "    <tr>\n",
       "      <th>50%</th>\n",
       "      <td>56.000000</td>\n",
       "      <td>130.000000</td>\n",
       "      <td>243.000000</td>\n",
       "      <td>153.000000</td>\n",
       "      <td>0.800000</td>\n",
       "      <td>0.000000</td>\n",
       "      <td>0.000000</td>\n",
       "    </tr>\n",
       "    <tr>\n",
       "      <th>75%</th>\n",
       "      <td>61.000000</td>\n",
       "      <td>140.000000</td>\n",
       "      <td>276.000000</td>\n",
       "      <td>166.000000</td>\n",
       "      <td>1.600000</td>\n",
       "      <td>1.000000</td>\n",
       "      <td>1.000000</td>\n",
       "    </tr>\n",
       "    <tr>\n",
       "      <th>max</th>\n",
       "      <td>77.000000</td>\n",
       "      <td>200.000000</td>\n",
       "      <td>564.000000</td>\n",
       "      <td>202.000000</td>\n",
       "      <td>6.200000</td>\n",
       "      <td>3.000000</td>\n",
       "      <td>1.000000</td>\n",
       "    </tr>\n",
       "  </tbody>\n",
       "</table>\n",
       "</div>"
      ],
      "text/plain": [
       "              age    trestbps        chol     thalach     oldpeak          ca  \\\n",
       "count  297.000000  297.000000  297.000000  297.000000  297.000000  297.000000   \n",
       "mean    54.542088  131.693603  247.350168  149.599327    1.055556    0.676768   \n",
       "std      9.049736   17.762806   51.997583   22.941562    1.166123    0.938965   \n",
       "min     29.000000   94.000000  126.000000   71.000000    0.000000    0.000000   \n",
       "25%     48.000000  120.000000  211.000000  133.000000    0.000000    0.000000   \n",
       "50%     56.000000  130.000000  243.000000  153.000000    0.800000    0.000000   \n",
       "75%     61.000000  140.000000  276.000000  166.000000    1.600000    1.000000   \n",
       "max     77.000000  200.000000  564.000000  202.000000    6.200000    3.000000   \n",
       "\n",
       "              num  \n",
       "count  297.000000  \n",
       "mean     0.461279  \n",
       "std      0.499340  \n",
       "min      0.000000  \n",
       "25%      0.000000  \n",
       "50%      0.000000  \n",
       "75%      1.000000  \n",
       "max      1.000000  "
      ]
     },
     "execution_count": 318,
     "metadata": {},
     "output_type": "execute_result"
    }
   ],
   "source": [
    "df.describe()"
   ]
  },
  {
   "cell_type": "markdown",
   "id": "a8956e2a",
   "metadata": {},
   "source": [
    "Además de los gráficos de boxplot, observando la tabla de estadísticos descriptivos podemos detectar valores máximos que se encuentran varias desviaciones por encima de la media, este caso se da en las distribuciones como en trtbps, chol, thalachh etc.\n"
   ]
  },
  {
   "cell_type": "markdown",
   "id": "81eb6afc",
   "metadata": {},
   "source": [
    "Definimos la siguiente función para reemplazar aquellos valores que se encuentren por encima del percentil 95 o por debajo del percentil 5, considerados como valores extremos, dicho reemplazo se realizará por el percentil 85 y 10 respectivamente."
   ]
  },
  {
   "cell_type": "code",
   "execution_count": 319,
   "id": "0191e811",
   "metadata": {},
   "outputs": [],
   "source": [
    "def replaceOuliers(column):\n",
    "    \"\"\"\n",
    "    \"\"\"\n",
    "    colReplace = np.array(column)\n",
    "    median = np.median(column)\n",
    "    \n",
    "    upper =  np.percentile(np.array(column),95)\n",
    "    lower =  np.percentile(np.array(column),5)\n",
    "    \n",
    "    #colReplace[colReplace[:] > upper] = np.percentile(np.array(column),85)\n",
    "    #colReplace[colReplace[:] < lower] = np.percentile(np.array(column),10)\n",
    "    \n",
    "    colReplace[colReplace[:] > upper] = median\n",
    "    colReplace[colReplace[:] < lower] = median\n",
    "    \n",
    "    return list(colReplace)"
   ]
  },
  {
   "cell_type": "code",
   "execution_count": 320,
   "id": "d331fcae",
   "metadata": {},
   "outputs": [],
   "source": [
    "df[\"trestbps\"] = replaceOuliers(list(df[\"trestbps\"]))\n",
    "df[\"chol\"] = replaceOuliers(list(df[\"chol\"]))\n",
    "df[\"thalach\"] = replaceOuliers(list(df[\"thalach\"]))\n",
    "df[\"oldpeak\"] = replaceOuliers(list(df[\"oldpeak\"]))\n"
   ]
  },
  {
   "cell_type": "code",
   "execution_count": 321,
   "id": "a47620ec",
   "metadata": {},
   "outputs": [
    {
     "data": {
      "image/png": "[encoded data removed]",
      "text/plain": [
       "<Figure size 2520x2160 with 6 Axes>"
      ]
     },
     "metadata": {
      "needs_background": "light"
     },
     "output_type": "display_data"
    }
   ],
   "source": [
    "fig, axes = plt.subplots(2, 3, figsize=(35,30))\n",
    "\n",
    "sns.boxplot(ax=axes[0,0], y=\"age\", palette=\"viridis\", data=df).set(title='Distribución de la edad')\n",
    "sns.boxplot(ax=axes[0,1], y=\"trestbps\", palette=\"viridis\", data=df).set(title='Distribución de la presión sanguínea')\n",
    "sns.boxplot(ax=axes[0,2], y=\"chol\" ,palette=\"viridis\", data=df).set(title='Distribución del colesterol')\n",
    "\n",
    "sns.boxplot(ax=axes[1,0], y=\"thalach\" ,palette=\"viridis\", data=df).set(title='Distribución del ratio máximo de pulsasiones')\n",
    "sns.boxplot(ax=axes[1,1], y=\"oldpeak\" ,palette=\"viridis\", data=df).set(title='Distribución de la frecuencia cardíaca máxima')\n",
    "sns.boxplot(ax=axes[1,2], y=\"ca\" ,palette=\"viridis\", data=df).set(title='Distribución de los vasos')\n",
    "\n",
    "plt.show()"
   ]
  },
  {
   "cell_type": "markdown",
   "id": "adce2982",
   "metadata": {},
   "source": [
    "# 4. Análisis de los datos"
   ]
  },
  {
   "cell_type": "markdown",
   "id": "6b6627ce",
   "metadata": {},
   "source": [
    "### Análisis Exploratorio de datos"
   ]
  },
  {
   "cell_type": "code",
   "execution_count": 322,
   "id": "9a2dab70",
   "metadata": {},
   "outputs": [
    {
     "data": {
      "text/html": [
       "<div>\n",
       "<style scoped>\n",
       "    .dataframe tbody tr th:only-of-type {\n",
       "        vertical-align: middle;\n",
       "    }\n",
       "\n",
       "    .dataframe tbody tr th {\n",
       "        vertical-align: top;\n",
       "    }\n",
       "\n",
       "    .dataframe thead th {\n",
       "        text-align: right;\n",
       "    }\n",
       "</style>\n",
       "<table border=\"1\" class=\"dataframe\">\n",
       "  <thead>\n",
       "    <tr style=\"text-align: right;\">\n",
       "      <th></th>\n",
       "      <th>age</th>\n",
       "      <th>trestbps</th>\n",
       "      <th>chol</th>\n",
       "      <th>thalach</th>\n",
       "      <th>oldpeak</th>\n",
       "      <th>ca</th>\n",
       "    </tr>\n",
       "  </thead>\n",
       "  <tbody>\n",
       "    <tr>\n",
       "      <th>count</th>\n",
       "      <td>297.000000</td>\n",
       "      <td>297.000000</td>\n",
       "      <td>297.000000</td>\n",
       "      <td>297.000000</td>\n",
       "      <td>297.000000</td>\n",
       "      <td>297.000000</td>\n",
       "    </tr>\n",
       "    <tr>\n",
       "      <th>mean</th>\n",
       "      <td>54.542088</td>\n",
       "      <td>130.713805</td>\n",
       "      <td>245.030303</td>\n",
       "      <td>150.868687</td>\n",
       "      <td>0.896970</td>\n",
       "      <td>0.676768</td>\n",
       "    </tr>\n",
       "    <tr>\n",
       "      <th>std</th>\n",
       "      <td>9.049736</td>\n",
       "      <td>12.870545</td>\n",
       "      <td>35.974781</td>\n",
       "      <td>18.162357</td>\n",
       "      <td>0.923542</td>\n",
       "      <td>0.938965</td>\n",
       "    </tr>\n",
       "    <tr>\n",
       "      <th>min</th>\n",
       "      <td>29.000000</td>\n",
       "      <td>108.000000</td>\n",
       "      <td>176.000000</td>\n",
       "      <td>108.000000</td>\n",
       "      <td>0.000000</td>\n",
       "      <td>0.000000</td>\n",
       "    </tr>\n",
       "    <tr>\n",
       "      <th>25%</th>\n",
       "      <td>48.000000</td>\n",
       "      <td>120.000000</td>\n",
       "      <td>219.000000</td>\n",
       "      <td>140.000000</td>\n",
       "      <td>0.000000</td>\n",
       "      <td>0.000000</td>\n",
       "    </tr>\n",
       "    <tr>\n",
       "      <th>50%</th>\n",
       "      <td>56.000000</td>\n",
       "      <td>130.000000</td>\n",
       "      <td>243.000000</td>\n",
       "      <td>153.000000</td>\n",
       "      <td>0.800000</td>\n",
       "      <td>0.000000</td>\n",
       "    </tr>\n",
       "    <tr>\n",
       "      <th>75%</th>\n",
       "      <td>61.000000</td>\n",
       "      <td>140.000000</td>\n",
       "      <td>269.000000</td>\n",
       "      <td>163.000000</td>\n",
       "      <td>1.500000</td>\n",
       "      <td>1.000000</td>\n",
       "    </tr>\n",
       "    <tr>\n",
       "      <th>max</th>\n",
       "      <td>77.000000</td>\n",
       "      <td>160.000000</td>\n",
       "      <td>327.000000</td>\n",
       "      <td>182.000000</td>\n",
       "      <td>3.400000</td>\n",
       "      <td>3.000000</td>\n",
       "    </tr>\n",
       "  </tbody>\n",
       "</table>\n",
       "</div>"
      ],
      "text/plain": [
       "              age    trestbps        chol     thalach     oldpeak          ca\n",
       "count  297.000000  297.000000  297.000000  297.000000  297.000000  297.000000\n",
       "mean    54.542088  130.713805  245.030303  150.868687    0.896970    0.676768\n",
       "std      9.049736   12.870545   35.974781   18.162357    0.923542    0.938965\n",
       "min     29.000000  108.000000  176.000000  108.000000    0.000000    0.000000\n",
       "25%     48.000000  120.000000  219.000000  140.000000    0.000000    0.000000\n",
       "50%     56.000000  130.000000  243.000000  153.000000    0.800000    0.000000\n",
       "75%     61.000000  140.000000  269.000000  163.000000    1.500000    1.000000\n",
       "max     77.000000  160.000000  327.000000  182.000000    3.400000    3.000000"
      ]
     },
     "execution_count": 322,
     "metadata": {},
     "output_type": "execute_result"
    }
   ],
   "source": [
    "df[[\"age\",\"trestbps\",\"chol\",\"thalach\",\"oldpeak\",\"ca\"]].describe()"
   ]
  },
  {
   "cell_type": "markdown",
   "id": "163a1f76",
   "metadata": {},
   "source": [
    "A continuación se presentan las distribuciones de las variables en función del target o variable a predecir"
   ]
  },
  {
   "cell_type": "markdown",
   "id": "02fdb40e",
   "metadata": {},
   "source": [
    "### Age"
   ]
  },
  {
   "cell_type": "code",
   "execution_count": 323,
   "id": "1dc2318b",
   "metadata": {},
   "outputs": [
    {
     "data": {
      "image/png": "[encoded data removed]",
      "text/plain": [
       "<Figure size 1080x792 with 4 Axes>"
      ]
     },
     "metadata": {
      "needs_background": "light"
     },
     "output_type": "display_data"
    }
   ],
   "source": [
    "fig, axes = plt.subplots(2, 2, figsize=(15,11))\n",
    "\n",
    "sns.histplot(x=df[\"age\"], ax=axes[0,0]).set(title='Distribución de la edad de los pacientes')\n",
    "sns.histplot(x=df[\"age\"], hue=df[\"num\"], ax=axes[0,1]).set(title='Distribución de la edad de los pacientes en función de la presencia de enfermedad')\n",
    "\n",
    "sns.boxplot(y=df[\"age\"], ax=axes[1,0]).set(title='Distribución de la edad de los pacientes')\n",
    "sns.boxplot(y=df[\"age\"], x=df[\"num\"], ax=axes[1,1]).set(title='Distribución de la edad de los pacientes en función de la presencia de enfermedad')\n",
    "\n",
    "plt.show()"
   ]
  },
  {
   "cell_type": "code",
   "execution_count": 248,
   "id": "4f8fa920",
   "metadata": {},
   "outputs": [
    {
     "data": {
      "text/html": [
       "<div>\n",
       "<style scoped>\n",
       "    .dataframe tbody tr th:only-of-type {\n",
       "        vertical-align: middle;\n",
       "    }\n",
       "\n",
       "    .dataframe tbody tr th {\n",
       "        vertical-align: top;\n",
       "    }\n",
       "\n",
       "    .dataframe thead th {\n",
       "        text-align: right;\n",
       "    }\n",
       "</style>\n",
       "<table border=\"1\" class=\"dataframe\">\n",
       "  <thead>\n",
       "    <tr style=\"text-align: right;\">\n",
       "      <th></th>\n",
       "      <th>num</th>\n",
       "      <th>0</th>\n",
       "      <th>1</th>\n",
       "    </tr>\n",
       "  </thead>\n",
       "  <tbody>\n",
       "    <tr>\n",
       "      <th rowspan=\"8\" valign=\"top\">age</th>\n",
       "      <th>count</th>\n",
       "      <td>160.000000</td>\n",
       "      <td>137.000000</td>\n",
       "    </tr>\n",
       "    <tr>\n",
       "      <th>mean</th>\n",
       "      <td>52.643750</td>\n",
       "      <td>56.759124</td>\n",
       "    </tr>\n",
       "    <tr>\n",
       "      <th>std</th>\n",
       "      <td>9.551151</td>\n",
       "      <td>7.899670</td>\n",
       "    </tr>\n",
       "    <tr>\n",
       "      <th>min</th>\n",
       "      <td>29.000000</td>\n",
       "      <td>35.000000</td>\n",
       "    </tr>\n",
       "    <tr>\n",
       "      <th>25%</th>\n",
       "      <td>44.750000</td>\n",
       "      <td>53.000000</td>\n",
       "    </tr>\n",
       "    <tr>\n",
       "      <th>50%</th>\n",
       "      <td>52.000000</td>\n",
       "      <td>58.000000</td>\n",
       "    </tr>\n",
       "    <tr>\n",
       "      <th>75%</th>\n",
       "      <td>59.000000</td>\n",
       "      <td>62.000000</td>\n",
       "    </tr>\n",
       "    <tr>\n",
       "      <th>max</th>\n",
       "      <td>76.000000</td>\n",
       "      <td>77.000000</td>\n",
       "    </tr>\n",
       "  </tbody>\n",
       "</table>\n",
       "</div>"
      ],
      "text/plain": [
       "num                 0           1\n",
       "age count  160.000000  137.000000\n",
       "    mean    52.643750   56.759124\n",
       "    std      9.551151    7.899670\n",
       "    min     29.000000   35.000000\n",
       "    25%     44.750000   53.000000\n",
       "    50%     52.000000   58.000000\n",
       "    75%     59.000000   62.000000\n",
       "    max     76.000000   77.000000"
      ]
     },
     "execution_count": 248,
     "metadata": {},
     "output_type": "execute_result"
    }
   ],
   "source": [
    "df[[\"age\",\"num\"]].groupby(\"num\").describe().T"
   ]
  },
  {
   "cell_type": "markdown",
   "id": "587aadc2",
   "metadata": {},
   "source": [
    "Se puede observar comparando las distribuciones, que la mediana y el promedio de la edad de las personas que enferman es mayor que las personas sanas. "
   ]
  },
  {
   "cell_type": "markdown",
   "id": "2f3e5577",
   "metadata": {},
   "source": [
    "### Sex"
   ]
  },
  {
   "cell_type": "code",
   "execution_count": 249,
   "id": "e79da38d",
   "metadata": {},
   "outputs": [
    {
     "data": {
      "image/png": "[encoded data removed]",
      "text/plain": [
       "<Figure size 1080x576 with 2 Axes>"
      ]
     },
     "metadata": {
      "needs_background": "light"
     },
     "output_type": "display_data"
    }
   ],
   "source": [
    "fig, axes = plt.subplots(1, 2, figsize=(15,8))\n",
    "\n",
    "sns.countplot(x=df[\"sex\"], ax=axes[0]).set(title='Frecuencias del género')\n",
    "\n",
    "sns.countplot(x=df[\"sex\"], hue=df[\"num\"], ax=axes[1]).set(title='Frecuencias del género en función de la presencia de enfermedad')\n",
    "\n",
    "plt.show()"
   ]
  },
  {
   "cell_type": "code",
   "execution_count": 250,
   "id": "d0227a36",
   "metadata": {},
   "outputs": [
    {
     "data": {
      "text/html": [
       "<div>\n",
       "<style scoped>\n",
       "    .dataframe tbody tr th:only-of-type {\n",
       "        vertical-align: middle;\n",
       "    }\n",
       "\n",
       "    .dataframe tbody tr th {\n",
       "        vertical-align: top;\n",
       "    }\n",
       "\n",
       "    .dataframe thead th {\n",
       "        text-align: right;\n",
       "    }\n",
       "</style>\n",
       "<table border=\"1\" class=\"dataframe\">\n",
       "  <thead>\n",
       "    <tr style=\"text-align: right;\">\n",
       "      <th>num</th>\n",
       "      <th>0</th>\n",
       "      <th>1</th>\n",
       "    </tr>\n",
       "    <tr>\n",
       "      <th>sex</th>\n",
       "      <th></th>\n",
       "      <th></th>\n",
       "    </tr>\n",
       "  </thead>\n",
       "  <tbody>\n",
       "    <tr>\n",
       "      <th>Female</th>\n",
       "      <td>0.239057</td>\n",
       "      <td>0.084175</td>\n",
       "    </tr>\n",
       "    <tr>\n",
       "      <th>Male</th>\n",
       "      <td>0.299663</td>\n",
       "      <td>0.377104</td>\n",
       "    </tr>\n",
       "  </tbody>\n",
       "</table>\n",
       "</div>"
      ],
      "text/plain": [
       "num            0         1\n",
       "sex                       \n",
       "Female  0.239057  0.084175\n",
       "Male    0.299663  0.377104"
      ]
     },
     "execution_count": 250,
     "metadata": {},
     "output_type": "execute_result"
    }
   ],
   "source": [
    "pd.crosstab(index= df[\"sex\"], columns=df[\"num\"], normalize=True)"
   ]
  },
  {
   "cell_type": "markdown",
   "id": "0b243047",
   "metadata": {},
   "source": [
    "Se observa que la proporción de mujeres que enferman es baja dentro de la muestra estudiada"
   ]
  },
  {
   "cell_type": "markdown",
   "id": "7fb1eb61",
   "metadata": {},
   "source": [
    "### CP"
   ]
  },
  {
   "cell_type": "code",
   "execution_count": 251,
   "id": "6c25ebad",
   "metadata": {},
   "outputs": [
    {
     "data": {
      "image/png": "[encoded data removed]",
      "text/plain": [
       "<Figure size 1080x576 with 2 Axes>"
      ]
     },
     "metadata": {
      "needs_background": "light"
     },
     "output_type": "display_data"
    }
   ],
   "source": [
    "fig, axes = plt.subplots(1, 2, figsize=(15,8))\n",
    "\n",
    "sns.countplot(x=df[\"cp\"], ax=axes[0]).set(title='Frecuencias de los tipos de dolor en el pecho')\n",
    "\n",
    "sns.countplot(x=df[\"cp\"], hue=df[\"num\"], ax=axes[1]).set(title='Frecuencias de los tipos de dolor en el pecho en función de la presencia de enfermedad')\n",
    "\n",
    "plt.show()"
   ]
  },
  {
   "cell_type": "code",
   "execution_count": 252,
   "id": "ae6dc8bd",
   "metadata": {},
   "outputs": [
    {
     "data": {
      "text/html": [
       "<div>\n",
       "<style scoped>\n",
       "    .dataframe tbody tr th:only-of-type {\n",
       "        vertical-align: middle;\n",
       "    }\n",
       "\n",
       "    .dataframe tbody tr th {\n",
       "        vertical-align: top;\n",
       "    }\n",
       "\n",
       "    .dataframe thead th {\n",
       "        text-align: right;\n",
       "    }\n",
       "</style>\n",
       "<table border=\"1\" class=\"dataframe\">\n",
       "  <thead>\n",
       "    <tr style=\"text-align: right;\">\n",
       "      <th>num</th>\n",
       "      <th>0</th>\n",
       "      <th>1</th>\n",
       "    </tr>\n",
       "    <tr>\n",
       "      <th>cp</th>\n",
       "      <th></th>\n",
       "      <th></th>\n",
       "    </tr>\n",
       "  </thead>\n",
       "  <tbody>\n",
       "    <tr>\n",
       "      <th>asymptomatic</th>\n",
       "      <td>0.218855</td>\n",
       "      <td>0.060606</td>\n",
       "    </tr>\n",
       "    <tr>\n",
       "      <th>atypical angina</th>\n",
       "      <td>0.053872</td>\n",
       "      <td>0.023569</td>\n",
       "    </tr>\n",
       "    <tr>\n",
       "      <th>non-anginal pain</th>\n",
       "      <td>0.134680</td>\n",
       "      <td>0.030303</td>\n",
       "    </tr>\n",
       "    <tr>\n",
       "      <th>typical angina</th>\n",
       "      <td>0.131313</td>\n",
       "      <td>0.346801</td>\n",
       "    </tr>\n",
       "  </tbody>\n",
       "</table>\n",
       "</div>"
      ],
      "text/plain": [
       "num                      0         1\n",
       "cp                                  \n",
       "asymptomatic      0.218855  0.060606\n",
       "atypical angina   0.053872  0.023569\n",
       "non-anginal pain  0.134680  0.030303\n",
       "typical angina    0.131313  0.346801"
      ]
     },
     "execution_count": 252,
     "metadata": {},
     "output_type": "execute_result"
    }
   ],
   "source": [
    "pd.crosstab(index= df[\"cp\"], columns=df[\"num\"], normalize=True)"
   ]
  },
  {
   "cell_type": "markdown",
   "id": "822d2320",
   "metadata": {},
   "source": [
    "La angina típica para ser el tipo de dolor más asociado a la presencia de la enfermedad"
   ]
  },
  {
   "cell_type": "markdown",
   "id": "48fee33c",
   "metadata": {},
   "source": [
    "### trestbps"
   ]
  },
  {
   "cell_type": "code",
   "execution_count": 253,
   "id": "cfaa1233",
   "metadata": {},
   "outputs": [
    {
     "data": {
      "image/png": "[encoded data removed]",
      "text/plain": [
       "<Figure size 1080x792 with 4 Axes>"
      ]
     },
     "metadata": {
      "needs_background": "light"
     },
     "output_type": "display_data"
    }
   ],
   "source": [
    "fig, axes = plt.subplots(2, 2, figsize=(15,11))\n",
    "\n",
    "sns.histplot(x=df[\"trestbps\"], ax=axes[0,0]).set(title='Distribución de la presión sanguínea')\n",
    "sns.histplot(x=df[\"trestbps\"], hue=df[\"num\"], ax=axes[0,1]).set(title='Distribución de la la presión sanguínea en función de la presencia de enfermedad')\n",
    "\n",
    "sns.boxplot(y=df[\"trestbps\"], ax=axes[1,0]).set(title='Distribución de la presión sanguínea')\n",
    "sns.boxplot(y=df[\"trestbps\"], x=df[\"num\"], ax=axes[1,1]).set(title='Distribución de la presión sanguínea en función de la presencia de enfermedad')\n",
    "\n",
    "plt.show()"
   ]
  },
  {
   "cell_type": "code",
   "execution_count": 254,
   "id": "1eceeb1d",
   "metadata": {},
   "outputs": [
    {
     "data": {
      "text/html": [
       "<div>\n",
       "<style scoped>\n",
       "    .dataframe tbody tr th:only-of-type {\n",
       "        vertical-align: middle;\n",
       "    }\n",
       "\n",
       "    .dataframe tbody tr th {\n",
       "        vertical-align: top;\n",
       "    }\n",
       "\n",
       "    .dataframe thead th {\n",
       "        text-align: right;\n",
       "    }\n",
       "</style>\n",
       "<table border=\"1\" class=\"dataframe\">\n",
       "  <thead>\n",
       "    <tr style=\"text-align: right;\">\n",
       "      <th></th>\n",
       "      <th>num</th>\n",
       "      <th>0</th>\n",
       "      <th>1</th>\n",
       "    </tr>\n",
       "  </thead>\n",
       "  <tbody>\n",
       "    <tr>\n",
       "      <th rowspan=\"8\" valign=\"top\">trestbps</th>\n",
       "      <th>count</th>\n",
       "      <td>160.000000</td>\n",
       "      <td>137.000000</td>\n",
       "    </tr>\n",
       "    <tr>\n",
       "      <th>mean</th>\n",
       "      <td>130.187500</td>\n",
       "      <td>131.328467</td>\n",
       "    </tr>\n",
       "    <tr>\n",
       "      <th>std</th>\n",
       "      <td>12.447721</td>\n",
       "      <td>13.367052</td>\n",
       "    </tr>\n",
       "    <tr>\n",
       "      <th>min</th>\n",
       "      <td>108.000000</td>\n",
       "      <td>108.000000</td>\n",
       "    </tr>\n",
       "    <tr>\n",
       "      <th>25%</th>\n",
       "      <td>120.000000</td>\n",
       "      <td>120.000000</td>\n",
       "    </tr>\n",
       "    <tr>\n",
       "      <th>50%</th>\n",
       "      <td>130.000000</td>\n",
       "      <td>130.000000</td>\n",
       "    </tr>\n",
       "    <tr>\n",
       "      <th>75%</th>\n",
       "      <td>138.500000</td>\n",
       "      <td>140.000000</td>\n",
       "    </tr>\n",
       "    <tr>\n",
       "      <th>max</th>\n",
       "      <td>160.000000</td>\n",
       "      <td>160.000000</td>\n",
       "    </tr>\n",
       "  </tbody>\n",
       "</table>\n",
       "</div>"
      ],
      "text/plain": [
       "num                      0           1\n",
       "trestbps count  160.000000  137.000000\n",
       "         mean   130.187500  131.328467\n",
       "         std     12.447721   13.367052\n",
       "         min    108.000000  108.000000\n",
       "         25%    120.000000  120.000000\n",
       "         50%    130.000000  130.000000\n",
       "         75%    138.500000  140.000000\n",
       "         max    160.000000  160.000000"
      ]
     },
     "execution_count": 254,
     "metadata": {},
     "output_type": "execute_result"
    }
   ],
   "source": [
    "df[[\"trestbps\",\"num\"]].groupby(\"num\").describe().T"
   ]
  },
  {
   "cell_type": "markdown",
   "id": "57d957b5",
   "metadata": {},
   "source": [
    "Parece no haber grandes diferencias en los estadísticos de tendencia central en las distribuciones de las presión sanguínea entre personas enfermas y sanas"
   ]
  },
  {
   "cell_type": "markdown",
   "id": "1133a9c5",
   "metadata": {},
   "source": [
    "### Chol"
   ]
  },
  {
   "cell_type": "code",
   "execution_count": 255,
   "id": "f5f65da4",
   "metadata": {},
   "outputs": [
    {
     "data": {
      "image/png": "[encoded data removed]",
      "text/plain": [
       "<Figure size 1080x792 with 4 Axes>"
      ]
     },
     "metadata": {
      "needs_background": "light"
     },
     "output_type": "display_data"
    }
   ],
   "source": [
    "fig, axes = plt.subplots(2, 2, figsize=(15,11))\n",
    "\n",
    "sns.histplot(x=df[\"chol\"], ax=axes[0,0]).set(title='Distribución del colesterol')\n",
    "sns.histplot(x=df[\"chol\"], hue=df[\"num\"], ax=axes[0,1]).set(title='Distribución del colesterol en función de la presencia de enfermedad')\n",
    "\n",
    "sns.boxplot(y=df[\"chol\"], ax=axes[1,0]).set(title='Distribución del colesterol')\n",
    "sns.boxplot(y=df[\"chol\"], x=df[\"num\"], ax=axes[1,1]).set(title='Distribución del colesterol en función de la presencia de enfermedad')\n",
    "\n",
    "plt.show()"
   ]
  },
  {
   "cell_type": "code",
   "execution_count": 256,
   "id": "14101dde",
   "metadata": {},
   "outputs": [
    {
     "data": {
      "text/html": [
       "<div>\n",
       "<style scoped>\n",
       "    .dataframe tbody tr th:only-of-type {\n",
       "        vertical-align: middle;\n",
       "    }\n",
       "\n",
       "    .dataframe tbody tr th {\n",
       "        vertical-align: top;\n",
       "    }\n",
       "\n",
       "    .dataframe thead th {\n",
       "        text-align: right;\n",
       "    }\n",
       "</style>\n",
       "<table border=\"1\" class=\"dataframe\">\n",
       "  <thead>\n",
       "    <tr style=\"text-align: right;\">\n",
       "      <th></th>\n",
       "      <th>num</th>\n",
       "      <th>0</th>\n",
       "      <th>1</th>\n",
       "    </tr>\n",
       "  </thead>\n",
       "  <tbody>\n",
       "    <tr>\n",
       "      <th rowspan=\"8\" valign=\"top\">chol</th>\n",
       "      <th>count</th>\n",
       "      <td>160.000000</td>\n",
       "      <td>137.000000</td>\n",
       "    </tr>\n",
       "    <tr>\n",
       "      <th>mean</th>\n",
       "      <td>240.712500</td>\n",
       "      <td>250.072993</td>\n",
       "    </tr>\n",
       "    <tr>\n",
       "      <th>std</th>\n",
       "      <td>35.456659</td>\n",
       "      <td>36.047484</td>\n",
       "    </tr>\n",
       "    <tr>\n",
       "      <th>min</th>\n",
       "      <td>177.000000</td>\n",
       "      <td>176.000000</td>\n",
       "    </tr>\n",
       "    <tr>\n",
       "      <th>25%</th>\n",
       "      <td>211.750000</td>\n",
       "      <td>229.000000</td>\n",
       "    </tr>\n",
       "    <tr>\n",
       "      <th>50%</th>\n",
       "      <td>240.000000</td>\n",
       "      <td>243.000000</td>\n",
       "    </tr>\n",
       "    <tr>\n",
       "      <th>75%</th>\n",
       "      <td>263.000000</td>\n",
       "      <td>276.000000</td>\n",
       "    </tr>\n",
       "    <tr>\n",
       "      <th>max</th>\n",
       "      <td>325.000000</td>\n",
       "      <td>327.000000</td>\n",
       "    </tr>\n",
       "  </tbody>\n",
       "</table>\n",
       "</div>"
      ],
      "text/plain": [
       "num                  0           1\n",
       "chol count  160.000000  137.000000\n",
       "     mean   240.712500  250.072993\n",
       "     std     35.456659   36.047484\n",
       "     min    177.000000  176.000000\n",
       "     25%    211.750000  229.000000\n",
       "     50%    240.000000  243.000000\n",
       "     75%    263.000000  276.000000\n",
       "     max    325.000000  327.000000"
      ]
     },
     "execution_count": 256,
     "metadata": {},
     "output_type": "execute_result"
    }
   ],
   "source": [
    "df[[\"chol\",\"num\"]].groupby(\"num\").describe().T"
   ]
  },
  {
   "cell_type": "markdown",
   "id": "714f6aae",
   "metadata": {},
   "source": [
    "El nivel de colesterol, en promedio, es más elevado en las personas que presentan la enfermedad"
   ]
  },
  {
   "cell_type": "markdown",
   "id": "e034854a",
   "metadata": {},
   "source": [
    "### fbs"
   ]
  },
  {
   "cell_type": "code",
   "execution_count": 257,
   "id": "60c252c6",
   "metadata": {},
   "outputs": [
    {
     "data": {
      "image/png": "[encoded data removed]",
      "text/plain": [
       "<Figure size 1080x576 with 2 Axes>"
      ]
     },
     "metadata": {
      "needs_background": "light"
     },
     "output_type": "display_data"
    }
   ],
   "source": [
    "fig, axes = plt.subplots(1, 2, figsize=(15,8))\n",
    "\n",
    "sns.countplot(x=df[\"fbs\"], ax=axes[0]).set(title='Frecuencias de Fbs')\n",
    "\n",
    "sns.countplot(x=df[\"fbs\"], hue=df[\"num\"], ax=axes[1]).set(title='Frecuencias de Fbs en función de la presencia de enfermedad')\n",
    "\n",
    "plt.show()"
   ]
  },
  {
   "cell_type": "code",
   "execution_count": 258,
   "id": "ab5b4347",
   "metadata": {},
   "outputs": [
    {
     "data": {
      "text/html": [
       "<div>\n",
       "<style scoped>\n",
       "    .dataframe tbody tr th:only-of-type {\n",
       "        vertical-align: middle;\n",
       "    }\n",
       "\n",
       "    .dataframe tbody tr th {\n",
       "        vertical-align: top;\n",
       "    }\n",
       "\n",
       "    .dataframe thead th {\n",
       "        text-align: right;\n",
       "    }\n",
       "</style>\n",
       "<table border=\"1\" class=\"dataframe\">\n",
       "  <thead>\n",
       "    <tr style=\"text-align: right;\">\n",
       "      <th>num</th>\n",
       "      <th>0</th>\n",
       "      <th>1</th>\n",
       "    </tr>\n",
       "    <tr>\n",
       "      <th>fbs</th>\n",
       "      <th></th>\n",
       "      <th></th>\n",
       "    </tr>\n",
       "  </thead>\n",
       "  <tbody>\n",
       "    <tr>\n",
       "      <th>fastingBloodSugar_false</th>\n",
       "      <td>0.461279</td>\n",
       "      <td>0.393939</td>\n",
       "    </tr>\n",
       "    <tr>\n",
       "      <th>fastingBloodSugar_true</th>\n",
       "      <td>0.077441</td>\n",
       "      <td>0.067340</td>\n",
       "    </tr>\n",
       "  </tbody>\n",
       "</table>\n",
       "</div>"
      ],
      "text/plain": [
       "num                             0         1\n",
       "fbs                                        \n",
       "fastingBloodSugar_false  0.461279  0.393939\n",
       "fastingBloodSugar_true   0.077441  0.067340"
      ]
     },
     "execution_count": 258,
     "metadata": {},
     "output_type": "execute_result"
    }
   ],
   "source": [
    "pd.crosstab(index= df[\"fbs\"], columns=df[\"num\"], normalize=True)"
   ]
  },
  {
   "cell_type": "markdown",
   "id": "0929550e",
   "metadata": {},
   "source": [
    "### restecg"
   ]
  },
  {
   "cell_type": "code",
   "execution_count": 259,
   "id": "22650b53",
   "metadata": {},
   "outputs": [
    {
     "data": {
      "image/png": "[encoded data removed]",
      "text/plain": [
       "<Figure size 1080x576 with 2 Axes>"
      ]
     },
     "metadata": {
      "needs_background": "light"
     },
     "output_type": "display_data"
    }
   ],
   "source": [
    "fig, axes = plt.subplots(1, 2, figsize=(15,8))\n",
    "\n",
    "sns.countplot(x=df[\"restecg\"], ax=axes[0]).set(title='Frecuencias de restecg')\n",
    "\n",
    "sns.countplot(x=df[\"restecg\"], hue=df[\"num\"], ax=axes[1]).set(title='Frecuencias de restecg en función de la presencia de enfermedad')\n",
    "\n",
    "plt.show()"
   ]
  },
  {
   "cell_type": "code",
   "execution_count": 260,
   "id": "606cf2e3",
   "metadata": {},
   "outputs": [
    {
     "data": {
      "text/html": [
       "<div>\n",
       "<style scoped>\n",
       "    .dataframe tbody tr th:only-of-type {\n",
       "        vertical-align: middle;\n",
       "    }\n",
       "\n",
       "    .dataframe tbody tr th {\n",
       "        vertical-align: top;\n",
       "    }\n",
       "\n",
       "    .dataframe thead th {\n",
       "        text-align: right;\n",
       "    }\n",
       "</style>\n",
       "<table border=\"1\" class=\"dataframe\">\n",
       "  <thead>\n",
       "    <tr style=\"text-align: right;\">\n",
       "      <th>num</th>\n",
       "      <th>0</th>\n",
       "      <th>1</th>\n",
       "    </tr>\n",
       "    <tr>\n",
       "      <th>restecg</th>\n",
       "      <th></th>\n",
       "      <th></th>\n",
       "    </tr>\n",
       "  </thead>\n",
       "  <tbody>\n",
       "    <tr>\n",
       "      <th>Left ventricular hypertrophy</th>\n",
       "      <td>0.225589</td>\n",
       "      <td>0.265993</td>\n",
       "    </tr>\n",
       "    <tr>\n",
       "      <th>Normal</th>\n",
       "      <td>0.309764</td>\n",
       "      <td>0.185185</td>\n",
       "    </tr>\n",
       "    <tr>\n",
       "      <th>ST-T wave abnormality</th>\n",
       "      <td>0.003367</td>\n",
       "      <td>0.010101</td>\n",
       "    </tr>\n",
       "  </tbody>\n",
       "</table>\n",
       "</div>"
      ],
      "text/plain": [
       "num                                  0         1\n",
       "restecg                                         \n",
       "Left ventricular hypertrophy  0.225589  0.265993\n",
       "Normal                        0.309764  0.185185\n",
       "ST-T wave abnormality         0.003367  0.010101"
      ]
     },
     "execution_count": 260,
     "metadata": {},
     "output_type": "execute_result"
    }
   ],
   "source": [
    "pd.crosstab(index= df[\"restecg\"], columns=df[\"num\"], normalize=True)"
   ]
  },
  {
   "cell_type": "markdown",
   "id": "a6b275ea",
   "metadata": {},
   "source": [
    "La presencia de enfermedad se asocia en mayor proporción en los casos con hipertrofia ventricular izquierda"
   ]
  },
  {
   "cell_type": "markdown",
   "id": "b01cfa6a",
   "metadata": {},
   "source": [
    "### thalach"
   ]
  },
  {
   "cell_type": "code",
   "execution_count": 261,
   "id": "a32a2528",
   "metadata": {},
   "outputs": [
    {
     "data": {
      "image/png": "[encoded data removed]",
      "text/plain": [
       "<Figure size 1080x792 with 4 Axes>"
      ]
     },
     "metadata": {
      "needs_background": "light"
     },
     "output_type": "display_data"
    }
   ],
   "source": [
    "fig, axes = plt.subplots(2, 2, figsize=(15,11))\n",
    "\n",
    "sns.histplot(x=df[\"thalach\"], ax=axes[0,0]).set(title='Distribución de la presión sanguínea')\n",
    "sns.histplot(x=df[\"thalach\"], hue=df[\"num\"], ax=axes[0,1]).set(title='Distribución de la la presión sanguínea en función de la presencia de enfermedad')\n",
    "\n",
    "sns.boxplot(y=df[\"thalach\"], ax=axes[1,0]).set(title='Distribución de la presión sanguínea')\n",
    "sns.boxplot(y=df[\"thalach\"], x=df[\"num\"], ax=axes[1,1]).set(title='Distribución de la presión sanguínea en función de la presencia de enfermedad')\n",
    "\n",
    "plt.show()"
   ]
  },
  {
   "cell_type": "markdown",
   "id": "7a68e6a6",
   "metadata": {},
   "source": [
    "### Exang"
   ]
  },
  {
   "cell_type": "code",
   "execution_count": 262,
   "id": "f2432f70",
   "metadata": {},
   "outputs": [
    {
     "data": {
      "image/png": "[encoded data removed]",
      "text/plain": [
       "<Figure size 1080x576 with 2 Axes>"
      ]
     },
     "metadata": {
      "needs_background": "light"
     },
     "output_type": "display_data"
    }
   ],
   "source": [
    "fig, axes = plt.subplots(1, 2, figsize=(15,8))\n",
    "\n",
    "sns.countplot(x=df[\"exang\"], ax=axes[0]).set(title='Frecuencias de exang')\n",
    "\n",
    "sns.countplot(x=df[\"exang\"], hue=df[\"num\"], ax=axes[1]).set(title='Frecuencias de exang en función de la presencia de enfermedad')\n",
    "\n",
    "plt.show()"
   ]
  },
  {
   "cell_type": "code",
   "execution_count": 263,
   "id": "708f27cf",
   "metadata": {},
   "outputs": [
    {
     "data": {
      "text/html": [
       "<div>\n",
       "<style scoped>\n",
       "    .dataframe tbody tr th:only-of-type {\n",
       "        vertical-align: middle;\n",
       "    }\n",
       "\n",
       "    .dataframe tbody tr th {\n",
       "        vertical-align: top;\n",
       "    }\n",
       "\n",
       "    .dataframe thead th {\n",
       "        text-align: right;\n",
       "    }\n",
       "</style>\n",
       "<table border=\"1\" class=\"dataframe\">\n",
       "  <thead>\n",
       "    <tr style=\"text-align: right;\">\n",
       "      <th>num</th>\n",
       "      <th>0</th>\n",
       "      <th>1</th>\n",
       "    </tr>\n",
       "    <tr>\n",
       "      <th>exang</th>\n",
       "      <th></th>\n",
       "      <th></th>\n",
       "    </tr>\n",
       "  </thead>\n",
       "  <tbody>\n",
       "    <tr>\n",
       "      <th>No Angina</th>\n",
       "      <td>0.077441</td>\n",
       "      <td>0.249158</td>\n",
       "    </tr>\n",
       "    <tr>\n",
       "      <th>Yes Angina</th>\n",
       "      <td>0.461279</td>\n",
       "      <td>0.212121</td>\n",
       "    </tr>\n",
       "  </tbody>\n",
       "</table>\n",
       "</div>"
      ],
      "text/plain": [
       "num                0         1\n",
       "exang                         \n",
       "No Angina   0.077441  0.249158\n",
       "Yes Angina  0.461279  0.212121"
      ]
     },
     "execution_count": 263,
     "metadata": {},
     "output_type": "execute_result"
    }
   ],
   "source": [
    "pd.crosstab(index= df[\"exang\"], columns=df[\"num\"], normalize=True)"
   ]
  },
  {
   "cell_type": "markdown",
   "id": "99852189",
   "metadata": {},
   "source": [
    "La ausencia de angina tiene una mayor proporción de casos en los que está presente la enfermedad"
   ]
  },
  {
   "cell_type": "markdown",
   "id": "bccc40fd",
   "metadata": {},
   "source": [
    "### Oldpeak"
   ]
  },
  {
   "cell_type": "code",
   "execution_count": 264,
   "id": "e17959a8",
   "metadata": {},
   "outputs": [
    {
     "data": {
      "image/png": "[encoded data removed]",
      "text/plain": [
       "<Figure size 1080x792 with 4 Axes>"
      ]
     },
     "metadata": {
      "needs_background": "light"
     },
     "output_type": "display_data"
    }
   ],
   "source": [
    "fig, axes = plt.subplots(2, 2, figsize=(15,11))\n",
    "\n",
    "sns.histplot(x=df[\"oldpeak\"], ax=axes[0,0]).set(title='Distribución de oldpeak')\n",
    "sns.histplot(x=df[\"oldpeak\"], hue=df[\"num\"], ax=axes[0,1]).set(title='Distribución de oldpeak en función de la presencia de enfermedad')\n",
    "\n",
    "sns.boxplot(y=df[\"oldpeak\"], ax=axes[1,0]).set(title='Distribución del oldpeak')\n",
    "sns.boxplot(y=df[\"oldpeak\"], x=df[\"num\"], ax=axes[1,1]).set(title='Distribución de oldpeak en función de la presencia de enfermedad')\n",
    "\n",
    "plt.show()"
   ]
  },
  {
   "cell_type": "code",
   "execution_count": 265,
   "id": "18405edd",
   "metadata": {},
   "outputs": [
    {
     "data": {
      "text/html": [
       "<div>\n",
       "<style scoped>\n",
       "    .dataframe tbody tr th:only-of-type {\n",
       "        vertical-align: middle;\n",
       "    }\n",
       "\n",
       "    .dataframe tbody tr th {\n",
       "        vertical-align: top;\n",
       "    }\n",
       "\n",
       "    .dataframe thead th {\n",
       "        text-align: right;\n",
       "    }\n",
       "</style>\n",
       "<table border=\"1\" class=\"dataframe\">\n",
       "  <thead>\n",
       "    <tr style=\"text-align: right;\">\n",
       "      <th></th>\n",
       "      <th>num</th>\n",
       "      <th>0</th>\n",
       "      <th>1</th>\n",
       "    </tr>\n",
       "  </thead>\n",
       "  <tbody>\n",
       "    <tr>\n",
       "      <th rowspan=\"8\" valign=\"top\">oldpeak</th>\n",
       "      <th>count</th>\n",
       "      <td>160.000000</td>\n",
       "      <td>137.000000</td>\n",
       "    </tr>\n",
       "    <tr>\n",
       "      <th>mean</th>\n",
       "      <td>0.560625</td>\n",
       "      <td>1.289781</td>\n",
       "    </tr>\n",
       "    <tr>\n",
       "      <th>std</th>\n",
       "      <td>0.695818</td>\n",
       "      <td>1.000903</td>\n",
       "    </tr>\n",
       "    <tr>\n",
       "      <th>min</th>\n",
       "      <td>0.000000</td>\n",
       "      <td>0.000000</td>\n",
       "    </tr>\n",
       "    <tr>\n",
       "      <th>25%</th>\n",
       "      <td>0.000000</td>\n",
       "      <td>0.600000</td>\n",
       "    </tr>\n",
       "    <tr>\n",
       "      <th>50%</th>\n",
       "      <td>0.200000</td>\n",
       "      <td>1.200000</td>\n",
       "    </tr>\n",
       "    <tr>\n",
       "      <th>75%</th>\n",
       "      <td>1.000000</td>\n",
       "      <td>2.000000</td>\n",
       "    </tr>\n",
       "    <tr>\n",
       "      <th>max</th>\n",
       "      <td>3.000000</td>\n",
       "      <td>3.400000</td>\n",
       "    </tr>\n",
       "  </tbody>\n",
       "</table>\n",
       "</div>"
      ],
      "text/plain": [
       "num                     0           1\n",
       "oldpeak count  160.000000  137.000000\n",
       "        mean     0.560625    1.289781\n",
       "        std      0.695818    1.000903\n",
       "        min      0.000000    0.000000\n",
       "        25%      0.000000    0.600000\n",
       "        50%      0.200000    1.200000\n",
       "        75%      1.000000    2.000000\n",
       "        max      3.000000    3.400000"
      ]
     },
     "execution_count": 265,
     "metadata": {},
     "output_type": "execute_result"
    }
   ],
   "source": [
    "df[[\"oldpeak\",\"num\"]].groupby(\"num\").describe().T"
   ]
  },
  {
   "cell_type": "markdown",
   "id": "d6348117",
   "metadata": {},
   "source": [
    "La presencia de enfermedad se asocia a mayores valores en oldpeak"
   ]
  },
  {
   "cell_type": "markdown",
   "id": "ad09b351",
   "metadata": {},
   "source": [
    "### Slope"
   ]
  },
  {
   "cell_type": "code",
   "execution_count": 266,
   "id": "bb822d5e",
   "metadata": {},
   "outputs": [
    {
     "data": {
      "image/png": "[encoded data removed]",
      "text/plain": [
       "<Figure size 1080x576 with 2 Axes>"
      ]
     },
     "metadata": {
      "needs_background": "light"
     },
     "output_type": "display_data"
    }
   ],
   "source": [
    "fig, axes = plt.subplots(1, 2, figsize=(15,8))\n",
    "\n",
    "sns.countplot(x=df[\"slope\"], ax=axes[0]).set(title='Frecuencias de slope')\n",
    "\n",
    "sns.countplot(x=df[\"slope\"], hue=df[\"num\"], ax=axes[1]).set(title='Frecuencias de slope en función de la presencia de enfermedad')\n",
    "\n",
    "plt.show()"
   ]
  },
  {
   "cell_type": "code",
   "execution_count": 267,
   "id": "c66ca2a5",
   "metadata": {},
   "outputs": [
    {
     "data": {
      "text/html": [
       "<div>\n",
       "<style scoped>\n",
       "    .dataframe tbody tr th:only-of-type {\n",
       "        vertical-align: middle;\n",
       "    }\n",
       "\n",
       "    .dataframe tbody tr th {\n",
       "        vertical-align: top;\n",
       "    }\n",
       "\n",
       "    .dataframe thead th {\n",
       "        text-align: right;\n",
       "    }\n",
       "</style>\n",
       "<table border=\"1\" class=\"dataframe\">\n",
       "  <thead>\n",
       "    <tr style=\"text-align: right;\">\n",
       "      <th>num</th>\n",
       "      <th>0</th>\n",
       "      <th>1</th>\n",
       "    </tr>\n",
       "    <tr>\n",
       "      <th>slope</th>\n",
       "      <th></th>\n",
       "      <th></th>\n",
       "    </tr>\n",
       "  </thead>\n",
       "  <tbody>\n",
       "    <tr>\n",
       "      <th>downsloping</th>\n",
       "      <td>0.030303</td>\n",
       "      <td>0.040404</td>\n",
       "    </tr>\n",
       "    <tr>\n",
       "      <th>flat</th>\n",
       "      <td>0.161616</td>\n",
       "      <td>0.299663</td>\n",
       "    </tr>\n",
       "    <tr>\n",
       "      <th>upsloping</th>\n",
       "      <td>0.346801</td>\n",
       "      <td>0.121212</td>\n",
       "    </tr>\n",
       "  </tbody>\n",
       "</table>\n",
       "</div>"
      ],
      "text/plain": [
       "num                 0         1\n",
       "slope                          \n",
       "downsloping  0.030303  0.040404\n",
       "flat         0.161616  0.299663\n",
       "upsloping    0.346801  0.121212"
      ]
     },
     "execution_count": 267,
     "metadata": {},
     "output_type": "execute_result"
    }
   ],
   "source": [
    "pd.crosstab(index= df[\"slope\"], columns=df[\"num\"], normalize=True)"
   ]
  },
  {
   "cell_type": "markdown",
   "id": "dc521165",
   "metadata": {},
   "source": [
    "La proporción de mayor se da en pacientes con el slope flat y se asoacia a la ausencia de enfermedad"
   ]
  },
  {
   "cell_type": "markdown",
   "id": "f6aaf8cd",
   "metadata": {},
   "source": [
    "### Ca"
   ]
  },
  {
   "cell_type": "code",
   "execution_count": 268,
   "id": "18447963",
   "metadata": {},
   "outputs": [
    {
     "data": {
      "image/png": "[encoded data removed]",
      "text/plain": [
       "<Figure size 1080x792 with 4 Axes>"
      ]
     },
     "metadata": {
      "needs_background": "light"
     },
     "output_type": "display_data"
    }
   ],
   "source": [
    "fig, axes = plt.subplots(2, 2, figsize=(15,11))\n",
    "\n",
    "sns.histplot(x=df[\"ca\"], ax=axes[0,0], bins=4).set(title='Distribución de ca')\n",
    "sns.histplot(x=df[\"ca\"], hue=df[\"num\"], ax=axes[0,1], bins=4).set(title='Distribución de ca en función de la presencia de enfermedad')\n",
    "\n",
    "sns.boxplot(y=df[\"ca\"], ax=axes[1,0]).set(title='Distribución del oldpeak')\n",
    "sns.boxplot(y=df[\"ca\"], x=df[\"num\"], ax=axes[1,1]).set(title='Distribución de ca en función de la presencia de enfermedad')\n",
    "\n",
    "plt.show()"
   ]
  },
  {
   "cell_type": "code",
   "execution_count": 269,
   "id": "03bf82b2",
   "metadata": {},
   "outputs": [
    {
     "data": {
      "text/html": [
       "<div>\n",
       "<style scoped>\n",
       "    .dataframe tbody tr th:only-of-type {\n",
       "        vertical-align: middle;\n",
       "    }\n",
       "\n",
       "    .dataframe tbody tr th {\n",
       "        vertical-align: top;\n",
       "    }\n",
       "\n",
       "    .dataframe thead th {\n",
       "        text-align: right;\n",
       "    }\n",
       "</style>\n",
       "<table border=\"1\" class=\"dataframe\">\n",
       "  <thead>\n",
       "    <tr style=\"text-align: right;\">\n",
       "      <th></th>\n",
       "      <th>num</th>\n",
       "      <th>0</th>\n",
       "      <th>1</th>\n",
       "    </tr>\n",
       "  </thead>\n",
       "  <tbody>\n",
       "    <tr>\n",
       "      <th rowspan=\"8\" valign=\"top\">ca</th>\n",
       "      <th>count</th>\n",
       "      <td>160.000000</td>\n",
       "      <td>137.000000</td>\n",
       "    </tr>\n",
       "    <tr>\n",
       "      <th>mean</th>\n",
       "      <td>0.275000</td>\n",
       "      <td>1.145985</td>\n",
       "    </tr>\n",
       "    <tr>\n",
       "      <th>std</th>\n",
       "      <td>0.633945</td>\n",
       "      <td>1.018506</td>\n",
       "    </tr>\n",
       "    <tr>\n",
       "      <th>min</th>\n",
       "      <td>0.000000</td>\n",
       "      <td>0.000000</td>\n",
       "    </tr>\n",
       "    <tr>\n",
       "      <th>25%</th>\n",
       "      <td>0.000000</td>\n",
       "      <td>0.000000</td>\n",
       "    </tr>\n",
       "    <tr>\n",
       "      <th>50%</th>\n",
       "      <td>0.000000</td>\n",
       "      <td>1.000000</td>\n",
       "    </tr>\n",
       "    <tr>\n",
       "      <th>75%</th>\n",
       "      <td>0.000000</td>\n",
       "      <td>2.000000</td>\n",
       "    </tr>\n",
       "    <tr>\n",
       "      <th>max</th>\n",
       "      <td>3.000000</td>\n",
       "      <td>3.000000</td>\n",
       "    </tr>\n",
       "  </tbody>\n",
       "</table>\n",
       "</div>"
      ],
      "text/plain": [
       "num                0           1\n",
       "ca count  160.000000  137.000000\n",
       "   mean     0.275000    1.145985\n",
       "   std      0.633945    1.018506\n",
       "   min      0.000000    0.000000\n",
       "   25%      0.000000    0.000000\n",
       "   50%      0.000000    1.000000\n",
       "   75%      0.000000    2.000000\n",
       "   max      3.000000    3.000000"
      ]
     },
     "execution_count": 269,
     "metadata": {},
     "output_type": "execute_result"
    }
   ],
   "source": [
    "df[[\"ca\",\"num\"]].groupby(\"num\").describe().T"
   ]
  },
  {
   "cell_type": "markdown",
   "id": "7b7ede59",
   "metadata": {},
   "source": [
    "La presencia de vasos se asocia a la presencia de la enfermedad"
   ]
  },
  {
   "cell_type": "markdown",
   "id": "ce0edb7f",
   "metadata": {},
   "source": [
    "### Thal"
   ]
  },
  {
   "cell_type": "code",
   "execution_count": 324,
   "id": "d7360eb1",
   "metadata": {},
   "outputs": [
    {
     "data": {
      "image/png": "[encoded data removed]",
      "text/plain": [
       "<Figure size 720x360 with 2 Axes>"
      ]
     },
     "metadata": {
      "needs_background": "light"
     },
     "output_type": "display_data"
    }
   ],
   "source": [
    "fig, axes = plt.subplots(1, 2, figsize=(10,5))\n",
    "sns.countplot(x=df[\"thal\"], ax=axes[0]).set(title='Frecuencias de thal')\n",
    "sns.countplot(x=df[\"thal\"], hue=df[\"num\"], ax=axes[1]).set(title='Frecuencias de thal en función de la presencia de enfermedad')\n",
    "plt.show()"
   ]
  },
  {
   "cell_type": "code",
   "execution_count": 271,
   "id": "873442eb",
   "metadata": {},
   "outputs": [
    {
     "data": {
      "text/html": [
       "<div>\n",
       "<style scoped>\n",
       "    .dataframe tbody tr th:only-of-type {\n",
       "        vertical-align: middle;\n",
       "    }\n",
       "\n",
       "    .dataframe tbody tr th {\n",
       "        vertical-align: top;\n",
       "    }\n",
       "\n",
       "    .dataframe thead th {\n",
       "        text-align: right;\n",
       "    }\n",
       "</style>\n",
       "<table border=\"1\" class=\"dataframe\">\n",
       "  <thead>\n",
       "    <tr style=\"text-align: right;\">\n",
       "      <th>num</th>\n",
       "      <th>0</th>\n",
       "      <th>1</th>\n",
       "    </tr>\n",
       "    <tr>\n",
       "      <th>thal</th>\n",
       "      <th></th>\n",
       "      <th></th>\n",
       "    </tr>\n",
       "  </thead>\n",
       "  <tbody>\n",
       "    <tr>\n",
       "      <th>fixed defect</th>\n",
       "      <td>0.020202</td>\n",
       "      <td>0.040404</td>\n",
       "    </tr>\n",
       "    <tr>\n",
       "      <th>normal</th>\n",
       "      <td>0.427609</td>\n",
       "      <td>0.124579</td>\n",
       "    </tr>\n",
       "    <tr>\n",
       "      <th>reversable defect</th>\n",
       "      <td>0.090909</td>\n",
       "      <td>0.296296</td>\n",
       "    </tr>\n",
       "  </tbody>\n",
       "</table>\n",
       "</div>"
      ],
      "text/plain": [
       "num                       0         1\n",
       "thal                                 \n",
       "fixed defect       0.020202  0.040404\n",
       "normal             0.427609  0.124579\n",
       "reversable defect  0.090909  0.296296"
      ]
     },
     "execution_count": 271,
     "metadata": {},
     "output_type": "execute_result"
    }
   ],
   "source": [
    "pd.crosstab(index= df[\"thal\"], columns=df[\"num\"], normalize=True)"
   ]
  },
  {
   "cell_type": "markdown",
   "id": "f61abfda",
   "metadata": {},
   "source": [
    "Por lo general los pacientes con **thal=normal** tienden a estar sanos."
   ]
  },
  {
   "cell_type": "markdown",
   "id": "8d65be6e",
   "metadata": {},
   "source": [
    "## 4.1. Selección de los grupos de datos que se quieren analizar/comparar \n",
    "**(p.ej., si se van a comparar grupos de datos, ¿cuáles son estos grupos y\n",
    "qué tipo de análisis se van a aplicar?)**"
   ]
  },
  {
   "cell_type": "markdown",
   "id": "b94da6a6",
   "metadata": {},
   "source": [
    "A lo largo de la presente investigación se van a comparar los grupos de pacientes enfermos y pacientes sanos"
   ]
  },
  {
   "cell_type": "markdown",
   "id": "2c31af82",
   "metadata": {},
   "source": [
    "## 4.2. Comprobación de la normalidad y homogeneidad de la varianza"
   ]
  },
  {
   "cell_type": "markdown",
   "id": "c95e8f80",
   "metadata": {},
   "source": [
    "Definimos una función para realizar los contrastes de homogenidad de varianza de forma más efectiva:"
   ]
  },
  {
   "cell_type": "code",
   "execution_count": 283,
   "id": "cd75eefa",
   "metadata": {},
   "outputs": [],
   "source": [
    "def testLevene(listA, listB):\n",
    "    \"\"\"\n",
    "    listA: list type to compare variance \n",
    "    listB: list type to compare variance\n",
    "    \n",
    "    \"\"\"\n",
    "    \n",
    "    a = np.array(listA)\n",
    "    b = np.array(listB)\n",
    "    stat, p = levene(a, b)\n",
    "    \n",
    "    if p < 0.05:\n",
    "        print(\"Variances not equal, p value: {}\".format(p))\n",
    "    else:\n",
    "        print(\"Variances equal, p value: {}\".format(p))\n",
    "    \n",
    "    "
   ]
  },
  {
   "cell_type": "code",
   "execution_count": 325,
   "id": "5c150d61",
   "metadata": {},
   "outputs": [],
   "source": [
    "def testNormality(x):\n",
    "    \n",
    "    a = np.array(x)\n",
    "    shapiro_test = stats.shapiro(x)\n",
    "    print(\"Normality test p-value: {}\".format(shapiro_test[1]))"
   ]
  },
  {
   "cell_type": "markdown",
   "id": "11ed52ef",
   "metadata": {},
   "source": [
    "Separamos los datos en enfermos y sanos para facilitar los contrastes:"
   ]
  },
  {
   "cell_type": "code",
   "execution_count": 273,
   "id": "2c50184d",
   "metadata": {},
   "outputs": [],
   "source": [
    "df_sick = df[df[\"num\"] == 1] \n",
    "df_healthy = df[df[\"num\"] == 0] "
   ]
  },
  {
   "cell_type": "markdown",
   "id": "77d35277",
   "metadata": {},
   "source": [
    "### Age"
   ]
  },
  {
   "cell_type": "code",
   "execution_count": 274,
   "id": "99f5bb8c",
   "metadata": {
    "scrolled": true
   },
   "outputs": [
    {
     "name": "stdout",
     "output_type": "stream",
     "text": [
      "Variances not equal, p value: 0.0029006890432343776\n"
     ]
    }
   ],
   "source": [
    "testLevene(df_sick[\"age\"], df_healthy[\"age\"])"
   ]
  },
  {
   "cell_type": "markdown",
   "id": "3a9aec85",
   "metadata": {},
   "source": [
    "Ho: \n",
    "    - Dist1 = DistNormal\n",
    "Hi:\n",
    "    - Dist1 != DistNormal"
   ]
  },
  {
   "cell_type": "code",
   "execution_count": 330,
   "id": "95b9dcd8",
   "metadata": {},
   "outputs": [
    {
     "name": "stdout",
     "output_type": "stream",
     "text": [
      "Normality test p-value: 0.005422485060989857\n"
     ]
    }
   ],
   "source": [
    "testNormality(df[\"age\"])"
   ]
  },
  {
   "cell_type": "code",
   "execution_count": 328,
   "id": "e5e20323",
   "metadata": {},
   "outputs": [
    {
     "name": "stdout",
     "output_type": "stream",
     "text": [
      "Normality test p-value: 0.0016701725544407964\n"
     ]
    }
   ],
   "source": [
    "testNormality(df_sick[\"age\"])"
   ]
  },
  {
   "cell_type": "code",
   "execution_count": 329,
   "id": "a6536069",
   "metadata": {},
   "outputs": [
    {
     "name": "stdout",
     "output_type": "stream",
     "text": [
      "Normality test p-value: 0.11105211079120636\n"
     ]
    }
   ],
   "source": [
    "testNormality(df_healthy[\"age\"])"
   ]
  },
  {
   "cell_type": "markdown",
   "id": "3f0be096",
   "metadata": {},
   "source": [
    "### trestbps"
   ]
  },
  {
   "cell_type": "code",
   "execution_count": 275,
   "id": "54a392f7",
   "metadata": {},
   "outputs": [
    {
     "name": "stdout",
     "output_type": "stream",
     "text": [
      "Variances equal, p value: 0.3147952165909119\n"
     ]
    }
   ],
   "source": [
    "testLevene(df_sick[\"trestbps\"], df_healthy[\"trestbps\"])"
   ]
  },
  {
   "cell_type": "markdown",
   "id": "bca3bd81",
   "metadata": {},
   "source": [
    "### chol"
   ]
  },
  {
   "cell_type": "code",
   "execution_count": 276,
   "id": "41a65e8d",
   "metadata": {},
   "outputs": [
    {
     "name": "stdout",
     "output_type": "stream",
     "text": [
      "Variances equal, p value: 0.7370496369944455\n"
     ]
    }
   ],
   "source": [
    "testLevene(df_sick[\"chol\"], df_healthy[\"chol\"])"
   ]
  },
  {
   "cell_type": "code",
   "execution_count": 331,
   "id": "68dfcfb6",
   "metadata": {},
   "outputs": [
    {
     "name": "stdout",
     "output_type": "stream",
     "text": [
      "Normality test p-value: 0.00015450193313881755\n"
     ]
    }
   ],
   "source": [
    "testNormality(df[\"chol\"])"
   ]
  },
  {
   "cell_type": "code",
   "execution_count": 332,
   "id": "72f72a31",
   "metadata": {},
   "outputs": [
    {
     "name": "stdout",
     "output_type": "stream",
     "text": [
      "Normality test p-value: 0.10689675062894821\n"
     ]
    }
   ],
   "source": [
    "testNormality(df_sick[\"chol\"])"
   ]
  },
  {
   "cell_type": "code",
   "execution_count": 333,
   "id": "ef8e51a5",
   "metadata": {},
   "outputs": [
    {
     "name": "stdout",
     "output_type": "stream",
     "text": [
      "Normality test p-value: 0.0006504568737000227\n"
     ]
    }
   ],
   "source": [
    "testNormality(df_healthy[\"chol\"])"
   ]
  },
  {
   "cell_type": "markdown",
   "id": "8a868cf8",
   "metadata": {},
   "source": [
    "### thalach"
   ]
  },
  {
   "cell_type": "code",
   "execution_count": 277,
   "id": "9b9087a1",
   "metadata": {},
   "outputs": [
    {
     "name": "stdout",
     "output_type": "stream",
     "text": [
      "Variances equal, p value: 0.05891411835422223\n"
     ]
    }
   ],
   "source": [
    "testLevene(df_sick[\"thalach\"], df_healthy[\"thalach\"])"
   ]
  },
  {
   "cell_type": "markdown",
   "id": "b2a0657a",
   "metadata": {},
   "source": [
    "### ca"
   ]
  },
  {
   "cell_type": "code",
   "execution_count": 284,
   "id": "d0e497dd",
   "metadata": {},
   "outputs": [
    {
     "name": "stdout",
     "output_type": "stream",
     "text": [
      "Variances not equal, p value: 2.5744242227659345e-32\n"
     ]
    }
   ],
   "source": [
    "testLevene(df_sick[\"ca\"], df_healthy[\"thalach\"])"
   ]
  },
  {
   "cell_type": "code",
   "execution_count": null,
   "id": "8d16ac0f",
   "metadata": {},
   "outputs": [],
   "source": []
  },
  {
   "cell_type": "markdown",
   "id": "4813ef88",
   "metadata": {},
   "source": [
    "## 4.3. Aplicación de pruebas estadísticas para comparar los grupos de datos\n",
    "**En función de los datos y el objetivo del estudio, aplicar pruebas de contraste de hipótesis, correlaciones, regresiones, etc. Aplicar al menos tres métodos de análisis diferentes.**\n",
    "\n"
   ]
  },
  {
   "cell_type": "code",
   "execution_count": null,
   "id": "d44b5cc2",
   "metadata": {},
   "outputs": [],
   "source": []
  },
  {
   "cell_type": "markdown",
   "id": "c6298c08",
   "metadata": {},
   "source": [
    "### 4.4.2. Relación entre predictores\n"
   ]
  },
  {
   "cell_type": "code",
   "execution_count": 278,
   "id": "ec6927b3",
   "metadata": {},
   "outputs": [
    {
     "data": {
      "text/html": [
       "<div>\n",
       "<style scoped>\n",
       "    .dataframe tbody tr th:only-of-type {\n",
       "        vertical-align: middle;\n",
       "    }\n",
       "\n",
       "    .dataframe tbody tr th {\n",
       "        vertical-align: top;\n",
       "    }\n",
       "\n",
       "    .dataframe thead th {\n",
       "        text-align: right;\n",
       "    }\n",
       "</style>\n",
       "<table border=\"1\" class=\"dataframe\">\n",
       "  <thead>\n",
       "    <tr style=\"text-align: right;\">\n",
       "      <th></th>\n",
       "      <th>age</th>\n",
       "      <th>trestbps</th>\n",
       "      <th>chol</th>\n",
       "      <th>thalach</th>\n",
       "      <th>ca</th>\n",
       "    </tr>\n",
       "  </thead>\n",
       "  <tbody>\n",
       "    <tr>\n",
       "      <th>age</th>\n",
       "      <td>1.000000</td>\n",
       "      <td>0.276915</td>\n",
       "      <td>0.148061</td>\n",
       "      <td>-0.315545</td>\n",
       "      <td>0.362210</td>\n",
       "    </tr>\n",
       "    <tr>\n",
       "      <th>trestbps</th>\n",
       "      <td>0.276915</td>\n",
       "      <td>1.000000</td>\n",
       "      <td>0.063053</td>\n",
       "      <td>-0.045166</td>\n",
       "      <td>0.099667</td>\n",
       "    </tr>\n",
       "    <tr>\n",
       "      <th>chol</th>\n",
       "      <td>0.148061</td>\n",
       "      <td>0.063053</td>\n",
       "      <td>1.000000</td>\n",
       "      <td>-0.055738</td>\n",
       "      <td>0.150612</td>\n",
       "    </tr>\n",
       "    <tr>\n",
       "      <th>thalach</th>\n",
       "      <td>-0.315545</td>\n",
       "      <td>-0.045166</td>\n",
       "      <td>-0.055738</td>\n",
       "      <td>1.000000</td>\n",
       "      <td>-0.227342</td>\n",
       "    </tr>\n",
       "    <tr>\n",
       "      <th>ca</th>\n",
       "      <td>0.362210</td>\n",
       "      <td>0.099667</td>\n",
       "      <td>0.150612</td>\n",
       "      <td>-0.227342</td>\n",
       "      <td>1.000000</td>\n",
       "    </tr>\n",
       "  </tbody>\n",
       "</table>\n",
       "</div>"
      ],
      "text/plain": [
       "               age  trestbps      chol   thalach        ca\n",
       "age       1.000000  0.276915  0.148061 -0.315545  0.362210\n",
       "trestbps  0.276915  1.000000  0.063053 -0.045166  0.099667\n",
       "chol      0.148061  0.063053  1.000000 -0.055738  0.150612\n",
       "thalach  -0.315545 -0.045166 -0.055738  1.000000 -0.227342\n",
       "ca        0.362210  0.099667  0.150612 -0.227342  1.000000"
      ]
     },
     "execution_count": 278,
     "metadata": {},
     "output_type": "execute_result"
    }
   ],
   "source": [
    "df[[\"age\",\"trestbps\",\"chol\",\"thalach\",\"ca\"]].corr()"
   ]
  },
  {
   "cell_type": "code",
   "execution_count": 280,
   "id": "520070ce",
   "metadata": {},
   "outputs": [
    {
     "data": {
      "image/png": "[encoded data removed]",
      "text/plain": [
       "<Figure size 432x288 with 2 Axes>"
      ]
     },
     "metadata": {
      "needs_background": "light"
     },
     "output_type": "display_data"
    }
   ],
   "source": [
    "sns.heatmap(df[[\"age\",\"trestbps\",\"chol\",\"thalach\",\"ca\"]].corr(),\n",
    "            vmin=-1, vmax=1, center=0,\n",
    "            square=True,\n",
    "            annot=True,\n",
    "            fmt=\".1f\"\n",
    "           )\n",
    "plt.show()"
   ]
  },
  {
   "cell_type": "code",
   "execution_count": 282,
   "id": "5fb1d106",
   "metadata": {},
   "outputs": [
    {
     "data": {
      "text/plain": [
       "<seaborn.axisgrid.PairGrid at 0x164e62c4220>"
      ]
     },
     "execution_count": 282,
     "metadata": {},
     "output_type": "execute_result"
    },
    {
     "data": {
      "image/png": "[encoded data removed]",
      "text/plain": [
       "<Figure size 900x900 with 30 Axes>"
      ]
     },
     "metadata": {
      "needs_background": "light"
     },
     "output_type": "display_data"
    }
   ],
   "source": [
    "sns.pairplot(df[[\"age\",\"trestbps\",\"chol\",\"thalach\",\"ca\"]])"
   ]
  },
  {
   "cell_type": "markdown",
   "id": "60c08d77",
   "metadata": {},
   "source": [
    "Se concluye que no hay correlaciones elevadas entre las variables predictoras"
   ]
  },
  {
   "cell_type": "markdown",
   "id": "743b8287",
   "metadata": {},
   "source": [
    "## 4.4. Modelaje Estadístico"
   ]
  },
  {
   "cell_type": "markdown",
   "id": "b1db2ee5",
   "metadata": {},
   "source": [
    "Realizamos un one hot encoding sobre las variables categóricas"
   ]
  },
  {
   "cell_type": "code",
   "execution_count": 361,
   "id": "f4a1364f",
   "metadata": {},
   "outputs": [
    {
     "data": {
      "text/html": [
       "<div>\n",
       "<style scoped>\n",
       "    .dataframe tbody tr th:only-of-type {\n",
       "        vertical-align: middle;\n",
       "    }\n",
       "\n",
       "    .dataframe tbody tr th {\n",
       "        vertical-align: top;\n",
       "    }\n",
       "\n",
       "    .dataframe thead th {\n",
       "        text-align: right;\n",
       "    }\n",
       "</style>\n",
       "<table border=\"1\" class=\"dataframe\">\n",
       "  <thead>\n",
       "    <tr style=\"text-align: right;\">\n",
       "      <th></th>\n",
       "      <th>age</th>\n",
       "      <th>trestbps</th>\n",
       "      <th>chol</th>\n",
       "      <th>thalach</th>\n",
       "      <th>oldpeak</th>\n",
       "      <th>ca</th>\n",
       "      <th>num</th>\n",
       "      <th>sex_Male</th>\n",
       "      <th>cp_atypical angina</th>\n",
       "      <th>cp_non-anginal pain</th>\n",
       "      <th>cp_typical angina</th>\n",
       "      <th>fbs_fastingBloodSugar_true</th>\n",
       "      <th>restecg_Normal</th>\n",
       "      <th>restecg_ST-T wave abnormality</th>\n",
       "      <th>exang_Yes Angina</th>\n",
       "      <th>slope_flat</th>\n",
       "      <th>slope_upsloping</th>\n",
       "      <th>thal_normal</th>\n",
       "      <th>thal_reversable defect</th>\n",
       "    </tr>\n",
       "  </thead>\n",
       "  <tbody>\n",
       "    <tr>\n",
       "      <th>255</th>\n",
       "      <td>42.0</td>\n",
       "      <td>120.0</td>\n",
       "      <td>209.0</td>\n",
       "      <td>173.0</td>\n",
       "      <td>0.0</td>\n",
       "      <td>0.0</td>\n",
       "      <td>0</td>\n",
       "      <td>0</td>\n",
       "      <td>0</td>\n",
       "      <td>0</td>\n",
       "      <td>0</td>\n",
       "      <td>0</td>\n",
       "      <td>1</td>\n",
       "      <td>0</td>\n",
       "      <td>1</td>\n",
       "      <td>1</td>\n",
       "      <td>0</td>\n",
       "      <td>1</td>\n",
       "      <td>0</td>\n",
       "    </tr>\n",
       "    <tr>\n",
       "      <th>31</th>\n",
       "      <td>60.0</td>\n",
       "      <td>117.0</td>\n",
       "      <td>230.0</td>\n",
       "      <td>160.0</td>\n",
       "      <td>1.4</td>\n",
       "      <td>2.0</td>\n",
       "      <td>1</td>\n",
       "      <td>1</td>\n",
       "      <td>0</td>\n",
       "      <td>0</td>\n",
       "      <td>1</td>\n",
       "      <td>1</td>\n",
       "      <td>1</td>\n",
       "      <td>0</td>\n",
       "      <td>0</td>\n",
       "      <td>0</td>\n",
       "      <td>1</td>\n",
       "      <td>0</td>\n",
       "      <td>1</td>\n",
       "    </tr>\n",
       "    <tr>\n",
       "      <th>188</th>\n",
       "      <td>54.0</td>\n",
       "      <td>130.0</td>\n",
       "      <td>283.0</td>\n",
       "      <td>153.0</td>\n",
       "      <td>0.0</td>\n",
       "      <td>1.0</td>\n",
       "      <td>1</td>\n",
       "      <td>1</td>\n",
       "      <td>0</td>\n",
       "      <td>1</td>\n",
       "      <td>0</td>\n",
       "      <td>0</td>\n",
       "      <td>0</td>\n",
       "      <td>0</td>\n",
       "      <td>1</td>\n",
       "      <td>0</td>\n",
       "      <td>1</td>\n",
       "      <td>0</td>\n",
       "      <td>1</td>\n",
       "    </tr>\n",
       "    <tr>\n",
       "      <th>83</th>\n",
       "      <td>68.0</td>\n",
       "      <td>130.0</td>\n",
       "      <td>274.0</td>\n",
       "      <td>150.0</td>\n",
       "      <td>1.6</td>\n",
       "      <td>0.0</td>\n",
       "      <td>1</td>\n",
       "      <td>1</td>\n",
       "      <td>0</td>\n",
       "      <td>0</td>\n",
       "      <td>0</td>\n",
       "      <td>1</td>\n",
       "      <td>0</td>\n",
       "      <td>0</td>\n",
       "      <td>0</td>\n",
       "      <td>1</td>\n",
       "      <td>0</td>\n",
       "      <td>0</td>\n",
       "      <td>1</td>\n",
       "    </tr>\n",
       "    <tr>\n",
       "      <th>137</th>\n",
       "      <td>62.0</td>\n",
       "      <td>120.0</td>\n",
       "      <td>281.0</td>\n",
       "      <td>153.0</td>\n",
       "      <td>1.4</td>\n",
       "      <td>1.0</td>\n",
       "      <td>1</td>\n",
       "      <td>1</td>\n",
       "      <td>0</td>\n",
       "      <td>1</td>\n",
       "      <td>0</td>\n",
       "      <td>0</td>\n",
       "      <td>0</td>\n",
       "      <td>0</td>\n",
       "      <td>1</td>\n",
       "      <td>1</td>\n",
       "      <td>0</td>\n",
       "      <td>0</td>\n",
       "      <td>1</td>\n",
       "    </tr>\n",
       "  </tbody>\n",
       "</table>\n",
       "</div>"
      ],
      "text/plain": [
       "      age  trestbps   chol  thalach  oldpeak   ca  num  sex_Male  \\\n",
       "255  42.0     120.0  209.0    173.0      0.0  0.0    0         0   \n",
       "31   60.0     117.0  230.0    160.0      1.4  2.0    1         1   \n",
       "188  54.0     130.0  283.0    153.0      0.0  1.0    1         1   \n",
       "83   68.0     130.0  274.0    150.0      1.6  0.0    1         1   \n",
       "137  62.0     120.0  281.0    153.0      1.4  1.0    1         1   \n",
       "\n",
       "     cp_atypical angina  cp_non-anginal pain  cp_typical angina  \\\n",
       "255                   0                    0                  0   \n",
       "31                    0                    0                  1   \n",
       "188                   0                    1                  0   \n",
       "83                    0                    0                  0   \n",
       "137                   0                    1                  0   \n",
       "\n",
       "     fbs_fastingBloodSugar_true  restecg_Normal  \\\n",
       "255                           0               1   \n",
       "31                            1               1   \n",
       "188                           0               0   \n",
       "83                            1               0   \n",
       "137                           0               0   \n",
       "\n",
       "     restecg_ST-T wave abnormality  exang_Yes Angina  slope_flat  \\\n",
       "255                              0                 1           1   \n",
       "31                               0                 0           0   \n",
       "188                              0                 1           0   \n",
       "83                               0                 0           1   \n",
       "137                              0                 1           1   \n",
       "\n",
       "     slope_upsloping  thal_normal  thal_reversable defect  \n",
       "255                0            1                       0  \n",
       "31                 1            0                       1  \n",
       "188                1            0                       1  \n",
       "83                 0            0                       1  \n",
       "137                0            0                       1  "
      ]
     },
     "execution_count": 361,
     "metadata": {},
     "output_type": "execute_result"
    }
   ],
   "source": [
    "df = pd.get_dummies(df, prefix='sex', columns=[\"sex\"], drop_first=True)\n",
    "df = pd.get_dummies(df, prefix='cp', columns=[\"cp\"], drop_first=True)\n",
    "df = pd.get_dummies(df, prefix='fbs', columns=[\"fbs\"], drop_first=True)\n",
    "df = pd.get_dummies(df, prefix='restecg', columns=[\"restecg\"], drop_first=True)\n",
    "df = pd.get_dummies(df, prefix='exang', columns=[\"exang\"], drop_first=True)\n",
    "df = pd.get_dummies(df, prefix='slope', columns=[\"slope\"], drop_first=True)\n",
    "df = pd.get_dummies(df, prefix='thal', columns=[\"thal\"], drop_first=True)\n",
    "\n",
    "df.sample(5)"
   ]
  },
  {
   "cell_type": "code",
   "execution_count": 363,
   "id": "4ff920f7",
   "metadata": {},
   "outputs": [
    {
     "data": {
      "text/plain": [
       "(297, 19)"
      ]
     },
     "execution_count": 363,
     "metadata": {},
     "output_type": "execute_result"
    }
   ],
   "source": [
    "df.shape"
   ]
  },
  {
   "cell_type": "markdown",
   "id": "c8350b07",
   "metadata": {},
   "source": [
    "Elegimos probar principalmente 3 clasificadores:"
   ]
  },
  {
   "cell_type": "code",
   "execution_count": 383,
   "id": "0e282a7b",
   "metadata": {},
   "outputs": [],
   "source": [
    "logistcRegresion = LogisticRegression()\n",
    "decisionTree = DecisionTreeClassifier()\n",
    "randomForest = RandomForestClassifier()"
   ]
  },
  {
   "cell_type": "markdown",
   "id": "397a0281",
   "metadata": {},
   "source": [
    "Definimos estos parámetros para hacer grid search"
   ]
  },
  {
   "cell_type": "code",
   "execution_count": 365,
   "id": "e64ad6f8",
   "metadata": {},
   "outputs": [],
   "source": [
    "############### LR\n",
    "logistcRegresion_params = {'C': [0.01,0.1,1,10,100,1000]}\n",
    "\n",
    "############### DT\n",
    "\n",
    "decisionTree_params = {\"criterion\":[\"gini\",\"entropy\"],\n",
    "                       \"max_depth\":[5,10,20]    \n",
    "                      }\n",
    "\n",
    "############### RF\n",
    "randomForest_params = {\n",
    "    'max_depth': [5,10,20],\n",
    "    \"criterion\":[\"gini\",\"entropy\"],\n",
    "    'max_features': ['auto'],\n",
    "    'n_estimators': [10,80],\n",
    "    'n_jobs':[-1]\n",
    "    \n",
    "}\n"
   ]
  },
  {
   "cell_type": "markdown",
   "id": "71aac788",
   "metadata": {},
   "source": [
    "Separamos en X e Y"
   ]
  },
  {
   "cell_type": "code",
   "execution_count": 366,
   "id": "0da68925",
   "metadata": {},
   "outputs": [],
   "source": [
    "X = df.loc[:, df.columns != 'num']\n",
    "y = list(df[\"num\"])"
   ]
  },
  {
   "cell_type": "code",
   "execution_count": 367,
   "id": "9cebf03c",
   "metadata": {},
   "outputs": [
    {
     "data": {
      "text/html": [
       "<div>\n",
       "<style scoped>\n",
       "    .dataframe tbody tr th:only-of-type {\n",
       "        vertical-align: middle;\n",
       "    }\n",
       "\n",
       "    .dataframe tbody tr th {\n",
       "        vertical-align: top;\n",
       "    }\n",
       "\n",
       "    .dataframe thead th {\n",
       "        text-align: right;\n",
       "    }\n",
       "</style>\n",
       "<table border=\"1\" class=\"dataframe\">\n",
       "  <thead>\n",
       "    <tr style=\"text-align: right;\">\n",
       "      <th></th>\n",
       "      <th>age</th>\n",
       "      <th>trestbps</th>\n",
       "      <th>chol</th>\n",
       "      <th>thalach</th>\n",
       "      <th>oldpeak</th>\n",
       "      <th>ca</th>\n",
       "      <th>sex_Male</th>\n",
       "      <th>cp_atypical angina</th>\n",
       "      <th>cp_non-anginal pain</th>\n",
       "      <th>cp_typical angina</th>\n",
       "      <th>fbs_fastingBloodSugar_true</th>\n",
       "      <th>restecg_Normal</th>\n",
       "      <th>restecg_ST-T wave abnormality</th>\n",
       "      <th>exang_Yes Angina</th>\n",
       "      <th>slope_flat</th>\n",
       "      <th>slope_upsloping</th>\n",
       "      <th>thal_normal</th>\n",
       "      <th>thal_reversable defect</th>\n",
       "    </tr>\n",
       "  </thead>\n",
       "  <tbody>\n",
       "    <tr>\n",
       "      <th>0</th>\n",
       "      <td>63.0</td>\n",
       "      <td>145.0</td>\n",
       "      <td>233.0</td>\n",
       "      <td>150.0</td>\n",
       "      <td>2.3</td>\n",
       "      <td>0.0</td>\n",
       "      <td>1</td>\n",
       "      <td>1</td>\n",
       "      <td>0</td>\n",
       "      <td>0</td>\n",
       "      <td>1</td>\n",
       "      <td>0</td>\n",
       "      <td>0</td>\n",
       "      <td>1</td>\n",
       "      <td>0</td>\n",
       "      <td>0</td>\n",
       "      <td>0</td>\n",
       "      <td>0</td>\n",
       "    </tr>\n",
       "    <tr>\n",
       "      <th>1</th>\n",
       "      <td>67.0</td>\n",
       "      <td>160.0</td>\n",
       "      <td>286.0</td>\n",
       "      <td>108.0</td>\n",
       "      <td>1.5</td>\n",
       "      <td>3.0</td>\n",
       "      <td>1</td>\n",
       "      <td>0</td>\n",
       "      <td>0</td>\n",
       "      <td>1</td>\n",
       "      <td>0</td>\n",
       "      <td>0</td>\n",
       "      <td>0</td>\n",
       "      <td>0</td>\n",
       "      <td>1</td>\n",
       "      <td>0</td>\n",
       "      <td>1</td>\n",
       "      <td>0</td>\n",
       "    </tr>\n",
       "  </tbody>\n",
       "</table>\n",
       "</div>"
      ],
      "text/plain": [
       "    age  trestbps   chol  thalach  oldpeak   ca  sex_Male  cp_atypical angina  \\\n",
       "0  63.0     145.0  233.0    150.0      2.3  0.0         1                   1   \n",
       "1  67.0     160.0  286.0    108.0      1.5  3.0         1                   0   \n",
       "\n",
       "   cp_non-anginal pain  cp_typical angina  fbs_fastingBloodSugar_true  \\\n",
       "0                    0                  0                           1   \n",
       "1                    0                  1                           0   \n",
       "\n",
       "   restecg_Normal  restecg_ST-T wave abnormality  exang_Yes Angina  \\\n",
       "0               0                              0                 1   \n",
       "1               0                              0                 0   \n",
       "\n",
       "   slope_flat  slope_upsloping  thal_normal  thal_reversable defect  \n",
       "0           0                0            0                       0  \n",
       "1           1                0            1                       0  "
      ]
     },
     "execution_count": 367,
     "metadata": {},
     "output_type": "execute_result"
    }
   ],
   "source": [
    "X.head(2)"
   ]
  },
  {
   "cell_type": "code",
   "execution_count": 368,
   "id": "f6c18470",
   "metadata": {},
   "outputs": [
    {
     "data": {
      "text/plain": [
       "[0, 1, 1]"
      ]
     },
     "execution_count": 368,
     "metadata": {},
     "output_type": "execute_result"
    }
   ],
   "source": [
    "y[0:3]"
   ]
  },
  {
   "cell_type": "markdown",
   "id": "c10a263e",
   "metadata": {},
   "source": [
    "Escalamos todas las variables para se encuentren en la misma escala de medición"
   ]
  },
  {
   "cell_type": "code",
   "execution_count": 369,
   "id": "8e74d3d3",
   "metadata": {},
   "outputs": [],
   "source": [
    "scaler = MinMaxScaler()\n",
    "X_scaled = scaler.fit_transform(X)"
   ]
  },
  {
   "cell_type": "markdown",
   "id": "0d6490af",
   "metadata": {},
   "source": [
    "Realizamos un grid search para el algoritmo de regresión logística y nos quedamos con el modelo mayor performance"
   ]
  },
  {
   "cell_type": "code",
   "execution_count": 373,
   "id": "d989c124",
   "metadata": {},
   "outputs": [
    {
     "data": {
      "text/plain": [
       "['models/bestModeloRegressionLogistc.joblib']"
      ]
     },
     "execution_count": 373,
     "metadata": {},
     "output_type": "execute_result"
    }
   ],
   "source": [
    "model_GS_logisticRegression = GridSearchCV(estimator=logistcRegresion,\n",
    "                                           param_grid=logistcRegresion_params, \n",
    "                                           scoring = ['accuracy', 'f1','roc_auc'],\n",
    "                                           n_jobs=-1,\n",
    "                                           cv=5,\n",
    "                                           verbose=False,\n",
    "                                           refit='f1'\n",
    "                            )\n",
    "        \n",
    "model_GS_logisticRegression.fit(X_scaled,y)\n",
    "estimator = model_GS_logisticRegression.best_estimator_\n",
    "\n",
    "dump(estimator, str(\"models/\" + \"bestModeloRegressionLogistc\" + \".joblib\"))"
   ]
  },
  {
   "cell_type": "code",
   "execution_count": 379,
   "id": "dba7a9a0",
   "metadata": {},
   "outputs": [],
   "source": [
    "resultsRegressionLogistic = pd.DataFrame(model_GS_logisticRegression.cv_results_)\n",
    "resultsRegressionLogistic = resultsRegressionLogistic[[\"mean_fit_time\", \n",
    "                                                       \"params\", \n",
    "                                                       \"mean_test_accuracy\",\"std_test_accuracy\",\n",
    "                                                       \"mean_test_f1\",\"std_test_f1\",\n",
    "                                                       \"mean_test_roc_auc\",\"std_test_roc_auc\"]]"
   ]
  },
  {
   "cell_type": "code",
   "execution_count": 380,
   "id": "fab8e318",
   "metadata": {},
   "outputs": [
    {
     "data": {
      "text/html": [
       "<div>\n",
       "<style scoped>\n",
       "    .dataframe tbody tr th:only-of-type {\n",
       "        vertical-align: middle;\n",
       "    }\n",
       "\n",
       "    .dataframe tbody tr th {\n",
       "        vertical-align: top;\n",
       "    }\n",
       "\n",
       "    .dataframe thead th {\n",
       "        text-align: right;\n",
       "    }\n",
       "</style>\n",
       "<table border=\"1\" class=\"dataframe\">\n",
       "  <thead>\n",
       "    <tr style=\"text-align: right;\">\n",
       "      <th></th>\n",
       "      <th>mean_fit_time</th>\n",
       "      <th>params</th>\n",
       "      <th>mean_test_accuracy</th>\n",
       "      <th>std_test_accuracy</th>\n",
       "      <th>mean_test_f1</th>\n",
       "      <th>std_test_f1</th>\n",
       "      <th>mean_test_roc_auc</th>\n",
       "      <th>std_test_roc_auc</th>\n",
       "    </tr>\n",
       "  </thead>\n",
       "  <tbody>\n",
       "    <tr>\n",
       "      <th>0</th>\n",
       "      <td>0.038739</td>\n",
       "      <td>{'C': 0.01}</td>\n",
       "      <td>0.824689</td>\n",
       "      <td>0.032294</td>\n",
       "      <td>0.791839</td>\n",
       "      <td>0.042332</td>\n",
       "      <td>0.900562</td>\n",
       "      <td>0.029510</td>\n",
       "    </tr>\n",
       "    <tr>\n",
       "      <th>1</th>\n",
       "      <td>0.022156</td>\n",
       "      <td>{'C': 0.1}</td>\n",
       "      <td>0.824633</td>\n",
       "      <td>0.035903</td>\n",
       "      <td>0.803204</td>\n",
       "      <td>0.043352</td>\n",
       "      <td>0.907953</td>\n",
       "      <td>0.025056</td>\n",
       "    </tr>\n",
       "  </tbody>\n",
       "</table>\n",
       "</div>"
      ],
      "text/plain": [
       "   mean_fit_time       params  mean_test_accuracy  std_test_accuracy  \\\n",
       "0       0.038739  {'C': 0.01}            0.824689           0.032294   \n",
       "1       0.022156   {'C': 0.1}            0.824633           0.035903   \n",
       "\n",
       "   mean_test_f1  std_test_f1  mean_test_roc_auc  std_test_roc_auc  \n",
       "0      0.791839     0.042332           0.900562          0.029510  \n",
       "1      0.803204     0.043352           0.907953          0.025056  "
      ]
     },
     "execution_count": 380,
     "metadata": {},
     "output_type": "execute_result"
    }
   ],
   "source": [
    "resultsRegressionLogistic.head(2)"
   ]
  },
  {
   "cell_type": "markdown",
   "id": "4c0c34f8",
   "metadata": {},
   "source": [
    "Realizamos el mismo procedimiento para el árbol de decisión"
   ]
  },
  {
   "cell_type": "code",
   "execution_count": 388,
   "id": "92023738",
   "metadata": {},
   "outputs": [
    {
     "data": {
      "text/html": [
       "<div>\n",
       "<style scoped>\n",
       "    .dataframe tbody tr th:only-of-type {\n",
       "        vertical-align: middle;\n",
       "    }\n",
       "\n",
       "    .dataframe tbody tr th {\n",
       "        vertical-align: top;\n",
       "    }\n",
       "\n",
       "    .dataframe thead th {\n",
       "        text-align: right;\n",
       "    }\n",
       "</style>\n",
       "<table border=\"1\" class=\"dataframe\">\n",
       "  <thead>\n",
       "    <tr style=\"text-align: right;\">\n",
       "      <th></th>\n",
       "      <th>mean_fit_time</th>\n",
       "      <th>params</th>\n",
       "      <th>mean_test_accuracy</th>\n",
       "      <th>std_test_accuracy</th>\n",
       "      <th>mean_test_f1</th>\n",
       "      <th>std_test_f1</th>\n",
       "      <th>mean_test_roc_auc</th>\n",
       "      <th>std_test_roc_auc</th>\n",
       "    </tr>\n",
       "  </thead>\n",
       "  <tbody>\n",
       "    <tr>\n",
       "      <th>0</th>\n",
       "      <td>0.002401</td>\n",
       "      <td>{'criterion': 'gini', 'max_depth': 5}</td>\n",
       "      <td>0.733672</td>\n",
       "      <td>0.071197</td>\n",
       "      <td>0.689319</td>\n",
       "      <td>0.099935</td>\n",
       "      <td>0.730833</td>\n",
       "      <td>0.069758</td>\n",
       "    </tr>\n",
       "    <tr>\n",
       "      <th>1</th>\n",
       "      <td>0.001801</td>\n",
       "      <td>{'criterion': 'gini', 'max_depth': 10}</td>\n",
       "      <td>0.730339</td>\n",
       "      <td>0.061098</td>\n",
       "      <td>0.703041</td>\n",
       "      <td>0.073517</td>\n",
       "      <td>0.728125</td>\n",
       "      <td>0.062696</td>\n",
       "    </tr>\n",
       "  </tbody>\n",
       "</table>\n",
       "</div>"
      ],
      "text/plain": [
       "   mean_fit_time                                  params  mean_test_accuracy  \\\n",
       "0       0.002401   {'criterion': 'gini', 'max_depth': 5}            0.733672   \n",
       "1       0.001801  {'criterion': 'gini', 'max_depth': 10}            0.730339   \n",
       "\n",
       "   std_test_accuracy  mean_test_f1  std_test_f1  mean_test_roc_auc  \\\n",
       "0           0.071197      0.689319     0.099935           0.730833   \n",
       "1           0.061098      0.703041     0.073517           0.728125   \n",
       "\n",
       "   std_test_roc_auc  \n",
       "0          0.069758  \n",
       "1          0.062696  "
      ]
     },
     "execution_count": 388,
     "metadata": {},
     "output_type": "execute_result"
    }
   ],
   "source": [
    "model_GS_decisionTree = GridSearchCV(estimator=decisionTree,\n",
    "                                           param_grid=decisionTree_params, \n",
    "                                           scoring = ['accuracy', 'f1','roc_auc'],\n",
    "                                           n_jobs=-1,\n",
    "                                           cv=5,\n",
    "                                           verbose=False,\n",
    "                                           refit='f1'\n",
    "                            )\n",
    "        \n",
    "model_GS_decisionTree.fit(X_scaled,y)\n",
    "estimator_dt = model_GS_decisionTree.best_estimator_\n",
    "\n",
    "dump(estimator_dt, str(\"models/\" + \"bestModeloDecisionTree\" + \".joblib\"))\n",
    "\n",
    "results_dt = pd.DataFrame(model_GS_decisionTree.cv_results_)\n",
    "results_dt = results_dt[[\"mean_fit_time\", \n",
    "                                                       \"params\", \n",
    "                                                       \"mean_test_accuracy\",\"std_test_accuracy\",\n",
    "                                                       \"mean_test_f1\",\"std_test_f1\",\n",
    "                                                       \"mean_test_roc_auc\",\"std_test_roc_auc\"]]\n",
    "\n",
    "results_dt.head(2)"
   ]
  },
  {
   "cell_type": "markdown",
   "id": "a66e7975",
   "metadata": {},
   "source": [
    "Realizamos el mismo procedimiento para el Random Forest"
   ]
  },
  {
   "cell_type": "code",
   "execution_count": 390,
   "id": "c28d809d",
   "metadata": {},
   "outputs": [
    {
     "name": "stderr",
     "output_type": "stream",
     "text": [
      "C:\\Users\\vicju\\anaconda3\\lib\\site-packages\\sklearn\\ensemble\\_forest.py:427: FutureWarning: `max_features='auto'` has been deprecated in 1.1 and will be removed in 1.3. To keep the past behaviour, explicitly set `max_features='sqrt'` or remove this parameter as it is also the default value for RandomForestClassifiers and ExtraTreesClassifiers.\n",
      "  warn(\n"
     ]
    },
    {
     "data": {
      "text/html": [
       "<div>\n",
       "<style scoped>\n",
       "    .dataframe tbody tr th:only-of-type {\n",
       "        vertical-align: middle;\n",
       "    }\n",
       "\n",
       "    .dataframe tbody tr th {\n",
       "        vertical-align: top;\n",
       "    }\n",
       "\n",
       "    .dataframe thead th {\n",
       "        text-align: right;\n",
       "    }\n",
       "</style>\n",
       "<table border=\"1\" class=\"dataframe\">\n",
       "  <thead>\n",
       "    <tr style=\"text-align: right;\">\n",
       "      <th></th>\n",
       "      <th>mean_fit_time</th>\n",
       "      <th>params</th>\n",
       "      <th>mean_test_accuracy</th>\n",
       "      <th>std_test_accuracy</th>\n",
       "      <th>mean_test_f1</th>\n",
       "      <th>std_test_f1</th>\n",
       "      <th>mean_test_roc_auc</th>\n",
       "      <th>std_test_roc_auc</th>\n",
       "    </tr>\n",
       "  </thead>\n",
       "  <tbody>\n",
       "    <tr>\n",
       "      <th>0</th>\n",
       "      <td>0.071282</td>\n",
       "      <td>{'criterion': 'gini', 'max_depth': 5, 'max_fea...</td>\n",
       "      <td>0.814463</td>\n",
       "      <td>0.051049</td>\n",
       "      <td>0.790266</td>\n",
       "      <td>0.062161</td>\n",
       "      <td>0.878034</td>\n",
       "      <td>0.039087</td>\n",
       "    </tr>\n",
       "    <tr>\n",
       "      <th>1</th>\n",
       "      <td>0.329657</td>\n",
       "      <td>{'criterion': 'gini', 'max_depth': 5, 'max_fea...</td>\n",
       "      <td>0.821243</td>\n",
       "      <td>0.051417</td>\n",
       "      <td>0.801161</td>\n",
       "      <td>0.058183</td>\n",
       "      <td>0.906283</td>\n",
       "      <td>0.021690</td>\n",
       "    </tr>\n",
       "  </tbody>\n",
       "</table>\n",
       "</div>"
      ],
      "text/plain": [
       "   mean_fit_time                                             params  \\\n",
       "0       0.071282  {'criterion': 'gini', 'max_depth': 5, 'max_fea...   \n",
       "1       0.329657  {'criterion': 'gini', 'max_depth': 5, 'max_fea...   \n",
       "\n",
       "   mean_test_accuracy  std_test_accuracy  mean_test_f1  std_test_f1  \\\n",
       "0            0.814463           0.051049      0.790266     0.062161   \n",
       "1            0.821243           0.051417      0.801161     0.058183   \n",
       "\n",
       "   mean_test_roc_auc  std_test_roc_auc  \n",
       "0           0.878034          0.039087  \n",
       "1           0.906283          0.021690  "
      ]
     },
     "execution_count": 390,
     "metadata": {},
     "output_type": "execute_result"
    }
   ],
   "source": [
    "model_GS_RF = GridSearchCV(estimator=randomForest,\n",
    "                                           param_grid=randomForest_params, \n",
    "                                           scoring = ['accuracy', 'f1','roc_auc'],\n",
    "                                           n_jobs=-1,\n",
    "                                           cv=5,\n",
    "                                           verbose=False,\n",
    "                                           refit='f1'\n",
    "                            )\n",
    "        \n",
    "model_GS_RF.fit(X_scaled,y)\n",
    "estimator_RF = model_GS_RF.best_estimator_\n",
    "\n",
    "dump(estimator_RF, str(\"models/\" + \"bestModeloRF\" + \".joblib\"))\n",
    "\n",
    "results_RF = pd.DataFrame(model_GS_RF.cv_results_)\n",
    "results_RF = results_RF[[\"mean_fit_time\", \n",
    "                                                       \"params\", \n",
    "                                                       \"mean_test_accuracy\",\"std_test_accuracy\",\n",
    "                                                       \"mean_test_f1\",\"std_test_f1\",\n",
    "                                                       \"mean_test_roc_auc\",\"std_test_roc_auc\"]]\n",
    "\n",
    "results_RF.head(2)"
   ]
  },
  {
   "cell_type": "markdown",
   "id": "bfbaf98c",
   "metadata": {},
   "source": [
    "Concatenamos todos los resultados de los grid search para su análisis"
   ]
  },
  {
   "cell_type": "code",
   "execution_count": 391,
   "id": "a133cd1f",
   "metadata": {},
   "outputs": [],
   "source": [
    "resultsRegressionLogistic[\"Model\"] = \"Regresion Logistica\"\n",
    "results_dt[\"Model\"] = \"Decision Tree\"\n",
    "results_RF[\"Model\"] = \"Random Forest\"\n",
    "\n",
    "results = pd.concat([resultsRegressionLogistic, results_dt, results_RF])\n",
    "results.to_csv(\"resultsModels.csv\", index=False, sep=\"|\")"
   ]
  },
  {
   "cell_type": "code",
   "execution_count": 395,
   "id": "4694e201",
   "metadata": {},
   "outputs": [
    {
     "data": {
      "text/html": [
       "<div>\n",
       "<style scoped>\n",
       "    .dataframe tbody tr th:only-of-type {\n",
       "        vertical-align: middle;\n",
       "    }\n",
       "\n",
       "    .dataframe tbody tr th {\n",
       "        vertical-align: top;\n",
       "    }\n",
       "\n",
       "    .dataframe thead th {\n",
       "        text-align: right;\n",
       "    }\n",
       "</style>\n",
       "<table border=\"1\" class=\"dataframe\">\n",
       "  <thead>\n",
       "    <tr style=\"text-align: right;\">\n",
       "      <th></th>\n",
       "      <th>mean_fit_time</th>\n",
       "    </tr>\n",
       "    <tr>\n",
       "      <th>Model</th>\n",
       "      <th></th>\n",
       "    </tr>\n",
       "  </thead>\n",
       "  <tbody>\n",
       "    <tr>\n",
       "      <th>Decision Tree</th>\n",
       "      <td>0.002212</td>\n",
       "    </tr>\n",
       "    <tr>\n",
       "      <th>Random Forest</th>\n",
       "      <td>0.199728</td>\n",
       "    </tr>\n",
       "    <tr>\n",
       "      <th>Regresion Logistica</th>\n",
       "      <td>0.027816</td>\n",
       "    </tr>\n",
       "  </tbody>\n",
       "</table>\n",
       "</div>"
      ],
      "text/plain": [
       "                     mean_fit_time\n",
       "Model                             \n",
       "Decision Tree             0.002212\n",
       "Random Forest             0.199728\n",
       "Regresion Logistica       0.027816"
      ]
     },
     "execution_count": 395,
     "metadata": {},
     "output_type": "execute_result"
    }
   ],
   "source": [
    "results[[\"Model\",\"mean_fit_time\"]].groupby(\"Model\").mean()"
   ]
  },
  {
   "cell_type": "markdown",
   "id": "e50e7e57",
   "metadata": {},
   "source": [
    "El algoritmo que en promedio tarda más en entrenar es el Random Forest"
   ]
  },
  {
   "cell_type": "code",
   "execution_count": 393,
   "id": "3ecb46ba",
   "metadata": {},
   "outputs": [
    {
     "data": {
      "text/html": [
       "<div>\n",
       "<style scoped>\n",
       "    .dataframe tbody tr th:only-of-type {\n",
       "        vertical-align: middle;\n",
       "    }\n",
       "\n",
       "    .dataframe tbody tr th {\n",
       "        vertical-align: top;\n",
       "    }\n",
       "\n",
       "    .dataframe thead th {\n",
       "        text-align: right;\n",
       "    }\n",
       "</style>\n",
       "<table border=\"1\" class=\"dataframe\">\n",
       "  <thead>\n",
       "    <tr style=\"text-align: right;\">\n",
       "      <th></th>\n",
       "      <th>mean_test_accuracy</th>\n",
       "      <th>mean_test_f1</th>\n",
       "      <th>mean_test_roc_auc</th>\n",
       "    </tr>\n",
       "    <tr>\n",
       "      <th>Model</th>\n",
       "      <th></th>\n",
       "      <th></th>\n",
       "      <th></th>\n",
       "    </tr>\n",
       "  </thead>\n",
       "  <tbody>\n",
       "    <tr>\n",
       "      <th>Decision Tree</th>\n",
       "      <td>0.749915</td>\n",
       "      <td>0.725464</td>\n",
       "      <td>0.752550</td>\n",
       "    </tr>\n",
       "    <tr>\n",
       "      <th>Random Forest</th>\n",
       "      <td>0.808093</td>\n",
       "      <td>0.783414</td>\n",
       "      <td>0.880248</td>\n",
       "    </tr>\n",
       "    <tr>\n",
       "      <th>Regresion Logistica</th>\n",
       "      <td>0.826902</td>\n",
       "      <td>0.801707</td>\n",
       "      <td>0.907385</td>\n",
       "    </tr>\n",
       "  </tbody>\n",
       "</table>\n",
       "</div>"
      ],
      "text/plain": [
       "                     mean_test_accuracy  mean_test_f1  mean_test_roc_auc\n",
       "Model                                                                   \n",
       "Decision Tree                  0.749915      0.725464           0.752550\n",
       "Random Forest                  0.808093      0.783414           0.880248\n",
       "Regresion Logistica            0.826902      0.801707           0.907385"
      ]
     },
     "execution_count": 393,
     "metadata": {},
     "output_type": "execute_result"
    }
   ],
   "source": [
    "results[[\"Model\",\"mean_test_accuracy\",\"mean_test_f1\",\"mean_test_roc_auc\"]].groupby(\"Model\").mean()"
   ]
  },
  {
   "cell_type": "markdown",
   "id": "4dd30a45",
   "metadata": {},
   "source": [
    "Random Forest y regresión logística son los modelos con mayor accuracy, son los de mayor performance detectando a los pacientes con la enfermedad"
   ]
  },
  {
   "cell_type": "markdown",
   "id": "5958a38e",
   "metadata": {},
   "source": [
    "Cargamos los modelos de mayor performance:"
   ]
  },
  {
   "cell_type": "markdown",
   "id": "556e3c62",
   "metadata": {},
   "source": [
    "realizamos una validación final"
   ]
  },
  {
   "cell_type": "code",
   "execution_count": 396,
   "id": "6a15e4c3",
   "metadata": {},
   "outputs": [],
   "source": [
    "model_RL = load(\"models/bestModeloRegressionLogistc.joblib\")\n",
    "model_DT = load(\"models/bestModeloDecisionTree.joblib\")\n",
    "model_RF = load(\"models/bestModeloRF.joblib\")"
   ]
  },
  {
   "cell_type": "code",
   "execution_count": 398,
   "id": "e9976108",
   "metadata": {},
   "outputs": [
    {
     "name": "stdout",
     "output_type": "stream",
     "text": [
      "              precision    recall  f1-score   support\n",
      "\n",
      "           0       0.85      0.90      0.87       160\n",
      "           1       0.87      0.81      0.84       137\n",
      "\n",
      "    accuracy                           0.86       297\n",
      "   macro avg       0.86      0.86      0.86       297\n",
      "weighted avg       0.86      0.86      0.86       297\n",
      "\n"
     ]
    }
   ],
   "source": [
    "y_pred_RL = model_RL.predict(X_scaled)\n",
    "print(classification_report(y, y_pred_RL))"
   ]
  },
  {
   "cell_type": "code",
   "execution_count": 400,
   "id": "4a0df426",
   "metadata": {},
   "outputs": [
    {
     "name": "stdout",
     "output_type": "stream",
     "text": [
      "              precision    recall  f1-score   support\n",
      "\n",
      "           0       0.90      0.94      0.92       160\n",
      "           1       0.92      0.88      0.90       137\n",
      "\n",
      "    accuracy                           0.91       297\n",
      "   macro avg       0.91      0.91      0.91       297\n",
      "weighted avg       0.91      0.91      0.91       297\n",
      "\n"
     ]
    }
   ],
   "source": [
    "y_pred_DT = model_DT.predict(X_scaled)\n",
    "print(classification_report(y, y_pred_DT))"
   ]
  },
  {
   "cell_type": "code",
   "execution_count": 401,
   "id": "4c0d96f1",
   "metadata": {},
   "outputs": [
    {
     "name": "stdout",
     "output_type": "stream",
     "text": [
      "              precision    recall  f1-score   support\n",
      "\n",
      "           0       1.00      1.00      1.00       160\n",
      "           1       1.00      1.00      1.00       137\n",
      "\n",
      "    accuracy                           1.00       297\n",
      "   macro avg       1.00      1.00      1.00       297\n",
      "weighted avg       1.00      1.00      1.00       297\n",
      "\n"
     ]
    }
   ],
   "source": [
    "y_pred_RF = model_RF.predict(X_scaled)\n",
    "print(classification_report(y, y_pred_RF))"
   ]
  },
  {
   "cell_type": "code",
   "execution_count": 408,
   "id": "2524e5b0",
   "metadata": {},
   "outputs": [
    {
     "name": "stdout",
     "output_type": "stream",
     "text": [
      "Regresion Logistica: ROC AUC = 0.927\n",
      "Decision Tree: ROC AUC = 0.973\n",
      "Random Forest: ROC AUC = 1.000\n"
     ]
    },
    {
     "data": {
      "text/plain": [
       "<matplotlib.legend.Legend at 0x164ecbfb310>"
      ]
     },
     "execution_count": 408,
     "metadata": {},
     "output_type": "execute_result"
    },
    {
     "data": {
      "image/png": "[encoded data removed]",
      "text/plain": [
       "<Figure size 432x288 with 1 Axes>"
      ]
     },
     "metadata": {
      "needs_background": "light"
     },
     "output_type": "display_data"
    }
   ],
   "source": [
    "ns_probs = [0 for _ in range(len(y))]\n",
    "\n",
    "\n",
    "RL_props = model_RL.predict_proba(X_scaled)\n",
    "RL_props = RL_props[:, 1]\n",
    "\n",
    "DT_props = model_DT.predict_proba(X_scaled)\n",
    "DT_props = DT_props[:, 1]\n",
    "\n",
    "RF_props = model_RF.predict_proba(X_scaled)\n",
    "RF_props = RF_props[:, 1]\n",
    "\n",
    "\n",
    "ns_auc = roc_auc_score(y, ns_probs)\n",
    "RL_auc = roc_auc_score(y, RL_props)\n",
    "DT_auc = roc_auc_score(y, DT_props)\n",
    "RF_auc = roc_auc_score(y, RF_props)\n",
    "\n",
    "print('Regresion Logistica: ROC AUC = %.3f' % (RL_auc))\n",
    "print('Decision Tree: ROC AUC = %.3f' % (DT_auc))\n",
    "print('Random Forest: ROC AUC = %.3f' % (RF_auc))\n",
    "\n",
    "\n",
    "\n",
    "ns_fpr, ns_tpr, _ = roc_curve(y, ns_probs)\n",
    "\n",
    "rL_fpr, rL_tpr, _ = roc_curve(y, RL_props)\n",
    "dt_fpr, dt_tpr, _ = roc_curve(y, DT_props)\n",
    "rf_fpr, rf_tpr, _ = roc_curve(y, RF_props)\n",
    "\n",
    "\n",
    "plt.plot(ns_fpr, ns_tpr, linestyle='--')\n",
    "plt.plot(rL_fpr, rL_tpr, marker='.', label='Regresion Logistica')\n",
    "plt.plot(dt_fpr, dt_tpr, marker='.', label='Decision Tree')\n",
    "plt.plot(rf_fpr, rf_tpr, marker='.', label='Random Forest')\n",
    "\n",
    "\n",
    "plt.xlabel('Tasa de Falsos Positivos')\n",
    "plt.ylabel('Tasa de Verdaderos Positivos')\n",
    "plt.legend()"
   ]
  },
  {
   "cell_type": "markdown",
   "id": "1d22c677",
   "metadata": {},
   "source": [
    "# 5. Representación gráfica\n",
    "**Representación de los resultados a partir de tablas y gráficas. Este apartado se puede responder a lo largo de la práctica, sin necesidad de concentrar todas las representaciones en este punto de la práctica.**\n",
    "\n",
    "xxx Resuelto a lo largo de la práctica xx"
   ]
  },
  {
   "cell_type": "markdown",
   "id": "054c1379",
   "metadata": {},
   "source": [
    "# 6. Resolución del problema\n",
    "**A partir de los resultados obtenidos, ¿cuáles son las conclusiones? ¿Los resultados permiten responder al problema?**"
   ]
  },
  {
   "cell_type": "markdown",
   "id": "275c3bb7",
   "metadata": {},
   "source": [
    "# 7. Código\n",
    "**Hay que adjuntar el código, preferiblemente en R, con el que se ha realizado la limpieza, análisis y representación de los datos. Si lo preferís, también podéis trabajar en Python.**\n",
    "\n",
    "xx El código se ha ido viendo a lo largo de la práctica xx"
   ]
  },
  {
   "cell_type": "markdown",
   "id": "2d096a79",
   "metadata": {},
   "source": [
    "# 8. Vídeo\n",
    "**Realizar un breve vídeo explicativo de la práctica (máximo 10 minutos), donde ambos integrantes del equipo expliquen con sus propias palabras el desarrollo de la práctica, basándose en las preguntas del enunciado para justificar y explicar el código desarrollado. Este vídeo se deberá entregar a través de un enlace al Google Drive de la UOC (https://drive.google.com/...), junto con enlace al repositorio Git entregado.**"
   ]
  },
  {
   "cell_type": "markdown",
   "id": "6c7daaa5",
   "metadata": {},
   "source": [
    "# Contribuciones"
   ]
  },
  {
   "cell_type": "code",
   "execution_count": 300,
   "id": "ea0afa4f",
   "metadata": {},
   "outputs": [
    {
     "data": {
      "text/html": [
       "<div>\n",
       "<style scoped>\n",
       "    .dataframe tbody tr th:only-of-type {\n",
       "        vertical-align: middle;\n",
       "    }\n",
       "\n",
       "    .dataframe tbody tr th {\n",
       "        vertical-align: top;\n",
       "    }\n",
       "\n",
       "    .dataframe thead th {\n",
       "        text-align: right;\n",
       "    }\n",
       "</style>\n",
       "<table border=\"1\" class=\"dataframe\">\n",
       "  <thead>\n",
       "    <tr style=\"text-align: right;\">\n",
       "      <th></th>\n",
       "      <th>Contribuciones</th>\n",
       "      <th>Firma</th>\n",
       "    </tr>\n",
       "  </thead>\n",
       "  <tbody>\n",
       "    <tr>\n",
       "      <th>0</th>\n",
       "      <td>Investigación previa</td>\n",
       "      <td>Víctor H. Ayala, Clara Roca</td>\n",
       "    </tr>\n",
       "    <tr>\n",
       "      <th>1</th>\n",
       "      <td>Redacción de las respuestas</td>\n",
       "      <td>Víctor H. Ayala, Clara Roca</td>\n",
       "    </tr>\n",
       "    <tr>\n",
       "      <th>2</th>\n",
       "      <td>Desarrollo del código</td>\n",
       "      <td>Víctor H. Ayala, Clara Roca</td>\n",
       "    </tr>\n",
       "    <tr>\n",
       "      <th>3</th>\n",
       "      <td>Participación en el vídeo</td>\n",
       "      <td>Víctor H. Ayala, Clara Roca</td>\n",
       "    </tr>\n",
       "  </tbody>\n",
       "</table>\n",
       "</div>"
      ],
      "text/plain": [
       "                 Contribuciones                        Firma\n",
       "0         Investigación previa  Víctor H. Ayala, Clara Roca\n",
       "1  Redacción de las respuestas  Víctor H. Ayala, Clara Roca\n",
       "2        Desarrollo del código  Víctor H. Ayala, Clara Roca\n",
       "3   Participación en el vídeo  Víctor H. Ayala, Clara Roca"
      ]
     },
     "execution_count": 300,
     "metadata": {},
     "output_type": "execute_result"
    }
   ],
   "source": [
    "contribuciones = pd.DataFrame()\n",
    "contribuciones['Contribuciones'] = ['Investigación previa', 'Redacción de las respuestas', 'Desarrollo del código', 'Participación en el vídeo']\n",
    "contribuciones['Firma'] = ['Víctor H. Ayala, Clara Roca', 'Víctor H. Ayala, Clara Roca', 'Víctor H. Ayala, Clara Roca', 'Víctor H. Ayala, Clara Roca']\n",
    "contribuciones"
   ]
  },
  {
   "cell_type": "markdown",
   "id": "f56468b5",
   "metadata": {},
   "source": [
    "***"
   ]
  }
 ],
 "metadata": {
  "kernelspec": {
   "display_name": "Python 3 (ipykernel)",
   "language": "python",
   "name": "python3"
  },
  "language_info": {
   "codemirror_mode": {
    "name": "ipython",
    "version": 3
   },
   "file_extension": ".py",
   "mimetype": "text/x-python",
   "name": "python",
   "nbconvert_exporter": "python",
   "pygments_lexer": "ipython3",
   "version": "3.9.7"
  }
 },
 "nbformat": 4,
 "nbformat_minor": 5
}
