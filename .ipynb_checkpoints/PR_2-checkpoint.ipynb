{
 "cells": [
  {
   "cell_type": "markdown",
   "id": "58f84701",
   "metadata": {},
   "source": [
    "#### Práctica 2: Tipología y ciclo de vida de los datos\n",
    "# Análisis sobre enfermedades cardiacas\n",
    "#### Autores: \n",
    "- Víctor H. Ayala Sánchez  \n",
    "- Clara M. Roca de la Concha"
   ]
  },
  {
   "cell_type": "markdown",
   "id": "bf8e5426",
   "metadata": {},
   "source": [
    "https://archive.ics.uci.edu/ml/datasets/heart+disease"
   ]
  },
  {
   "cell_type": "markdown",
   "id": "1cedf1ef",
   "metadata": {},
   "source": [
    "# Tabla de contenidos\n",
    "\n",
    "- 1. [Descripción del dataset](#1.-Descripción-del-dataset)\n",
    "- 2. [Integración y selección de los datos de interés a analizar](#2.-Integración-y-selección-de-los-datos-de-interés-a-analizar)\n",
    "- 3. [Limpieza de los datos](#3.-Limpieza-de-los-datos)\n",
    "    - 3.1. [¿Los datos contienen ceros o elementos vacíos?](#3.1.-¿Los-datos-contienen-ceros-o-elementos-vacíos?)\n",
    "    - 3.2. [Identifica y gestiona los valores extremos](#3.2.-Identifica-y-gestiona-los-valores-extremos)\n",
    "- 4.[Análisis de los datos](#4.-Análisis-de-los-datos)\n",
    "    - 4.1.[Selección de los grupos de datos que se quieren analizar/comparar](#4.1.-Selección-de-los-grupos-de-datos-que-se-quieren-analizar/comparar)\n",
    "    - 4.2.[Comprobación de la normalidad y homogeneidad de la varianza](#4.2.-Comprobación-de-la-normalidad-y-homogeneidad-de-la-varianza)\n",
    "    - 4.3.[Aplicación de pruebas estadísticas para comparar los grupos de datos](#4.3.-Aplicación-de-pruebas-estadísticas-para-comparar-los-grupos-de-datos)\n",
    "    - 4.4.[Relación entre predictores](#4.4.-Relación-entre-predictores)\n",
    "    - 4.5 [Modelaje Estadístico](#4.4.-Modelaje-Estadístico)\n",
    "- 5.[Representación gráfica](#5.-Representación-gráfica)\n",
    "- 6.[Resolución del problema](#6.-Resolución-del-problema)\n",
    "- 7.[Código](#7.-Código)\n",
    "- 8.[Vídeo](#8.-Vídeo)\n",
    "- [Contribuciones](#Contribuciones)"
   ]
  },
  {
   "cell_type": "markdown",
   "id": "67174c8f",
   "metadata": {},
   "source": [
    "# Librerías"
   ]
  },
  {
   "cell_type": "code",
   "execution_count": 81,
   "id": "70fd19e9",
   "metadata": {},
   "outputs": [],
   "source": [
    "import pandas as pd\n",
    "import numpy as np\n",
    "from scipy.stats import levene\n",
    "\n",
    "\n",
    "import seaborn as sns\n",
    "import matplotlib.pyplot as plt\n",
    "\n",
    "\n",
    "from sklearn.linear_model import LogisticRegression\n",
    "from sklearn.tree import DecisionTreeClassifier\n",
    "from sklearn.ensemble import RandomForestClassifier\n"
   ]
  },
  {
   "cell_type": "markdown",
   "id": "cd1fb5da",
   "metadata": {},
   "source": [
    "# 1. Descripción del dataset\n",
    "\n",
    "**¿Por qué es importante y qué pregunta/problema pretende responder?**\t\t\t\n",
    "\n",
    "Partimos del dataset recomendado por la asignatura: [*Heart Attack Analysis & Prediction dataset*](https://www.kaggle.com/datasets/rashikrahmanpritom/heart-attack-analysis-prediction-dataset). En principio, este dataset trata de explicar la enfermedad cardiaca a partir de una serie de factores, como el colesterol o la frecuencia cardiaca. No obstante, aclararemos que este dataset es útil para practicar, pero no tanto para resolver un problema real, tal como ya se comenta [en el foro del propio dataset en Kaggle](https://www.kaggle.com/datasets/rashikrahmanpritom/heart-attack-analysis-prediction-dataset/discussion/249239). \n",
    "\n",
    "En un análisis preliminar de los datos, podemos comprobar que el archivo `heart.csv` consta de 303 registros y 14 variables. La información de Kaggle es escasa, puesto que no proporciona información espacio-temporal sobre los datos. Tampoco proporciona citas adicionales sobre las fuentes, siendo que es improbable que los que proporcionan este dataset sean los autores de la investigación. Nótese que señalan la procedencia 'online' y el método 'crawling'. \n",
    "\n",
    "Una búsqueda rápida nos llevará a encontrar [el origen de los datos](https://archive.ics.uci.edu/ml/datasets/heart+disease). Se trata de un popular dataset donado en 1988. El estudio original consta de 4 ubicaciones:\n",
    "1. Budapest (Hungría): Hungarian Institute of Cardiology, Andras Janosi, M.D.\n",
    "2. Zurich (Suiza): University Hospital, William Steinbrunn, M.D.\n",
    "3. Basilea (Suiza): University Hospital, Matthias Pfisterer, M.D.\n",
    "4. Cleveland (Estados Unidos): V.A. Medical Center, Long Beach and Cleveland Clinic Foundation, Robert Detrano, M.D., Ph.D.\n",
    "\n",
    "Originalmente, constaba de 76 atributos, si bien \"todos los experimentos publicados se refieren a 14 atributos\", tal como se nos indica [en el repositorio original](https://archive.ics.uci.edu/ml/datasets/heart+disease). Los datos compartidos en Kaggle proceden del dataset de Cleveland, el más popular en los estudios de Machine Learning. \n",
    "\n",
    "Por lo tanto, tenemos en nuestras manos un dataset cuya fuente original no está citada, con un número de registros menor al ideal en un estudio de estas características y de una antigüedad considerable. Presenta además algunas dificultades, como el hecho de que algunos valores no se corresponden con los establecidos en la descripción de los datos. Por ejemplo, la variable `cp` ('chest pain type') va del 0 al 3 mientras que en la descripción –tanto en kaggle como en el repositorio de UCI– va del 1 al 4. Instuitivamente cabe pensar que el 1 original pasó al 0 y el 4, al 3. Sin embargo, comparando los datos de Kaggle con el dataset original, podemos comprobar que esto no es así. Otros valores hacen saltar las alarmas, como la asignación en la variable `output`. Por este motivo, hemos tomado la decisión de partir directamente del dataset original, que se encuentra [aquí](https://archive.ics.uci.edu/ml/machine-learning-databases/heart-disease/) bajo el nombre `processed.cleveland.data`.\n",
    "\n",
    "Dicho esto, pasamos a describir las variables que tenemos entre manos:\n",
    "\n",
    "`age`: edad del paciente\n",
    "\n",
    "`sex`: sexo del paciente\n",
    "\n",
    "        0 = mujer\n",
    "        1 = hombre\n",
    "        \n",
    "        \n",
    "`cp`: tipo de dolor de pecho. \n",
    "\n",
    "        1 = angina típica\n",
    "        2 = angina atípica\n",
    "        3 = dolor no anginoso\n",
    "        4 = asintomático\n",
    "        \n",
    "`trestbps` : presión sanguínea en reposo (en mm Hg)\n",
    "\n",
    "`chol` : colesterol en mg/dl\n",
    "\n",
    "`fbs` : azúcar en sangre en ayunas > 120 mg/dl.\n",
    "\n",
    "        0 = falso\n",
    "        1 = verdadero\n",
    "        \n",
    "`restecg` : resultados electrocardiográficos en reposo\n",
    "\n",
    "        0 = normal\n",
    "        1 = anomalías en la onda ST-T\n",
    "        2 = hipertrofia ventricular izquierda\n",
    "        \n",
    "`thalach` : frecuencia cardiaca máxima alcanzada.\n",
    "\n",
    "`exang`: angina inducida por el ejercicio\n",
    "\n",
    "        0 = no\n",
    "        1 = sí\n",
    "        \n",
    "`oldpeak`: depresión del ST inducida por el ejercicio en relación con el reposo\n",
    "\n",
    "`slope`: la pendiente del segmento ST de ejercicio máximo.\n",
    "\n",
    "        1 = pendiente ascendiente \n",
    "        2 = sin pendiente\n",
    "        3 = pendiente descendente\n",
    "        \n",
    "`ca`: número de vasos principales (de 0 a 3)\n",
    "\n",
    "`thal`: Thallium Stress Test, por lo que podemos leer [aquí](https://www.kaggle.com/datasets/rashikrahmanpritom/heart-attack-analysis-prediction-dataset/discussion/234843?sort=votes)\n",
    "\n",
    "        3 = normal\n",
    "        6 = defecto arreglado\n",
    "        7 = defecto reversible \n",
    "\n",
    "`num`: atributo predicho; diagnóstico de enfermedad cardíaca (estado de enfermedad angiográfico)\n",
    "\n",
    "        0 = ausencia de enfermedad cardíaca\n",
    "        1, 2, 3 o 4 = presencia de enfermedad cardíaca"
   ]
  },
  {
   "cell_type": "markdown",
   "id": "651f09e7",
   "metadata": {},
   "source": [
    "# 2. Integración y selección de los datos de interés a analizar\n",
    "**Puede ser el resultado de adicionar diferentes datasets o una subselección útil de los datos originales, en base al objetivo que se quiera conseguir.**\n",
    "\n",
    "Usaremos el dataset al completo, teniendo en cuenta que ya se parte de una reducción del original, que contenía 76 variables, si bien sí realizaremos ciertas modificaciones que pasamos a describir aquí:\n",
    "\n",
    "1. Añadimos el nombre de las columnas, no presente en el archivo.\n",
    "2. Convertimos los valores de ciertas variables para unificar las categorías de 'normal' o 'asintomático' en 0:\n",
    "    a. `cp`:\n",
    "        \n",
    "        0 = asintomático (antes 4)\n",
    "        1 = angina típica\n",
    "        2 = angina atípica\n",
    "        3 = dolor no anginoso\n",
    "        \n",
    "    b. `thal`:\n",
    "    \n",
    "        0 = normal (antes 3)\n",
    "        1 = defecto arreglado (antes 6)\n",
    "        2 = defecto reversible (antes 7)\n",
    "\n",
    "3. Unificamos todos los resultados en `num` de presencia de enfermedad cardíaca en 1 para que quede:\n",
    "    \n",
    "        0 = ausencia de enfermedad cardíaca\n",
    "        1 = presencia de enfermedad cardíaca\n",
    "        \n",
    "Antes de realizar todos estos cambios, deberemos asegurarnos de que no haya algún valor nulo imputado con estos números.   "
   ]
  },
  {
   "cell_type": "code",
   "execution_count": 2,
   "id": "dfdafd7d",
   "metadata": {},
   "outputs": [
    {
     "data": {
      "text/html": [
       "<div>\n",
       "<style scoped>\n",
       "    .dataframe tbody tr th:only-of-type {\n",
       "        vertical-align: middle;\n",
       "    }\n",
       "\n",
       "    .dataframe tbody tr th {\n",
       "        vertical-align: top;\n",
       "    }\n",
       "\n",
       "    .dataframe thead th {\n",
       "        text-align: right;\n",
       "    }\n",
       "</style>\n",
       "<table border=\"1\" class=\"dataframe\">\n",
       "  <thead>\n",
       "    <tr style=\"text-align: right;\">\n",
       "      <th></th>\n",
       "      <th>age</th>\n",
       "      <th>sex</th>\n",
       "      <th>cp</th>\n",
       "      <th>trestbps</th>\n",
       "      <th>chol</th>\n",
       "      <th>fbs</th>\n",
       "      <th>restecg</th>\n",
       "      <th>thalach</th>\n",
       "      <th>exang</th>\n",
       "      <th>oldpeak</th>\n",
       "      <th>slope</th>\n",
       "      <th>ca</th>\n",
       "      <th>thal</th>\n",
       "      <th>num</th>\n",
       "    </tr>\n",
       "  </thead>\n",
       "  <tbody>\n",
       "    <tr>\n",
       "      <th>0</th>\n",
       "      <td>63.0</td>\n",
       "      <td>1.0</td>\n",
       "      <td>1.0</td>\n",
       "      <td>145.0</td>\n",
       "      <td>233.0</td>\n",
       "      <td>1.0</td>\n",
       "      <td>2.0</td>\n",
       "      <td>150.0</td>\n",
       "      <td>0.0</td>\n",
       "      <td>2.3</td>\n",
       "      <td>3.0</td>\n",
       "      <td>0.0</td>\n",
       "      <td>6.0</td>\n",
       "      <td>0</td>\n",
       "    </tr>\n",
       "    <tr>\n",
       "      <th>1</th>\n",
       "      <td>67.0</td>\n",
       "      <td>1.0</td>\n",
       "      <td>4.0</td>\n",
       "      <td>160.0</td>\n",
       "      <td>286.0</td>\n",
       "      <td>0.0</td>\n",
       "      <td>2.0</td>\n",
       "      <td>108.0</td>\n",
       "      <td>1.0</td>\n",
       "      <td>1.5</td>\n",
       "      <td>2.0</td>\n",
       "      <td>3.0</td>\n",
       "      <td>3.0</td>\n",
       "      <td>2</td>\n",
       "    </tr>\n",
       "    <tr>\n",
       "      <th>2</th>\n",
       "      <td>67.0</td>\n",
       "      <td>1.0</td>\n",
       "      <td>4.0</td>\n",
       "      <td>120.0</td>\n",
       "      <td>229.0</td>\n",
       "      <td>0.0</td>\n",
       "      <td>2.0</td>\n",
       "      <td>129.0</td>\n",
       "      <td>1.0</td>\n",
       "      <td>2.6</td>\n",
       "      <td>2.0</td>\n",
       "      <td>2.0</td>\n",
       "      <td>7.0</td>\n",
       "      <td>1</td>\n",
       "    </tr>\n",
       "    <tr>\n",
       "      <th>3</th>\n",
       "      <td>37.0</td>\n",
       "      <td>1.0</td>\n",
       "      <td>3.0</td>\n",
       "      <td>130.0</td>\n",
       "      <td>250.0</td>\n",
       "      <td>0.0</td>\n",
       "      <td>0.0</td>\n",
       "      <td>187.0</td>\n",
       "      <td>0.0</td>\n",
       "      <td>3.5</td>\n",
       "      <td>3.0</td>\n",
       "      <td>0.0</td>\n",
       "      <td>3.0</td>\n",
       "      <td>0</td>\n",
       "    </tr>\n",
       "    <tr>\n",
       "      <th>4</th>\n",
       "      <td>41.0</td>\n",
       "      <td>0.0</td>\n",
       "      <td>2.0</td>\n",
       "      <td>130.0</td>\n",
       "      <td>204.0</td>\n",
       "      <td>0.0</td>\n",
       "      <td>2.0</td>\n",
       "      <td>172.0</td>\n",
       "      <td>0.0</td>\n",
       "      <td>1.4</td>\n",
       "      <td>1.0</td>\n",
       "      <td>0.0</td>\n",
       "      <td>3.0</td>\n",
       "      <td>0</td>\n",
       "    </tr>\n",
       "  </tbody>\n",
       "</table>\n",
       "</div>"
      ],
      "text/plain": [
       "    age  sex   cp  trestbps   chol  fbs  restecg  thalach  exang  oldpeak  \\\n",
       "0  63.0  1.0  1.0     145.0  233.0  1.0      2.0    150.0    0.0      2.3   \n",
       "1  67.0  1.0  4.0     160.0  286.0  0.0      2.0    108.0    1.0      1.5   \n",
       "2  67.0  1.0  4.0     120.0  229.0  0.0      2.0    129.0    1.0      2.6   \n",
       "3  37.0  1.0  3.0     130.0  250.0  0.0      0.0    187.0    0.0      3.5   \n",
       "4  41.0  0.0  2.0     130.0  204.0  0.0      2.0    172.0    0.0      1.4   \n",
       "\n",
       "   slope   ca thal  num  \n",
       "0    3.0  0.0  6.0    0  \n",
       "1    2.0  3.0  3.0    2  \n",
       "2    2.0  2.0  7.0    1  \n",
       "3    3.0  0.0  3.0    0  \n",
       "4    1.0  0.0  3.0    0  "
      ]
     },
     "execution_count": 2,
     "metadata": {},
     "output_type": "execute_result"
    }
   ],
   "source": [
    "# Añadimos al dataset el nombre correspondiente de cada columna\n",
    "columns = ['age', 'sex', 'cp', 'trestbps', 'chol', \n",
    "           'fbs', 'restecg', 'thalach', 'exang', \n",
    "           'oldpeak', 'slope', 'ca', 'thal', 'num']\n",
    "df = pd.read_csv(\"data/processed.cleveland.csv\", header=None, names=columns)\n",
    "df.head()"
   ]
  },
  {
   "cell_type": "code",
   "execution_count": 3,
   "id": "2983f1d4",
   "metadata": {},
   "outputs": [
    {
     "name": "stdout",
     "output_type": "stream",
     "text": [
      "<class 'pandas.core.frame.DataFrame'>\n",
      "RangeIndex: 303 entries, 0 to 302\n",
      "Data columns (total 14 columns):\n",
      " #   Column    Non-Null Count  Dtype  \n",
      "---  ------    --------------  -----  \n",
      " 0   age       303 non-null    float64\n",
      " 1   sex       303 non-null    float64\n",
      " 2   cp        303 non-null    float64\n",
      " 3   trestbps  303 non-null    float64\n",
      " 4   chol      303 non-null    float64\n",
      " 5   fbs       303 non-null    float64\n",
      " 6   restecg   303 non-null    float64\n",
      " 7   thalach   303 non-null    float64\n",
      " 8   exang     303 non-null    float64\n",
      " 9   oldpeak   303 non-null    float64\n",
      " 10  slope     303 non-null    float64\n",
      " 11  ca        303 non-null    object \n",
      " 12  thal      303 non-null    object \n",
      " 13  num       303 non-null    int64  \n",
      "dtypes: float64(11), int64(1), object(2)\n",
      "memory usage: 33.3+ KB\n"
     ]
    }
   ],
   "source": [
    "df.info()"
   ]
  },
  {
   "cell_type": "markdown",
   "id": "c20e7822",
   "metadata": {},
   "source": [
    "Vamos a homogeneizar el dataframe y pasar todo a numeric. Usaremos `errors='coerce'` para convertir en nulos los valores no numéricos."
   ]
  },
  {
   "cell_type": "code",
   "execution_count": 4,
   "id": "999b60b1",
   "metadata": {},
   "outputs": [],
   "source": [
    "df = df.apply(pd.to_numeric, errors='coerce')"
   ]
  },
  {
   "cell_type": "markdown",
   "id": "6b6a01fa",
   "metadata": {},
   "source": [
    "A continuación, podemos comprobar que, efectivamente, `ca`contiene 4 valores nulos y `thal`, 2."
   ]
  },
  {
   "cell_type": "code",
   "execution_count": 5,
   "id": "126034d2",
   "metadata": {
    "scrolled": false
   },
   "outputs": [
    {
     "name": "stdout",
     "output_type": "stream",
     "text": [
      "<class 'pandas.core.frame.DataFrame'>\n",
      "RangeIndex: 303 entries, 0 to 302\n",
      "Data columns (total 14 columns):\n",
      " #   Column    Non-Null Count  Dtype  \n",
      "---  ------    --------------  -----  \n",
      " 0   age       303 non-null    float64\n",
      " 1   sex       303 non-null    float64\n",
      " 2   cp        303 non-null    float64\n",
      " 3   trestbps  303 non-null    float64\n",
      " 4   chol      303 non-null    float64\n",
      " 5   fbs       303 non-null    float64\n",
      " 6   restecg   303 non-null    float64\n",
      " 7   thalach   303 non-null    float64\n",
      " 8   exang     303 non-null    float64\n",
      " 9   oldpeak   303 non-null    float64\n",
      " 10  slope     303 non-null    float64\n",
      " 11  ca        299 non-null    float64\n",
      " 12  thal      301 non-null    float64\n",
      " 13  num       303 non-null    int64  \n",
      "dtypes: float64(13), int64(1)\n",
      "memory usage: 33.3 KB\n"
     ]
    }
   ],
   "source": [
    "df.info()"
   ]
  },
  {
   "cell_type": "markdown",
   "id": "bbfaf433",
   "metadata": {},
   "source": [
    "Hecho esto, analizaremos el resumen estadístico para comprobar que todas las variables se encuentran en los rangos correctos."
   ]
  },
  {
   "cell_type": "code",
   "execution_count": 6,
   "id": "8d3312d2",
   "metadata": {
    "scrolled": false
   },
   "outputs": [
    {
     "data": {
      "text/html": [
       "<div>\n",
       "<style scoped>\n",
       "    .dataframe tbody tr th:only-of-type {\n",
       "        vertical-align: middle;\n",
       "    }\n",
       "\n",
       "    .dataframe tbody tr th {\n",
       "        vertical-align: top;\n",
       "    }\n",
       "\n",
       "    .dataframe thead th {\n",
       "        text-align: right;\n",
       "    }\n",
       "</style>\n",
       "<table border=\"1\" class=\"dataframe\">\n",
       "  <thead>\n",
       "    <tr style=\"text-align: right;\">\n",
       "      <th></th>\n",
       "      <th>age</th>\n",
       "      <th>sex</th>\n",
       "      <th>cp</th>\n",
       "      <th>trestbps</th>\n",
       "      <th>chol</th>\n",
       "      <th>fbs</th>\n",
       "      <th>restecg</th>\n",
       "      <th>thalach</th>\n",
       "      <th>exang</th>\n",
       "      <th>oldpeak</th>\n",
       "      <th>slope</th>\n",
       "      <th>ca</th>\n",
       "      <th>thal</th>\n",
       "      <th>num</th>\n",
       "    </tr>\n",
       "  </thead>\n",
       "  <tbody>\n",
       "    <tr>\n",
       "      <th>count</th>\n",
       "      <td>303.000000</td>\n",
       "      <td>303.000000</td>\n",
       "      <td>303.000000</td>\n",
       "      <td>303.000000</td>\n",
       "      <td>303.000000</td>\n",
       "      <td>303.000000</td>\n",
       "      <td>303.000000</td>\n",
       "      <td>303.000000</td>\n",
       "      <td>303.000000</td>\n",
       "      <td>303.000000</td>\n",
       "      <td>303.000000</td>\n",
       "      <td>299.000000</td>\n",
       "      <td>301.000000</td>\n",
       "      <td>303.000000</td>\n",
       "    </tr>\n",
       "    <tr>\n",
       "      <th>mean</th>\n",
       "      <td>54.438944</td>\n",
       "      <td>0.679868</td>\n",
       "      <td>3.158416</td>\n",
       "      <td>131.689769</td>\n",
       "      <td>246.693069</td>\n",
       "      <td>0.148515</td>\n",
       "      <td>0.990099</td>\n",
       "      <td>149.607261</td>\n",
       "      <td>0.326733</td>\n",
       "      <td>1.039604</td>\n",
       "      <td>1.600660</td>\n",
       "      <td>0.672241</td>\n",
       "      <td>4.734219</td>\n",
       "      <td>0.937294</td>\n",
       "    </tr>\n",
       "    <tr>\n",
       "      <th>std</th>\n",
       "      <td>9.038662</td>\n",
       "      <td>0.467299</td>\n",
       "      <td>0.960126</td>\n",
       "      <td>17.599748</td>\n",
       "      <td>51.776918</td>\n",
       "      <td>0.356198</td>\n",
       "      <td>0.994971</td>\n",
       "      <td>22.875003</td>\n",
       "      <td>0.469794</td>\n",
       "      <td>1.161075</td>\n",
       "      <td>0.616226</td>\n",
       "      <td>0.937438</td>\n",
       "      <td>1.939706</td>\n",
       "      <td>1.228536</td>\n",
       "    </tr>\n",
       "    <tr>\n",
       "      <th>min</th>\n",
       "      <td>29.000000</td>\n",
       "      <td>0.000000</td>\n",
       "      <td>1.000000</td>\n",
       "      <td>94.000000</td>\n",
       "      <td>126.000000</td>\n",
       "      <td>0.000000</td>\n",
       "      <td>0.000000</td>\n",
       "      <td>71.000000</td>\n",
       "      <td>0.000000</td>\n",
       "      <td>0.000000</td>\n",
       "      <td>1.000000</td>\n",
       "      <td>0.000000</td>\n",
       "      <td>3.000000</td>\n",
       "      <td>0.000000</td>\n",
       "    </tr>\n",
       "    <tr>\n",
       "      <th>25%</th>\n",
       "      <td>48.000000</td>\n",
       "      <td>0.000000</td>\n",
       "      <td>3.000000</td>\n",
       "      <td>120.000000</td>\n",
       "      <td>211.000000</td>\n",
       "      <td>0.000000</td>\n",
       "      <td>0.000000</td>\n",
       "      <td>133.500000</td>\n",
       "      <td>0.000000</td>\n",
       "      <td>0.000000</td>\n",
       "      <td>1.000000</td>\n",
       "      <td>0.000000</td>\n",
       "      <td>3.000000</td>\n",
       "      <td>0.000000</td>\n",
       "    </tr>\n",
       "    <tr>\n",
       "      <th>50%</th>\n",
       "      <td>56.000000</td>\n",
       "      <td>1.000000</td>\n",
       "      <td>3.000000</td>\n",
       "      <td>130.000000</td>\n",
       "      <td>241.000000</td>\n",
       "      <td>0.000000</td>\n",
       "      <td>1.000000</td>\n",
       "      <td>153.000000</td>\n",
       "      <td>0.000000</td>\n",
       "      <td>0.800000</td>\n",
       "      <td>2.000000</td>\n",
       "      <td>0.000000</td>\n",
       "      <td>3.000000</td>\n",
       "      <td>0.000000</td>\n",
       "    </tr>\n",
       "    <tr>\n",
       "      <th>75%</th>\n",
       "      <td>61.000000</td>\n",
       "      <td>1.000000</td>\n",
       "      <td>4.000000</td>\n",
       "      <td>140.000000</td>\n",
       "      <td>275.000000</td>\n",
       "      <td>0.000000</td>\n",
       "      <td>2.000000</td>\n",
       "      <td>166.000000</td>\n",
       "      <td>1.000000</td>\n",
       "      <td>1.600000</td>\n",
       "      <td>2.000000</td>\n",
       "      <td>1.000000</td>\n",
       "      <td>7.000000</td>\n",
       "      <td>2.000000</td>\n",
       "    </tr>\n",
       "    <tr>\n",
       "      <th>max</th>\n",
       "      <td>77.000000</td>\n",
       "      <td>1.000000</td>\n",
       "      <td>4.000000</td>\n",
       "      <td>200.000000</td>\n",
       "      <td>564.000000</td>\n",
       "      <td>1.000000</td>\n",
       "      <td>2.000000</td>\n",
       "      <td>202.000000</td>\n",
       "      <td>1.000000</td>\n",
       "      <td>6.200000</td>\n",
       "      <td>3.000000</td>\n",
       "      <td>3.000000</td>\n",
       "      <td>7.000000</td>\n",
       "      <td>4.000000</td>\n",
       "    </tr>\n",
       "  </tbody>\n",
       "</table>\n",
       "</div>"
      ],
      "text/plain": [
       "              age         sex          cp    trestbps        chol         fbs  \\\n",
       "count  303.000000  303.000000  303.000000  303.000000  303.000000  303.000000   \n",
       "mean    54.438944    0.679868    3.158416  131.689769  246.693069    0.148515   \n",
       "std      9.038662    0.467299    0.960126   17.599748   51.776918    0.356198   \n",
       "min     29.000000    0.000000    1.000000   94.000000  126.000000    0.000000   \n",
       "25%     48.000000    0.000000    3.000000  120.000000  211.000000    0.000000   \n",
       "50%     56.000000    1.000000    3.000000  130.000000  241.000000    0.000000   \n",
       "75%     61.000000    1.000000    4.000000  140.000000  275.000000    0.000000   \n",
       "max     77.000000    1.000000    4.000000  200.000000  564.000000    1.000000   \n",
       "\n",
       "          restecg     thalach       exang     oldpeak       slope          ca  \\\n",
       "count  303.000000  303.000000  303.000000  303.000000  303.000000  299.000000   \n",
       "mean     0.990099  149.607261    0.326733    1.039604    1.600660    0.672241   \n",
       "std      0.994971   22.875003    0.469794    1.161075    0.616226    0.937438   \n",
       "min      0.000000   71.000000    0.000000    0.000000    1.000000    0.000000   \n",
       "25%      0.000000  133.500000    0.000000    0.000000    1.000000    0.000000   \n",
       "50%      1.000000  153.000000    0.000000    0.800000    2.000000    0.000000   \n",
       "75%      2.000000  166.000000    1.000000    1.600000    2.000000    1.000000   \n",
       "max      2.000000  202.000000    1.000000    6.200000    3.000000    3.000000   \n",
       "\n",
       "             thal         num  \n",
       "count  301.000000  303.000000  \n",
       "mean     4.734219    0.937294  \n",
       "std      1.939706    1.228536  \n",
       "min      3.000000    0.000000  \n",
       "25%      3.000000    0.000000  \n",
       "50%      3.000000    0.000000  \n",
       "75%      7.000000    2.000000  \n",
       "max      7.000000    4.000000  "
      ]
     },
     "execution_count": 6,
     "metadata": {},
     "output_type": "execute_result"
    }
   ],
   "source": [
    "df.describe(include = 'all')"
   ]
  },
  {
   "cell_type": "markdown",
   "id": "375fbefc",
   "metadata": {},
   "source": [
    "Visto que, efectivamente, todas las variables se ajustan a lo indicado en la descripción del dataset, procedemos a recodificar las variables indicadas."
   ]
  },
  {
   "cell_type": "code",
   "execution_count": 7,
   "id": "8e3aa54d",
   "metadata": {},
   "outputs": [
    {
     "data": {
      "text/html": [
       "<div>\n",
       "<style scoped>\n",
       "    .dataframe tbody tr th:only-of-type {\n",
       "        vertical-align: middle;\n",
       "    }\n",
       "\n",
       "    .dataframe tbody tr th {\n",
       "        vertical-align: top;\n",
       "    }\n",
       "\n",
       "    .dataframe thead th {\n",
       "        text-align: right;\n",
       "    }\n",
       "</style>\n",
       "<table border=\"1\" class=\"dataframe\">\n",
       "  <thead>\n",
       "    <tr style=\"text-align: right;\">\n",
       "      <th></th>\n",
       "      <th>age</th>\n",
       "      <th>sex</th>\n",
       "      <th>cp</th>\n",
       "      <th>trestbps</th>\n",
       "      <th>chol</th>\n",
       "      <th>fbs</th>\n",
       "      <th>restecg</th>\n",
       "      <th>thalach</th>\n",
       "      <th>exang</th>\n",
       "      <th>oldpeak</th>\n",
       "      <th>slope</th>\n",
       "      <th>ca</th>\n",
       "      <th>thal</th>\n",
       "      <th>num</th>\n",
       "    </tr>\n",
       "  </thead>\n",
       "  <tbody>\n",
       "    <tr>\n",
       "      <th>count</th>\n",
       "      <td>303.000000</td>\n",
       "      <td>303.000000</td>\n",
       "      <td>303.000000</td>\n",
       "      <td>303.000000</td>\n",
       "      <td>303.000000</td>\n",
       "      <td>303.000000</td>\n",
       "      <td>303.000000</td>\n",
       "      <td>303.000000</td>\n",
       "      <td>303.000000</td>\n",
       "      <td>303.000000</td>\n",
       "      <td>303.000000</td>\n",
       "      <td>299.000000</td>\n",
       "      <td>301.000000</td>\n",
       "      <td>303.000000</td>\n",
       "    </tr>\n",
       "    <tr>\n",
       "      <th>mean</th>\n",
       "      <td>54.438944</td>\n",
       "      <td>0.679868</td>\n",
       "      <td>1.257426</td>\n",
       "      <td>131.689769</td>\n",
       "      <td>246.693069</td>\n",
       "      <td>0.148515</td>\n",
       "      <td>0.990099</td>\n",
       "      <td>149.607261</td>\n",
       "      <td>0.326733</td>\n",
       "      <td>1.039604</td>\n",
       "      <td>1.600660</td>\n",
       "      <td>0.672241</td>\n",
       "      <td>0.837209</td>\n",
       "      <td>0.458746</td>\n",
       "    </tr>\n",
       "    <tr>\n",
       "      <th>std</th>\n",
       "      <td>9.038662</td>\n",
       "      <td>0.467299</td>\n",
       "      <td>1.309568</td>\n",
       "      <td>17.599748</td>\n",
       "      <td>51.776918</td>\n",
       "      <td>0.356198</td>\n",
       "      <td>0.994971</td>\n",
       "      <td>22.875003</td>\n",
       "      <td>0.469794</td>\n",
       "      <td>1.161075</td>\n",
       "      <td>0.616226</td>\n",
       "      <td>0.937438</td>\n",
       "      <td>0.957468</td>\n",
       "      <td>0.499120</td>\n",
       "    </tr>\n",
       "    <tr>\n",
       "      <th>min</th>\n",
       "      <td>29.000000</td>\n",
       "      <td>0.000000</td>\n",
       "      <td>0.000000</td>\n",
       "      <td>94.000000</td>\n",
       "      <td>126.000000</td>\n",
       "      <td>0.000000</td>\n",
       "      <td>0.000000</td>\n",
       "      <td>71.000000</td>\n",
       "      <td>0.000000</td>\n",
       "      <td>0.000000</td>\n",
       "      <td>1.000000</td>\n",
       "      <td>0.000000</td>\n",
       "      <td>0.000000</td>\n",
       "      <td>0.000000</td>\n",
       "    </tr>\n",
       "    <tr>\n",
       "      <th>25%</th>\n",
       "      <td>48.000000</td>\n",
       "      <td>0.000000</td>\n",
       "      <td>0.000000</td>\n",
       "      <td>120.000000</td>\n",
       "      <td>211.000000</td>\n",
       "      <td>0.000000</td>\n",
       "      <td>0.000000</td>\n",
       "      <td>133.500000</td>\n",
       "      <td>0.000000</td>\n",
       "      <td>0.000000</td>\n",
       "      <td>1.000000</td>\n",
       "      <td>0.000000</td>\n",
       "      <td>0.000000</td>\n",
       "      <td>0.000000</td>\n",
       "    </tr>\n",
       "    <tr>\n",
       "      <th>50%</th>\n",
       "      <td>56.000000</td>\n",
       "      <td>1.000000</td>\n",
       "      <td>1.000000</td>\n",
       "      <td>130.000000</td>\n",
       "      <td>241.000000</td>\n",
       "      <td>0.000000</td>\n",
       "      <td>1.000000</td>\n",
       "      <td>153.000000</td>\n",
       "      <td>0.000000</td>\n",
       "      <td>0.800000</td>\n",
       "      <td>2.000000</td>\n",
       "      <td>0.000000</td>\n",
       "      <td>0.000000</td>\n",
       "      <td>0.000000</td>\n",
       "    </tr>\n",
       "    <tr>\n",
       "      <th>75%</th>\n",
       "      <td>61.000000</td>\n",
       "      <td>1.000000</td>\n",
       "      <td>3.000000</td>\n",
       "      <td>140.000000</td>\n",
       "      <td>275.000000</td>\n",
       "      <td>0.000000</td>\n",
       "      <td>2.000000</td>\n",
       "      <td>166.000000</td>\n",
       "      <td>1.000000</td>\n",
       "      <td>1.600000</td>\n",
       "      <td>2.000000</td>\n",
       "      <td>1.000000</td>\n",
       "      <td>2.000000</td>\n",
       "      <td>1.000000</td>\n",
       "    </tr>\n",
       "    <tr>\n",
       "      <th>max</th>\n",
       "      <td>77.000000</td>\n",
       "      <td>1.000000</td>\n",
       "      <td>3.000000</td>\n",
       "      <td>200.000000</td>\n",
       "      <td>564.000000</td>\n",
       "      <td>1.000000</td>\n",
       "      <td>2.000000</td>\n",
       "      <td>202.000000</td>\n",
       "      <td>1.000000</td>\n",
       "      <td>6.200000</td>\n",
       "      <td>3.000000</td>\n",
       "      <td>3.000000</td>\n",
       "      <td>2.000000</td>\n",
       "      <td>1.000000</td>\n",
       "    </tr>\n",
       "  </tbody>\n",
       "</table>\n",
       "</div>"
      ],
      "text/plain": [
       "              age         sex          cp    trestbps        chol         fbs  \\\n",
       "count  303.000000  303.000000  303.000000  303.000000  303.000000  303.000000   \n",
       "mean    54.438944    0.679868    1.257426  131.689769  246.693069    0.148515   \n",
       "std      9.038662    0.467299    1.309568   17.599748   51.776918    0.356198   \n",
       "min     29.000000    0.000000    0.000000   94.000000  126.000000    0.000000   \n",
       "25%     48.000000    0.000000    0.000000  120.000000  211.000000    0.000000   \n",
       "50%     56.000000    1.000000    1.000000  130.000000  241.000000    0.000000   \n",
       "75%     61.000000    1.000000    3.000000  140.000000  275.000000    0.000000   \n",
       "max     77.000000    1.000000    3.000000  200.000000  564.000000    1.000000   \n",
       "\n",
       "          restecg     thalach       exang     oldpeak       slope          ca  \\\n",
       "count  303.000000  303.000000  303.000000  303.000000  303.000000  299.000000   \n",
       "mean     0.990099  149.607261    0.326733    1.039604    1.600660    0.672241   \n",
       "std      0.994971   22.875003    0.469794    1.161075    0.616226    0.937438   \n",
       "min      0.000000   71.000000    0.000000    0.000000    1.000000    0.000000   \n",
       "25%      0.000000  133.500000    0.000000    0.000000    1.000000    0.000000   \n",
       "50%      1.000000  153.000000    0.000000    0.800000    2.000000    0.000000   \n",
       "75%      2.000000  166.000000    1.000000    1.600000    2.000000    1.000000   \n",
       "max      2.000000  202.000000    1.000000    6.200000    3.000000    3.000000   \n",
       "\n",
       "             thal         num  \n",
       "count  301.000000  303.000000  \n",
       "mean     0.837209    0.458746  \n",
       "std      0.957468    0.499120  \n",
       "min      0.000000    0.000000  \n",
       "25%      0.000000    0.000000  \n",
       "50%      0.000000    0.000000  \n",
       "75%      2.000000    1.000000  \n",
       "max      2.000000    1.000000  "
      ]
     },
     "execution_count": 7,
     "metadata": {},
     "output_type": "execute_result"
    }
   ],
   "source": [
    "df = df.replace({\n",
    "    'cp': {\n",
    "        4: 0\n",
    "        },\n",
    "   \n",
    "    'thal':{ \n",
    "        3 : 0,\n",
    "        6 : 1,\n",
    "        7 : 2\n",
    "    },\n",
    "    \n",
    "    'num':{ \n",
    "        2 : 1,\n",
    "        3 : 1,\n",
    "        4 : 1\n",
    "    }  \n",
    "    \n",
    "})\n",
    "        \n",
    "df.describe()"
   ]
  },
  {
   "cell_type": "markdown",
   "id": "0f365e81",
   "metadata": {},
   "source": [
    "# 3. Limpieza de los datos"
   ]
  },
  {
   "cell_type": "markdown",
   "id": "8d2e47b0",
   "metadata": {},
   "source": [
    "## 3.1. ¿Los datos contienen ceros o elementos vacíos? \n",
    "**Gestiona cada uno de estos casos.**\n",
    "\n",
    "Como ya hemos podido comprobar, existen valores nulos en la variable `ca`y en la variable `thal`."
   ]
  },
  {
   "cell_type": "code",
   "execution_count": 8,
   "id": "5030e370",
   "metadata": {},
   "outputs": [
    {
     "name": "stdout",
     "output_type": "stream",
     "text": [
      "<class 'pandas.core.frame.DataFrame'>\n",
      "RangeIndex: 303 entries, 0 to 302\n",
      "Data columns (total 14 columns):\n",
      " #   Column    Non-Null Count  Dtype  \n",
      "---  ------    --------------  -----  \n",
      " 0   age       303 non-null    float64\n",
      " 1   sex       303 non-null    float64\n",
      " 2   cp        303 non-null    float64\n",
      " 3   trestbps  303 non-null    float64\n",
      " 4   chol      303 non-null    float64\n",
      " 5   fbs       303 non-null    float64\n",
      " 6   restecg   303 non-null    float64\n",
      " 7   thalach   303 non-null    float64\n",
      " 8   exang     303 non-null    float64\n",
      " 9   oldpeak   303 non-null    float64\n",
      " 10  slope     303 non-null    float64\n",
      " 11  ca        299 non-null    float64\n",
      " 12  thal      301 non-null    float64\n",
      " 13  num       303 non-null    int64  \n",
      "dtypes: float64(13), int64(1)\n",
      "memory usage: 33.3 KB\n"
     ]
    }
   ],
   "source": [
    "df.info()"
   ]
  },
  {
   "cell_type": "markdown",
   "id": "47076d19",
   "metadata": {},
   "source": [
    "Realizamos un preprocesamiento, haciendo replace sobre las variables categóricas para poder analizar los datos"
   ]
  },
  {
   "cell_type": "code",
   "execution_count": 9,
   "id": "e9c068bd",
   "metadata": {},
   "outputs": [
    {
     "data": {
      "text/html": [
       "<div>\n",
       "<style scoped>\n",
       "    .dataframe tbody tr th:only-of-type {\n",
       "        vertical-align: middle;\n",
       "    }\n",
       "\n",
       "    .dataframe tbody tr th {\n",
       "        vertical-align: top;\n",
       "    }\n",
       "\n",
       "    .dataframe thead th {\n",
       "        text-align: right;\n",
       "    }\n",
       "</style>\n",
       "<table border=\"1\" class=\"dataframe\">\n",
       "  <thead>\n",
       "    <tr style=\"text-align: right;\">\n",
       "      <th></th>\n",
       "      <th>age</th>\n",
       "      <th>sex</th>\n",
       "      <th>cp</th>\n",
       "      <th>trestbps</th>\n",
       "      <th>chol</th>\n",
       "      <th>fbs</th>\n",
       "      <th>restecg</th>\n",
       "      <th>thalach</th>\n",
       "      <th>exang</th>\n",
       "      <th>oldpeak</th>\n",
       "      <th>slope</th>\n",
       "      <th>ca</th>\n",
       "      <th>thal</th>\n",
       "      <th>num</th>\n",
       "    </tr>\n",
       "  </thead>\n",
       "  <tbody>\n",
       "    <tr>\n",
       "      <th>245</th>\n",
       "      <td>67.0</td>\n",
       "      <td>Male</td>\n",
       "      <td>typical angina</td>\n",
       "      <td>120.0</td>\n",
       "      <td>237.0</td>\n",
       "      <td>fastingBloodSugar_false</td>\n",
       "      <td>Normal</td>\n",
       "      <td>71.0</td>\n",
       "      <td>0.0</td>\n",
       "      <td>1.0</td>\n",
       "      <td>2.0</td>\n",
       "      <td>0.0</td>\n",
       "      <td>0.0</td>\n",
       "      <td>1</td>\n",
       "    </tr>\n",
       "    <tr>\n",
       "      <th>249</th>\n",
       "      <td>62.0</td>\n",
       "      <td>Male</td>\n",
       "      <td>non-anginal pain</td>\n",
       "      <td>128.0</td>\n",
       "      <td>208.0</td>\n",
       "      <td>fastingBloodSugar_true</td>\n",
       "      <td>Left ventricular hypertrophy</td>\n",
       "      <td>140.0</td>\n",
       "      <td>0.0</td>\n",
       "      <td>0.0</td>\n",
       "      <td>1.0</td>\n",
       "      <td>0.0</td>\n",
       "      <td>0.0</td>\n",
       "      <td>0</td>\n",
       "    </tr>\n",
       "    <tr>\n",
       "      <th>105</th>\n",
       "      <td>54.0</td>\n",
       "      <td>Male</td>\n",
       "      <td>non-anginal pain</td>\n",
       "      <td>108.0</td>\n",
       "      <td>309.0</td>\n",
       "      <td>fastingBloodSugar_false</td>\n",
       "      <td>Normal</td>\n",
       "      <td>156.0</td>\n",
       "      <td>0.0</td>\n",
       "      <td>0.0</td>\n",
       "      <td>1.0</td>\n",
       "      <td>0.0</td>\n",
       "      <td>2.0</td>\n",
       "      <td>0</td>\n",
       "    </tr>\n",
       "    <tr>\n",
       "      <th>55</th>\n",
       "      <td>54.0</td>\n",
       "      <td>Male</td>\n",
       "      <td>typical angina</td>\n",
       "      <td>124.0</td>\n",
       "      <td>266.0</td>\n",
       "      <td>fastingBloodSugar_false</td>\n",
       "      <td>Left ventricular hypertrophy</td>\n",
       "      <td>109.0</td>\n",
       "      <td>1.0</td>\n",
       "      <td>2.2</td>\n",
       "      <td>2.0</td>\n",
       "      <td>1.0</td>\n",
       "      <td>2.0</td>\n",
       "      <td>1</td>\n",
       "    </tr>\n",
       "    <tr>\n",
       "      <th>30</th>\n",
       "      <td>69.0</td>\n",
       "      <td>Female</td>\n",
       "      <td>atypical angina</td>\n",
       "      <td>140.0</td>\n",
       "      <td>239.0</td>\n",
       "      <td>fastingBloodSugar_false</td>\n",
       "      <td>Normal</td>\n",
       "      <td>151.0</td>\n",
       "      <td>0.0</td>\n",
       "      <td>1.8</td>\n",
       "      <td>1.0</td>\n",
       "      <td>2.0</td>\n",
       "      <td>0.0</td>\n",
       "      <td>0</td>\n",
       "    </tr>\n",
       "    <tr>\n",
       "      <th>263</th>\n",
       "      <td>44.0</td>\n",
       "      <td>Male</td>\n",
       "      <td>asymptomatic</td>\n",
       "      <td>120.0</td>\n",
       "      <td>226.0</td>\n",
       "      <td>fastingBloodSugar_false</td>\n",
       "      <td>Normal</td>\n",
       "      <td>169.0</td>\n",
       "      <td>0.0</td>\n",
       "      <td>0.0</td>\n",
       "      <td>1.0</td>\n",
       "      <td>0.0</td>\n",
       "      <td>0.0</td>\n",
       "      <td>0</td>\n",
       "    </tr>\n",
       "    <tr>\n",
       "      <th>230</th>\n",
       "      <td>52.0</td>\n",
       "      <td>Female</td>\n",
       "      <td>asymptomatic</td>\n",
       "      <td>136.0</td>\n",
       "      <td>196.0</td>\n",
       "      <td>fastingBloodSugar_false</td>\n",
       "      <td>Left ventricular hypertrophy</td>\n",
       "      <td>169.0</td>\n",
       "      <td>0.0</td>\n",
       "      <td>0.1</td>\n",
       "      <td>2.0</td>\n",
       "      <td>0.0</td>\n",
       "      <td>0.0</td>\n",
       "      <td>0</td>\n",
       "    </tr>\n",
       "    <tr>\n",
       "      <th>136</th>\n",
       "      <td>70.0</td>\n",
       "      <td>Male</td>\n",
       "      <td>typical angina</td>\n",
       "      <td>145.0</td>\n",
       "      <td>174.0</td>\n",
       "      <td>fastingBloodSugar_false</td>\n",
       "      <td>Normal</td>\n",
       "      <td>125.0</td>\n",
       "      <td>1.0</td>\n",
       "      <td>2.6</td>\n",
       "      <td>3.0</td>\n",
       "      <td>0.0</td>\n",
       "      <td>2.0</td>\n",
       "      <td>1</td>\n",
       "    </tr>\n",
       "    <tr>\n",
       "      <th>294</th>\n",
       "      <td>63.0</td>\n",
       "      <td>Female</td>\n",
       "      <td>typical angina</td>\n",
       "      <td>124.0</td>\n",
       "      <td>197.0</td>\n",
       "      <td>fastingBloodSugar_false</td>\n",
       "      <td>Normal</td>\n",
       "      <td>136.0</td>\n",
       "      <td>1.0</td>\n",
       "      <td>0.0</td>\n",
       "      <td>2.0</td>\n",
       "      <td>0.0</td>\n",
       "      <td>0.0</td>\n",
       "      <td>1</td>\n",
       "    </tr>\n",
       "    <tr>\n",
       "      <th>212</th>\n",
       "      <td>41.0</td>\n",
       "      <td>Male</td>\n",
       "      <td>asymptomatic</td>\n",
       "      <td>130.0</td>\n",
       "      <td>214.0</td>\n",
       "      <td>fastingBloodSugar_false</td>\n",
       "      <td>Left ventricular hypertrophy</td>\n",
       "      <td>168.0</td>\n",
       "      <td>0.0</td>\n",
       "      <td>2.0</td>\n",
       "      <td>2.0</td>\n",
       "      <td>0.0</td>\n",
       "      <td>0.0</td>\n",
       "      <td>0</td>\n",
       "    </tr>\n",
       "  </tbody>\n",
       "</table>\n",
       "</div>"
      ],
      "text/plain": [
       "      age     sex                cp  trestbps   chol                      fbs  \\\n",
       "245  67.0    Male    typical angina     120.0  237.0  fastingBloodSugar_false   \n",
       "249  62.0    Male  non-anginal pain     128.0  208.0   fastingBloodSugar_true   \n",
       "105  54.0    Male  non-anginal pain     108.0  309.0  fastingBloodSugar_false   \n",
       "55   54.0    Male    typical angina     124.0  266.0  fastingBloodSugar_false   \n",
       "30   69.0  Female   atypical angina     140.0  239.0  fastingBloodSugar_false   \n",
       "263  44.0    Male      asymptomatic     120.0  226.0  fastingBloodSugar_false   \n",
       "230  52.0  Female      asymptomatic     136.0  196.0  fastingBloodSugar_false   \n",
       "136  70.0    Male    typical angina     145.0  174.0  fastingBloodSugar_false   \n",
       "294  63.0  Female    typical angina     124.0  197.0  fastingBloodSugar_false   \n",
       "212  41.0    Male      asymptomatic     130.0  214.0  fastingBloodSugar_false   \n",
       "\n",
       "                          restecg  thalach  exang  oldpeak  slope   ca  thal  \\\n",
       "245                        Normal     71.0    0.0      1.0    2.0  0.0   0.0   \n",
       "249  Left ventricular hypertrophy    140.0    0.0      0.0    1.0  0.0   0.0   \n",
       "105                        Normal    156.0    0.0      0.0    1.0  0.0   2.0   \n",
       "55   Left ventricular hypertrophy    109.0    1.0      2.2    2.0  1.0   2.0   \n",
       "30                         Normal    151.0    0.0      1.8    1.0  2.0   0.0   \n",
       "263                        Normal    169.0    0.0      0.0    1.0  0.0   0.0   \n",
       "230  Left ventricular hypertrophy    169.0    0.0      0.1    2.0  0.0   0.0   \n",
       "136                        Normal    125.0    1.0      2.6    3.0  0.0   2.0   \n",
       "294                        Normal    136.0    1.0      0.0    2.0  0.0   0.0   \n",
       "212  Left ventricular hypertrophy    168.0    0.0      2.0    2.0  0.0   0.0   \n",
       "\n",
       "     num  \n",
       "245    1  \n",
       "249    0  \n",
       "105    0  \n",
       "55     1  \n",
       "30     0  \n",
       "263    0  \n",
       "230    0  \n",
       "136    1  \n",
       "294    1  \n",
       "212    0  "
      ]
     },
     "execution_count": 9,
     "metadata": {},
     "output_type": "execute_result"
    }
   ],
   "source": [
    "df = df.replace({\n",
    "    'cp': {\n",
    "        0: 'typical angina',\n",
    "        1: 'atypical angina',\n",
    "        2: 'non-anginal pain',\n",
    "        3: 'asymptomatic'\n",
    "        },\n",
    "    'sex':{\n",
    "        1:'Male',\n",
    "        0:'Female'\n",
    "    },\n",
    "    'restecg':{\n",
    "        0:'Normal',\n",
    "        1:'ST-T wave abnormality',\n",
    "        2:'Left ventricular hypertrophy'\n",
    "    },\n",
    "    'exng':{\n",
    "        0:'Yes Angina',\n",
    "        1:'No Angina'\n",
    "    },\n",
    "    'fbs':{\n",
    "        0:'fastingBloodSugar_false',\n",
    "        1:'fastingBloodSugar_true'  \n",
    "    },\n",
    "    'slp':{\n",
    "        0:'upsloping',\n",
    "        1:'flat',\n",
    "        2:'downsloping'\n",
    "    },\n",
    "    'thall':{ \n",
    "        0 : np.NaN,\n",
    "        1 : \"fixed defect\",\n",
    "        2 : \"normal\",\n",
    "        3 : \"reversable defect\"\n",
    "    }\n",
    "    \n",
    "})\n",
    "\n",
    "df.sample(10)"
   ]
  },
  {
   "cell_type": "markdown",
   "id": "c630cf86",
   "metadata": {},
   "source": [
    "Una vez realizado el proceso de replace podemos notar que tenemos dos registros con valores aunsentes o perdidos en la variable **thall**"
   ]
  },
  {
   "cell_type": "code",
   "execution_count": 41,
   "id": "2998a44e",
   "metadata": {
    "scrolled": false
   },
   "outputs": [
    {
     "name": "stdout",
     "output_type": "stream",
     "text": [
      "<class 'pandas.core.frame.DataFrame'>\n",
      "RangeIndex: 303 entries, 0 to 302\n",
      "Data columns (total 14 columns):\n",
      " #   Column    Non-Null Count  Dtype  \n",
      "---  ------    --------------  -----  \n",
      " 0   age       303 non-null    int64  \n",
      " 1   sex       303 non-null    object \n",
      " 2   cp        303 non-null    object \n",
      " 3   trtbps    303 non-null    int64  \n",
      " 4   chol      303 non-null    int64  \n",
      " 5   fbs       303 non-null    object \n",
      " 6   restecg   303 non-null    object \n",
      " 7   thalachh  303 non-null    int64  \n",
      " 8   exng      303 non-null    object \n",
      " 9   oldpeak   303 non-null    float64\n",
      " 10  slp       303 non-null    object \n",
      " 11  caa       303 non-null    int64  \n",
      " 12  thall     301 non-null    object \n",
      " 13  output    303 non-null    int64  \n",
      "dtypes: float64(1), int64(6), object(7)\n",
      "memory usage: 33.3+ KB\n"
     ]
    }
   ],
   "source": [
    "df.info()"
   ]
  },
  {
   "cell_type": "markdown",
   "id": "bf44930b",
   "metadata": {},
   "source": [
    "Considerando que son solo 2 registros y que representan menos del 1% de los datos decidimos directamente eliminarlos del conjunto de datos. "
   ]
  },
  {
   "cell_type": "code",
   "execution_count": 43,
   "id": "09424925",
   "metadata": {},
   "outputs": [],
   "source": [
    "df.dropna(inplace=True)"
   ]
  },
  {
   "cell_type": "code",
   "execution_count": 44,
   "id": "ddf39739",
   "metadata": {},
   "outputs": [
    {
     "name": "stdout",
     "output_type": "stream",
     "text": [
      "<class 'pandas.core.frame.DataFrame'>\n",
      "Int64Index: 301 entries, 0 to 302\n",
      "Data columns (total 14 columns):\n",
      " #   Column    Non-Null Count  Dtype  \n",
      "---  ------    --------------  -----  \n",
      " 0   age       301 non-null    int64  \n",
      " 1   sex       301 non-null    object \n",
      " 2   cp        301 non-null    object \n",
      " 3   trtbps    301 non-null    int64  \n",
      " 4   chol      301 non-null    int64  \n",
      " 5   fbs       301 non-null    object \n",
      " 6   restecg   301 non-null    object \n",
      " 7   thalachh  301 non-null    int64  \n",
      " 8   exng      301 non-null    object \n",
      " 9   oldpeak   301 non-null    float64\n",
      " 10  slp       301 non-null    object \n",
      " 11  caa       301 non-null    int64  \n",
      " 12  thall     301 non-null    object \n",
      " 13  output    301 non-null    int64  \n",
      "dtypes: float64(1), int64(6), object(7)\n",
      "memory usage: 35.3+ KB\n"
     ]
    }
   ],
   "source": [
    "df.info()"
   ]
  },
  {
   "cell_type": "markdown",
   "id": "42844653",
   "metadata": {},
   "source": [
    "## 3.2. Identifica y gestiona los valores extremos\n",
    "**Escribir aquí la solución.**\n"
   ]
  },
  {
   "cell_type": "code",
   "execution_count": 57,
   "id": "bfcfd3e8",
   "metadata": {},
   "outputs": [
    {
     "data": {
      "image/png": "[encoded data removed]",
      "text/plain": [
       "<Figure size 2520x2160 with 6 Axes>"
      ]
     },
     "metadata": {
      "needs_background": "light"
     },
     "output_type": "display_data"
    }
   ],
   "source": [
    "fig, axes = plt.subplots(3, 2, figsize=(35,30))\n",
    "\n",
    "sns.boxplot(ax=axes[0,0], y=\"age\", palette=\"viridis\", data=df).set(title='Distribución de la edad')\n",
    "sns.boxplot(ax=axes[0,1], y=\"trtbps\", palette=\"viridis\", data=df).set(title='Distribución de la presión sanguínea')\n",
    "\n",
    "sns.boxplot(ax=axes[1,0], y=\"chol\" ,palette=\"viridis\", data=df).set(title='Distribución del colesterol')\n",
    "sns.boxplot(ax=axes[1,1], y=\"thalachh\" ,palette=\"viridis\", data=df).set(title='Distribución del ratio máximo de pulsasiones')\n",
    "\n",
    "sns.boxplot(ax=axes[2,0], y=\"oldpeak\" ,palette=\"viridis\", data=df).set(title='Distribución de la frecuencia cardíaca máxima')\n",
    "sns.boxplot(ax=axes[2,1], y=\"caa\" ,palette=\"viridis\", data=df).set(title='Distribución de los vasos')\n",
    "\n",
    "plt.show()"
   ]
  },
  {
   "cell_type": "code",
   "execution_count": 66,
   "id": "486330d5",
   "metadata": {},
   "outputs": [
    {
     "data": {
      "image/png": "[encoded data removed]",
      "text/plain": [
       "<Figure size 2520x2160 with 6 Axes>"
      ]
     },
     "metadata": {
      "needs_background": "light"
     },
     "output_type": "display_data"
    }
   ],
   "source": [
    "fig, axes = plt.subplots(3, 2, figsize=(35,30))\n",
    "\n",
    "sns.histplot(ax=axes[0,0], x=\"age\", palette=\"viridis\", data=df).set(title='Distribución de la edad')\n",
    "sns.histplot(ax=axes[0,1], x=\"trtbps\", palette=\"viridis\", data=df).set(title='Distribución de la presión sanguínea')\n",
    "\n",
    "sns.histplot(ax=axes[1,0], x=\"chol\" ,palette=\"viridis\", data=df).set(title='Distribución del colesterol')\n",
    "sns.histplot(ax=axes[1,1], x=\"thalachh\" ,palette=\"viridis\", data=df).set(title='Distribución del ratio máximo de pulsasiones')\n",
    "\n",
    "sns.histplot(ax=axes[2,0], x=\"oldpeak\" ,palette=\"viridis\", data=df).set(title='Distribución de la frecuencia cardíaca máxima')\n",
    "sns.histplot(ax=axes[2,1], x=\"caa\" ,palette=\"viridis\", data=df, bins=5).set(title='Distribución de los vasos')\n",
    "\n",
    "plt.show()"
   ]
  },
  {
   "cell_type": "markdown",
   "id": "bf7e8bd1",
   "metadata": {},
   "source": [
    "Definimos la siguiente función para reemplazar aquellos valores que se encuentren por encima del percentil 95 o por debajo del percentil 5, considerados como valores extremos, por la mediana."
   ]
  },
  {
   "cell_type": "code",
   "execution_count": 67,
   "id": "6897e072",
   "metadata": {},
   "outputs": [
    {
     "data": {
      "text/html": [
       "<div>\n",
       "<style scoped>\n",
       "    .dataframe tbody tr th:only-of-type {\n",
       "        vertical-align: middle;\n",
       "    }\n",
       "\n",
       "    .dataframe tbody tr th {\n",
       "        vertical-align: top;\n",
       "    }\n",
       "\n",
       "    .dataframe thead th {\n",
       "        text-align: right;\n",
       "    }\n",
       "</style>\n",
       "<table border=\"1\" class=\"dataframe\">\n",
       "  <thead>\n",
       "    <tr style=\"text-align: right;\">\n",
       "      <th></th>\n",
       "      <th>age</th>\n",
       "      <th>trtbps</th>\n",
       "      <th>chol</th>\n",
       "      <th>thalachh</th>\n",
       "      <th>oldpeak</th>\n",
       "      <th>caa</th>\n",
       "      <th>output</th>\n",
       "    </tr>\n",
       "  </thead>\n",
       "  <tbody>\n",
       "    <tr>\n",
       "      <th>count</th>\n",
       "      <td>301.000000</td>\n",
       "      <td>301.000000</td>\n",
       "      <td>301.000000</td>\n",
       "      <td>301.000000</td>\n",
       "      <td>301.000000</td>\n",
       "      <td>301.000000</td>\n",
       "      <td>301.000000</td>\n",
       "    </tr>\n",
       "    <tr>\n",
       "      <th>mean</th>\n",
       "      <td>54.378738</td>\n",
       "      <td>130.681063</td>\n",
       "      <td>246.504983</td>\n",
       "      <td>149.740864</td>\n",
       "      <td>1.043189</td>\n",
       "      <td>0.734219</td>\n",
       "      <td>0.544850</td>\n",
       "    </tr>\n",
       "    <tr>\n",
       "      <th>std</th>\n",
       "      <td>9.110950</td>\n",
       "      <td>12.712380</td>\n",
       "      <td>51.915998</td>\n",
       "      <td>22.891031</td>\n",
       "      <td>1.163384</td>\n",
       "      <td>1.024268</td>\n",
       "      <td>0.498814</td>\n",
       "    </tr>\n",
       "    <tr>\n",
       "      <th>min</th>\n",
       "      <td>29.000000</td>\n",
       "      <td>108.000000</td>\n",
       "      <td>126.000000</td>\n",
       "      <td>71.000000</td>\n",
       "      <td>0.000000</td>\n",
       "      <td>0.000000</td>\n",
       "      <td>0.000000</td>\n",
       "    </tr>\n",
       "    <tr>\n",
       "      <th>25%</th>\n",
       "      <td>47.000000</td>\n",
       "      <td>120.000000</td>\n",
       "      <td>211.000000</td>\n",
       "      <td>134.000000</td>\n",
       "      <td>0.000000</td>\n",
       "      <td>0.000000</td>\n",
       "      <td>0.000000</td>\n",
       "    </tr>\n",
       "    <tr>\n",
       "      <th>50%</th>\n",
       "      <td>56.000000</td>\n",
       "      <td>130.000000</td>\n",
       "      <td>241.000000</td>\n",
       "      <td>153.000000</td>\n",
       "      <td>0.800000</td>\n",
       "      <td>0.000000</td>\n",
       "      <td>1.000000</td>\n",
       "    </tr>\n",
       "    <tr>\n",
       "      <th>75%</th>\n",
       "      <td>61.000000</td>\n",
       "      <td>140.000000</td>\n",
       "      <td>275.000000</td>\n",
       "      <td>166.000000</td>\n",
       "      <td>1.600000</td>\n",
       "      <td>1.000000</td>\n",
       "      <td>1.000000</td>\n",
       "    </tr>\n",
       "    <tr>\n",
       "      <th>max</th>\n",
       "      <td>77.000000</td>\n",
       "      <td>160.000000</td>\n",
       "      <td>564.000000</td>\n",
       "      <td>202.000000</td>\n",
       "      <td>6.200000</td>\n",
       "      <td>4.000000</td>\n",
       "      <td>1.000000</td>\n",
       "    </tr>\n",
       "  </tbody>\n",
       "</table>\n",
       "</div>"
      ],
      "text/plain": [
       "              age      trtbps        chol    thalachh     oldpeak         caa  \\\n",
       "count  301.000000  301.000000  301.000000  301.000000  301.000000  301.000000   \n",
       "mean    54.378738  130.681063  246.504983  149.740864    1.043189    0.734219   \n",
       "std      9.110950   12.712380   51.915998   22.891031    1.163384    1.024268   \n",
       "min     29.000000  108.000000  126.000000   71.000000    0.000000    0.000000   \n",
       "25%     47.000000  120.000000  211.000000  134.000000    0.000000    0.000000   \n",
       "50%     56.000000  130.000000  241.000000  153.000000    0.800000    0.000000   \n",
       "75%     61.000000  140.000000  275.000000  166.000000    1.600000    1.000000   \n",
       "max     77.000000  160.000000  564.000000  202.000000    6.200000    4.000000   \n",
       "\n",
       "           output  \n",
       "count  301.000000  \n",
       "mean     0.544850  \n",
       "std      0.498814  \n",
       "min      0.000000  \n",
       "25%      0.000000  \n",
       "50%      1.000000  \n",
       "75%      1.000000  \n",
       "max      1.000000  "
      ]
     },
     "execution_count": 67,
     "metadata": {},
     "output_type": "execute_result"
    }
   ],
   "source": [
    "df.describe()"
   ]
  },
  {
   "cell_type": "code",
   "execution_count": 62,
   "id": "e99bf5ba",
   "metadata": {},
   "outputs": [],
   "source": [
    "def replaceOuliers(column):\n",
    "    \"\"\"\n",
    "    \"\"\"\n",
    "    colReplace = np.array(column)\n",
    "    median = np.median(column)\n",
    "    \n",
    "    upper =  np.percentile(np.array(column),95)\n",
    "    lower =  np.percentile(np.array(column),5)\n",
    "    \n",
    "    colReplace[colReplace[:] > upper] = median\n",
    "    colReplace[colReplace[:] < lower] = median\n",
    "    return list(colReplace)"
   ]
  },
  {
   "cell_type": "code",
   "execution_count": 63,
   "id": "0678c09c",
   "metadata": {},
   "outputs": [],
   "source": [
    "df[\"trtbps\"] = replaceOuliers(list(df[\"trtbps\"]))\n",
    "df[\"chol\"] = replaceOuliers(list(df[\"chol\"]))\n",
    "\n"
   ]
  },
  {
   "cell_type": "code",
   "execution_count": 64,
   "id": "f5527407",
   "metadata": {},
   "outputs": [
    {
     "data": {
      "image/png": "[encoded data removed]",
      "text/plain": [
       "<Figure size 2520x2160 with 6 Axes>"
      ]
     },
     "metadata": {
      "needs_background": "light"
     },
     "output_type": "display_data"
    }
   ],
   "source": [
    "fig, axes = plt.subplots(3, 2, figsize=(35,30))\n",
    "\n",
    "sns.boxplot(ax=axes[0,0], y=\"age\", palette=\"viridis\", data=df).set(title='Distribución de la edad')\n",
    "sns.boxplot(ax=axes[0,1], y=\"trtbps\", palette=\"viridis\", data=df).set(title='Distribución de la presión sanguínea')\n",
    "\n",
    "sns.boxplot(ax=axes[1,0], y=\"chol\" ,palette=\"viridis\", data=df).set(title='Distribución del colesterol')\n",
    "sns.boxplot(ax=axes[1,1], y=\"thalachh\" ,palette=\"viridis\", data=df).set(title='Distribución del ratio máximo de pulsasiones')\n",
    "\n",
    "sns.boxplot(ax=axes[2,0], y=\"oldpeak\" ,palette=\"viridis\", data=df).set(title='Distribución de la frecuencia cardíaca máxima')\n",
    "sns.boxplot(ax=axes[2,1], y=\"caa\" ,palette=\"viridis\", data=df).set(title='Distribución de los vasos')\n",
    "\n",
    "plt.show()"
   ]
  },
  {
   "cell_type": "code",
   "execution_count": null,
   "id": "29449934",
   "metadata": {},
   "outputs": [],
   "source": [
    "y=\"trtbps\", palette=\"viridis\", data=df"
   ]
  },
  {
   "cell_type": "markdown",
   "id": "70e59247",
   "metadata": {},
   "source": [
    "Realizamos un análisis exploratorio de datos:\n"
   ]
  },
  {
   "cell_type": "markdown",
   "id": "feb213e6",
   "metadata": {},
   "source": [
    "Revisamos los estadísticos descriptivos de las variables cuantitativas"
   ]
  },
  {
   "cell_type": "code",
   "execution_count": null,
   "id": "2d2094f4",
   "metadata": {},
   "outputs": [],
   "source": [
    "df.describe()"
   ]
  },
  {
   "cell_type": "markdown",
   "id": "440fa077",
   "metadata": {},
   "source": [
    "Analizamos los mismos estadísticos descriptivos pero esta vez haciendo distinción entre los grupos de enfermos y no enfermos del conjunto de datos"
   ]
  },
  {
   "cell_type": "code",
   "execution_count": null,
   "id": "e9ac38af",
   "metadata": {},
   "outputs": [],
   "source": [
    "df[[\"age\",\"trtbps\",\"chol\",\"thalachh\",\"oldpeak\",\"caa\",\"thall\",\"output\"]].groupby(\"output\").describe().T"
   ]
  },
  {
   "cell_type": "code",
   "execution_count": null,
   "id": "e8e30832",
   "metadata": {},
   "outputs": [],
   "source": []
  },
  {
   "cell_type": "code",
   "execution_count": null,
   "id": "6b2ef7ba",
   "metadata": {},
   "outputs": [],
   "source": []
  },
  {
   "cell_type": "markdown",
   "id": "f99dbac8",
   "metadata": {},
   "source": [
    "# 4. Análisis de los datos"
   ]
  },
  {
   "cell_type": "markdown",
   "id": "224a9826",
   "metadata": {},
   "source": [
    "### Análisis Exploratorio de datos"
   ]
  },
  {
   "cell_type": "code",
   "execution_count": 10,
   "id": "c925b9b8",
   "metadata": {},
   "outputs": [
    {
     "data": {
      "text/html": [
       "<div>\n",
       "<style scoped>\n",
       "    .dataframe tbody tr th:only-of-type {\n",
       "        vertical-align: middle;\n",
       "    }\n",
       "\n",
       "    .dataframe tbody tr th {\n",
       "        vertical-align: top;\n",
       "    }\n",
       "\n",
       "    .dataframe thead th {\n",
       "        text-align: right;\n",
       "    }\n",
       "</style>\n",
       "<table border=\"1\" class=\"dataframe\">\n",
       "  <thead>\n",
       "    <tr style=\"text-align: right;\">\n",
       "      <th></th>\n",
       "      <th>age</th>\n",
       "      <th>sex</th>\n",
       "      <th>cp</th>\n",
       "      <th>trestbps</th>\n",
       "      <th>chol</th>\n",
       "      <th>fbs</th>\n",
       "      <th>restecg</th>\n",
       "      <th>thalach</th>\n",
       "      <th>exang</th>\n",
       "      <th>oldpeak</th>\n",
       "      <th>slope</th>\n",
       "      <th>ca</th>\n",
       "      <th>thal</th>\n",
       "      <th>num</th>\n",
       "    </tr>\n",
       "  </thead>\n",
       "  <tbody>\n",
       "    <tr>\n",
       "      <th>0</th>\n",
       "      <td>63.0</td>\n",
       "      <td>Male</td>\n",
       "      <td>atypical angina</td>\n",
       "      <td>145.0</td>\n",
       "      <td>233.0</td>\n",
       "      <td>fastingBloodSugar_true</td>\n",
       "      <td>Left ventricular hypertrophy</td>\n",
       "      <td>150.0</td>\n",
       "      <td>0.0</td>\n",
       "      <td>2.3</td>\n",
       "      <td>3.0</td>\n",
       "      <td>0.0</td>\n",
       "      <td>1.0</td>\n",
       "      <td>0</td>\n",
       "    </tr>\n",
       "    <tr>\n",
       "      <th>1</th>\n",
       "      <td>67.0</td>\n",
       "      <td>Male</td>\n",
       "      <td>typical angina</td>\n",
       "      <td>160.0</td>\n",
       "      <td>286.0</td>\n",
       "      <td>fastingBloodSugar_false</td>\n",
       "      <td>Left ventricular hypertrophy</td>\n",
       "      <td>108.0</td>\n",
       "      <td>1.0</td>\n",
       "      <td>1.5</td>\n",
       "      <td>2.0</td>\n",
       "      <td>3.0</td>\n",
       "      <td>0.0</td>\n",
       "      <td>1</td>\n",
       "    </tr>\n",
       "    <tr>\n",
       "      <th>2</th>\n",
       "      <td>67.0</td>\n",
       "      <td>Male</td>\n",
       "      <td>typical angina</td>\n",
       "      <td>120.0</td>\n",
       "      <td>229.0</td>\n",
       "      <td>fastingBloodSugar_false</td>\n",
       "      <td>Left ventricular hypertrophy</td>\n",
       "      <td>129.0</td>\n",
       "      <td>1.0</td>\n",
       "      <td>2.6</td>\n",
       "      <td>2.0</td>\n",
       "      <td>2.0</td>\n",
       "      <td>2.0</td>\n",
       "      <td>1</td>\n",
       "    </tr>\n",
       "    <tr>\n",
       "      <th>3</th>\n",
       "      <td>37.0</td>\n",
       "      <td>Male</td>\n",
       "      <td>asymptomatic</td>\n",
       "      <td>130.0</td>\n",
       "      <td>250.0</td>\n",
       "      <td>fastingBloodSugar_false</td>\n",
       "      <td>Normal</td>\n",
       "      <td>187.0</td>\n",
       "      <td>0.0</td>\n",
       "      <td>3.5</td>\n",
       "      <td>3.0</td>\n",
       "      <td>0.0</td>\n",
       "      <td>0.0</td>\n",
       "      <td>0</td>\n",
       "    </tr>\n",
       "    <tr>\n",
       "      <th>4</th>\n",
       "      <td>41.0</td>\n",
       "      <td>Female</td>\n",
       "      <td>non-anginal pain</td>\n",
       "      <td>130.0</td>\n",
       "      <td>204.0</td>\n",
       "      <td>fastingBloodSugar_false</td>\n",
       "      <td>Left ventricular hypertrophy</td>\n",
       "      <td>172.0</td>\n",
       "      <td>0.0</td>\n",
       "      <td>1.4</td>\n",
       "      <td>1.0</td>\n",
       "      <td>0.0</td>\n",
       "      <td>0.0</td>\n",
       "      <td>0</td>\n",
       "    </tr>\n",
       "  </tbody>\n",
       "</table>\n",
       "</div>"
      ],
      "text/plain": [
       "    age     sex                cp  trestbps   chol                      fbs  \\\n",
       "0  63.0    Male   atypical angina     145.0  233.0   fastingBloodSugar_true   \n",
       "1  67.0    Male    typical angina     160.0  286.0  fastingBloodSugar_false   \n",
       "2  67.0    Male    typical angina     120.0  229.0  fastingBloodSugar_false   \n",
       "3  37.0    Male      asymptomatic     130.0  250.0  fastingBloodSugar_false   \n",
       "4  41.0  Female  non-anginal pain     130.0  204.0  fastingBloodSugar_false   \n",
       "\n",
       "                        restecg  thalach  exang  oldpeak  slope   ca  thal  \\\n",
       "0  Left ventricular hypertrophy    150.0    0.0      2.3    3.0  0.0   1.0   \n",
       "1  Left ventricular hypertrophy    108.0    1.0      1.5    2.0  3.0   0.0   \n",
       "2  Left ventricular hypertrophy    129.0    1.0      2.6    2.0  2.0   2.0   \n",
       "3                        Normal    187.0    0.0      3.5    3.0  0.0   0.0   \n",
       "4  Left ventricular hypertrophy    172.0    0.0      1.4    1.0  0.0   0.0   \n",
       "\n",
       "   num  \n",
       "0    0  \n",
       "1    1  \n",
       "2    1  \n",
       "3    0  \n",
       "4    0  "
      ]
     },
     "execution_count": 10,
     "metadata": {},
     "output_type": "execute_result"
    }
   ],
   "source": [
    "df.head()"
   ]
  },
  {
   "cell_type": "markdown",
   "id": "4308bece",
   "metadata": {},
   "source": [
    "A continuación se presentan las distribuciones de las variables en función del target o variable a predecir"
   ]
  },
  {
   "cell_type": "markdown",
   "id": "df4cba8b",
   "metadata": {},
   "source": [
    "### Age"
   ]
  },
  {
   "cell_type": "code",
   "execution_count": 59,
   "id": "4c292754",
   "metadata": {},
   "outputs": [
    {
     "data": {
      "image/png": "[encoded data removed]",
      "text/plain": [
       "<Figure size 1080x792 with 4 Axes>"
      ]
     },
     "metadata": {
      "needs_background": "light"
     },
     "output_type": "display_data"
    }
   ],
   "source": [
    "fig, axes = plt.subplots(2, 2, figsize=(15,11))\n",
    "\n",
    "sns.histplot(x=df[\"age\"], ax=axes[0,0]).set(title='Distribución de la edad de los pacientes')\n",
    "sns.histplot(x=df[\"age\"], hue=df[\"num\"], ax=axes[0,1]).set(title='Distribución de la edad de los pacientes en función de la presencia de enfermedad')\n",
    "\n",
    "sns.boxplot(y=df[\"age\"], ax=axes[1,0]).set(title='Distribución de la edad de los pacientes')\n",
    "sns.boxplot(y=df[\"age\"], x=df[\"num\"], ax=axes[1,1]).set(title='Distribución de la edad de los pacientes en función de la presencia de enfermedad')\n",
    "\n",
    "plt.show()"
   ]
  },
  {
   "cell_type": "code",
   "execution_count": 41,
   "id": "29c367ff",
   "metadata": {},
   "outputs": [
    {
     "data": {
      "text/html": [
       "<div>\n",
       "<style scoped>\n",
       "    .dataframe tbody tr th:only-of-type {\n",
       "        vertical-align: middle;\n",
       "    }\n",
       "\n",
       "    .dataframe tbody tr th {\n",
       "        vertical-align: top;\n",
       "    }\n",
       "\n",
       "    .dataframe thead th {\n",
       "        text-align: right;\n",
       "    }\n",
       "</style>\n",
       "<table border=\"1\" class=\"dataframe\">\n",
       "  <thead>\n",
       "    <tr style=\"text-align: right;\">\n",
       "      <th></th>\n",
       "      <th>num</th>\n",
       "      <th>0</th>\n",
       "      <th>1</th>\n",
       "    </tr>\n",
       "  </thead>\n",
       "  <tbody>\n",
       "    <tr>\n",
       "      <th rowspan=\"8\" valign=\"top\">age</th>\n",
       "      <th>count</th>\n",
       "      <td>164.000000</td>\n",
       "      <td>139.000000</td>\n",
       "    </tr>\n",
       "    <tr>\n",
       "      <th>mean</th>\n",
       "      <td>52.585366</td>\n",
       "      <td>56.625899</td>\n",
       "    </tr>\n",
       "    <tr>\n",
       "      <th>std</th>\n",
       "      <td>9.511957</td>\n",
       "      <td>7.938416</td>\n",
       "    </tr>\n",
       "    <tr>\n",
       "      <th>min</th>\n",
       "      <td>29.000000</td>\n",
       "      <td>35.000000</td>\n",
       "    </tr>\n",
       "    <tr>\n",
       "      <th>25%</th>\n",
       "      <td>44.750000</td>\n",
       "      <td>52.000000</td>\n",
       "    </tr>\n",
       "    <tr>\n",
       "      <th>50%</th>\n",
       "      <td>52.000000</td>\n",
       "      <td>58.000000</td>\n",
       "    </tr>\n",
       "    <tr>\n",
       "      <th>75%</th>\n",
       "      <td>59.000000</td>\n",
       "      <td>62.000000</td>\n",
       "    </tr>\n",
       "    <tr>\n",
       "      <th>max</th>\n",
       "      <td>76.000000</td>\n",
       "      <td>77.000000</td>\n",
       "    </tr>\n",
       "  </tbody>\n",
       "</table>\n",
       "</div>"
      ],
      "text/plain": [
       "num                 0           1\n",
       "age count  164.000000  139.000000\n",
       "    mean    52.585366   56.625899\n",
       "    std      9.511957    7.938416\n",
       "    min     29.000000   35.000000\n",
       "    25%     44.750000   52.000000\n",
       "    50%     52.000000   58.000000\n",
       "    75%     59.000000   62.000000\n",
       "    max     76.000000   77.000000"
      ]
     },
     "execution_count": 41,
     "metadata": {},
     "output_type": "execute_result"
    }
   ],
   "source": [
    "df[[\"age\",\"num\"]].groupby(\"num\").describe().T"
   ]
  },
  {
   "cell_type": "markdown",
   "id": "e8581e33",
   "metadata": {},
   "source": [
    "Se puede observar comparando las distribuciones, que la mediana y el promedio de la edad de las personas que enferman es mayor que las personas sanas. "
   ]
  },
  {
   "cell_type": "markdown",
   "id": "2eaba1e2",
   "metadata": {},
   "source": [
    "### Sex"
   ]
  },
  {
   "cell_type": "code",
   "execution_count": 28,
   "id": "d4457a9a",
   "metadata": {},
   "outputs": [
    {
     "data": {
      "image/png": "[encoded data removed]",
      "text/plain": [
       "<Figure size 1080x576 with 2 Axes>"
      ]
     },
     "metadata": {
      "needs_background": "light"
     },
     "output_type": "display_data"
    }
   ],
   "source": [
    "fig, axes = plt.subplots(1, 2, figsize=(15,8))\n",
    "\n",
    "sns.countplot(x=df[\"sex\"], ax=axes[0]).set(title='Frecuencias del género')\n",
    "\n",
    "sns.countplot(x=df[\"sex\"], hue=df[\"num\"], ax=axes[1]).set(title='Frecuencias del género en función de la presencia de enfermedad')\n",
    "\n",
    "plt.show()"
   ]
  },
  {
   "cell_type": "code",
   "execution_count": 45,
   "id": "d28bb4c6",
   "metadata": {},
   "outputs": [
    {
     "data": {
      "text/html": [
       "<div>\n",
       "<style scoped>\n",
       "    .dataframe tbody tr th:only-of-type {\n",
       "        vertical-align: middle;\n",
       "    }\n",
       "\n",
       "    .dataframe tbody tr th {\n",
       "        vertical-align: top;\n",
       "    }\n",
       "\n",
       "    .dataframe thead th {\n",
       "        text-align: right;\n",
       "    }\n",
       "</style>\n",
       "<table border=\"1\" class=\"dataframe\">\n",
       "  <thead>\n",
       "    <tr style=\"text-align: right;\">\n",
       "      <th>num</th>\n",
       "      <th>0</th>\n",
       "      <th>1</th>\n",
       "    </tr>\n",
       "    <tr>\n",
       "      <th>sex</th>\n",
       "      <th></th>\n",
       "      <th></th>\n",
       "    </tr>\n",
       "  </thead>\n",
       "  <tbody>\n",
       "    <tr>\n",
       "      <th>Female</th>\n",
       "      <td>0.237624</td>\n",
       "      <td>0.082508</td>\n",
       "    </tr>\n",
       "    <tr>\n",
       "      <th>Male</th>\n",
       "      <td>0.303630</td>\n",
       "      <td>0.376238</td>\n",
       "    </tr>\n",
       "  </tbody>\n",
       "</table>\n",
       "</div>"
      ],
      "text/plain": [
       "num            0         1\n",
       "sex                       \n",
       "Female  0.237624  0.082508\n",
       "Male    0.303630  0.376238"
      ]
     },
     "execution_count": 45,
     "metadata": {},
     "output_type": "execute_result"
    }
   ],
   "source": [
    "pd.crosstab(index= df[\"sex\"], columns=df[\"num\"], normalize=True)"
   ]
  },
  {
   "cell_type": "markdown",
   "id": "a4ca3b51",
   "metadata": {},
   "source": [
    "Se observa que la proporción de mujeres que enferman es baja dentro de la muestra estudiada"
   ]
  },
  {
   "cell_type": "markdown",
   "id": "d7e12333",
   "metadata": {},
   "source": [
    "### CP"
   ]
  },
  {
   "cell_type": "code",
   "execution_count": 48,
   "id": "0d9bfc52",
   "metadata": {},
   "outputs": [
    {
     "data": {
      "image/png": "[encoded data removed]",
      "text/plain": [
       "<Figure size 1080x576 with 2 Axes>"
      ]
     },
     "metadata": {
      "needs_background": "light"
     },
     "output_type": "display_data"
    }
   ],
   "source": [
    "fig, axes = plt.subplots(1, 2, figsize=(15,8))\n",
    "\n",
    "sns.countplot(x=df[\"cp\"], ax=axes[0]).set(title='Frecuencias de los tipos de dolor en el pecho')\n",
    "\n",
    "sns.countplot(x=df[\"cp\"], hue=df[\"num\"], ax=axes[1]).set(title='Frecuencias de los tipos de dolor en el pecho en función de la presencia de enfermedad')\n",
    "\n",
    "plt.show()"
   ]
  },
  {
   "cell_type": "code",
   "execution_count": 49,
   "id": "081fadaf",
   "metadata": {},
   "outputs": [
    {
     "data": {
      "text/html": [
       "<div>\n",
       "<style scoped>\n",
       "    .dataframe tbody tr th:only-of-type {\n",
       "        vertical-align: middle;\n",
       "    }\n",
       "\n",
       "    .dataframe tbody tr th {\n",
       "        vertical-align: top;\n",
       "    }\n",
       "\n",
       "    .dataframe thead th {\n",
       "        text-align: right;\n",
       "    }\n",
       "</style>\n",
       "<table border=\"1\" class=\"dataframe\">\n",
       "  <thead>\n",
       "    <tr style=\"text-align: right;\">\n",
       "      <th>num</th>\n",
       "      <th>0</th>\n",
       "      <th>1</th>\n",
       "    </tr>\n",
       "    <tr>\n",
       "      <th>cp</th>\n",
       "      <th></th>\n",
       "      <th></th>\n",
       "    </tr>\n",
       "  </thead>\n",
       "  <tbody>\n",
       "    <tr>\n",
       "      <th>asymptomatic</th>\n",
       "      <td>0.224422</td>\n",
       "      <td>0.059406</td>\n",
       "    </tr>\n",
       "    <tr>\n",
       "      <th>atypical angina</th>\n",
       "      <td>0.052805</td>\n",
       "      <td>0.023102</td>\n",
       "    </tr>\n",
       "    <tr>\n",
       "      <th>non-anginal pain</th>\n",
       "      <td>0.135314</td>\n",
       "      <td>0.029703</td>\n",
       "    </tr>\n",
       "    <tr>\n",
       "      <th>typical angina</th>\n",
       "      <td>0.128713</td>\n",
       "      <td>0.346535</td>\n",
       "    </tr>\n",
       "  </tbody>\n",
       "</table>\n",
       "</div>"
      ],
      "text/plain": [
       "num                      0         1\n",
       "cp                                  \n",
       "asymptomatic      0.224422  0.059406\n",
       "atypical angina   0.052805  0.023102\n",
       "non-anginal pain  0.135314  0.029703\n",
       "typical angina    0.128713  0.346535"
      ]
     },
     "execution_count": 49,
     "metadata": {},
     "output_type": "execute_result"
    }
   ],
   "source": [
    "pd.crosstab(index= df[\"cp\"], columns=df[\"num\"], normalize=True)"
   ]
  },
  {
   "cell_type": "markdown",
   "id": "7cf591c5",
   "metadata": {},
   "source": [
    "La angina típica para ser el tipo de dolor más asociado a la presencia de la enfermedad"
   ]
  },
  {
   "cell_type": "markdown",
   "id": "6ac19623",
   "metadata": {},
   "source": [
    "### trestbps"
   ]
  },
  {
   "cell_type": "code",
   "execution_count": 58,
   "id": "6da27a05",
   "metadata": {},
   "outputs": [
    {
     "data": {
      "image/png": "[encoded data removed]",
      "text/plain": [
       "<Figure size 1080x792 with 4 Axes>"
      ]
     },
     "metadata": {
      "needs_background": "light"
     },
     "output_type": "display_data"
    }
   ],
   "source": [
    "fig, axes = plt.subplots(2, 2, figsize=(15,11))\n",
    "\n",
    "sns.histplot(x=df[\"trestbps\"], ax=axes[0,0]).set(title='Distribución de la presión sanguínea')\n",
    "sns.histplot(x=df[\"trestbps\"], hue=df[\"num\"], ax=axes[0,1]).set(title='Distribución de la la presión sanguínea en función de la presencia de enfermedad')\n",
    "\n",
    "sns.boxplot(y=df[\"trestbps\"], ax=axes[1,0]).set(title='Distribución de la presión sanguínea')\n",
    "sns.boxplot(y=df[\"trestbps\"], x=df[\"num\"], ax=axes[1,1]).set(title='Distribución de la presión sanguínea en función de la presencia de enfermedad')\n",
    "\n",
    "plt.show()"
   ]
  },
  {
   "cell_type": "code",
   "execution_count": 54,
   "id": "b06164b2",
   "metadata": {},
   "outputs": [
    {
     "data": {
      "text/html": [
       "<div>\n",
       "<style scoped>\n",
       "    .dataframe tbody tr th:only-of-type {\n",
       "        vertical-align: middle;\n",
       "    }\n",
       "\n",
       "    .dataframe tbody tr th {\n",
       "        vertical-align: top;\n",
       "    }\n",
       "\n",
       "    .dataframe thead th {\n",
       "        text-align: right;\n",
       "    }\n",
       "</style>\n",
       "<table border=\"1\" class=\"dataframe\">\n",
       "  <thead>\n",
       "    <tr style=\"text-align: right;\">\n",
       "      <th></th>\n",
       "      <th>num</th>\n",
       "      <th>0</th>\n",
       "      <th>1</th>\n",
       "    </tr>\n",
       "  </thead>\n",
       "  <tbody>\n",
       "    <tr>\n",
       "      <th rowspan=\"8\" valign=\"top\">trestbps</th>\n",
       "      <th>count</th>\n",
       "      <td>164.000000</td>\n",
       "      <td>139.000000</td>\n",
       "    </tr>\n",
       "    <tr>\n",
       "      <th>mean</th>\n",
       "      <td>129.250000</td>\n",
       "      <td>134.568345</td>\n",
       "    </tr>\n",
       "    <tr>\n",
       "      <th>std</th>\n",
       "      <td>16.204739</td>\n",
       "      <td>18.769019</td>\n",
       "    </tr>\n",
       "    <tr>\n",
       "      <th>min</th>\n",
       "      <td>94.000000</td>\n",
       "      <td>100.000000</td>\n",
       "    </tr>\n",
       "    <tr>\n",
       "      <th>25%</th>\n",
       "      <td>120.000000</td>\n",
       "      <td>120.000000</td>\n",
       "    </tr>\n",
       "    <tr>\n",
       "      <th>50%</th>\n",
       "      <td>130.000000</td>\n",
       "      <td>130.000000</td>\n",
       "    </tr>\n",
       "    <tr>\n",
       "      <th>75%</th>\n",
       "      <td>140.000000</td>\n",
       "      <td>145.000000</td>\n",
       "    </tr>\n",
       "    <tr>\n",
       "      <th>max</th>\n",
       "      <td>180.000000</td>\n",
       "      <td>200.000000</td>\n",
       "    </tr>\n",
       "  </tbody>\n",
       "</table>\n",
       "</div>"
      ],
      "text/plain": [
       "num                      0           1\n",
       "trestbps count  164.000000  139.000000\n",
       "         mean   129.250000  134.568345\n",
       "         std     16.204739   18.769019\n",
       "         min     94.000000  100.000000\n",
       "         25%    120.000000  120.000000\n",
       "         50%    130.000000  130.000000\n",
       "         75%    140.000000  145.000000\n",
       "         max    180.000000  200.000000"
      ]
     },
     "execution_count": 54,
     "metadata": {},
     "output_type": "execute_result"
    }
   ],
   "source": [
    "df[[\"trestbps\",\"num\"]].groupby(\"num\").describe().T"
   ]
  },
  {
   "cell_type": "markdown",
   "id": "e0b64aa5",
   "metadata": {},
   "source": [
    "Parece no haber grandes diferencias en los estadísticos de tendencia central en las distribuciones de las presión sanguínea entre personas enfermas y sanas"
   ]
  },
  {
   "cell_type": "markdown",
   "id": "9be859e0",
   "metadata": {},
   "source": [
    "### Chol"
   ]
  },
  {
   "cell_type": "code",
   "execution_count": 57,
   "id": "5a50df96",
   "metadata": {},
   "outputs": [
    {
     "data": {
      "image/png": "[encoded data removed]",
      "text/plain": [
       "<Figure size 1080x792 with 4 Axes>"
      ]
     },
     "metadata": {
      "needs_background": "light"
     },
     "output_type": "display_data"
    }
   ],
   "source": [
    "fig, axes = plt.subplots(2, 2, figsize=(15,11))\n",
    "\n",
    "sns.histplot(x=df[\"chol\"], ax=axes[0,0]).set(title='Distribución del colesterol')\n",
    "sns.histplot(x=df[\"chol\"], hue=df[\"num\"], ax=axes[0,1]).set(title='Distribución del colesterol en función de la presencia de enfermedad')\n",
    "\n",
    "sns.boxplot(y=df[\"chol\"], ax=axes[1,0]).set(title='Distribución del colesterol')\n",
    "sns.boxplot(y=df[\"chol\"], x=df[\"num\"], ax=axes[1,1]).set(title='Distribución del colesterol en función de la presencia de enfermedad')\n",
    "\n",
    "plt.show()"
   ]
  },
  {
   "cell_type": "code",
   "execution_count": 60,
   "id": "7fbc2f2b",
   "metadata": {},
   "outputs": [
    {
     "data": {
      "text/html": [
       "<div>\n",
       "<style scoped>\n",
       "    .dataframe tbody tr th:only-of-type {\n",
       "        vertical-align: middle;\n",
       "    }\n",
       "\n",
       "    .dataframe tbody tr th {\n",
       "        vertical-align: top;\n",
       "    }\n",
       "\n",
       "    .dataframe thead th {\n",
       "        text-align: right;\n",
       "    }\n",
       "</style>\n",
       "<table border=\"1\" class=\"dataframe\">\n",
       "  <thead>\n",
       "    <tr style=\"text-align: right;\">\n",
       "      <th></th>\n",
       "      <th>num</th>\n",
       "      <th>0</th>\n",
       "      <th>1</th>\n",
       "    </tr>\n",
       "  </thead>\n",
       "  <tbody>\n",
       "    <tr>\n",
       "      <th rowspan=\"8\" valign=\"top\">chol</th>\n",
       "      <th>count</th>\n",
       "      <td>164.000000</td>\n",
       "      <td>139.000000</td>\n",
       "    </tr>\n",
       "    <tr>\n",
       "      <th>mean</th>\n",
       "      <td>242.640244</td>\n",
       "      <td>251.474820</td>\n",
       "    </tr>\n",
       "    <tr>\n",
       "      <th>std</th>\n",
       "      <td>53.456580</td>\n",
       "      <td>49.486835</td>\n",
       "    </tr>\n",
       "    <tr>\n",
       "      <th>min</th>\n",
       "      <td>126.000000</td>\n",
       "      <td>131.000000</td>\n",
       "    </tr>\n",
       "    <tr>\n",
       "      <th>25%</th>\n",
       "      <td>208.750000</td>\n",
       "      <td>217.500000</td>\n",
       "    </tr>\n",
       "    <tr>\n",
       "      <th>50%</th>\n",
       "      <td>234.500000</td>\n",
       "      <td>249.000000</td>\n",
       "    </tr>\n",
       "    <tr>\n",
       "      <th>75%</th>\n",
       "      <td>267.250000</td>\n",
       "      <td>283.500000</td>\n",
       "    </tr>\n",
       "    <tr>\n",
       "      <th>max</th>\n",
       "      <td>564.000000</td>\n",
       "      <td>409.000000</td>\n",
       "    </tr>\n",
       "  </tbody>\n",
       "</table>\n",
       "</div>"
      ],
      "text/plain": [
       "num                  0           1\n",
       "chol count  164.000000  139.000000\n",
       "     mean   242.640244  251.474820\n",
       "     std     53.456580   49.486835\n",
       "     min    126.000000  131.000000\n",
       "     25%    208.750000  217.500000\n",
       "     50%    234.500000  249.000000\n",
       "     75%    267.250000  283.500000\n",
       "     max    564.000000  409.000000"
      ]
     },
     "execution_count": 60,
     "metadata": {},
     "output_type": "execute_result"
    }
   ],
   "source": [
    "df[[\"chol\",\"num\"]].groupby(\"num\").describe().T"
   ]
  },
  {
   "cell_type": "markdown",
   "id": "bb781d0d",
   "metadata": {},
   "source": [
    "El nivel de colesterol, en promedio, es más elevado en las personas que presentan la enfermedad"
   ]
  },
  {
   "cell_type": "markdown",
   "id": "8cbdf150",
   "metadata": {},
   "source": [
    "### fbs"
   ]
  },
  {
   "cell_type": "code",
   "execution_count": 62,
   "id": "e33bf1b5",
   "metadata": {},
   "outputs": [
    {
     "data": {
      "image/png": "[encoded data removed]",
      "text/plain": [
       "<Figure size 1080x576 with 2 Axes>"
      ]
     },
     "metadata": {
      "needs_background": "light"
     },
     "output_type": "display_data"
    }
   ],
   "source": [
    "fig, axes = plt.subplots(1, 2, figsize=(15,8))\n",
    "\n",
    "sns.countplot(x=df[\"fbs\"], ax=axes[0]).set(title='Frecuencias de los tipos de dolor en el pecho')\n",
    "\n",
    "sns.countplot(x=df[\"fbs\"], hue=df[\"num\"], ax=axes[1]).set(title='Frecuencias de los tipos de dolor en el pecho en función de la presencia de enfermedad')\n",
    "\n",
    "plt.show()"
   ]
  },
  {
   "cell_type": "code",
   "execution_count": 63,
   "id": "e210a81f",
   "metadata": {},
   "outputs": [
    {
     "data": {
      "text/html": [
       "<div>\n",
       "<style scoped>\n",
       "    .dataframe tbody tr th:only-of-type {\n",
       "        vertical-align: middle;\n",
       "    }\n",
       "\n",
       "    .dataframe tbody tr th {\n",
       "        vertical-align: top;\n",
       "    }\n",
       "\n",
       "    .dataframe thead th {\n",
       "        text-align: right;\n",
       "    }\n",
       "</style>\n",
       "<table border=\"1\" class=\"dataframe\">\n",
       "  <thead>\n",
       "    <tr style=\"text-align: right;\">\n",
       "      <th>num</th>\n",
       "      <th>0</th>\n",
       "      <th>1</th>\n",
       "    </tr>\n",
       "    <tr>\n",
       "      <th>fbs</th>\n",
       "      <th></th>\n",
       "      <th></th>\n",
       "    </tr>\n",
       "  </thead>\n",
       "  <tbody>\n",
       "    <tr>\n",
       "      <th>fastingBloodSugar_false</th>\n",
       "      <td>0.465347</td>\n",
       "      <td>0.386139</td>\n",
       "    </tr>\n",
       "    <tr>\n",
       "      <th>fastingBloodSugar_true</th>\n",
       "      <td>0.075908</td>\n",
       "      <td>0.072607</td>\n",
       "    </tr>\n",
       "  </tbody>\n",
       "</table>\n",
       "</div>"
      ],
      "text/plain": [
       "num                             0         1\n",
       "fbs                                        \n",
       "fastingBloodSugar_false  0.465347  0.386139\n",
       "fastingBloodSugar_true   0.075908  0.072607"
      ]
     },
     "execution_count": 63,
     "metadata": {},
     "output_type": "execute_result"
    }
   ],
   "source": [
    "pd.crosstab(index= df[\"fbs\"], columns=df[\"num\"], normalize=True)"
   ]
  },
  {
   "cell_type": "code",
   "execution_count": null,
   "id": "5086b0b9",
   "metadata": {},
   "outputs": [],
   "source": []
  },
  {
   "cell_type": "markdown",
   "id": "99a2bace",
   "metadata": {},
   "source": [
    "### restecg"
   ]
  },
  {
   "cell_type": "code",
   "execution_count": 64,
   "id": "791e2fb9",
   "metadata": {},
   "outputs": [
    {
     "data": {
      "image/png": "[encoded data removed]",
      "text/plain": [
       "<Figure size 1080x576 with 2 Axes>"
      ]
     },
     "metadata": {
      "needs_background": "light"
     },
     "output_type": "display_data"
    }
   ],
   "source": [
    "fig, axes = plt.subplots(1, 2, figsize=(15,8))\n",
    "\n",
    "sns.countplot(x=df[\"restecg\"], ax=axes[0]).set(title='Frecuencias de los tipos de dolor en el pecho')\n",
    "\n",
    "sns.countplot(x=df[\"restecg\"], hue=df[\"num\"], ax=axes[1]).set(title='Frecuencias de los tipos de dolor en el pecho en función de la presencia de enfermedad')\n",
    "\n",
    "plt.show()"
   ]
  },
  {
   "cell_type": "code",
   "execution_count": 65,
   "id": "1814a6fe",
   "metadata": {},
   "outputs": [
    {
     "data": {
      "text/html": [
       "<div>\n",
       "<style scoped>\n",
       "    .dataframe tbody tr th:only-of-type {\n",
       "        vertical-align: middle;\n",
       "    }\n",
       "\n",
       "    .dataframe tbody tr th {\n",
       "        vertical-align: top;\n",
       "    }\n",
       "\n",
       "    .dataframe thead th {\n",
       "        text-align: right;\n",
       "    }\n",
       "</style>\n",
       "<table border=\"1\" class=\"dataframe\">\n",
       "  <thead>\n",
       "    <tr style=\"text-align: right;\">\n",
       "      <th>num</th>\n",
       "      <th>0</th>\n",
       "      <th>1</th>\n",
       "    </tr>\n",
       "    <tr>\n",
       "      <th>restecg</th>\n",
       "      <th></th>\n",
       "      <th></th>\n",
       "    </tr>\n",
       "  </thead>\n",
       "  <tbody>\n",
       "    <tr>\n",
       "      <th>Left ventricular hypertrophy</th>\n",
       "      <td>0.224422</td>\n",
       "      <td>0.264026</td>\n",
       "    </tr>\n",
       "    <tr>\n",
       "      <th>Normal</th>\n",
       "      <td>0.313531</td>\n",
       "      <td>0.184818</td>\n",
       "    </tr>\n",
       "    <tr>\n",
       "      <th>ST-T wave abnormality</th>\n",
       "      <td>0.003300</td>\n",
       "      <td>0.009901</td>\n",
       "    </tr>\n",
       "  </tbody>\n",
       "</table>\n",
       "</div>"
      ],
      "text/plain": [
       "num                                  0         1\n",
       "restecg                                         \n",
       "Left ventricular hypertrophy  0.224422  0.264026\n",
       "Normal                        0.313531  0.184818\n",
       "ST-T wave abnormality         0.003300  0.009901"
      ]
     },
     "execution_count": 65,
     "metadata": {},
     "output_type": "execute_result"
    }
   ],
   "source": [
    "pd.crosstab(index= df[\"restecg\"], columns=df[\"num\"], normalize=True)"
   ]
  },
  {
   "cell_type": "code",
   "execution_count": null,
   "id": "0a4e9e9c",
   "metadata": {},
   "outputs": [],
   "source": []
  },
  {
   "cell_type": "markdown",
   "id": "7da52730",
   "metadata": {},
   "source": [
    "### thalach"
   ]
  },
  {
   "cell_type": "code",
   "execution_count": 66,
   "id": "d47c313e",
   "metadata": {},
   "outputs": [
    {
     "data": {
      "image/png": "[encoded data removed]",
      "text/plain": [
       "<Figure size 1080x792 with 4 Axes>"
      ]
     },
     "metadata": {
      "needs_background": "light"
     },
     "output_type": "display_data"
    }
   ],
   "source": [
    "fig, axes = plt.subplots(2, 2, figsize=(15,11))\n",
    "\n",
    "sns.histplot(x=df[\"thalach\"], ax=axes[0,0]).set(title='Distribución de la presión sanguínea')\n",
    "sns.histplot(x=df[\"thalach\"], hue=df[\"num\"], ax=axes[0,1]).set(title='Distribución de la la presión sanguínea en función de la presencia de enfermedad')\n",
    "\n",
    "sns.boxplot(y=df[\"thalach\"], ax=axes[1,0]).set(title='Distribución de la presión sanguínea')\n",
    "sns.boxplot(y=df[\"thalach\"], x=df[\"num\"], ax=axes[1,1]).set(title='Distribución de la presión sanguínea en función de la presencia de enfermedad')\n",
    "\n",
    "plt.show()"
   ]
  },
  {
   "cell_type": "code",
   "execution_count": null,
   "id": "76e129b7",
   "metadata": {},
   "outputs": [],
   "source": []
  },
  {
   "cell_type": "code",
   "execution_count": null,
   "id": "74382769",
   "metadata": {},
   "outputs": [],
   "source": []
  },
  {
   "cell_type": "code",
   "execution_count": 50,
   "id": "7d662533",
   "metadata": {
    "scrolled": true
   },
   "outputs": [
    {
     "data": {
      "text/html": [
       "<div>\n",
       "<style scoped>\n",
       "    .dataframe tbody tr th:only-of-type {\n",
       "        vertical-align: middle;\n",
       "    }\n",
       "\n",
       "    .dataframe tbody tr th {\n",
       "        vertical-align: top;\n",
       "    }\n",
       "\n",
       "    .dataframe thead th {\n",
       "        text-align: right;\n",
       "    }\n",
       "</style>\n",
       "<table border=\"1\" class=\"dataframe\">\n",
       "  <thead>\n",
       "    <tr style=\"text-align: right;\">\n",
       "      <th></th>\n",
       "      <th>age</th>\n",
       "      <th>sex</th>\n",
       "      <th>cp</th>\n",
       "      <th>trestbps</th>\n",
       "      <th>chol</th>\n",
       "      <th>fbs</th>\n",
       "      <th>restecg</th>\n",
       "      <th>thalach</th>\n",
       "      <th>exang</th>\n",
       "      <th>oldpeak</th>\n",
       "      <th>slope</th>\n",
       "      <th>ca</th>\n",
       "      <th>thal</th>\n",
       "      <th>num</th>\n",
       "    </tr>\n",
       "  </thead>\n",
       "  <tbody>\n",
       "    <tr>\n",
       "      <th>0</th>\n",
       "      <td>63.0</td>\n",
       "      <td>Male</td>\n",
       "      <td>atypical angina</td>\n",
       "      <td>145.0</td>\n",
       "      <td>233.0</td>\n",
       "      <td>fastingBloodSugar_true</td>\n",
       "      <td>Left ventricular hypertrophy</td>\n",
       "      <td>150.0</td>\n",
       "      <td>0.0</td>\n",
       "      <td>2.3</td>\n",
       "      <td>3.0</td>\n",
       "      <td>0.0</td>\n",
       "      <td>1.0</td>\n",
       "      <td>0</td>\n",
       "    </tr>\n",
       "    <tr>\n",
       "      <th>1</th>\n",
       "      <td>67.0</td>\n",
       "      <td>Male</td>\n",
       "      <td>typical angina</td>\n",
       "      <td>160.0</td>\n",
       "      <td>286.0</td>\n",
       "      <td>fastingBloodSugar_false</td>\n",
       "      <td>Left ventricular hypertrophy</td>\n",
       "      <td>108.0</td>\n",
       "      <td>1.0</td>\n",
       "      <td>1.5</td>\n",
       "      <td>2.0</td>\n",
       "      <td>3.0</td>\n",
       "      <td>0.0</td>\n",
       "      <td>1</td>\n",
       "    </tr>\n",
       "    <tr>\n",
       "      <th>2</th>\n",
       "      <td>67.0</td>\n",
       "      <td>Male</td>\n",
       "      <td>typical angina</td>\n",
       "      <td>120.0</td>\n",
       "      <td>229.0</td>\n",
       "      <td>fastingBloodSugar_false</td>\n",
       "      <td>Left ventricular hypertrophy</td>\n",
       "      <td>129.0</td>\n",
       "      <td>1.0</td>\n",
       "      <td>2.6</td>\n",
       "      <td>2.0</td>\n",
       "      <td>2.0</td>\n",
       "      <td>2.0</td>\n",
       "      <td>1</td>\n",
       "    </tr>\n",
       "    <tr>\n",
       "      <th>3</th>\n",
       "      <td>37.0</td>\n",
       "      <td>Male</td>\n",
       "      <td>asymptomatic</td>\n",
       "      <td>130.0</td>\n",
       "      <td>250.0</td>\n",
       "      <td>fastingBloodSugar_false</td>\n",
       "      <td>Normal</td>\n",
       "      <td>187.0</td>\n",
       "      <td>0.0</td>\n",
       "      <td>3.5</td>\n",
       "      <td>3.0</td>\n",
       "      <td>0.0</td>\n",
       "      <td>0.0</td>\n",
       "      <td>0</td>\n",
       "    </tr>\n",
       "    <tr>\n",
       "      <th>4</th>\n",
       "      <td>41.0</td>\n",
       "      <td>Female</td>\n",
       "      <td>non-anginal pain</td>\n",
       "      <td>130.0</td>\n",
       "      <td>204.0</td>\n",
       "      <td>fastingBloodSugar_false</td>\n",
       "      <td>Left ventricular hypertrophy</td>\n",
       "      <td>172.0</td>\n",
       "      <td>0.0</td>\n",
       "      <td>1.4</td>\n",
       "      <td>1.0</td>\n",
       "      <td>0.0</td>\n",
       "      <td>0.0</td>\n",
       "      <td>0</td>\n",
       "    </tr>\n",
       "  </tbody>\n",
       "</table>\n",
       "</div>"
      ],
      "text/plain": [
       "    age     sex                cp  trestbps   chol                      fbs  \\\n",
       "0  63.0    Male   atypical angina     145.0  233.0   fastingBloodSugar_true   \n",
       "1  67.0    Male    typical angina     160.0  286.0  fastingBloodSugar_false   \n",
       "2  67.0    Male    typical angina     120.0  229.0  fastingBloodSugar_false   \n",
       "3  37.0    Male      asymptomatic     130.0  250.0  fastingBloodSugar_false   \n",
       "4  41.0  Female  non-anginal pain     130.0  204.0  fastingBloodSugar_false   \n",
       "\n",
       "                        restecg  thalach  exang  oldpeak  slope   ca  thal  \\\n",
       "0  Left ventricular hypertrophy    150.0    0.0      2.3    3.0  0.0   1.0   \n",
       "1  Left ventricular hypertrophy    108.0    1.0      1.5    2.0  3.0   0.0   \n",
       "2  Left ventricular hypertrophy    129.0    1.0      2.6    2.0  2.0   2.0   \n",
       "3                        Normal    187.0    0.0      3.5    3.0  0.0   0.0   \n",
       "4  Left ventricular hypertrophy    172.0    0.0      1.4    1.0  0.0   0.0   \n",
       "\n",
       "   num  \n",
       "0    0  \n",
       "1    1  \n",
       "2    1  \n",
       "3    0  \n",
       "4    0  "
      ]
     },
     "execution_count": 50,
     "metadata": {},
     "output_type": "execute_result"
    }
   ],
   "source": [
    "df.head()"
   ]
  },
  {
   "cell_type": "markdown",
   "id": "2e5658d4",
   "metadata": {},
   "source": [
    "## 4.1. Selección de los grupos de datos que se quieren analizar/comparar \n",
    "**(p.ej., si se van a comparar grupos de datos, ¿cuáles son estos grupos y\n",
    "qué tipo de análisis se van a aplicar?)**"
   ]
  },
  {
   "cell_type": "markdown",
   "id": "b8651131",
   "metadata": {},
   "source": [
    "A lo largo de la presente investigación se van a comparar los grupos de pacientes enfermos y pacientes sanos"
   ]
  },
  {
   "cell_type": "markdown",
   "id": "52c1ae23",
   "metadata": {},
   "source": [
    "## 4.2. Comprobación de la normalidad y homogeneidad de la varianza"
   ]
  },
  {
   "cell_type": "markdown",
   "id": "81157131",
   "metadata": {},
   "source": [
    "Definimos una función para realizar los contrastes de homogenidad de varianza de forma más efectiva:"
   ]
  },
  {
   "cell_type": "code",
   "execution_count": 72,
   "id": "55d73185",
   "metadata": {},
   "outputs": [],
   "source": [
    "def testLevene(listA, listB):\n",
    "    \"\"\"\n",
    "    listA: list type to compare variance \n",
    "    listB: list type to compare variance\n",
    "    \n",
    "    \"\"\"\n",
    "    \n",
    "    a = np.array(listA)\n",
    "    b = np.array(listB)\n",
    "    stat, p = levene(a, b)\n",
    "    \n",
    "    if p < 0.05:\n",
    "        print(\"Variances not equal, p value: {}\".format(p))\n",
    "    else:\n",
    "        print(\"Variances equal, p value: {}\".format(p))\n",
    "    \n",
    "    "
   ]
  },
  {
   "cell_type": "markdown",
   "id": "a28142d5",
   "metadata": {},
   "source": [
    "Separamos los datos en enfermos y sanos para facilitar los contrastes:"
   ]
  },
  {
   "cell_type": "code",
   "execution_count": 73,
   "id": "be2661a1",
   "metadata": {},
   "outputs": [],
   "source": [
    "df_sick = df[df[\"num\"] == 1] \n",
    "df_healthy = df[df[\"num\"] == 0] "
   ]
  },
  {
   "cell_type": "markdown",
   "id": "df889da3",
   "metadata": {},
   "source": [
    "### Age"
   ]
  },
  {
   "cell_type": "code",
   "execution_count": 74,
   "id": "20fb6778",
   "metadata": {
    "scrolled": true
   },
   "outputs": [
    {
     "name": "stdout",
     "output_type": "stream",
     "text": [
      "Variances not equal, p value: 0.0051667349340750405\n"
     ]
    }
   ],
   "source": [
    "testLevene(df_sick[\"age\"], df_healthy[\"age\"])"
   ]
  },
  {
   "cell_type": "markdown",
   "id": "dbf7b01d",
   "metadata": {},
   "source": [
    "### trestbps"
   ]
  },
  {
   "cell_type": "code",
   "execution_count": 75,
   "id": "0efa1e89",
   "metadata": {},
   "outputs": [
    {
     "name": "stdout",
     "output_type": "stream",
     "text": [
      "Variances equal, p value: 0.15831196426971206\n"
     ]
    }
   ],
   "source": [
    "testLevene(df_sick[\"trestbps\"], df_healthy[\"trestbps\"])"
   ]
  },
  {
   "cell_type": "markdown",
   "id": "ea95a4b4",
   "metadata": {},
   "source": [
    "### chol"
   ]
  },
  {
   "cell_type": "code",
   "execution_count": 76,
   "id": "75461aee",
   "metadata": {},
   "outputs": [
    {
     "name": "stdout",
     "output_type": "stream",
     "text": [
      "Variances equal, p value: 0.7032231637527186\n"
     ]
    }
   ],
   "source": [
    "testLevene(df_sick[\"chol\"], df_healthy[\"chol\"])"
   ]
  },
  {
   "cell_type": "markdown",
   "id": "3cb1debe",
   "metadata": {},
   "source": [
    "### thalach"
   ]
  },
  {
   "cell_type": "code",
   "execution_count": 77,
   "id": "c14e83b2",
   "metadata": {},
   "outputs": [
    {
     "name": "stdout",
     "output_type": "stream",
     "text": [
      "Variances not equal, p value: 0.022996018094294857\n"
     ]
    }
   ],
   "source": [
    "testLevene(df_sick[\"thalach\"], df_healthy[\"thalach\"])"
   ]
  },
  {
   "cell_type": "code",
   "execution_count": null,
   "id": "73c31d5d",
   "metadata": {},
   "outputs": [],
   "source": []
  },
  {
   "cell_type": "code",
   "execution_count": null,
   "id": "773d7182",
   "metadata": {},
   "outputs": [],
   "source": []
  },
  {
   "cell_type": "code",
   "execution_count": null,
   "id": "22c57317",
   "metadata": {},
   "outputs": [],
   "source": []
  },
  {
   "cell_type": "markdown",
   "id": "03a35b55",
   "metadata": {},
   "source": [
    "## 4.3. Aplicación de pruebas estadísticas para comparar los grupos de datos\n",
    "**En función de los datos y el objetivo del estudio, aplicar pruebas de contraste de hipótesis, correlaciones, regresiones, etc. Aplicar al menos tres métodos de análisis diferentes.**\n",
    "\n"
   ]
  },
  {
   "cell_type": "code",
   "execution_count": null,
   "id": "a9ac5024",
   "metadata": {},
   "outputs": [],
   "source": []
  },
  {
   "cell_type": "markdown",
   "id": "28fe0e86",
   "metadata": {},
   "source": [
    "## 4.4. Relación entre predictores\n"
   ]
  },
  {
   "cell_type": "code",
   "execution_count": 82,
   "id": "3b044015",
   "metadata": {},
   "outputs": [
    {
     "data": {
      "text/html": [
       "<div>\n",
       "<style scoped>\n",
       "    .dataframe tbody tr th:only-of-type {\n",
       "        vertical-align: middle;\n",
       "    }\n",
       "\n",
       "    .dataframe tbody tr th {\n",
       "        vertical-align: top;\n",
       "    }\n",
       "\n",
       "    .dataframe thead th {\n",
       "        text-align: right;\n",
       "    }\n",
       "</style>\n",
       "<table border=\"1\" class=\"dataframe\">\n",
       "  <thead>\n",
       "    <tr style=\"text-align: right;\">\n",
       "      <th></th>\n",
       "      <th>age</th>\n",
       "      <th>trestbps</th>\n",
       "      <th>chol</th>\n",
       "      <th>thalach</th>\n",
       "      <th>ca</th>\n",
       "    </tr>\n",
       "  </thead>\n",
       "  <tbody>\n",
       "    <tr>\n",
       "      <th>age</th>\n",
       "      <td>1.000000</td>\n",
       "      <td>0.284946</td>\n",
       "      <td>0.208950</td>\n",
       "      <td>-0.393806</td>\n",
       "      <td>0.362605</td>\n",
       "    </tr>\n",
       "    <tr>\n",
       "      <th>trestbps</th>\n",
       "      <td>0.284946</td>\n",
       "      <td>1.000000</td>\n",
       "      <td>0.130120</td>\n",
       "      <td>-0.045351</td>\n",
       "      <td>0.098773</td>\n",
       "    </tr>\n",
       "    <tr>\n",
       "      <th>chol</th>\n",
       "      <td>0.208950</td>\n",
       "      <td>0.130120</td>\n",
       "      <td>1.000000</td>\n",
       "      <td>-0.003432</td>\n",
       "      <td>0.119000</td>\n",
       "    </tr>\n",
       "    <tr>\n",
       "      <th>thalach</th>\n",
       "      <td>-0.393806</td>\n",
       "      <td>-0.045351</td>\n",
       "      <td>-0.003432</td>\n",
       "      <td>1.000000</td>\n",
       "      <td>-0.264246</td>\n",
       "    </tr>\n",
       "    <tr>\n",
       "      <th>ca</th>\n",
       "      <td>0.362605</td>\n",
       "      <td>0.098773</td>\n",
       "      <td>0.119000</td>\n",
       "      <td>-0.264246</td>\n",
       "      <td>1.000000</td>\n",
       "    </tr>\n",
       "  </tbody>\n",
       "</table>\n",
       "</div>"
      ],
      "text/plain": [
       "               age  trestbps      chol   thalach        ca\n",
       "age       1.000000  0.284946  0.208950 -0.393806  0.362605\n",
       "trestbps  0.284946  1.000000  0.130120 -0.045351  0.098773\n",
       "chol      0.208950  0.130120  1.000000 -0.003432  0.119000\n",
       "thalach  -0.393806 -0.045351 -0.003432  1.000000 -0.264246\n",
       "ca        0.362605  0.098773  0.119000 -0.264246  1.000000"
      ]
     },
     "execution_count": 82,
     "metadata": {},
     "output_type": "execute_result"
    }
   ],
   "source": [
    "df[[\"age\",\"trestbps\",\"chol\",\"thalach\",\"ca\"]].corr()"
   ]
  },
  {
   "cell_type": "code",
   "execution_count": 80,
   "id": "c7738765",
   "metadata": {},
   "outputs": [
    {
     "data": {
      "image/png": "[encoded data removed]",
      "text/plain": [
       "<Figure size 432x288 with 2 Axes>"
      ]
     },
     "metadata": {
      "needs_background": "light"
     },
     "output_type": "display_data"
    }
   ],
   "source": [
    "sns.heatmap(df[[\"age\",\"trestbps\",\"chol\",\"thalach\",\"ca\"]].corr(),\n",
    "            vmin=-1, vmax=1, center=0,\n",
    "            square=True,\n",
    "            annot=True,\n",
    "            fmt=\".1f\"\n",
    "           )\n",
    "plt.show()"
   ]
  },
  {
   "cell_type": "markdown",
   "id": "a7192412",
   "metadata": {},
   "source": [
    "## 4.4. Modelaje Estadístico"
   ]
  },
  {
   "cell_type": "markdown",
   "id": "75712e96",
   "metadata": {},
   "source": [
    "Elegimos probar principalmente 3 clasificadores:"
   ]
  },
  {
   "cell_type": "code",
   "execution_count": null,
   "id": "72ab31d5",
   "metadata": {},
   "outputs": [],
   "source": [
    "logistcRegresion = LogisticRegression()\n",
    "decisionTree = DecisionTreeClassifier()\n",
    "randomForest = RandomForestClassifier()"
   ]
  },
  {
   "cell_type": "markdown",
   "id": "bba9577c",
   "metadata": {},
   "source": [
    "Definimos estos parámetros para hacer grid search"
   ]
  },
  {
   "cell_type": "code",
   "execution_count": null,
   "id": "00e74fbb",
   "metadata": {},
   "outputs": [],
   "source": [
    "############### LR\n",
    "logistcRegresion_params = {'C': [0.01,0.1,1,10,100,1000]}\n",
    "\n",
    "############### DT\n",
    "\n",
    "decisionTree_params = {\"criterion\":[\"gini\",\"entropy\"],\n",
    "                       \"max_depth\":[5,10,20]    \n",
    "                      }\n",
    "\n",
    "############### RF\n",
    "randomForest_params = {\n",
    "    'max_depth': [5,10,20],\n",
    "    \"criterion\":[\"gini\",\"entropy\"],\n",
    "    'max_features': ['auto'],\n",
    "    'n_estimators': [10,80],\n",
    "    'n_jobs':[-1]\n",
    "    \n",
    "}\n"
   ]
  },
  {
   "cell_type": "markdown",
   "id": "d15ac086",
   "metadata": {},
   "source": [
    "Separamos en X e Y"
   ]
  },
  {
   "cell_type": "code",
   "execution_count": null,
   "id": "267d597e",
   "metadata": {},
   "outputs": [],
   "source": []
  },
  {
   "cell_type": "code",
   "execution_count": null,
   "id": "3e60d5e4",
   "metadata": {},
   "outputs": [],
   "source": [
    "model_GS = GridSearchCV(estimator=model,\n",
    "                             param_grid=param, \n",
    "                             scoring = ['accuracy', 'f1','balanced_accuracy','roc_auc'],\n",
    "                             n_jobs=-1,\n",
    "                             cv=5,\n",
    "                             verbose=False,\n",
    "                             refit='f1'\n",
    "                            )\n",
    "        \n",
    "model_GS.fit(X,y)\n",
    "estimator = model_GS.best_estimator_\n",
    "dump(estimator, str(\"models/\" + modelN + \"_\" + data[i][0] + \"_\" + \".joblib\"))"
   ]
  },
  {
   "cell_type": "code",
   "execution_count": null,
   "id": "31af0aef",
   "metadata": {},
   "outputs": [],
   "source": [
    "results = pd.DataFrame(model_GS.cv_results_)"
   ]
  },
  {
   "cell_type": "markdown",
   "id": "1c615a43",
   "metadata": {},
   "source": [
    "# 5. Representación gráfica\n",
    "**Representación de los resultados a partir de tablas y gráficas. Este apartado se puede responder a lo largo de la práctica, sin necesidad de concentrar todas las representaciones en este punto de la práctica.**\n",
    "\n",
    "xxx Resuelto a lo largo de la práctica xx"
   ]
  },
  {
   "cell_type": "markdown",
   "id": "1c7ea8f6",
   "metadata": {},
   "source": [
    "# 6. Resolución del problema\n",
    "**A partir de los resultados obtenidos, ¿cuáles son las conclusiones? ¿Los resultados permiten responder al problema?**"
   ]
  },
  {
   "cell_type": "markdown",
   "id": "fcbde7c9",
   "metadata": {},
   "source": [
    "# 7. Código\n",
    "**Hay que adjuntar el código, preferiblemente en R, con el que se ha realizado la limpieza, análisis y representación de los datos. Si lo preferís, también podéis trabajar en Python.**\n",
    "\n",
    "xx El código se ha ido viendo a lo largo de la práctica xx"
   ]
  },
  {
   "cell_type": "markdown",
   "id": "ee52a2aa",
   "metadata": {},
   "source": [
    "# 8. Vídeo\n",
    "**Realizar un breve vídeo explicativo de la práctica (máximo 10 minutos), donde ambos integrantes del equipo expliquen con sus propias palabras el desarrollo de la práctica, basándose en las preguntas del enunciado para justificar y explicar el código desarrollado. Este vídeo se deberá entregar a través de un enlace al Google Drive de la UOC (https://drive.google.com/...), junto con enlace al repositorio Git entregado.**"
   ]
  },
  {
   "cell_type": "markdown",
   "id": "5f6d082f",
   "metadata": {},
   "source": [
    "# Contribuciones"
   ]
  },
  {
   "cell_type": "code",
   "execution_count": 5,
   "id": "c67a88d6",
   "metadata": {},
   "outputs": [
    {
     "data": {
      "text/html": [
       "<div>\n",
       "<style scoped>\n",
       "    .dataframe tbody tr th:only-of-type {\n",
       "        vertical-align: middle;\n",
       "    }\n",
       "\n",
       "    .dataframe tbody tr th {\n",
       "        vertical-align: top;\n",
       "    }\n",
       "\n",
       "    .dataframe thead th {\n",
       "        text-align: right;\n",
       "    }\n",
       "</style>\n",
       "<table border=\"1\" class=\"dataframe\">\n",
       "  <thead>\n",
       "    <tr style=\"text-align: right;\">\n",
       "      <th></th>\n",
       "      <th>Contribuciones</th>\n",
       "      <th>Firma</th>\n",
       "    </tr>\n",
       "  </thead>\n",
       "  <tbody>\n",
       "    <tr>\n",
       "      <th>0</th>\n",
       "      <td>Investigación previa</td>\n",
       "      <td>Víctor H. Ayala, Clara Roca</td>\n",
       "    </tr>\n",
       "    <tr>\n",
       "      <th>1</th>\n",
       "      <td>Redacción de las respuestas</td>\n",
       "      <td>Víctor H. Ayala, Clara Roca</td>\n",
       "    </tr>\n",
       "    <tr>\n",
       "      <th>2</th>\n",
       "      <td>Desarrollo del código</td>\n",
       "      <td>Víctor H. Ayala, Clara Roca</td>\n",
       "    </tr>\n",
       "    <tr>\n",
       "      <th>3</th>\n",
       "      <td>Participación en el vídeo</td>\n",
       "      <td>Víctor H. Ayala, Clara Roca</td>\n",
       "    </tr>\n",
       "  </tbody>\n",
       "</table>\n",
       "</div>"
      ],
      "text/plain": [
       "                 Contribuciones                        Firma\n",
       "0         Investigación previa  Víctor H. Ayala, Clara Roca\n",
       "1  Redacción de las respuestas  Víctor H. Ayala, Clara Roca\n",
       "2        Desarrollo del código  Víctor H. Ayala, Clara Roca\n",
       "3   Participación en el vídeo  Víctor H. Ayala, Clara Roca"
      ]
     },
     "execution_count": 5,
     "metadata": {},
     "output_type": "execute_result"
    }
   ],
   "source": [
    "contribuciones = pd.DataFrame()\n",
    "contribuciones['Contribuciones'] = ['Investigación previa', 'Redacción de las respuestas', 'Desarrollo del código', 'Participación en el vídeo']\n",
    "contribuciones['Firma'] = ['Víctor H. Ayala, Clara Roca', 'Víctor H. Ayala, Clara Roca', 'Víctor H. Ayala, Clara Roca', 'Víctor H. Ayala, Clara Roca']\n",
    "contribuciones"
   ]
  },
  {
   "cell_type": "markdown",
   "id": "875efc0b",
   "metadata": {},
   "source": [
    "***"
   ]
  }
 ],
 "metadata": {
  "kernelspec": {
   "display_name": "Python 3",
   "language": "python",
   "name": "python3"
  },
  "language_info": {
   "codemirror_mode": {
    "name": "ipython",
    "version": 3
   },
   "file_extension": ".py",
   "mimetype": "text/x-python",
   "name": "python",
   "nbconvert_exporter": "python",
   "pygments_lexer": "ipython3",
   "version": "3.8.8"
  }
 },
 "nbformat": 4,
 "nbformat_minor": 5
}
